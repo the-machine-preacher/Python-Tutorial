{
 "cells": [
  {
   "cell_type": "markdown",
   "metadata": {},
   "source": [
    "<img src=\"atom.png\" alt=\"Atom\" style=\"width:60px\" align=\"left\" vertical-align=\"middle\">\n",
    "\n",
    "## 1. Introduction to Bugs\n",
    "*in Python 3 (Updated: 15 May 2022)*\n",
    "\n",
    "----\n",
    "The story goes that on September 9th, 1947, computer scientist Grace Hopper found a moth in the Harvard Mark II computer’s logbook and reported the world’s first literal computer bug. However, the term “bug,” in the sense of technical error, dates back at least to 1878 and with Thomas Edison.\n",
    "\n",
    "<br/>Python refers to the mistakes within the program as *errors* and will point to the location where an error occurred with a `^` character. When programs throw errors that we didn’t expect to encounter, we call those errors *bugs*. Programmers call the process of updating the program so that it no longer produces bugs *debugging*.\n",
    "\n",
    "<br/>During your programming journey, you are destined to encounter innumerable red errors. Some even say that 75% of development time is spent on debugging. But what makes a programmer successful isn’t avoiding errors, it’s knowing how to solve them. And a good place to start is understanding what they are.\n",
    "\n",
    "<br/>In Python, there are many different ways of classifying errors, but here are some common ones:\n",
    "- `SyntaxError`: Error caused by not following the proper structure (syntax) of the language\n",
    "- `NameError`: Errors reported when the interpreter detects a variable that is unknown\n",
    "- `TypeError`: Errors thrown when an operation is applied to an object of an inappropriate type\n",
    "\n",
    "<br/>In this mini-lesson, we will be looking at these different error messages, and you’ll get some practice by debugging them one by one!"
   ]
  },
  {
   "cell_type": "markdown",
   "metadata": {},
   "source": [
    "<img src=\"atom.png\" alt=\"Atom\" style=\"width:60px\" align=\"left\" vertical-align=\"middle\">\n",
    "\n",
    "## 2. Syntax Errors\n",
    "*in Python 3*\n",
    "\n",
    "----\n",
    "When we are writing Python programs, the interpreter is our first line of defense against errors.\n",
    "\n",
    "<br/>`SyntaxError` means there is something wrong with the way your program is written — punctuation that does not belong, a command where it is not expected, or a missing parenthesis can all trigger a `SyntaxError`.\n",
    "\n",
    "Here’s an example of a `SyntaxError` error message:"
   ]
  },
  {
   "cell_type": "code",
   "execution_count": 1,
   "metadata": {},
   "outputs": [
    {
     "ename": "SyntaxError",
     "evalue": "invalid syntax (<ipython-input-1-01a3c6a17cb8>, line 1)",
     "output_type": "error",
     "traceback": [
      "\u001b[1;36m  File \u001b[1;32m\"<ipython-input-1-01a3c6a17cb8>\"\u001b[1;36m, line \u001b[1;32m1\u001b[0m\n\u001b[1;33m    print(Hello world!)\u001b[0m\n\u001b[1;37m                ^\u001b[0m\n\u001b[1;31mSyntaxError\u001b[0m\u001b[1;31m:\u001b[0m invalid syntax\n"
     ]
    }
   ],
   "source": [
    "print(Hello world!)"
   ]
  },
  {
   "cell_type": "markdown",
   "metadata": {},
   "source": [
    "The interpreter will tell us where (the file name and line number) it got into trouble and its best guess as to what is wrong.\n",
    "\n",
    "<br/>After reading the error message, we can assume that the cause for this error is a lack of quotation marks around `Hello world!`.\n",
    "\n",
    "Some common syntax errors are:\n",
    "- Misspelling a Python keyword\n",
    "- Missing colon `:`\n",
    "- Missing closing parenthesis `)`, square bracket `]`, or curly brace `}`\n",
    "\n",
    "<br/>*Exercise:*\n",
    "<br/>In the following script, your coworker Carolyn wrote a Fortune Cookie program that is supposed to print out a possible fortune based on a random number and an `if`/`elif`/`else` statements. Run the program to check it out:"
   ]
  },
  {
   "cell_type": "code",
   "execution_count": 2,
   "metadata": {},
   "outputs": [
    {
     "ename": "SyntaxError",
     "evalue": "invalid syntax (<ipython-input-2-c84057560231>, line 5)",
     "output_type": "error",
     "traceback": [
      "\u001b[1;36m  File \u001b[1;32m\"<ipython-input-2-c84057560231>\"\u001b[1;36m, line \u001b[1;32m5\u001b[0m\n\u001b[1;33m    if fortune == 0\u001b[0m\n\u001b[1;37m                   ^\u001b[0m\n\u001b[1;31mSyntaxError\u001b[0m\u001b[1;31m:\u001b[0m invalid syntax\n"
     ]
    }
   ],
   "source": [
    "# Fortune Cookie Program 🥠\n",
    "import random\n",
    "fortune = random.randint(0, 4)\n",
    "\n",
    "if fortune == 0\n",
    "  print(\"May you one day be carbon neutral\")\n",
    "elif fortune == 1:  \n",
    "  print(\"You have rice in your teeth\")\n",
    "eli fortune == 2:\n",
    "  print(\"No snowflake feels responsible for an avalanche\")\n",
    "elif fortune == 3:\n",
    "  print(\"You can only connect the dots looking backwards\"\n",
    "elif fortune == 4:\n",
    "  print(\"The fortune you seek is in another cookie\")"
   ]
  },
  {
   "cell_type": "markdown",
   "metadata": {},
   "source": [
    "Oh no, there are three `SyntaxError` errors inside the script! Can you find them all?\n",
    "\n",
    "<br/>Debugged code:"
   ]
  },
  {
   "cell_type": "code",
   "execution_count": 3,
   "metadata": {},
   "outputs": [
    {
     "name": "stdout",
     "output_type": "stream",
     "text": [
      "No snowflake feels responsible for an avalanche\n"
     ]
    }
   ],
   "source": [
    "# Fortune Cookie Program 🥠\n",
    "import random\n",
    "fortune = random.randint(0, 4)\n",
    "\n",
    "if fortune == 0:\n",
    "  print(\"May you one day be carbon neutral\")\n",
    "elif fortune == 1:  \n",
    "  print(\"You have rice in your teeth\")\n",
    "elif fortune == 2:\n",
    "  print(\"No snowflake feels responsible for an avalanche\")\n",
    "elif fortune == 3:\n",
    "  print(\"You can only connect the dots looking backwards\")\n",
    "elif fortune == 4:\n",
    "  print(\"The fortune you seek is in another cookie\")"
   ]
  },
  {
   "cell_type": "markdown",
   "metadata": {},
   "source": [
    "<img src=\"atom.png\" alt=\"Atom\" style=\"width:60px\" align=\"left\" vertical-align=\"middle\">\n",
    "\n",
    "## 3. Name Errors\n",
    "*in Python 3*\n",
    "\n",
    "----\n",
    "A `NameError` is reported by the Python interpreter when it detects a variable that is unknown.\n",
    "\n",
    "<br/>This can occur if a variable is used before it has been assigned a value or if a variable name is spelled differently than the point at which it was defined. The Python interpreter will display the line of code where the `NameError` was detected and indicate which name is found that was not defined.\n",
    "\n",
    "<br/>Here’s an example of a `NameError` error message:"
   ]
  },
  {
   "cell_type": "code",
   "execution_count": 4,
   "metadata": {},
   "outputs": [
    {
     "ename": "NameError",
     "evalue": "name 'score' is not defined",
     "output_type": "error",
     "traceback": [
      "\u001b[1;31m---------------------------------------------------------------------------\u001b[0m",
      "\u001b[1;31mNameError\u001b[0m                                 Traceback (most recent call last)",
      "\u001b[1;32m<ipython-input-4-7120700ecd9b>\u001b[0m in \u001b[0;36m<module>\u001b[1;34m\u001b[0m\n\u001b[1;32m----> 1\u001b[1;33m \u001b[0mprint\u001b[0m\u001b[1;33m(\u001b[0m\u001b[0mscore\u001b[0m\u001b[1;33m*\u001b[0m\u001b[1;36m100\u001b[0m\u001b[1;33m)\u001b[0m\u001b[1;33m\u001b[0m\u001b[1;33m\u001b[0m\u001b[0m\n\u001b[0m",
      "\u001b[1;31mNameError\u001b[0m: name 'score' is not defined"
     ]
    }
   ],
   "source": [
    "print(score*100)"
   ]
  },
  {
   "cell_type": "markdown",
   "metadata": {},
   "source": [
    "This error is suggesting that the variable `score` was never defined in the program. Oops.\n",
    "\n",
    "<br/>Some common name errors are:\n",
    "- Misspelling a variable name\n",
    "- Forgetting to define a variable\n",
    "\n",
    "<br/>*Exercise:*\n",
    "<br/>In following script, another teammate Alex wrote a Who Wants to Be A Millionaire question and four options. If the answer is an uppercase or lowercase “A”, then the score goes up. Run the program to check it out:"
   ]
  },
  {
   "cell_type": "code",
   "execution_count": 5,
   "metadata": {},
   "outputs": [
    {
     "name": "stdout",
     "output_type": "stream",
     "text": [
      "For ordering his favorite beverages on demand, LBJ had four buttons installed in the Oval Office labeled 'Coffee', 'Tea', 'Coke', and what?\n",
      "\n",
      "A. Fresca\n",
      "B. V8\n"
     ]
    },
    {
     "ename": "NameError",
     "evalue": "name 'option3' is not defined",
     "output_type": "error",
     "traceback": [
      "\u001b[1;31m---------------------------------------------------------------------------\u001b[0m",
      "\u001b[1;31mNameError\u001b[0m                                 Traceback (most recent call last)",
      "\u001b[1;32m<ipython-input-5-4d9b801d4c2f>\u001b[0m in \u001b[0;36m<module>\u001b[1;34m\u001b[0m\n\u001b[0;32m     10\u001b[0m \u001b[0mprint\u001b[0m\u001b[1;33m(\u001b[0m\u001b[1;34m\"A.\"\u001b[0m\u001b[1;33m,\u001b[0m \u001b[0moption1\u001b[0m\u001b[1;33m)\u001b[0m\u001b[1;33m\u001b[0m\u001b[1;33m\u001b[0m\u001b[0m\n\u001b[0;32m     11\u001b[0m \u001b[0mprint\u001b[0m\u001b[1;33m(\u001b[0m\u001b[1;34m\"B.\"\u001b[0m\u001b[1;33m,\u001b[0m \u001b[0moption2\u001b[0m\u001b[1;33m)\u001b[0m\u001b[1;33m\u001b[0m\u001b[1;33m\u001b[0m\u001b[0m\n\u001b[1;32m---> 12\u001b[1;33m \u001b[0mprint\u001b[0m\u001b[1;33m(\u001b[0m\u001b[1;34m\"C.\"\u001b[0m\u001b[1;33m,\u001b[0m \u001b[0moption3\u001b[0m\u001b[1;33m)\u001b[0m\u001b[1;33m\u001b[0m\u001b[1;33m\u001b[0m\u001b[0m\n\u001b[0m\u001b[0;32m     13\u001b[0m \u001b[0mprint\u001b[0m\u001b[1;33m(\u001b[0m\u001b[1;34m\"D.\"\u001b[0m\u001b[1;33m,\u001b[0m \u001b[0moption4\u001b[0m\u001b[1;33m)\u001b[0m\u001b[1;33m\u001b[0m\u001b[1;33m\u001b[0m\u001b[0m\n\u001b[0;32m     14\u001b[0m \u001b[1;33m\u001b[0m\u001b[0m\n",
      "\u001b[1;31mNameError\u001b[0m: name 'option3' is not defined"
     ]
    }
   ],
   "source": [
    "# Who Wants To Be A Millionaire 💰 \n",
    "score = 0\n",
    "\n",
    "option1 = 'Fresca'\n",
    "option2 = 'V8'\n",
    "option4 = 'A&W'\n",
    "  \n",
    "print(\"For ordering his favorite beverages on demand, LBJ had four buttons installed in the Oval Office labeled 'Coffee', 'Tea', 'Coke', and what?\\n\")\n",
    "\n",
    "print(\"A.\", option1)\n",
    "print(\"B.\", option2)\n",
    "print(\"C.\", option3)\n",
    "print(\"D.\", option4)\n",
    "  \n",
    "answer = 'a'\n",
    "\n",
    "if answer == 'A' or answer == 'a': \n",
    "  scor += 100\n",
    "  print(\"\\nCorrect!\")\n",
    "else:\n",
    "  print(\"\\nNope, sorry!\")"
   ]
  },
  {
   "cell_type": "markdown",
   "metadata": {},
   "source": [
    "Oh no, there are two `NameError` errors! Can you find them both?\n",
    "\n",
    "<br/>Debugged code:"
   ]
  },
  {
   "cell_type": "code",
   "execution_count": 6,
   "metadata": {},
   "outputs": [
    {
     "name": "stdout",
     "output_type": "stream",
     "text": [
      "For ordering his favorite beverages on demand, LBJ had four buttons installed in the Oval Office labeled 'Coffee', 'Tea', 'Coke', and what?\n",
      "\n",
      "A. Fresca\n",
      "B. V8\n",
      "C. McDonalds\n",
      "D. A&W\n",
      "\n",
      "Correct!\n"
     ]
    }
   ],
   "source": [
    "# Who Wants To Be A Millionaire 💰 \n",
    "score = 0\n",
    "\n",
    "option1 = 'Fresca'\n",
    "option2 = 'V8'\n",
    "option3 = 'McDonalds'\n",
    "option4 = 'A&W'\n",
    "  \n",
    "print(\"For ordering his favorite beverages on demand, LBJ had four buttons installed in the Oval Office labeled 'Coffee', 'Tea', 'Coke', and what?\\n\")\n",
    "\n",
    "print(\"A.\", option1)\n",
    "print(\"B.\", option2)\n",
    "print(\"C.\", option3)\n",
    "print(\"D.\", option4)\n",
    "  \n",
    "answer = 'a'\n",
    "\n",
    "if answer == 'A' or answer == 'a': \n",
    "  score += 100\n",
    "  print(\"\\nCorrect!\")\n",
    "else:\n",
    "  print(\"\\nNope, sorry!\")"
   ]
  },
  {
   "cell_type": "markdown",
   "metadata": {},
   "source": [
    "<img src=\"atom.png\" alt=\"Atom\" style=\"width:60px\" align=\"left\" vertical-align=\"middle\">\n",
    "\n",
    "## 4. Type Errors\n",
    "*in Python 3*\n",
    "\n",
    "----\n",
    "A `TypeError` is reported by the Python interpreter when an operation is applied to a variable of an inappropriate type.\n",
    "\n",
    "<br/>This can occur in Python when one attempts to use an operator on something of the incorrect type.\n",
    "\n",
    "<br/>For example, let’s see what happens when we try and add together two incompatible types:"
   ]
  },
  {
   "cell_type": "code",
   "execution_count": 7,
   "metadata": {},
   "outputs": [
    {
     "ename": "TypeError",
     "evalue": "can only concatenate str (not \"float\") to str",
     "output_type": "error",
     "traceback": [
      "\u001b[1;31m---------------------------------------------------------------------------\u001b[0m",
      "\u001b[1;31mTypeError\u001b[0m                                 Traceback (most recent call last)",
      "\u001b[1;32m<ipython-input-7-441b7fafd824>\u001b[0m in \u001b[0;36m<module>\u001b[1;34m\u001b[0m\n\u001b[1;32m----> 1\u001b[1;33m \u001b[0mpiggy_bank\u001b[0m \u001b[1;33m=\u001b[0m \u001b[1;34m'2'\u001b[0m \u001b[1;33m+\u001b[0m \u001b[1;36m0.25\u001b[0m\u001b[1;33m\u001b[0m\u001b[1;33m\u001b[0m\u001b[0m\n\u001b[0m",
      "\u001b[1;31mTypeError\u001b[0m: can only concatenate str (not \"float\") to str"
     ]
    }
   ],
   "source": [
    "piggy_bank = '2' + 0.25"
   ]
  },
  {
   "cell_type": "markdown",
   "metadata": {},
   "source": [
    "This error is reporting that `0.25` is not a string.\n",
    "\n",
    "<br/>Some common type errors are:\n",
    "- Accidentally adding or subtracting a string value\n",
    "- Call a function on something of the incorrect type\n",
    "\n",
    "<br/>*Exercise:*\n",
    "<br/>The word got out in the office that you are a pro bug catcher! Another peer Alisha pops out of the blue and hands you a program that calculates the area of a triangle, a rectangle, and a circle. Run the program to check it out:"
   ]
  },
  {
   "cell_type": "code",
   "execution_count": 8,
   "metadata": {},
   "outputs": [
    {
     "name": "stdout",
     "output_type": "stream",
     "text": [
      "The triangle area is 300.0\n"
     ]
    },
    {
     "ename": "TypeError",
     "evalue": "can only concatenate str (not \"int\") to str",
     "output_type": "error",
     "traceback": [
      "\u001b[1;31m---------------------------------------------------------------------------\u001b[0m",
      "\u001b[1;31mTypeError\u001b[0m                                 Traceback (most recent call last)",
      "\u001b[1;32m<ipython-input-8-5f19334736c9>\u001b[0m in \u001b[0;36m<module>\u001b[1;34m\u001b[0m\n\u001b[0;32m     12\u001b[0m \u001b[0marea\u001b[0m \u001b[1;33m=\u001b[0m \u001b[0mlength\u001b[0m \u001b[1;33m*\u001b[0m \u001b[0mwidth\u001b[0m\u001b[1;33m\u001b[0m\u001b[1;33m\u001b[0m\u001b[0m\n\u001b[0;32m     13\u001b[0m \u001b[1;33m\u001b[0m\u001b[0m\n\u001b[1;32m---> 14\u001b[1;33m \u001b[0mprint\u001b[0m\u001b[1;33m(\u001b[0m\u001b[1;34m\"The rectangle area is\"\u001b[0m \u001b[1;33m+\u001b[0m \u001b[0marea\u001b[0m \u001b[1;33m)\u001b[0m\u001b[1;33m\u001b[0m\u001b[1;33m\u001b[0m\u001b[0m\n\u001b[0m\u001b[0;32m     15\u001b[0m \u001b[1;33m\u001b[0m\u001b[0m\n\u001b[0;32m     16\u001b[0m \u001b[0mradius\u001b[0m \u001b[1;33m=\u001b[0m \u001b[1;36m36\u001b[0m\u001b[1;33m\u001b[0m\u001b[1;33m\u001b[0m\u001b[0m\n",
      "\u001b[1;31mTypeError\u001b[0m: can only concatenate str (not \"int\") to str"
     ]
    }
   ],
   "source": [
    "# Area Calculator 📏\n",
    "import math\n",
    "\n",
    "base = 20\n",
    "height = 30\n",
    "area = base * height / 2\n",
    "\n",
    "print(\"The triangle area is\", area)\n",
    "\n",
    "length = 2\n",
    "width = 12\n",
    "area = length * width\n",
    "\n",
    "print(\"The rectangle area is\" + area )\n",
    "    \n",
    "radius = 36\n",
    "area = math.pi * radius * radius\n",
    "    \n",
    "print(\"The circle area is\", area)"
   ]
  },
  {
   "cell_type": "markdown",
   "metadata": {},
   "source": [
    "Oh no, there’s one `TypeError` error! Can you find it?\n",
    "\n",
    "<br/>Debugged code:"
   ]
  },
  {
   "cell_type": "code",
   "execution_count": 9,
   "metadata": {},
   "outputs": [
    {
     "name": "stdout",
     "output_type": "stream",
     "text": [
      "The triangle area is 300.0\n",
      "The rectangle area is 24\n",
      "The circle area is 4071.5040790523717\n"
     ]
    }
   ],
   "source": [
    "# Area Calculator 📏\n",
    "import math\n",
    "\n",
    "base = 20\n",
    "height = 30\n",
    "area = base * height / 2\n",
    "\n",
    "print(\"The triangle area is\", area)\n",
    "\n",
    "length = 2\n",
    "width = 12\n",
    "area = length * width\n",
    "\n",
    "print(\"The rectangle area is\", area)\n",
    "    \n",
    "radius = 36\n",
    "area = math.pi * radius * radius\n",
    "    \n",
    "print(\"The circle area is\", area)"
   ]
  },
  {
   "cell_type": "markdown",
   "metadata": {},
   "source": [
    "<img src=\"atom.png\" alt=\"Atom\" style=\"width:60px\" align=\"left\" vertical-align=\"middle\">\n",
    "\n",
    "## 5. Review\n",
    "*Python 3*\n",
    "\n",
    "----\n",
    "Finding bugs is a huge part of a programmer’s life. Don’t be intimidated by them! In fact, errors in your code mean you’re trying to do something cool.\n",
    "\n",
    "<br/>In this lesson, we have learned about the three types of Python errors:\n",
    "- `SyntaxError`: Error caused by not following the proper structure (syntax) of the language\n",
    "- `NameError`: Errors reported when the interpreter detects an object that is unknown\n",
    "- `TypeError`: Errors thrown when an operation is applied to an object of an inappropriate type\n",
    "\n",
    "<br/>There is also another type of error that doesn’t have error messages that we will cover down the line:\n",
    "- `Logic errors`: Errors found by the programmer when the program isn’t doing what it is intending to do\n",
    "\n",
    "<br/>Remember, [Google](https://www.google.com/) and [Stack Overflow](https://stackoverflow.com/) are a programmer’s BFFs (best friends forever) in situations where an error is giving you a lot of trouble.\n",
    "\n",
    "We wish you the best of luck in your bug-squashing journey! 🔎"
   ]
  }
 ],
 "metadata": {
  "kernelspec": {
   "display_name": "Python 3",
   "language": "python",
   "name": "python3"
  },
  "language_info": {
   "codemirror_mode": {
    "name": "ipython",
    "version": 3
   },
   "file_extension": ".py",
   "mimetype": "text/x-python",
   "name": "python",
   "nbconvert_exporter": "python",
   "pygments_lexer": "ipython3",
   "version": "3.8.4"
  }
 },
 "nbformat": 4,
 "nbformat_minor": 4
}
