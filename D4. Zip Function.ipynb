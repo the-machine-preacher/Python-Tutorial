{
 "cells": [
  {
   "cell_type": "markdown",
   "metadata": {},
   "source": [
    "<img src=\"atom.png\" alt=\"Atom\" style=\"width:60px\" align=\"left\" vertical-align=\"middle\">\n",
    "\n",
    "## Combining Lists: The Zip Function\n",
    "*in Python 3*\n",
    "\n",
    "----\n",
    "In Python, we have an assortment of built-in functions that allow us to build our programs faster and cleaner. One of those functions is `zip()`.\n",
    "\n",
    "The `zip()` function allows us to quickly combine associated data-sets without needing to rely on multi-dimensional lists. While `zip()` can work with many different scenarios, we are going to explore only a single one in this article.\n",
    "\n",
    "Let’s use a list of student names and associated heights as our example data set:\n",
    "\n",
    "    - Jenny is 61 inches tall\n",
    "    - Alexus is 70 inches tall\n",
    "    - Sam is 67 inches tall\n",
    "    - Grace is 64 inches tall\n",
    "Suppose that we already had a list of names and a list of heights:"
   ]
  },
  {
   "cell_type": "code",
   "execution_count": 1,
   "metadata": {},
   "outputs": [],
   "source": [
    "names = [\"Jenny\", \"Alexus\", \"Sam\", \"Grace\"]\n",
    "heights = [61, 70, 67, 65]"
   ]
  },
  {
   "cell_type": "markdown",
   "metadata": {},
   "source": [
    "If we wanted to create a nested list that paired each name with a height, we could use the built-in function `zip()`.\n",
    "\n",
    "<br/>The `zip()` function takes two (or more) lists as inputs and returns an object that contains a list of pairs. Each pair contains one element from each of the inputs. This is how we would do it for our names and heights lists:"
   ]
  },
  {
   "cell_type": "code",
   "execution_count": 4,
   "metadata": {},
   "outputs": [],
   "source": [
    "names_and_heights = zip(names, heights)"
   ]
  },
  {
   "cell_type": "markdown",
   "metadata": {},
   "source": [
    "If we were to then examine this new variable `names_and_heights`, we would find it looks a bit strange:"
   ]
  },
  {
   "cell_type": "code",
   "execution_count": 5,
   "metadata": {},
   "outputs": [
    {
     "name": "stdout",
     "output_type": "stream",
     "text": [
      "<zip object at 0x066D96E8>\n"
     ]
    }
   ],
   "source": [
    "print(names_and_heights)"
   ]
  },
  {
   "cell_type": "markdown",
   "metadata": {},
   "source": [
    "This *zip object* contains the location of this variable in our computer’s memory. Don’t worry though, it is fairly simple to convert this object into a useable list by using the built-in function `list()`:"
   ]
  },
  {
   "cell_type": "code",
   "execution_count": 6,
   "metadata": {},
   "outputs": [
    {
     "name": "stdout",
     "output_type": "stream",
     "text": [
      "[('Jenny', 61), ('Alexus', 70), ('Sam', 67), ('Grace', 65)]\n"
     ]
    }
   ],
   "source": [
    "converted_list = list(names_and_heights)\n",
    "print(converted_list)"
   ]
  },
  {
   "cell_type": "markdown",
   "metadata": {},
   "source": [
    "Notice two things:\n",
    "1. Our data set has been converted from a zip memory object to an actual list (denoted by `[ ]`)\n",
    "2. Our inner lists don’t use square brackets `[ ]` around the values. This is because they have been converted into *tuples* (an immutable type of list).\n",
    "\n",
    "<br/>Let’s practice using `zip()`:\n",
    "<br/>Use `zip()` to create a new variable called `names_and_dogs_names` that combines owners and `dogs_names` lists into a zip object. Then, create a new variable named `list_of_names_and_dogs_names` by calling the `list()` function on `names_and_dogs_names`. Print `list_of_names_and_dogs_names`."
   ]
  },
  {
   "cell_type": "code",
   "execution_count": 7,
   "metadata": {},
   "outputs": [
    {
     "name": "stdout",
     "output_type": "stream",
     "text": [
      "[('Jenny', 'Elphonse'), ('Alexus', 'Dr. Doggy DDS'), ('Sam', 'Carter'), ('Grace', 'Ralph')]\n"
     ]
    }
   ],
   "source": [
    "owners = [\"Jenny\", \"Alexus\", \"Sam\", \"Grace\"]\n",
    "dogs_names = [\"Elphonse\", \"Dr. Doggy DDS\", \"Carter\", \"Ralph\"]\n",
    "\n",
    "# Zip the two lists\n",
    "names_and_dogs_names = zip(owners, dogs_names)\n",
    "\n",
    "# Convert the zip object to a list\n",
    "list_of_names_and_dogs_names = list(names_and_dogs_names)\n",
    "\n",
    "# Print the list\n",
    "print(list_of_names_and_dogs_names)"
   ]
  }
 ],
 "metadata": {
  "kernelspec": {
   "display_name": "Python 3",
   "language": "python",
   "name": "python3"
  },
  "language_info": {
   "codemirror_mode": {
    "name": "ipython",
    "version": 3
   },
   "file_extension": ".py",
   "mimetype": "text/x-python",
   "name": "python",
   "nbconvert_exporter": "python",
   "pygments_lexer": "ipython3",
   "version": "3.8.4"
  }
 },
 "nbformat": 4,
 "nbformat_minor": 4
}
