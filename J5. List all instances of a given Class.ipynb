{
 "cells": [
  {
   "cell_type": "markdown",
   "metadata": {},
   "source": [
    "<img src=\"atom.png\" alt=\"Atom\" style=\"width:60px\" align=\"left\" vertical-align=\"middle\">\n",
    "\n",
    "## 1. Using Weak References to list instances\n",
    "*in Python 3*\n",
    "\n",
    "----\n",
    "Python does not keep track of all instances of a class (or of a built-in type), so if you need this functionality, you have to implement it yourself. One way to do it is to store a weak reference to each instance in class attribute. Here’s an example:"
   ]
  },
  {
   "cell_type": "code",
   "execution_count": 1,
   "metadata": {},
   "outputs": [
    {
     "name": "stdout",
     "output_type": "stream",
     "text": [
      "a\n",
      "c\n"
     ]
    }
   ],
   "source": [
    "import weakref\n",
    "\n",
    "class MyClass:\n",
    "    _instances = set()\n",
    "    \n",
    "    def __init__(self, name):\n",
    "        self.name = name\n",
    "        self._instances.add(weakref.ref(self))\n",
    "\n",
    "    @classmethod\n",
    "    def GetInstances(cls):\n",
    "        dead = set()\n",
    "        for ref in cls._instances:\n",
    "            obj = ref()\n",
    "            if obj is not None: yield obj\n",
    "            else: dead.add(ref)\n",
    "        cls._instances -= dead\n",
    "\n",
    "# Instantiate 3 objects of MyClass and delete one of them\n",
    "a = MyClass(\"a\")\n",
    "b = MyClass(\"b\")\n",
    "c = MyClass(\"c\")\n",
    "del b\n",
    "\n",
    "# Prints 'a' and 'c' as 'b' has been deleted\n",
    "for obj in MyClass.GetInstances(): print(obj.name)"
   ]
  },
  {
   "cell_type": "markdown",
   "metadata": {},
   "source": [
    "<img src=\"atom.png\" alt=\"Atom\" style=\"width:60px\" align=\"left\" vertical-align=\"middle\">\n",
    "\n",
    "## 2. Appending instances to self\n",
    "*in Python 3*\n",
    "\n",
    "----\n",
    "Alternatively, you can append instances to `self` (althought this method does not take into account objects that have been deleted):"
   ]
  },
  {
   "cell_type": "code",
   "execution_count": 2,
   "metadata": {},
   "outputs": [
    {
     "name": "stdout",
     "output_type": "stream",
     "text": [
      "a\n",
      "b\n",
      "c\n"
     ]
    }
   ],
   "source": [
    "class MyClass:\n",
    "    instances = []\n",
    "    def __init__(self, name):\n",
    "        self.__class__.instances.append(self)\n",
    "        self.name = name\n",
    "\n",
    "    @classmethod\n",
    "    def GetInstances(cls):\n",
    "        return [instance for instance in cls.instances]\n",
    "\n",
    "# Instantiate 3 objects of MyClass and delete one of them\n",
    "a = MyClass(\"a\")\n",
    "b = MyClass(\"b\")\n",
    "c = MyClass(\"c\")\n",
    "del b\n",
    "\n",
    "# Prints 'a', 'b' and 'c' even though 'b' has been deleted\n",
    "for obj in MyClass.GetInstances(): print(obj.name)"
   ]
  },
  {
   "cell_type": "markdown",
   "metadata": {},
   "source": [
    "<img src=\"atom.png\" alt=\"Atom\" style=\"width:60px\" align=\"left\" vertical-align=\"middle\">\n",
    "\n",
    "## 3. Using Python garbage collector\n",
    "*in Python 3*\n",
    "\n",
    "----\n",
    "A simpler, brute-force approach is to ask the `gc` (garbage collector) module for a list of all known objects, and filter out the objects that belong to the relevant class:"
   ]
  },
  {
   "cell_type": "code",
   "execution_count": 3,
   "metadata": {},
   "outputs": [
    {
     "name": "stdout",
     "output_type": "stream",
     "text": [
      "a\n",
      "c\n"
     ]
    }
   ],
   "source": [
    "import gc\n",
    "\n",
    "class MyClass:\n",
    "    def __init__(self, name):\n",
    "        self.name = name\n",
    "\n",
    "# Instantiate 3 objects of MyClass and delete one of them\n",
    "a = MyClass(\"a\")\n",
    "b = MyClass(\"b\")\n",
    "c = MyClass(\"c\")\n",
    "del b\n",
    "\n",
    "# Prints 'a' and 'c' as 'b' has been deleted\n",
    "for obj in gc.get_objects():\n",
    "    if isinstance(obj, MyClass): \n",
    "        print(obj.name)"
   ]
  },
  {
   "cell_type": "markdown",
   "metadata": {},
   "source": [
    "This has the disadvantage of being very slow when you have a lot of objects, but works with types over which you have no control."
   ]
  }
 ],
 "metadata": {
  "kernelspec": {
   "display_name": "Python 3",
   "language": "python",
   "name": "python3"
  },
  "language_info": {
   "codemirror_mode": {
    "name": "ipython",
    "version": 3
   },
   "file_extension": ".py",
   "mimetype": "text/x-python",
   "name": "python",
   "nbconvert_exporter": "python",
   "pygments_lexer": "ipython3",
   "version": "3.8.4"
  }
 },
 "nbformat": 4,
 "nbformat_minor": 4
}
