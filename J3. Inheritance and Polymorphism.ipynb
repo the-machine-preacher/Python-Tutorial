{
 "cells": [
  {
   "cell_type": "markdown",
   "metadata": {},
   "source": [
    "<img src=\"atom.png\" alt=\"Atom\" style=\"width:60px\" align=\"left\" vertical-align=\"middle\">\n",
    "\n",
    "## 1. Inheritance\n",
    "*in Python 3*\n",
    "\n",
    "----\n",
    "Classes are designed to allow for more code reuse, but what if we need a class that looks a lot like a class we already have? If the bulk of a class’s definition is useful, but we have a new use case that is distinct from how the original class was used, we can *inherit* from the original class. Think of inheritance as a remix — it sounds a lot like the original, but there’s something… different about it."
   ]
  },
  {
   "cell_type": "code",
   "execution_count": 39,
   "metadata": {},
   "outputs": [],
   "source": [
    "class User:\n",
    "    is_admin = False\n",
    "    def __init__(self, username):\n",
    "        self.username = username\n",
    "\n",
    "class Admin(User):\n",
    "    is_admin = True"
   ]
  },
  {
   "cell_type": "markdown",
   "metadata": {},
   "source": [
    "Above we defined `User` as our *base class*. We want to create a new class that inherits from it, so we created the *subclass* `Admin`. In the above example, `Admin` has the same constructor as `User`. Only the class variable `is_admin` is set differently between the two.\n",
    "\n",
    "<br/>Sometimes a base class is called a *parent class*. In these terms, the class inheriting from it, the subclass, is also referred to as a *child class*. Another example:"
   ]
  },
  {
   "cell_type": "code",
   "execution_count": 40,
   "metadata": {},
   "outputs": [],
   "source": [
    "class Bin:\n",
    "    pass\n",
    "\n",
    "class RecyclingBin(Bin):\n",
    "    pass"
   ]
  },
  {
   "cell_type": "markdown",
   "metadata": {},
   "source": [
    "<img src=\"atom.png\" alt=\"Atom\" style=\"width:60px\" align=\"left\" vertical-align=\"middle\">\n",
    "\n",
    "## 2. Exceptions\n",
    "*in Python 3*\n",
    "\n",
    "----\n",
    "There’s one very important family of class definitions built in to the Python language. An *Exception* is a class that inherits from Python’s `Exception` class.\n",
    "\n",
    "<br/>We can validate this ourselves using the `issubclass()` function. `issubclass()` is a Python built-in function that takes two parameters. `issubclass()` returns `True` if the first argument is a subclass of the second argument. It returns `False` if the first class is not a subclass of the second. `issubclass()` raises a `TypeError` if either argument passed in is not a class."
   ]
  },
  {
   "cell_type": "code",
   "execution_count": 41,
   "metadata": {},
   "outputs": [
    {
     "data": {
      "text/plain": [
       "True"
      ]
     },
     "execution_count": 41,
     "metadata": {},
     "output_type": "execute_result"
    }
   ],
   "source": [
    "issubclass(ZeroDivisionError, Exception)"
   ]
  },
  {
   "cell_type": "markdown",
   "metadata": {},
   "source": [
    "Above, we checked whether `ZeroDivisionError`, the exception raised when attempting division by zero, is a subclass of `Exception`. It is, so `issubclass` returns `True`.\n",
    "\n",
    "<br/>Why is it beneficial for exceptions to inherit from one another? Let’s consider an example where we create our own exceptions. What if we were creating software that tracks our kitchen appliances? We would be able to design a suite of exceptions for that need:"
   ]
  },
  {
   "cell_type": "code",
   "execution_count": 42,
   "metadata": {},
   "outputs": [],
   "source": [
    "class KitchenException(Exception):\n",
    "    \"\"\"\n",
    "    Exception that gets thrown when a kitchen appliance isn't working\n",
    "    \"\"\"\n",
    "\n",
    "class MicrowaveException(KitchenException):\n",
    "    \"\"\"\n",
    "    Exception for when the microwave stops working\n",
    "    \"\"\"\n",
    "\n",
    "class RefrigeratorException(KitchenException):\n",
    "    \"\"\"\n",
    "    Exception for when the refrigerator stops working\n",
    "    \"\"\""
   ]
  },
  {
   "cell_type": "markdown",
   "metadata": {},
   "source": [
    "In this code, we define three exceptions. First, we define a `KitchenException` that acts as the parent to our other, specific kitchen appliance exceptions. `KitchenException` subclasses `Exception`, so it behaves in the same way that regular `Exception`s do. Afterward we define `MicrowaveException` and `RefrigeratorException` as subclasses.\n",
    "\n",
    "<br/>Since our exceptions are subclassed in this way, we can catch any of `KitchenException`‘s subclasses by catching `KitchenException`. For example:"
   ]
  },
  {
   "cell_type": "code",
   "execution_count": 43,
   "metadata": {},
   "outputs": [
    {
     "name": "stdout",
     "output_type": "stream",
     "text": [
      "['cooked carrots', 'cooked potato']\n"
     ]
    }
   ],
   "source": [
    "class Refrigerator:\n",
    "    cooling = True\n",
    "class Microwave:\n",
    "    working = True\n",
    "    def cook(self, food):\n",
    "        return [\"cooked \"+item for item in food]\n",
    "\n",
    "def get_food_from_fridge(food = []):\n",
    "    refrigerator = Refrigerator() # Dont forget to instantiate the class!\n",
    "    if refrigerator.cooling == False: raise RefrigeratorException\n",
    "    else: return food\n",
    "\n",
    "def heat_food(food):\n",
    "    microwave = Microwave() # Dont forget to instantiate the class!\n",
    "    if microwave.working == False: raise MicrowaveException\n",
    "    else: return microwave.cook(food)\n",
    "\n",
    "try:\n",
    "    food = get_food_from_fridge([\"carrots\", \"potato\"])\n",
    "    food = heat_food(food)\n",
    "    print(food)\n",
    "except KitchenException:\n",
    "    food = order_takeout()"
   ]
  },
  {
   "cell_type": "markdown",
   "metadata": {},
   "source": [
    "In the above example, we attempt to retrieve food from the fridge and heat it in the microwave. If either `RefrigeratorException` or `MicrowaveException` is raised, we opt to order takeout instead. We catch both `RefrigeratorException` and `MicrowaveException` in our try/except block because both are subclasses of `KitchenException`.\n",
    "\n",
    "<br/>Explore Python’s exception hierarchy in the Python documentation! Here's another example:"
   ]
  },
  {
   "cell_type": "code",
   "execution_count": 44,
   "metadata": {},
   "outputs": [
    {
     "name": "stdout",
     "output_type": "stream",
     "text": [
      "That item is out of stock!\n"
     ]
    },
    {
     "ename": "OutOfStock",
     "evalue": "",
     "output_type": "error",
     "traceback": [
      "\u001b[0;31m---------------------------------------------------------------------------\u001b[0m",
      "\u001b[0;31mOutOfStock\u001b[0m                                Traceback (most recent call last)",
      "\u001b[0;32m<ipython-input-44-13a94040e64a>\u001b[0m in \u001b[0;36m<module>\u001b[0;34m\u001b[0m\n\u001b[1;32m     19\u001b[0m \u001b[0;34m\u001b[0m\u001b[0m\n\u001b[1;32m     20\u001b[0m \u001b[0;31m# This should raise OutOfStock:\u001b[0m\u001b[0;34m\u001b[0m\u001b[0;34m\u001b[0m\u001b[0;34m\u001b[0m\u001b[0m\n\u001b[0;32m---> 21\u001b[0;31m \u001b[0mcandle_shop\u001b[0m\u001b[0;34m.\u001b[0m\u001b[0mbuy\u001b[0m\u001b[0;34m(\u001b[0m\u001b[0;34m'green'\u001b[0m\u001b[0;34m)\u001b[0m\u001b[0;34m\u001b[0m\u001b[0;34m\u001b[0m\u001b[0m\n\u001b[0m",
      "\u001b[0;32m<ipython-input-44-13a94040e64a>\u001b[0m in \u001b[0;36mbuy\u001b[0;34m(self, color)\u001b[0m\n\u001b[1;32m     12\u001b[0m     \u001b[0;32mdef\u001b[0m \u001b[0mbuy\u001b[0m\u001b[0;34m(\u001b[0m\u001b[0mself\u001b[0m\u001b[0;34m,\u001b[0m \u001b[0mcolor\u001b[0m\u001b[0;34m)\u001b[0m\u001b[0;34m:\u001b[0m\u001b[0;34m\u001b[0m\u001b[0;34m\u001b[0m\u001b[0m\n\u001b[1;32m     13\u001b[0m         \u001b[0;32mif\u001b[0m \u001b[0mself\u001b[0m\u001b[0;34m.\u001b[0m\u001b[0mstock\u001b[0m\u001b[0;34m[\u001b[0m\u001b[0mcolor\u001b[0m\u001b[0;34m]\u001b[0m \u001b[0;34m>\u001b[0m \u001b[0;36m0\u001b[0m\u001b[0;34m:\u001b[0m \u001b[0mself\u001b[0m\u001b[0;34m.\u001b[0m\u001b[0mstock\u001b[0m\u001b[0;34m[\u001b[0m\u001b[0mcolor\u001b[0m\u001b[0;34m]\u001b[0m \u001b[0;34m-=\u001b[0m \u001b[0mself\u001b[0m\u001b[0;34m.\u001b[0m\u001b[0mstock\u001b[0m\u001b[0;34m[\u001b[0m\u001b[0mcolor\u001b[0m\u001b[0;34m]\u001b[0m\u001b[0;34m\u001b[0m\u001b[0;34m\u001b[0m\u001b[0m\n\u001b[0;32m---> 14\u001b[0;31m         \u001b[0;32melse\u001b[0m\u001b[0;34m:\u001b[0m \u001b[0;32mraise\u001b[0m \u001b[0mOutOfStock\u001b[0m\u001b[0;34m\u001b[0m\u001b[0;34m\u001b[0m\u001b[0m\n\u001b[0m\u001b[1;32m     15\u001b[0m \u001b[0;34m\u001b[0m\u001b[0m\n\u001b[1;32m     16\u001b[0m \u001b[0;31m# This will not raise an error:\u001b[0m\u001b[0;34m\u001b[0m\u001b[0;34m\u001b[0m\u001b[0;34m\u001b[0m\u001b[0m\n",
      "\u001b[0;31mOutOfStock\u001b[0m: "
     ]
    }
   ],
   "source": [
    "# Define your exception up here:\n",
    "class OutOfStock(Exception):\n",
    "    def __init__(self):\n",
    "        print(\"That item is out of stock!\")\n",
    "\n",
    "# Update the class below to raise OutOfStock\n",
    "class CandleShop:\n",
    "    name = \"Here's a Hot Tip: Buy Drip Candles\"\n",
    "    def __init__(self, stock):\n",
    "        self.stock = stock\n",
    "    \n",
    "    def buy(self, color):\n",
    "        if self.stock[color] > 0: self.stock[color] -= self.stock[color]\n",
    "        else: raise OutOfStock\n",
    "\n",
    "# This will not raise an error:\n",
    "candle_shop = CandleShop({'blue': 6, 'red': 2, 'green': 0})\n",
    "candle_shop.buy('blue')\n",
    "\n",
    "# This should raise OutOfStock:\n",
    "candle_shop.buy('green')"
   ]
  },
  {
   "cell_type": "markdown",
   "metadata": {},
   "source": [
    "<img src=\"atom.png\" alt=\"Atom\" style=\"width:60px\" align=\"left\" vertical-align=\"middle\">\n",
    "\n",
    "## 3. Overriding Methods\n",
    "*in Python 3*\n",
    "\n",
    "----\n",
    "Inheritance is a useful way of creating objects with different class variables, but is that all it’s good for? What if one of the methods needs to be implemented differently? In Python, all we have to do to *override* a method definition is to offer a new definition for the method in our subclass.\n",
    "\n",
    "<br/>An overridden method is one that has a different definition from its parent class. What if `User` class didn’t have an `is_admin` flag but just checked if it had permission for something based on a permissions dictionary? It could look like this:"
   ]
  },
  {
   "cell_type": "code",
   "execution_count": null,
   "metadata": {},
   "outputs": [],
   "source": [
    "class User:\n",
    "    def __init__(self, username, permissions):\n",
    "        self.username = username\n",
    "        self.permissions = permissions\n",
    "\n",
    "    def has_permission_for(self, key):\n",
    "        if self.permissions.get(key): return True\n",
    "        else: return False"
   ]
  },
  {
   "cell_type": "markdown",
   "metadata": {},
   "source": [
    "Above we defined a class `User` which takes a `permissions` parameter in its constructor. Let’s assume `permissions` is a `dict`. `User` has a method `.has_permission_for()` implemented, where it checks to see if a given key is in its `permissions` dictionary. We could then define our `Admin` user like this:"
   ]
  },
  {
   "cell_type": "code",
   "execution_count": null,
   "metadata": {},
   "outputs": [],
   "source": [
    "class Admin(User):\n",
    "    def has_permission_for(self, key):\n",
    "        return True"
   ]
  },
  {
   "cell_type": "markdown",
   "metadata": {},
   "source": [
    "Here we define an `Admin` class that subclasses `User`. It has all methods, attributes, and functionality that `User` has. However, if you call `has_permission_for` on an instance of `Admin`, it won’t check its `permissions` dictionary. Since this `User` is also an `Admin`, we just say they have permission to see everything! Another example:"
   ]
  },
  {
   "cell_type": "code",
   "execution_count": null,
   "metadata": {},
   "outputs": [],
   "source": [
    "class Message:\n",
    "    def __init__(self, sender, recipient, text):\n",
    "        self.sender = sender\n",
    "        self.recipient = recipient\n",
    "        self.text = text\n",
    "\n",
    "class User:\n",
    "    def __init__(self, username):\n",
    "        self.username = username\n",
    "    def edit_message(self, message, new_text):\n",
    "        if message.sender == self.username: message.text = new_text\n",
    "\n",
    "# Override User‘s .edit_message() method in Admin so that an Admin can edit any messages.\n",
    "class Admin(User):\n",
    "    def edit_message(self, message, new_text):\n",
    "        message.text = new_text"
   ]
  },
  {
   "cell_type": "markdown",
   "metadata": {},
   "source": [
    "<img src=\"atom.png\" alt=\"Atom\" style=\"width:60px\" align=\"left\" vertical-align=\"middle\">\n",
    "\n",
    "## 4. Super()\n",
    "*in Python 3*\n",
    "\n",
    "----\n",
    "Overriding methods is really useful in some cases but sometimes we want to add some extra logic to the existing method. In order to do that we need a way to call the method from the parent class. Python gives us a way to do that using `super()`.\n",
    "\n",
    "<br/>`super()` gives us a *proxy object*. With this proxy object, we can invoke the method of an object’s parent class (also called its superclass). We call the required function as a method on `super()`:"
   ]
  },
  {
   "cell_type": "code",
   "execution_count": null,
   "metadata": {},
   "outputs": [],
   "source": [
    "class Sink:\n",
    "    def __init__(self, basin, nozzle):\n",
    "        self.basin = basin\n",
    "        self.nozzle = nozzle\n",
    "\n",
    "class KitchenSink(Sink):\n",
    "    def __init__(self, basin, nozzle, trash_compactor=None):\n",
    "        super().__init__(basin, nozzle)\n",
    "        if trash_compactor: self.trash_compactor = trash_compactor"
   ]
  },
  {
   "cell_type": "markdown",
   "metadata": {},
   "source": [
    "Above we defined two classes. First, we defined a `Sink` class with a constructor that assigns a rinse basin and a sink nozzle to a `Sink` instance. Afterwards, we defined a `KitchenSink` class that inherits from `Sink`. `KitchenSink`‘s constructor takes an additional parameter, a `trash_compactor`. `KitchenSink` then calls the constructor for `Sink` with the `basin` and `nozzle` it received using the `super()` function, with this line of code:\n",
    "\n",
    "<br/>`super().__init__(basin, nozzle)`\n",
    "\n",
    "<br/>This line says: “call the constructor (the function called `__init__`) of the class that is this class’s parent class.” In the example given, `KitchenSink`‘s constructor calls the constructor for `Sink`. In this way, we can override a parent class’s method to add some new functionality (like adding a `trash_compactor` to a sink), while still retaining the behavior of the original constructor (like setting the `basin` and `nozzle` as instance variables). Another example:"
   ]
  },
  {
   "cell_type": "code",
   "execution_count": null,
   "metadata": {},
   "outputs": [],
   "source": [
    "class PotatoSalad:\n",
    "    def __init__(self, potatoes, celery, onions):\n",
    "        self.potatoes = potatoes\n",
    "        self.celery = celery\n",
    "        self.onions = onions\n",
    "    \n",
    "class SpecialPotatoSalad(PotatoSalad):\n",
    "    def __init__(self, potatoes, celery, onions):\n",
    "        super().__init__(potatoes, celery, onions)\n",
    "        self.raisins = 40"
   ]
  },
  {
   "cell_type": "markdown",
   "metadata": {},
   "source": [
    "<img src=\"atom.png\" alt=\"Atom\" style=\"width:60px\" align=\"left\" vertical-align=\"middle\">\n",
    "\n",
    "## 5. Interfaces\n",
    "*in Python 3*\n",
    "\n",
    "----\n",
    "You may be wondering at this point why we would even want to have two different classes with two differently implemented methods to use the same method name. This style is especially useful when we have an object for which it might not matter which class the object is an instance of. Instead, we’re interested in whether that object can perform a given task.\n",
    "\n",
    "<br/>If we have the following code:"
   ]
  },
  {
   "cell_type": "code",
   "execution_count": null,
   "metadata": {},
   "outputs": [],
   "source": [
    "def setup_board():\n",
    "    pass\n",
    "def add_chess_pieces():\n",
    "    pass\n",
    "def add_checkers_pieces():\n",
    "    pass\n",
    "    \n",
    "class Chess:\n",
    "    def __init__(self):\n",
    "        self.board = setup_board()\n",
    "        self.pieces = add_chess_pieces()\n",
    "    def play(self):\n",
    "        print(\"Playing chess!\")\n",
    "\n",
    "class Checkers:\n",
    "    def __init__(self):\n",
    "        self.board = setup_board()\n",
    "        self.pieces = add_checkers_pieces()\n",
    "    def play(self):\n",
    "        print(\"Playing checkers!\")"
   ]
  },
  {
   "cell_type": "markdown",
   "metadata": {},
   "source": [
    "In the code above we define two classes, `Chess` and `Checkers`. In `Chess` we define a constructor that sets up the board and pieces, and a `.play()` method. `Checkers` also defines a `.play()` method. If we have a `play_game()` function that takes an instance of `Chess` or `Checkers`, it could call the `.play()` method without having to check which class the object is an instance of."
   ]
  },
  {
   "cell_type": "code",
   "execution_count": null,
   "metadata": {},
   "outputs": [],
   "source": [
    "def play_game(chess_or_checkers):\n",
    "    chess_or_checkers.play()\n",
    "\n",
    "chess_game = Chess()\n",
    "checkers_game = Checkers()\n",
    "chess_game_2 = Chess()\n",
    "\n",
    "for game in [chess_game, checkers_game, chess_game_2]:\n",
    "    play_game(game)"
   ]
  },
  {
   "cell_type": "markdown",
   "metadata": {},
   "source": [
    "In this code, we defined a `play_game` function that could take either a `Chess` object or a `Checkers` object. We instantiate a few objects and then call `play_game` on each.\n",
    "\n",
    "<br/>When two classes have the same method names and attributes, we say they implement the same *interface*. An interface in Python usually refers to the names of the methods and the arguments they take. Other programming languages have more rigid definitions of what an interface is, but it usually hinges on the fact that different objects from different classes can perform the same operation (even if it is implemented differently for each class). \n",
    "\n",
    "<br/>Another example:"
   ]
  },
  {
   "cell_type": "code",
   "execution_count": null,
   "metadata": {},
   "outputs": [],
   "source": [
    "class InsurancePolicy:\n",
    "    def __init__(self, price_of_item):\n",
    "        self.price_of_insured_item = price_of_item\n",
    "    \n",
    "class VehicleInsurance(InsurancePolicy):\n",
    "    def get_rate(self):\n",
    "        return self.price_of_insured_item * .001\n",
    "\n",
    "class HomeInsurance(InsurancePolicy):\n",
    "    def get_rate(self):\n",
    "        return self.price_of_insured_item * .00005"
   ]
  },
  {
   "cell_type": "markdown",
   "metadata": {},
   "source": [
    "<img src=\"atom.png\" alt=\"Atom\" style=\"width:60px\" align=\"left\" vertical-align=\"middle\">\n",
    "\n",
    "## 6. Polymorphism\n",
    "*in Python 3*\n",
    "\n",
    "----\n",
    "All this talk of interfaces demonstrates flexibility in programming. Flexibility in programming is a broad philosophy, but what’s worth remembering is that we want to implement forms that are familiar in our programs so that usage is expected. For example, let’s think of the `+` operator. It’s easy to think of it as a single function that “adds” whatever is on the left with whatever is on the right, but it does many different things in different contexts:"
   ]
  },
  {
   "cell_type": "code",
   "execution_count": null,
   "metadata": {},
   "outputs": [],
   "source": [
    "# For an int and an int, + returns an int\n",
    "2 + 4 == 6\n",
    "\n",
    "# For a float and a float, + returns a float\n",
    "3.1 + 2.1 == 5.2\n",
    "\n",
    "# For a string and a string, + returns a string\n",
    "\"Is this \" + \"addition?\" == \"Is this addition?\"\n",
    "\n",
    "# For a list and a list, + returns a list\n",
    "[1, 2] + [3, 4] == [1, 2, 3, 4]"
   ]
  },
  {
   "cell_type": "markdown",
   "metadata": {},
   "source": [
    "Look at all the different things that `+` does! The hope is that all of these things are, for the arguments given to them, the intuitive result of adding them together. *Polymorphism* is the term used to describe the same syntax (like the `+` operator here, but it could be a method name) doing different actions depending on the type of data.\n",
    "\n",
    "<br/>Polymorphism is an abstract concept that covers a lot of ground, but defining class hierarchies that all implement the same interface is a way of introducing polymorphism to our code. Another example is the `len()` method:"
   ]
  },
  {
   "cell_type": "code",
   "execution_count": null,
   "metadata": {},
   "outputs": [],
   "source": [
    "a_list = [1, 18, 32, 12]\n",
    "a_dict = {'value': True}\n",
    "a_string = \"Polymorphism is cool!\"\n",
    "\n",
    "print(len(a_list))\n",
    "print(len(a_dict))\n",
    "print(len(a_string))"
   ]
  },
  {
   "cell_type": "markdown",
   "metadata": {},
   "source": [
    "<img src=\"atom.png\" alt=\"Atom\" style=\"width:60px\" align=\"left\" vertical-align=\"middle\">\n",
    "\n",
    "## 7. Dunder Methods\n",
    "*in Python 3*\n",
    "\n",
    "----\n",
    "One way that we can introduce polymorphism to our class definitions is by using Python’s special dunder methods. We’ve explored a few already, the constructor `__init__` and the string representation method `__repr__`, but that’s only scratching the tip of the iceberg.\n",
    "\n",
    "<br/>Python gives us the power to define dunder methods that define a custom-made class to look and behave like a Python builtin. What does that mean? Say we had a class that has an addition method:"
   ]
  },
  {
   "cell_type": "code",
   "execution_count": null,
   "metadata": {},
   "outputs": [],
   "source": [
    "class Color:\n",
    "    def __init__(self, red, blue, green):\n",
    "        self.red = red\n",
    "        self.blue = blue\n",
    "        self.green = green\n",
    "\n",
    "    def __repr__(self):\n",
    "        return f\"Color with RGB = ({self.red}, {self.blue}, {self.green})\"\n",
    "\n",
    "    def add(self, other):\n",
    "        \"\"\"\n",
    "        Adds two RGB colors together\n",
    "        Maximum value is 255\n",
    "        \"\"\"\n",
    "        new_red = min(self.red + other.red, 255)\n",
    "        new_blue = min(self.blue + other.blue, 255)\n",
    "        new_green = min(self.green + other.green, 255)\n",
    "\n",
    "        return Color(new_red, new_blue, new_green)\n",
    "\n",
    "red = Color(255, 0, 0)\n",
    "blue = Color(0, 255, 0)\n",
    "\n",
    "magenta = red.add(blue)\n",
    "print(magenta)\n",
    "# Prints \"Color with RGB = (255, 255, 0)\""
   ]
  },
  {
   "cell_type": "markdown",
   "metadata": {},
   "source": [
    "In this code we defined a `Color` class that implements an addition function. Unfortunately, `red.add(blue)` is a little verbose for something that we have an intuitive symbol for (i.e., the `+` symbol). Well, Python offers the dunder method `__add__` for this very reason! If we rename the `add()` method above to something that looks like this:"
   ]
  },
  {
   "cell_type": "code",
   "execution_count": null,
   "metadata": {},
   "outputs": [],
   "source": [
    "class Color: \n",
    "    def __init__(self, red, blue, green):\n",
    "        self.red = red\n",
    "        self.blue = blue\n",
    "        self.green = green\n",
    "\n",
    "    def __repr__(self):\n",
    "        return f\"Color with RGB = ({self.red}, {self.blue}, {self.green})\"\n",
    "    \n",
    "    def __add__(self, other):\n",
    "        \"\"\"\n",
    "        Adds two RGB colors together\n",
    "        Maximum value is 255\n",
    "        \"\"\"\n",
    "        new_red = min(self.red + other.red, 255)\n",
    "        new_blue = min(self.blue + other.blue, 255)\n",
    "        new_green = min(self.green + other.green, 255)\n",
    "\n",
    "        return Color(new_red, new_blue, new_green)"
   ]
  },
  {
   "cell_type": "markdown",
   "metadata": {},
   "source": [
    "Then, if we create the colors:"
   ]
  },
  {
   "cell_type": "code",
   "execution_count": null,
   "metadata": {},
   "outputs": [],
   "source": [
    "red = Color(255, 0, 0)\n",
    "blue = Color(0, 255, 0)\n",
    "green = Color(0, 0, 255)"
   ]
  },
  {
   "cell_type": "markdown",
   "metadata": {},
   "source": [
    "We can add them together using the `+` operator!"
   ]
  },
  {
   "cell_type": "code",
   "execution_count": null,
   "metadata": {},
   "outputs": [],
   "source": [
    "# Color with RGB: (255, 255, 0)\n",
    "magenta = red + blue\n",
    "print(magenta)\n",
    "\n",
    "# Color with RGB: (0, 255, 255)\n",
    "cyan = blue + green\n",
    "print(cyan)\n",
    "\n",
    "# Color with RGB: (255, 0, 255)\n",
    "yellow = red + green\n",
    "print(yellow)\n",
    "\n",
    "# Color with RGB: (255, 255, 255)\n",
    "white = red + blue + green\n",
    "print(white)"
   ]
  },
  {
   "cell_type": "markdown",
   "metadata": {},
   "source": [
    "Since we defined an `__add__` method for our Color class, we were able to add these objects together using the `+` operator. Another abstract example:"
   ]
  },
  {
   "cell_type": "code",
   "execution_count": null,
   "metadata": {},
   "outputs": [],
   "source": [
    "class Atom:\n",
    "    def __init__(self, label):\n",
    "        self.label = label\n",
    "    def __add__(self, other):\n",
    "        print(self.label + other.label)\n",
    "        return Molecule([self.label, other.label])\n",
    "    \n",
    "class Molecule:\n",
    "    def __init__(self, atoms):\n",
    "        if type(atoms) is list: self.atoms = atoms\n",
    "\n",
    "sodium = Atom(\"Na\")\n",
    "chlorine = Atom(\"Cl\")\n",
    "salt = Molecule([sodium, chlorine])\n",
    "salt = sodium + chlorine"
   ]
  },
  {
   "cell_type": "markdown",
   "metadata": {},
   "source": [
    "<img src=\"atom.png\" alt=\"Atom\" style=\"width:60px\" align=\"left\" vertical-align=\"middle\">\n",
    "\n",
    "## 8. Dunder Methods II\n",
    "*in Python 3*\n",
    "\n",
    "----\n",
    "Python offers a whole suite of magic methods a class can implement that will allow us to use the same syntax as Python’s built-in data types. You can write functionality that allows custom defined types to behave like lists:"
   ]
  },
  {
   "cell_type": "code",
   "execution_count": 45,
   "metadata": {},
   "outputs": [],
   "source": [
    "class UserGroup:\n",
    "    def __init__(self, users, permissions):\n",
    "        self.user_list = users\n",
    "        self.permissions = permissions\n",
    "\n",
    "    def __iter__(self):\n",
    "        return iter(self.user_list)\n",
    "\n",
    "    def __len__(self):\n",
    "        return len(self.user_list)\n",
    "\n",
    "    def __contains__(self, user):\n",
    "        return user in self.user_list"
   ]
  },
  {
   "cell_type": "markdown",
   "metadata": {},
   "source": [
    "In our UserGroup class above we defined three methods:\n",
    "1. `__init__`, our constructor, which sets a list of users to the instance variable `self.user_list` and sets the group’s permissions when we create a new `UserGroup`.\n",
    "2. `__iter__`, the iterator, we use the `iter()` function to turn the list `self.user_list` into an iterator so we can use for user in `user_group` syntax. For more information on iterators, review Python’s documentation of Iterator Types.\n",
    "3. `__len__`, the length method, so when we call `len(user_group)` it will return the length of the underlying `self.user_list` list.\n",
    "4. `__contains__`, the check for containment, allows us to use `user` in `user_group` syntax to check if a `User` exists in the `user_list` we have.\n",
    "\n",
    "<br/>These methods allow `UserGroup` to act like a list using syntax Python programmers will already be familiar with. If all you need is something to act like a list you could absolutely have used a list, but if you want to bundle some other information (like a group’s permissions, for instance) having syntax that allows for list-like operations can be very powerful.\n",
    "\n",
    "<br/>We would be able to use the following code to do this, for example:"
   ]
  },
  {
   "cell_type": "code",
   "execution_count": 46,
   "metadata": {},
   "outputs": [
    {
     "name": "stdout",
     "output_type": "stream",
     "text": [
      "Number of people who can edit: 2\n",
      "User who can edit: diana\n",
      "User who can edit: frank\n"
     ]
    }
   ],
   "source": [
    "class User:\n",
    "    def __init__(self, username):\n",
    "        self.username = username\n",
    "\n",
    "diana = User('diana')\n",
    "frank = User('frank')\n",
    "jenn = User('jenn')\n",
    "\n",
    "can_edit = UserGroup([diana, frank], {'can_edit_page': True})\n",
    "can_delete = UserGroup([diana, jenn], {'can_delete_posts': True})\n",
    "\n",
    "print(f\"Number of people who can edit: {len(can_edit)}\") # Note that this only considers the list and not the dictionary!\n",
    "\n",
    "for user in can_edit: print(f\"User who can edit: {user.username}\") # Note that this only considers the list and not the dictionary!\n",
    "    \n",
    "if frank in can_delete: print(\"Since when do we allow Frank to delete things? Does no one remember when he accidentally deleted the site?\")"
   ]
  },
  {
   "cell_type": "markdown",
   "metadata": {},
   "source": [
    "Above we created a set of users and then added them to `UserGroups` with specific permissions. Then we used Python built-in functions and syntax to calculate the length of a `UserGroup`, to iterate through a `UserGroup` and to check for a `User`‘s membership in a `UserGroup`. Another example:"
   ]
  },
  {
   "cell_type": "code",
   "execution_count": 28,
   "metadata": {},
   "outputs": [],
   "source": [
    "class LawFirm:\n",
    "    def __init__(self, practice, lawyers):\n",
    "        self.practice = practice\n",
    "        self.lawyers = lawyers\n",
    "        \n",
    "    def __len__(self):\n",
    "        return len(self.lawyers)\n",
    "    \n",
    "    def __contains__(self, lawyer):\n",
    "        return lawyer in self.lawyers\n",
    "    \n",
    "d_and_p = LawFirm(\"Injury\", [\"Donelli\", \"Paderewski\"])"
   ]
  },
  {
   "cell_type": "markdown",
   "metadata": {},
   "source": [
    "<img src=\"atom.png\" alt=\"Atom\" style=\"width:60px\" align=\"left\" vertical-align=\"middle\">\n",
    "\n",
    "## 9. Review\n",
    "*Python 3*\n",
    "\n",
    "----\n",
    "In this lesson, we learned more complicated relationships between classes. We learned:\n",
    "\n",
    "    1. How to create a subclass of an existing class.\n",
    "    2. How to redefine existing methods of a parent class in a subclass by overriding them.\n",
    "    3. How to leverage a parent class’s methods in the body of a subclass method using the super() function.\n",
    "    4. How to define a Python exception that inherits from Exception.\n",
    "    5. How to write programs that are flexible using interfaces and polymorphism.\n",
    "    6. How to write data types that look and feel like native data types with dunder methods.\n",
    "\n",
    "<br/>These are really complicated concepts! It’s a long journey to get to the state of comfortably being able to build class hierarchies that embody the concerns that your software will need to. Give yourself a pat on the back, you earned it! \n",
    "\n",
    "<br/>Recall that lists have a `.append()` method that takes a two arguments, `self` and `value`. We’re going to have `SortedList` perform a sort after every `.append()`:\n"
   ]
  },
  {
   "cell_type": "code",
   "execution_count": 30,
   "metadata": {},
   "outputs": [
    {
     "name": "stdout",
     "output_type": "stream",
     "text": [
      "[1, 4, 5]\n",
      "[1, 4, 5, 7]\n"
     ]
    }
   ],
   "source": [
    "class SortedList(list):\n",
    "    def __init__(self, value):\n",
    "        super().__init__(value)\n",
    "        self.sort()\n",
    "\n",
    "    def append(self, value):\n",
    "        super().append(value)\n",
    "        return sorted(self)\n",
    "\n",
    "print(SortedList([4, 1, 5]))\n",
    "print(SortedList([4, 1, 5]).append(7))"
   ]
  }
 ],
 "metadata": {
  "kernelspec": {
   "display_name": "Python 3",
   "language": "python",
   "name": "python3"
  },
  "language_info": {
   "codemirror_mode": {
    "name": "ipython",
    "version": 3
   },
   "file_extension": ".py",
   "mimetype": "text/x-python",
   "name": "python",
   "nbconvert_exporter": "python",
   "pygments_lexer": "ipython3",
   "version": "3.8.4"
  }
 },
 "nbformat": 4,
 "nbformat_minor": 2
}
