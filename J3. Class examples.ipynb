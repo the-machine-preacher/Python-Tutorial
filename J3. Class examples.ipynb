{
 "cells": [
  {
   "cell_type": "markdown",
   "metadata": {},
   "source": [
    "<img src=\"atom.png\" alt=\"Atom\" style=\"width:60px\" align=\"left\" vertical-align=\"middle\">\n",
    "\n",
    "## Class example: how to organize data\n",
    "*in Python 3*\n",
    "\n",
    "----\n",
    "**Basta Fazoolin'**\n",
    "\n",
    "<br/>You’ve started position as the lead programmer for the family-style Italian restaurant *Basta Fazoolin’ with My Heart*. The restaurant has been doing fantastically and seen a lot of growth lately. You’ve been hired to keep things organized. At Basta Fazoolin’ with my Heart our motto is simple: when you’re here with family, that’s great! We have four different menus: brunch, early-bird, dinner, and kids.\n",
    "\n",
    "<br/>[1] Create a `Menu` class.\n",
    "\n",
    "<br/>[2] Give `Menu` a constructor with the five parameters `self`, `name`, `items`, `start_time`, and `end_time`.\n",
    "\n",
    "<br/>[3] Give our `Menu` class a string representation method that will tell you the `name` of the menu. Also, indicate in this representation when the menu is available.\n",
    "\n",
    "<br/>[4] Give `Menu` a method `.calculate_bill()` that has two parameters: `self`, and `purchased_items`, a list of the names of purchased items. Have `calculate_bill` return the total price of a purchase consisiting of all the items in `purchased_items`.\n",
    "\n"
   ]
  },
  {
   "cell_type": "code",
   "execution_count": 11,
   "metadata": {},
   "outputs": [],
   "source": [
    "# [1] Create a Menu class\n",
    "class Menu:\n",
    "    # [2] Give Menu a constructor with self, name, items, start_time, and end_time\n",
    "    def __init__(self, name, items, start_time, end_time):\n",
    "        self.name = name\n",
    "        self.items = items\n",
    "        self.start_time = start_time\n",
    "        self.end_time = end_time\n",
    "\n",
    "    # [3] Give our Menu class a string representation method\n",
    "    def __repr__(self):\n",
    "        return f\"{self.name} menu available from {self.start_time} hrs to {self.end_time} hrs\"\n",
    "\n",
    "    # [4] Give Menu a method .calculate_bill()\n",
    "    def calculate_bill(self, purchased_items=[]):\n",
    "        cost = 0\n",
    "        for item in purchased_items: cost += self.items[item]\n",
    "        return cost"
   ]
  },
  {
   "cell_type": "markdown",
   "metadata": {},
   "source": [
    "[5] Lets create all our menus:"
   ]
  },
  {
   "cell_type": "code",
   "execution_count": 12,
   "metadata": {},
   "outputs": [
    {
     "name": "stdout",
     "output_type": "stream",
     "text": [
      "brunch menu available from 11 hrs to 16 hrs\n"
     ]
    }
   ],
   "source": [
    "# [5] Lets create all our menus\n",
    "brunch = Menu('brunch', {'pancakes': 7.50, 'waffles': 9.00, 'burger': 11.00, 'home fries': 4.50, 'coffee': 1.50, 'espresso': 3.00, 'tea': 1.00, 'mimosa': 10.50, 'orange juice': 3.50}, 11, 16)\n",
    "\n",
    "early_bird = Menu('early_bird', {'salumeria plate': 8.00, 'salad and breadsticks (serves 2, no refills)': 14.00, 'pizza with quattro formaggi': 9.00, 'duck ragu': 17.50, 'mushroom ravioli (vegan)': 13.50, 'coffee': 1.50, 'espresso': 3.00}, 15, 18)\n",
    "\n",
    "dinner = Menu('dinner', {'crostini with eggplant caponata': 13.00, 'ceaser salad': 16.00, 'pizza with quattro formaggi': 11.00, 'duck ragu': 19.50, 'mushroom ravioli (vegan)': 13.50, 'coffee': 2.00, 'espresso': 3.00}, 17, 23)\n",
    "\n",
    "kids = Menu('kids', {'chicken nuggets': 6.50, 'fusilli with wild mushrooms': 12.00, 'apple juice': 3.00}, 11, 21)\n",
    "\n",
    "#Let's check the menu\n",
    "print(brunch)"
   ]
  },
  {
   "cell_type": "markdown",
   "metadata": {},
   "source": [
    "[6] Test out `Menu.calculate_bill()`. We have a breakfast order for one order of pancakes, one order of home fries, and one coffee. Pass that into `brunch.calculate_bill()` and print out the price."
   ]
  },
  {
   "cell_type": "code",
   "execution_count": 13,
   "metadata": {},
   "outputs": [
    {
     "name": "stdout",
     "output_type": "stream",
     "text": [
      "13.5\n"
     ]
    }
   ],
   "source": [
    "# [6] Test out Menu.calculate_bill()\n",
    "print(brunch.calculate_bill(['pancakes', 'home fries', 'coffee']))"
   ]
  },
  {
   "cell_type": "markdown",
   "metadata": {},
   "source": [
    "What about an early-bird purchase? Our last guests ordered the salumeria plate and the vegan mushroom ravioli. Calculate the bill with `.caluclate_bill()`."
   ]
  },
  {
   "cell_type": "code",
   "execution_count": 14,
   "metadata": {},
   "outputs": [
    {
     "name": "stdout",
     "output_type": "stream",
     "text": [
      "21.5\n"
     ]
    }
   ],
   "source": [
    "# Calculate the bill with .caluclate_bill() for salumeria plate and the vegan mushroom ravioli\n",
    "print(early_bird.calculate_bill(['salumeria plate', 'mushroom ravioli (vegan)']))"
   ]
  },
  {
   "cell_type": "markdown",
   "metadata": {},
   "source": [
    "*Basta Fazoolin’ with my Heart* has seen tremendous success with the family market, which is fantastic because when you’re at Basta Fazoolin’ with my Heart with family, that’s great! We’ve decided to create more than one restaurant to offer our fantastic menus, services, and ambience around the country.\n",
    "\n",
    "<br/>[7] First, let’s create a `Franchise` class.\n",
    "\n",
    "<br/>[8] Give the `Franchise` class a constructor. Take in an `address`, and assign it to `self.address`. Also take in a list of `menus` and assign it to `self.menus`.\n",
    "\n",
    "<br/>[9] Let’s create our first two franchises! Our flagship store is located at `\"1232 West End Road\"` and our new installment is located at `\"12 East Mulberry Street\"`. Pass in all four menus along with these addresses to define `flagship_store` and `new_installment`.\n",
    "\n",
    "<br/>[10] Give our `Franchise`s a string represenation so that we’ll be able to tell them apart. If we print out a `Franchise` it should tell us the address of the restaurant.\n",
    "\n",
    "<br/>[11] Let’s tell our customers what they can order! Give `Franchise` an `.available_menus()` method that takes in a time parameter and returns a list of the `Menu` objects that are available at that `time`.\n"
   ]
  },
  {
   "cell_type": "code",
   "execution_count": 15,
   "metadata": {},
   "outputs": [],
   "source": [
    "# [7] Create a Franchise class.\n",
    "class Franchise:\n",
    "    # [8] Give the Franchise class a constructor\n",
    "    def __init__(self, address, menus):\n",
    "        self.address = address\n",
    "        self.menus = menus\n",
    "\n",
    "    # [10] Give our Franchises a string represenation\n",
    "    def __repr__(self):\n",
    "        return self.address\n",
    "\n",
    "    # [11] Give Franchise an .available_menus() method\n",
    "    def available_menus(self, time):\n",
    "        return [menu for menu in self.menus if (time >= menu.start_time) and (time <= menu.end_time)]\n",
    "\n",
    "# [9] Create our first two franchises\n",
    "flagship_store = Franchise(\"1232 West End Road\", [brunch, early_bird, dinner, kids])\n",
    "new_installment = Franchise(\"12 East Mulberry Street\", [brunch, early_bird, dinner, kids])"
   ]
  },
  {
   "cell_type": "markdown",
   "metadata": {},
   "source": [
    "[12] Let’s test out our `.available_menus()` method! Call it with 12 noon as an argument and print out the results."
   ]
  },
  {
   "cell_type": "code",
   "execution_count": 16,
   "metadata": {},
   "outputs": [
    {
     "name": "stdout",
     "output_type": "stream",
     "text": [
      "[brunch menu available from 11 hrs to 16 hrs, kids menu available from 11 hrs to 21 hrs]\n"
     ]
    }
   ],
   "source": [
    "# [12] Test out our .available_menus() method\n",
    "print(flagship_store.available_menus(12))"
   ]
  },
  {
   "cell_type": "markdown",
   "metadata": {},
   "source": [
    "[13] Let’s do another test! If we call `.available_menus()` with 5pm as an argument and print out the results."
   ]
  },
  {
   "cell_type": "code",
   "execution_count": 17,
   "metadata": {},
   "outputs": [
    {
     "name": "stdout",
     "output_type": "stream",
     "text": [
      "[early_bird menu available from 15 hrs to 18 hrs, dinner menu available from 17 hrs to 23 hrs, kids menu available from 11 hrs to 21 hrs]\n"
     ]
    }
   ],
   "source": [
    "# [13] Test the .available_menus() method with 5pm as an argument and print out the results\n",
    "print(flagship_store.available_menus(17))"
   ]
  },
  {
   "cell_type": "markdown",
   "metadata": {},
   "source": [
    "**Creating Businesses!**\n",
    "<br/>Since we’ve been so successful building out a branded chain of restaurants, we’ve decided to diversify. We’re going to create a restaurant that sells arepas!\n",
    "\n",
    "<br/>[14] First let’s define a `Business` class.\n",
    "\n",
    "<br/>[15] Give `Business` a constructor. A `Business` needs a `name` and a list of `franchises`.\n",
    "\n",
    "<br/>[16] Let’s create our first `Business`. The name is `\"Basta Fazoolin' with my Heart\"` and the two franchises are `flagship_store` and `new_installment`.\n",
    "\n",
    "<br/>[17] Before we create our new business, we’ll need a `Franchise` and before our `Franchise` we’ll need a `menu`. The items for our Take a’ Arepa available from 10am until 8pm are the following, Before we create our new business, we’ll need a Franchise and before our Franchise we’ll need a menu. The items for our Take a’ Arepa available from 10am until 8pm. Save this to a variable called `arepas_menu`.\n"
   ]
  },
  {
   "cell_type": "code",
   "execution_count": 18,
   "metadata": {},
   "outputs": [],
   "source": [
    "# [14] Create a Business class\n",
    "class Business:\n",
    "    # [15] Give Business a constructor\n",
    "    def __init__(self, name, franchises):\n",
    "        self.name = name\n",
    "        self.franchises = franchises\n",
    "\n",
    "# [16] Create a new Business\n",
    "new_business = Business(\"Basta Fazoolin' with my Heart\", [flagship_store, new_installment])\n",
    "\n",
    "# [17] Create a menu for the new Franchise\n",
    "arepas_menu = Menu(\"Take a’ Arepa\", {'arepa pabellon': 7.00, 'pernil arepa': 8.50, 'guayanes arepa': 8.00, 'jamon arepa': 7.50}, 10, 20)"
   ]
  },
  {
   "cell_type": "markdown",
   "metadata": {},
   "source": [
    "[18] Next let’s create our first Take a’ Arepa franchise! Our new restaurant is located at `\"189 Fitzgerald Avenue\"`. Save the `Franchise` object to a variable called `arepas_place`."
   ]
  },
  {
   "cell_type": "code",
   "execution_count": 19,
   "metadata": {},
   "outputs": [],
   "source": [
    "# [18] Create the first Take a’ Arepa franchise\n",
    "arepas_place = Franchise(\"189 Fitzgerald Avenue\", [arepas_menu])"
   ]
  },
  {
   "cell_type": "markdown",
   "metadata": {},
   "source": [
    "[19] Now let’s make our new `Business`! The business is called `\"Take a' Arepa\"`!"
   ]
  },
  {
   "cell_type": "code",
   "execution_count": 20,
   "metadata": {},
   "outputs": [],
   "source": [
    "# [19] Create the new arepas_business\n",
    "arepas_business = Business(\"Take a' Arepa\", [arepas_place])"
   ]
  },
  {
   "cell_type": "markdown",
   "metadata": {},
   "source": [
    "[20] Congrats! You created a system of classes that help structure your code and perform all business requirements you need. Whenever we need a new feature we’ll have the well-organized code required to make developing and shipping it easy."
   ]
  }
 ],
 "metadata": {
  "kernelspec": {
   "display_name": "Python 3",
   "language": "python",
   "name": "python3"
  },
  "language_info": {
   "codemirror_mode": {
    "name": "ipython",
    "version": 3
   },
   "file_extension": ".py",
   "mimetype": "text/x-python",
   "name": "python",
   "nbconvert_exporter": "python",
   "pygments_lexer": "ipython3",
   "version": "3.8.4"
  }
 },
 "nbformat": 4,
 "nbformat_minor": 2
}
