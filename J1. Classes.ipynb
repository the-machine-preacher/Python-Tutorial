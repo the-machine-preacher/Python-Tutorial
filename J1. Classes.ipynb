{
 "cells": [
  {
   "cell_type": "markdown",
   "metadata": {},
   "source": [
    "<img src=\"atom.png\" alt=\"Atom\" style=\"width:60px\" align=\"left\" vertical-align=\"middle\">\n",
    "\n",
    "## 1. Types\n",
    "*in Python 3*\n",
    "\n",
    "----\n",
    "Python equips us with many different ways to store data. A `float` is a different kind of number from an `int`, and we store different data in a `list` than we do in a dict. These are known as different types. We can check the type of a Python variable using the `type()` function."
   ]
  },
  {
   "cell_type": "code",
   "execution_count": 89,
   "metadata": {},
   "outputs": [
    {
     "name": "stdout",
     "output_type": "stream",
     "text": [
      "<class 'str'>\n",
      "<class 'int'>\n"
     ]
    }
   ],
   "source": [
    "a_string = \"Cool String\"\n",
    "an_int = 12\n",
    "\n",
    "print(type(a_string))\n",
    "print(type(an_int))"
   ]
  },
  {
   "cell_type": "markdown",
   "metadata": {},
   "source": [
    "Above, we defined two variables, and checked the type of these two variables. A variable’s type determines what you can do with it and how you can use it. You can’t `.get()` something from an integer, just as you can’t add two dictionaries together using `+`. This is because those operations are defined at the `type` level.\n",
    "\n",
    "<br/>*Exercise:*\n",
    "<br/>Define variables and use `type()` on them:"
   ]
  },
  {
   "cell_type": "code",
   "execution_count": 90,
   "metadata": {},
   "outputs": [
    {
     "name": "stdout",
     "output_type": "stream",
     "text": [
      "<class 'int'>\n",
      "<class 'dict'>\n",
      "<class 'list'>\n"
     ]
    }
   ],
   "source": [
    "print(type(5))\n",
    "\n",
    "#A dictionary\n",
    "my_dict = {}\n",
    "print(type(my_dict))\n",
    "\n",
    "#A list\n",
    "my_list = []\n",
    "print(type(my_list))"
   ]
  },
  {
   "cell_type": "markdown",
   "metadata": {},
   "source": [
    "<img src=\"atom.png\" alt=\"Atom\" style=\"width:60px\" align=\"left\" vertical-align=\"middle\">\n",
    "\n",
    "## 2. Class\n",
    "*in Python 3*\n",
    "\n",
    "----\n",
    "A *class* is a template for a data type. It describes the kinds of information that *a class of objects* will hold and how a programmer will interact with that data. Define a class using the `class` keyword. **PEP 8 Style Guide for Python Code** recommends capitalizing the names of classes to make them easier to identify.\n"
   ]
  },
  {
   "cell_type": "code",
   "execution_count": 91,
   "metadata": {},
   "outputs": [],
   "source": [
    "class CoolClass:\n",
    "    pass"
   ]
  },
  {
   "cell_type": "markdown",
   "metadata": {},
   "source": [
    "In the above example we created a class and named it `CoolClass`. We used the `pass` keyword in Python to indicate that the body of the class was intentionally left blank so we don’t cause an `IndentationError`. We’ll learn about all the things we can put in the body of a class in the next few exercises.\n",
    "\n",
    "<br/>*Exercise:*\n",
    "<br/>Define an empty class called `Facade`. We’ll chip away at it soon!"
   ]
  },
  {
   "cell_type": "code",
   "execution_count": 2,
   "metadata": {},
   "outputs": [],
   "source": [
    "class Facade:\n",
    "    pass"
   ]
  },
  {
   "cell_type": "markdown",
   "metadata": {},
   "source": [
    "<img src=\"atom.png\" alt=\"Atom\" style=\"width:60px\" align=\"left\" vertical-align=\"middle\">\n",
    "\n",
    "## 3. Instantiation\n",
    "*in Python 3*\n",
    "\n",
    "----\n",
    "A class doesn’t accomplish anything simply by being defined. A class must be *instantiated*. In other words, we must create an *instance* of the class, in order to breathe life into the schematic.\n",
    "\n",
    "<br/>Instantiating a class looks a lot like calling a function. We would be able to create an instance of our defined `Facade` as follows:"
   ]
  },
  {
   "cell_type": "code",
   "execution_count": 93,
   "metadata": {},
   "outputs": [],
   "source": [
    "facade_1 = Facade()"
   ]
  },
  {
   "cell_type": "markdown",
   "metadata": {},
   "source": [
    "Above, we created an object by adding parentheses to the name of the class. We then assigned that new instance to the variable `facade_1` for safe-keeping. "
   ]
  },
  {
   "cell_type": "markdown",
   "metadata": {},
   "source": [
    "<img src=\"atom.png\" alt=\"Atom\" style=\"width:60px\" align=\"left\" vertical-align=\"middle\">\n",
    "\n",
    "## 4. Object-Oriented Programming\n",
    "*in Python 3*\n",
    "\n",
    "----\n",
    "A class instance is also called an *object*. The pattern of defining classes and creating objects to represent the responsibilities of a program is known as *Object Oriented Programming* or OOP.\n",
    "\n",
    "<br/>Instantiation takes a class and turns it into an object, the `type()` function does the opposite of that. When called with an object, it returns the class that the object is an instance of."
   ]
  },
  {
   "cell_type": "code",
   "execution_count": 94,
   "metadata": {},
   "outputs": [
    {
     "name": "stdout",
     "output_type": "stream",
     "text": [
      "<class '__main__.Facade'>\n"
     ]
    }
   ],
   "source": [
    "print(type(facade_1))"
   ]
  },
  {
   "cell_type": "markdown",
   "metadata": {},
   "source": [
    "We then print out the `type()` of `facade_1` and it shows us that this object is of type `__main__.Facade`. In Python `__main__` means “this current file that we’re running” and so one could read the output from `type()` to mean “the class `Facade` that was defined here, in the script you’re currently running.”\n",
    "\n",
    "<br/>The `type()` command returns the *namespace* and *class* for the object provided. For classes defined in the local file, the namespace will be reported as `__main__`. For classes imported from other modules, the namespace reported will be the same as the module. The following code example shows, the results from `type()` on objects created from two different modules."
   ]
  },
  {
   "cell_type": "code",
   "execution_count": 3,
   "metadata": {},
   "outputs": [
    {
     "name": "stdout",
     "output_type": "stream",
     "text": [
      "<class 'collections.OrderedDict'>\n",
      "<class 'calendar.Calendar'>\n"
     ]
    }
   ],
   "source": [
    "from collections import OrderedDict\n",
    "mycoll = OrderedDict()\n",
    "print(type(mycoll))\n",
    "\n",
    "from calendar import Calendar\n",
    "mycal = Calendar()\n",
    "print(type(mycal))"
   ]
  },
  {
   "cell_type": "markdown",
   "metadata": {},
   "source": [
    "<img src=\"atom.png\" alt=\"Atom\" style=\"width:60px\" align=\"left\" vertical-align=\"middle\">\n",
    "\n",
    "## 5. Class Variables\n",
    "*in Python 3*\n",
    "\n",
    "----\n",
    "When we want the same data to be available to every instance of a class we use a *class variable*. A class variable is a variable that’s the same for every instance of the class. You can define a class variable by including it in the indented part of your class definition, and you can access all of an object’s class variables with `object.variable` syntax."
   ]
  },
  {
   "cell_type": "code",
   "execution_count": 4,
   "metadata": {},
   "outputs": [],
   "source": [
    "class Musician:\n",
    "    title = \"Rockstar\"\n",
    "drummer = Musician()\n",
    "guitarist = Musician()"
   ]
  },
  {
   "cell_type": "markdown",
   "metadata": {},
   "source": [
    "Note that instance and class variables are both accessed similarly in Python, below is demonstration of CLASS variables:"
   ]
  },
  {
   "cell_type": "code",
   "execution_count": 5,
   "metadata": {},
   "outputs": [
    {
     "name": "stdout",
     "output_type": "stream",
     "text": [
      "Rockstar\n",
      "Rockstar\n"
     ]
    }
   ],
   "source": [
    "print(drummer.title)\n",
    "print(guitarist.title)"
   ]
  },
  {
   "cell_type": "markdown",
   "metadata": {},
   "source": [
    "Note that instance and class variables are both accessed similarly in Python, below is demonstration of INSTANCE variables:"
   ]
  },
  {
   "cell_type": "code",
   "execution_count": 6,
   "metadata": {},
   "outputs": [
    {
     "name": "stdout",
     "output_type": "stream",
     "text": [
      "Basestar\n",
      "Superstar\n"
     ]
    }
   ],
   "source": [
    "drummer.title = \"Basestar\"\n",
    "guitarist.title = \"Superstar\"\n",
    "print(drummer.title)\n",
    "print(guitarist.title)"
   ]
  },
  {
   "cell_type": "markdown",
   "metadata": {},
   "source": [
    "Above we defined the class `Musician`, then instantiated `drummer` to be an object of type `Musician`. We then printed out the drummer’s `.title` attribute, which is a class variable that we defined as the string `“Rockstar”`. If we defined another musician, like `guitarist = Musician()` they would have the same `.title` attribute.\n",
    "\n",
    "<br/>*Exercise:*\n",
    "<br/>You are digitizing grades for *Jan van Eyck High School and Conservatory*. At *Jan van High*, as the students call it, `65` is the minimum passing grade. Create a `Grade` class with a class attribute `minimum_passing` equal to `65`."
   ]
  },
  {
   "cell_type": "code",
   "execution_count": 96,
   "metadata": {},
   "outputs": [],
   "source": [
    "class Grade:\n",
    "    minimum_passing = 65"
   ]
  },
  {
   "cell_type": "markdown",
   "metadata": {},
   "source": [
    "<img src=\"atom.png\" alt=\"Atom\" style=\"width:60px\" align=\"left\" vertical-align=\"middle\">\n",
    "\n",
    "## 6. Methods\n",
    "*in Python 3*\n",
    "\n",
    "----\n",
    "*Methods* are functions that are defined as part of a class. The first argument in a method is always the object that is calling the method. Convention recommends that we name this first argument `self`. Methods always have at least this one argument.\n",
    "\n",
    "<br/>We define methods similarly to functions, except that they are indented to be part of the class."
   ]
  },
  {
   "cell_type": "code",
   "execution_count": 97,
   "metadata": {},
   "outputs": [
    {
     "name": "stdout",
     "output_type": "stream",
     "text": [
      "Dogs experience 7 years for every 1 human year.\n"
     ]
    }
   ],
   "source": [
    "class Dog():\n",
    "    dog_time_dilation = 7\n",
    "\n",
    "    def time_explanation(self):\n",
    "        print(f\"Dogs experience {self.dog_time_dilation} years for every 1 human year.\")\n",
    "\n",
    "pipi_pitbull = Dog()\n",
    "pipi_pitbull.time_explanation()"
   ]
  },
  {
   "cell_type": "markdown",
   "metadata": {},
   "source": [
    "Above we created a `Dog` class with a `time_explanation` method that takes one argument, `self`, which refers to the object calling the function. We created a `Dog` named `pipi_pitbull` and called the `.time_explanation()` method on our new object for Pipi. Notice we didn’t pass any arguments when we called `.time_explanation()`, but were able to refer to `self` in the function body. When you call a method it automatically passes the object calling the method as the first argument.\n",
    "\n",
    "<br/>*Exercise:*\n",
    "<br/>At *Jan van High*, the students are constantly calling the school rules into question. Create a `Rules` class so that we can explain the rules and give it a method `washing_brushes` that returns the string:"
   ]
  },
  {
   "cell_type": "code",
   "execution_count": 98,
   "metadata": {},
   "outputs": [],
   "source": [
    "class Rules:\n",
    "    def washing_brushes(self):\n",
    "        return \"Point bristles towards the basin while washing your brushes.\""
   ]
  },
  {
   "cell_type": "markdown",
   "metadata": {},
   "source": [
    "<img src=\"atom.png\" alt=\"Atom\" style=\"width:60px\" align=\"left\" vertical-align=\"middle\">\n",
    "\n",
    "## 7. Methods with Arguments\n",
    "*in Python 3*\n",
    "\n",
    "----\n",
    "Methods can also take more arguments than just `self`:"
   ]
  },
  {
   "cell_type": "code",
   "execution_count": 99,
   "metadata": {},
   "outputs": [
    {
     "name": "stdout",
     "output_type": "stream",
     "text": [
      "8.045\n"
     ]
    }
   ],
   "source": [
    "class DistanceConverter:\n",
    "    kms_in_a_mile = 1.609\n",
    "    def how_many_kms(self, miles):\n",
    "        return miles * self.kms_in_a_mile\n",
    "\n",
    "converter = DistanceConverter()\n",
    "kms_in_5_miles = converter.how_many_kms(5)\n",
    "print(kms_in_5_miles)"
   ]
  },
  {
   "cell_type": "markdown",
   "metadata": {},
   "source": [
    "Above we defined a `DistanceConverter` class, instantiated it, and used it to convert 5 miles into kilometers. Notice again that even though `how_many_kms` takes two arguments in its definition, we only pass `miles`, because `self` is implicitly passed (and refers to the object `converter`).\n",
    "\n",
    "<br/>*Exercise:*\n",
    "<br/>A. You decide to create a program that calculates the area of a circle. Create a `Circle` class with class variable `pi`. Set `pi` to the approximation `3.14`. Give `Circle` an `area` method that takes two parameters: `self` and `radius`. Return the area as given by this formula: `area = pi * radius ** 2`"
   ]
  },
  {
   "cell_type": "code",
   "execution_count": 7,
   "metadata": {},
   "outputs": [],
   "source": [
    "class Circle:\n",
    "    pi = 3.14\n",
    "    def area(self, radius):\n",
    "        return self.pi * radius ** 2"
   ]
  },
  {
   "cell_type": "markdown",
   "metadata": {},
   "source": [
    "B. Create an instance of `Circle`. Save it into the variable `circle`. You go to measure several circles you happen to find around.\n",
    "- A medium pizza that is 12 inches across.\n",
    "- Your teaching table which is 36 inches across.\n",
    "- The Round Room auditorium, which is 11,460 inches across.\n",
    "\n",
    "<br/>You save the areas of these three things into `pizza_area`, `teaching_table_area`, and `round_room_area`. Remember that the `radius` of a circle is half the diameter. We gave three diameters here, so halve them before you calculate the given circle’s area."
   ]
  },
  {
   "cell_type": "code",
   "execution_count": null,
   "metadata": {},
   "outputs": [],
   "source": [
    "circle = Circle()\n",
    "pizza_area = circle.area(12 / 2)\n",
    "teaching_table_area = circle.area(36 / 2)\n",
    "round_room_area = circle.area(11460 / 2)"
   ]
  },
  {
   "cell_type": "markdown",
   "metadata": {},
   "source": [
    "<img src=\"atom.png\" alt=\"Atom\" style=\"width:60px\" align=\"left\" vertical-align=\"middle\">\n",
    "\n",
    "## 8. Constructors\n",
    "*in Python 3*\n",
    "\n",
    "----\n",
    "There are several methods that we can define in a Python class that have special behavior. These methods are sometimes called “magic”, because they behave differently from regular methods. Another popular term is *dunder methods*, so-named because they have two underscores (double-underscore abbreviated to “dunder”) on either side of them.\n",
    "\n",
    "<br/>The first dunder method we’re going to use is the `__init__` method (note the two underscores before and after the word “init”). This method is used to *initialize* a newly created object. It is called every time the class is instantiated.\n",
    "\n",
    "<br/>Methods that are used to prepare an object being instantiated are called *constructors*. The word “constructor” is used to describe similar features in other object-oriented programming languages but programmers who refer to a constructor in Python are usually talking about the `__init__` method."
   ]
  },
  {
   "cell_type": "code",
   "execution_count": 101,
   "metadata": {},
   "outputs": [
    {
     "name": "stdout",
     "output_type": "stream",
     "text": [
      "HELLO?!\n",
      "HELLO?!\n"
     ]
    }
   ],
   "source": [
    "class Shouter:\n",
    "    def __init__(self):\n",
    "        print(\"HELLO?!\")\n",
    "\n",
    "shout1 = Shouter()\n",
    "shout2 = Shouter()"
   ]
  },
  {
   "cell_type": "markdown",
   "metadata": {},
   "source": [
    "Above we created a class called `Shouter` and every time we create an instance of `Shouter` the program prints out a shout. Don’t worry, this doesn’t hurt the computer at all.\n",
    "\n",
    "<br/>Pay careful attention to the instantiation syntax we use. `Shouter()` looks a lot like a function call, doesn’t it? If it’s a function, can we pass parameters to it? We absolutely can, and those parameters will be received by the `__init__` method."
   ]
  },
  {
   "cell_type": "code",
   "execution_count": 102,
   "metadata": {},
   "outputs": [
    {
     "name": "stdout",
     "output_type": "stream",
     "text": [
      "SHOUT\n",
      "SHOUT\n",
      "LET IT ALL OUT\n"
     ]
    }
   ],
   "source": [
    "class Shouter:\n",
    "    def __init__(self, phrase):\n",
    "        if type(phrase) == str: # make sure phrase is a string\n",
    "            print(phrase.upper()) # then shout it out\n",
    "\n",
    "shout1 = Shouter(\"shout\")\n",
    "shout2 = Shouter(\"shout\")\n",
    "shout3 = Shouter(\"let it all out\")"
   ]
  },
  {
   "cell_type": "markdown",
   "metadata": {},
   "source": [
    "Above we’ve updated our `Shouter` class to take the additional parameter `phrase`. When we created each of our objects we passed an argument to the constructor. The constructor takes the argument `phrase` and, if it’s a string, prints out the all-caps version of `phrase`. \n",
    "\n",
    "<br/>Note that the `__init__()` method should either have no return statement at all (the most common and preferred usage) or it may have a return statement that returns the value `None`. If the method attempts to return a value other than `None`, Python will report the error `“TypeError: __init__() should return None”`. If the method needs to report an error condition, then an exception should be raised.\n",
    "\n",
    "<br/>*Exercise:*\n",
    "<br/>Add a constructor to our `Circle` class. Since we seem more frequently to know the diameter of a circle, it should take the argument `diameter`. Now have the constructor print out the message `\"New circle with diameter: {diameter}\"` when a new circle is created. Create a circle `teaching_table` with diameter `36`."
   ]
  },
  {
   "cell_type": "code",
   "execution_count": 103,
   "metadata": {},
   "outputs": [
    {
     "name": "stdout",
     "output_type": "stream",
     "text": [
      "New circle with diameter: 36\n"
     ]
    }
   ],
   "source": [
    "class Circle:\n",
    "    pi = 3.14\n",
    "    # Add constructor here:\n",
    "    def __init__(self, diameter):\n",
    "        print(f\"New circle with diameter: {diameter}\")\n",
    "    \n",
    "teaching_table = Circle(36)"
   ]
  },
  {
   "cell_type": "markdown",
   "metadata": {},
   "source": [
    "<img src=\"atom.png\" alt=\"Atom\" style=\"width:60px\" align=\"left\" vertical-align=\"middle\">\n",
    "\n",
    "## 9. Instance Variables\n",
    "*in Python 3*\n",
    "\n",
    "----\n",
    "We’ve learned so far that a class is a schematic for a data type and an object is an instance of a class, but why is there such a strong need to differentiate the two if each object can only have the methods and class variables the class has? This is because each instance of a class can hold different kinds of data.\n",
    "\n",
    "<br/>The data held by an object is referred to as an *instance variable*. Instance variables aren’t shared by all instances of a class — they are variables that are specific to the object they are attached to.\n",
    "\n",
    "<br/>Let’s say that we have the following class definition:"
   ]
  },
  {
   "cell_type": "code",
   "execution_count": 104,
   "metadata": {},
   "outputs": [],
   "source": [
    "class FakeDict:\n",
    "    pass"
   ]
  },
  {
   "cell_type": "markdown",
   "metadata": {},
   "source": [
    "We can instantiate two different objects from this class, `fake_dict1` and `fake_dict2`, and assign instance variables to these objects using the same attribute notation that was used for accessing class variables."
   ]
  },
  {
   "cell_type": "code",
   "execution_count": 105,
   "metadata": {},
   "outputs": [
    {
     "name": "stdout",
     "output_type": "stream",
     "text": [
      "This works! This too!\n"
     ]
    }
   ],
   "source": [
    "fake_dict1 = FakeDict()\n",
    "fake_dict2 = FakeDict()\n",
    "\n",
    "fake_dict1.fake_key = \"This works!\"\n",
    "fake_dict2.fake_key = \"This too!\"\n",
    "\n",
    "# Let's join the two strings together!\n",
    "working_string = f\"{fake_dict1.fake_key} {fake_dict2.fake_key}\"\n",
    "print(working_string)"
   ]
  },
  {
   "cell_type": "markdown",
   "metadata": {},
   "source": [
    "the instance variable can be referenced by a class method using self so long as it has been set before the call. If not, an `AttributeError` will be generated. As a general rule, it is best to initialize all of the instance variables in the `__init__()` function for consistency.\n",
    "\n",
    "<br/>*Exercise:*\n",
    "<br/>Create two objects from this `Store` class, named `alternative_rocks` and `isabelles_ices`. Give them both instance attributes called `store_name`. Set `alternative_rocks`‘s `store_name` to `\"Alternative Rocks\"`. Set `isabelles_ices`‘s `store_name` to `\"Isabelle's Ices\"`."
   ]
  },
  {
   "cell_type": "code",
   "execution_count": 106,
   "metadata": {},
   "outputs": [
    {
     "name": "stdout",
     "output_type": "stream",
     "text": [
      "Alternative Rocks\n",
      "Isabelle's Ices\n"
     ]
    }
   ],
   "source": [
    "class Store:\n",
    "    pass\n",
    "\n",
    "alternative_rocks = Store()\n",
    "isabelles_ices = Store()\n",
    "\n",
    "# Define instance variables\n",
    "alternative_rocks.store_name = \"Alternative Rocks\"\n",
    "isabelles_ices.store_name = \"Isabelle's Ices\"\n",
    "\n",
    "# Print the names\n",
    "print(alternative_rocks.store_name)\n",
    "print(isabelles_ices.store_name)"
   ]
  },
  {
   "cell_type": "markdown",
   "metadata": {},
   "source": [
    "<img src=\"atom.png\" alt=\"Atom\" style=\"width:60px\" align=\"left\" vertical-align=\"middle\">\n",
    "\n",
    "## 10. Attribute Functions\n",
    "*in Python 3*\n",
    "\n",
    "----\n",
    "**Instance variables** and **class variables** are both accessed similarly in Python. This is no mistake, they are both considered *attributes* of an object. If we attempt to access an attribute that is neither a **class variable** nor an **instance variable** of the object Python will throw an `AttributeError`.\n"
   ]
  },
  {
   "cell_type": "code",
   "execution_count": 107,
   "metadata": {},
   "outputs": [
    {
     "name": "stdout",
     "output_type": "stream",
     "text": [
      "You got an AttributeError! You attempted to access an attribute that does not exist!\n"
     ]
    }
   ],
   "source": [
    "class NoCustomAttributes:\n",
    "    pass\n",
    "\n",
    "attributeless = NoCustomAttributes()\n",
    "try:\n",
    "    attributeless.fake_attribute\n",
    "except AttributeError:\n",
    "    print(\"You got an AttributeError! You attempted to access an attribute that does not exist!\")"
   ]
  },
  {
   "cell_type": "markdown",
   "metadata": {},
   "source": [
    "What if we aren’t sure if an object has an attribute or not? `hasattr()` will return `True` if an object has a given attribute and `False` otherwise. If we want to get the actual value of the attribute, `getattr()` is a Python function that will return the value of a given object and attribute. In this function, we can also supply a third argument that will be the default if the object does not have the given attribute. The syntax and parameters for these functions look like this:\n",
    "\n",
    "<br/>`hasattr(object, “attribute”)` has two parameters:\n",
    "- *object* : the object we are testing to see if it has a certain attribute\n",
    "- *attribute* : name of attribute we want to see if it exists\n",
    "\n",
    "<br/>`getattr(object, “attribute”, default)` has three parameters (one of which is optional):\n",
    "- *object* : the object whose attribute we want to evaluate\n",
    "- *attribute* : name of attribute we want to evaluate\n",
    "- *default* : the value that is returned if the attribute does not exist (note: this parameter is **optional**)\n",
    "\n",
    "<br/>Calling those functions looks like this:"
   ]
  },
  {
   "cell_type": "code",
   "execution_count": 108,
   "metadata": {},
   "outputs": [
    {
     "name": "stdout",
     "output_type": "stream",
     "text": [
      "False\n",
      "800\n"
     ]
    }
   ],
   "source": [
    "print(hasattr(attributeless, \"fake_attribute\"))\n",
    "print(getattr(attributeless, \"other_fake_attribute\", 800))"
   ]
  },
  {
   "cell_type": "markdown",
   "metadata": {},
   "source": [
    "Above we checked if the `attributeless` object has the attribute `fake_attribute`. Since it does not, `hasattr()` returned `False`. After that, we used `getattr` to attempt to retrieve `other_fake_attribute`. Since `other_fake_attribute` isn’t a real attribute on `attributeless`, our call to `getattr()` returned the supplied default value `800`, instead of throwing an `AttributeError`. \n",
    "\n",
    "<br/>*Exercise:*\n",
    "<br/>Below we have a list of different data types: a dictionary, a string, an integer, and a list all saved in the variable `can_we_count_it`. For every element in the list, check if the element has the attribute `count` using the `hasattr()` function. If so, print the following line of code: `print(str(type(element)) + \" has the count attribute!\")`. Also add an `else` statement for the elements that do not have the attribute `count`. In this `else` statement add the following line of code: `print(str(type(element)) + \" does not have the count attribute :(\")`"
   ]
  },
  {
   "cell_type": "code",
   "execution_count": 4,
   "metadata": {},
   "outputs": [
    {
     "name": "stdout",
     "output_type": "stream",
     "text": [
      "<class 'dict'> does not have the count attribute :(\n",
      "<class 'str'> has the count attribute! There are 5 's' characters in the element!\n",
      "<class 'int'> does not have the count attribute :(\n",
      "<class 'list'> has the count attribute! There are 2 's' characters in the element!\n"
     ]
    }
   ],
   "source": [
    "can_we_count_it = [{'s': False}, \"sassafrass\", 18, [\"a\", \"c\", \"s\", \"d\", \"s\"]]\n",
    "\n",
    "for element in can_we_count_it:\n",
    "    if hasattr(element, \"count\"):\n",
    "        print(f\"{type(element)} has the count attribute! There are {element.count('s')} 's' characters in the element!\")\n",
    "    else: \n",
    "        print(f\"{(type(element))} does not have the count attribute :(\")"
   ]
  },
  {
   "cell_type": "markdown",
   "metadata": {},
   "source": [
    "**Note:**\n",
    "<br/>Dictionaries and integers both do not have a `count` attribute, while strings and lists do. In this exercise, we have iterated through `can_we_count_it` and used `hasattr()` to determine which elements have a `count` attribute."
   ]
  },
  {
   "cell_type": "markdown",
   "metadata": {},
   "source": [
    "<img src=\"atom.png\" alt=\"Atom\" style=\"width:60px\" align=\"left\" vertical-align=\"middle\">\n",
    "\n",
    "## 11. Self\n",
    "*in Python 3*\n",
    "\n",
    "----\n",
    "Since we can already use dictionaries to store key-value pairs, using objects for that purpose is not really useful. Instance variables are more powerful when you can guarantee a rigidity to the data the object is holding.\n",
    "\n",
    "<br/>This convenience is most apparent when the constructor creates the instance variables, using the arguments passed in to it. If we were creating a search engine, and we wanted to create classes for each separate entry we could return. We’d do that like this:"
   ]
  },
  {
   "cell_type": "code",
   "execution_count": 110,
   "metadata": {},
   "outputs": [
    {
     "name": "stdout",
     "output_type": "stream",
     "text": [
      "www.codecademy.com\n",
      "www.wikipedia.org\n"
     ]
    }
   ],
   "source": [
    "class SearchEngineEntry:\n",
    "    def __init__(self, url):\n",
    "        self.url = url\n",
    "\n",
    "codecademy = SearchEngineEntry(\"www.codecademy.com\")\n",
    "wikipedia = SearchEngineEntry(\"www.wikipedia.org\")\n",
    "\n",
    "print(codecademy.url)\n",
    "print(wikipedia.url)"
   ]
  },
  {
   "cell_type": "markdown",
   "metadata": {},
   "source": [
    "Since the `self` keyword refers to the object and not the class being called, we can define a `secure` method on the `SearchEngineEntry` class that returns the secure link to an entry."
   ]
  },
  {
   "cell_type": "code",
   "execution_count": 111,
   "metadata": {},
   "outputs": [
    {
     "name": "stdout",
     "output_type": "stream",
     "text": [
      "https://www.codecademy.com\n",
      "https://www.wikipedia.org\n"
     ]
    }
   ],
   "source": [
    "class SearchEngineEntry:\n",
    "    secure_prefix = \"https://\"\n",
    "    def __init__(self, url):\n",
    "        self.url = url\n",
    "\n",
    "    def secure(self):\n",
    "        return f\"{self.secure_prefix}{self.url}\"\n",
    "\n",
    "codecademy = SearchEngineEntry(\"www.codecademy.com\")\n",
    "wikipedia = SearchEngineEntry(\"www.wikipedia.org\")\n",
    "print(codecademy.secure())\n",
    "print(wikipedia.secure())"
   ]
  },
  {
   "cell_type": "markdown",
   "metadata": {},
   "source": [
    "Above we define our `secure()` method to take just the one required argument, `self`. We access both the class variable `self.secure_prefix` and the instance variable `self.url` to return a secure URL.\n",
    "\n",
    "<br/>This is the strength of writing object-oriented programs. We can write our classes to structure the data that we need and write methods that will interact with that data in a meaningful way.\n",
    "\n",
    "<br/>*Exercise:*\n",
    "<br/>A. Below is the `Circle` class. Even though we usually know the `diameter` beforehand, what we need for most calculations is the `radius`. In `Circle`‘s constructor set the instance variable `self.radius` to equal half the `diameter` that gets passed in. Then define three `Circle`s with three different diameters:\n",
    "- A medium pizza, `medium_pizza`, that is 12 inches across.\n",
    "- Your teaching table, `teaching_table`, which is 36 inches across.\n",
    "- The Round Room auditorium, `round_room`, which is 11,460 inches across.\n",
    "\n",
    "<br/>B. Define a new method `circumference` for your circle object that takes only one argument, `self`, and returns the circumference of a circle with the given radius by this formula: `circumference = 2 * pi * radius`"
   ]
  },
  {
   "cell_type": "code",
   "execution_count": 5,
   "metadata": {},
   "outputs": [
    {
     "name": "stdout",
     "output_type": "stream",
     "text": [
      "Creating circle with diameter 12\n",
      "Creating circle with diameter 36\n",
      "Creating circle with diameter 11460\n"
     ]
    }
   ],
   "source": [
    "class Circle:\n",
    "    pi = 3.14\n",
    "    random_variable = 0\n",
    "    def __init__(self, diameter):\n",
    "        self.radius = diameter/2\n",
    "        print(f\"Creating circle with diameter {diameter}\")\n",
    "        \n",
    "    def circumference(self):\n",
    "        circumference = 2 * self.pi * self.radius\n",
    "        return circumference\n",
    "\n",
    "# Instantiating the 'Circle' class\n",
    "medium_pizza = Circle(12)\n",
    "teaching_table = Circle(36)\n",
    "round_room = Circle(11460)"
   ]
  },
  {
   "cell_type": "markdown",
   "metadata": {},
   "source": [
    "<br/>C. Now test the `circumference` method:"
   ]
  },
  {
   "cell_type": "code",
   "execution_count": 7,
   "metadata": {},
   "outputs": [
    {
     "name": "stdout",
     "output_type": "stream",
     "text": [
      "37.68\n",
      "113.04\n",
      "35984.4\n"
     ]
    }
   ],
   "source": [
    "print(medium_pizza.circumference())\n",
    "print(teaching_table.circumference())\n",
    "print(round_room.circumference())"
   ]
  },
  {
   "cell_type": "markdown",
   "metadata": {},
   "source": [
    "**Note:**\n",
    "<br/>All instances inherit the same class variables but any one instance can assign a new value to the variable since it is accessed the same way:"
   ]
  },
  {
   "cell_type": "code",
   "execution_count": 113,
   "metadata": {},
   "outputs": [
    {
     "name": "stdout",
     "output_type": "stream",
     "text": [
      "12\n",
      "0\n",
      "0\n"
     ]
    }
   ],
   "source": [
    "medium_pizza.random_variable = 12 # Now that instance has its own unique value for the random_variable, making it essentially an instance variable as demonstrated below:\n",
    "\n",
    "print(medium_pizza.random_variable)\n",
    "print(teaching_table.random_variable)\n",
    "print(round_room.random_variable)"
   ]
  },
  {
   "cell_type": "markdown",
   "metadata": {},
   "source": [
    "<img src=\"atom.png\" alt=\"Atom\" style=\"width:60px\" align=\"left\" vertical-align=\"middle\">\n",
    "\n",
    "## 12. Everything is an Object\n",
    "*in Python 3*\n",
    "\n",
    "----\n",
    "Attributes can be added to user-defined objects after instantiation, so it’s possible for an object to have some attributes that are not explicitly defined in an object’s constructor. We can use the `dir()` function to investigate an object’s attributes at runtime. `dir()` is short for *directory* and offers an organized presentation of object attributes."
   ]
  },
  {
   "cell_type": "code",
   "execution_count": 114,
   "metadata": {},
   "outputs": [
    {
     "name": "stdout",
     "output_type": "stream",
     "text": [
      "['__class__', '__delattr__', '__dict__', '__dir__', '__doc__', '__eq__', '__format__', '__ge__', '__getattribute__', '__gt__', '__hash__', '__init__', '__init_subclass__', '__le__', '__lt__', '__module__', '__ne__', '__new__', '__reduce__', '__reduce_ex__', '__repr__', '__setattr__', '__sizeof__', '__str__', '__subclasshook__', '__weakref__', 'attribute']\n"
     ]
    }
   ],
   "source": [
    "class FakeDict:\n",
    "    pass\n",
    "\n",
    "fake_dict = FakeDict()\n",
    "fake_dict.attribute = \"Cool\"\n",
    "\n",
    "print(dir(fake_dict))"
   ]
  },
  {
   "cell_type": "markdown",
   "metadata": {},
   "source": [
    "That’s certainly a lot more attributes than we defined! Python automatically adds a number of attributes to all objects that get created. These internal attributes are usually indicated by double-underscores. But sure enough, `attribute` is in that list.\n",
    "\n",
    "<br/>Do you remember being able to use `type()` on Python’s native data types? This is because they are also objects in Python. Their classes are `int`, `float`, `str`, `list`, and `dict`. These Python classes have special syntax for their instantiation, `1`, `1.0`, `\"hello\"`, `[]`, and `{}` specifically. But these instances are still full-blown objects to Python."
   ]
  },
  {
   "cell_type": "code",
   "execution_count": 115,
   "metadata": {},
   "outputs": [
    {
     "name": "stdout",
     "output_type": "stream",
     "text": [
      "<class 'list'>\n",
      "['__add__', '__class__', '__contains__', '__delattr__', '__delitem__', '__dir__', '__doc__', '__eq__', '__format__', '__ge__', '__getattribute__', '__getitem__', '__gt__', '__hash__', '__iadd__', '__imul__', '__init__', '__init_subclass__', '__iter__', '__le__', '__len__', '__lt__', '__mul__', '__ne__', '__new__', '__reduce__', '__reduce_ex__', '__repr__', '__reversed__', '__rmul__', '__setattr__', '__setitem__', '__sizeof__', '__str__', '__subclasshook__', 'append', 'clear', 'copy', 'count', 'extend', 'index', 'insert', 'pop', 'remove', 'reverse', 'sort']\n"
     ]
    }
   ],
   "source": [
    "fun_list = [10, \"string\", {'abc': True}]\n",
    "print(type(fun_list))\n",
    "print(dir(fun_list))"
   ]
  },
  {
   "cell_type": "markdown",
   "metadata": {},
   "source": [
    "Above we define a new list. We check it’s type and see that’s an instantiation of class `list`. We use `dir()` to explore its attributes, and it gives us a large number of internal Python dunder attributes, but, afterward, we get the usual list methods.\n",
    "\n",
    "<br/>*Exercise:*\n",
    "<br/>A. Call `dir()` on the number `5`. Print out the results."
   ]
  },
  {
   "cell_type": "code",
   "execution_count": 1,
   "metadata": {},
   "outputs": [
    {
     "name": "stdout",
     "output_type": "stream",
     "text": [
      "['__abs__', '__add__', '__and__', '__bool__', '__ceil__', '__class__', '__delattr__', '__dir__', '__divmod__', '__doc__', '__eq__', '__float__', '__floor__', '__floordiv__', '__format__', '__ge__', '__getattribute__', '__getnewargs__', '__gt__', '__hash__', '__index__', '__init__', '__init_subclass__', '__int__', '__invert__', '__le__', '__lshift__', '__lt__', '__mod__', '__mul__', '__ne__', '__neg__', '__new__', '__or__', '__pos__', '__pow__', '__radd__', '__rand__', '__rdivmod__', '__reduce__', '__reduce_ex__', '__repr__', '__rfloordiv__', '__rlshift__', '__rmod__', '__rmul__', '__ror__', '__round__', '__rpow__', '__rrshift__', '__rshift__', '__rsub__', '__rtruediv__', '__rxor__', '__setattr__', '__sizeof__', '__str__', '__sub__', '__subclasshook__', '__truediv__', '__trunc__', '__xor__', 'as_integer_ratio', 'bit_length', 'conjugate', 'denominator', 'from_bytes', 'imag', 'numerator', 'real', 'to_bytes']\n"
     ]
    }
   ],
   "source": [
    "print(dir(5))"
   ]
  },
  {
   "cell_type": "markdown",
   "metadata": {},
   "source": [
    "<br/>B. Define a function called `this_function_is_an_object`. It can take any parameters and return anything you’d like. Print out the result of calling `dir()` on `this_function_is_an_object`. Functions are objects too!"
   ]
  },
  {
   "cell_type": "code",
   "execution_count": 2,
   "metadata": {},
   "outputs": [
    {
     "name": "stdout",
     "output_type": "stream",
     "text": [
      "['__annotations__', '__call__', '__class__', '__closure__', '__code__', '__defaults__', '__delattr__', '__dict__', '__dir__', '__doc__', '__eq__', '__format__', '__ge__', '__get__', '__getattribute__', '__globals__', '__gt__', '__hash__', '__init__', '__init_subclass__', '__kwdefaults__', '__le__', '__lt__', '__module__', '__name__', '__ne__', '__new__', '__qualname__', '__reduce__', '__reduce_ex__', '__repr__', '__setattr__', '__sizeof__', '__str__', '__subclasshook__']\n"
     ]
    }
   ],
   "source": [
    "def this_function_is_an_object(random_variable):\n",
    "    return random_variable + 5\n",
    "print(dir(this_function_is_an_object))"
   ]
  },
  {
   "cell_type": "markdown",
   "metadata": {},
   "source": [
    "<br/>C. You can use `dir()` to examine a class in addition to calling it on an object of a class. In the following code example, you can see that the `dir()` call on the object of class `Examine` shows the instance variable created in the object while the call for the class does not."
   ]
  },
  {
   "cell_type": "code",
   "execution_count": 6,
   "metadata": {},
   "outputs": [
    {
     "name": "stdout",
     "output_type": "stream",
     "text": [
      "['__class__', '__delattr__', '__dict__', '__dir__', '__doc__', '__eq__', '__format__', '__ge__', '__getattribute__', '__gt__', '__hash__', '__init__', '__init_subclass__', '__le__', '__lt__', '__module__', '__ne__', '__new__', '__reduce__', '__reduce_ex__', '__repr__', '__setattr__', '__sizeof__', '__str__', '__subclasshook__', '__weakref__', 'class_var']\n",
      "['__class__', '__delattr__', '__dict__', '__dir__', '__doc__', '__eq__', '__format__', '__ge__', '__getattribute__', '__gt__', '__hash__', '__init__', '__init_subclass__', '__le__', '__lt__', '__module__', '__ne__', '__new__', '__reduce__', '__reduce_ex__', '__repr__', '__setattr__', '__sizeof__', '__str__', '__subclasshook__', '__weakref__', 'class_var', 'inst_var']\n"
     ]
    }
   ],
   "source": [
    "class Examine:\n",
    "    class_var = \"This is a class variable\"\n",
    "    def __init__(self):\n",
    "        self.inst_var = \"This is an instance variable\"\n",
    "\n",
    "# Instantiate the CLASS & print its directory\n",
    "myobj = Examine()\n",
    "print(dir(Examine))\n",
    "\n",
    "# Now print the directory of the OBJECT and compare\n",
    "print(dir(myobj))"
   ]
  },
  {
   "cell_type": "markdown",
   "metadata": {},
   "source": [
    "<img src=\"atom.png\" alt=\"Atom\" style=\"width:60px\" align=\"left\" vertical-align=\"middle\">\n",
    "\n",
    "## 13. String Representation\n",
    "*in Python 3*\n",
    "\n",
    "----\n",
    "One of the first things we learn as programmers is how to print out information that we need for debugging. Unfortunately, when we print out an object we get a default representation that seems fairly useless."
   ]
  },
  {
   "cell_type": "code",
   "execution_count": 117,
   "metadata": {},
   "outputs": [
    {
     "name": "stdout",
     "output_type": "stream",
     "text": [
      "<__main__.Employee object at 0x104a94bd0>\n"
     ]
    }
   ],
   "source": [
    "class Employee():\n",
    "    def __init__(self, name):\n",
    "        self.name = name\n",
    "\n",
    "argus = Employee(\"Argus Filch\")\n",
    "print(argus)"
   ]
  },
  {
   "cell_type": "markdown",
   "metadata": {},
   "source": [
    "This default string representation gives us some information, like where the class is defined and our computer’s memory address where this object is stored, but is usually not useful information to have when we are trying to debug our code.\n",
    "\n",
    "<br/>We learned about the dunder method `__init__`. Now, we will learn another dunder method called `__repr__`. This is a method we can use to tell Python what we want the *string representation* of the class to be. `__repr__` can only have one parameter, `self`, and must return a string.\n",
    "\n",
    "<br/>In our `Employee` class above, we have an instance variable called `name` that should be unique enough to be useful when we’re printing out an instance of the `Employee` class."
   ]
  },
  {
   "cell_type": "code",
   "execution_count": 118,
   "metadata": {},
   "outputs": [
    {
     "name": "stdout",
     "output_type": "stream",
     "text": [
      "Argus Filch\n"
     ]
    }
   ],
   "source": [
    "class Employee():\n",
    "    def __init__(self, name):\n",
    "        self.name = name\n",
    "    def __repr__(self):\n",
    "        return self.name\n",
    "\n",
    "argus = Employee(\"Argus Filch\")\n",
    "print(argus)"
   ]
  },
  {
   "cell_type": "markdown",
   "metadata": {},
   "source": [
    "We implemented the `__repr__` method and had it return the `.name` attribute of the object. When we printed the object out it simply printed the `.name` of the object! Cool!\n",
    "\n",
    "<br/>*Exercise:*\n",
    "<br/>Add a `__repr__()` method to the Circle class that returns: `Circle with radius {radius}` then print out `medium_pizza`, `teaching_table`, and `round_room`."
   ]
  },
  {
   "cell_type": "code",
   "execution_count": 120,
   "metadata": {},
   "outputs": [
    {
     "name": "stdout",
     "output_type": "stream",
     "text": [
      "Circle with radius 6.0\n",
      "Circle with radius 18.0\n",
      "Circle with radius 5730.0\n"
     ]
    }
   ],
   "source": [
    "class Circle:\n",
    "    pi = 3.14\n",
    "    def __init__(self, diameter):\n",
    "        self.radius = diameter / 2\n",
    "    def __repr__(self):\n",
    "        return f\"Circle with radius {self.radius}\"\n",
    "    def area(self):\n",
    "        return self.pi * self.radius ** 2\n",
    "    def circumference(self):\n",
    "        return self.pi * 2 * self.radius\n",
    "\n",
    "medium_pizza = Circle(12)\n",
    "teaching_table = Circle(36)\n",
    "round_room = Circle(11460)\n",
    "\n",
    "print(medium_pizza)\n",
    "print(teaching_table)\n",
    "print(round_room)"
   ]
  },
  {
   "cell_type": "markdown",
   "metadata": {},
   "source": [
    "**Note:**\n",
    "<br/>While you are allowed to include or exclude any information from the object that you want, the Python documentation recommends that the implementation for `__repr__()` should contain as much information as possible and if, at all possible, it should contain whatever is necessary to recreate the object. The `__str__()` method also returns a string representing the object but it can be used for a more informal representation of the object."
   ]
  },
  {
   "cell_type": "markdown",
   "metadata": {},
   "source": [
    "<img src=\"atom.png\" alt=\"Atom\" style=\"width:60px\" align=\"left\" vertical-align=\"middle\">\n",
    "\n",
    "## 14. Review\n",
    "*Python 3*\n",
    "\n",
    "----\n",
    "So far we’ve covered what a data type actually is in Python. \n",
    "1. We explored what the functionality of Python’s built-in types (also referred to as *primitives*) are. \n",
    "2. Learned how to create our own data types using the `class` keyword.\n",
    "3. Explored the relationship between a class and an object — we create objects when we instantiate a class, we find the class when we check the `type()` of an object. \n",
    "4. Learned the difference between class variables (the same for all objects of a class) and instance variables (unique for each object).\n",
    "5. Learned about how to define an object’s functionality with methods. \n",
    "6. Created multiple objects from the same class, all with similar functionality, but with different internal data. They all had the same methods, but produced different output because they were different instances.\n",
    "\n",
    "<br/>Take a moment to congratulate yourself, object-oriented programming is a complicated concept.\n",
    "\n",
    "<br/>*Exercise:*\n",
    "<br/>A. Define a class `Student` this will be our data model at *Jan van Eyck High School and Conservatory*. \n",
    "- Add a constructor for `Student`. \n",
    "- Have the constructor take in two parameters: a `name` and a `year`. Save those two as attributes `.name` and `.year`.\n",
    "- In the body of the constructor for `Student`, declare `self.grades` as an empty list.\n",
    "- Add an `.add_grade()` method to `Student` that takes a parameter, `grade`. `.add_grade()` should verify that grade is of type `Grade` and if so, add it to the Student‘s `.grades`. If `grade` isn’t an instance of `Grade` then `.add_grade()` should do nothing.\n",
    "- Write a `Student` method `get_average()` that returns the student’s average score.\n",
    "- Add an instance variable to `Student` that is a dictionary called `.attendance`, with dates as keys and booleans as values that indicate whether the student attended school that day."
   ]
  },
  {
   "cell_type": "code",
   "execution_count": 1,
   "metadata": {},
   "outputs": [],
   "source": [
    "class Student:\n",
    "    attendance = {\"date\":False}\n",
    "    def __init__(self, name, year):\n",
    "        self.name = name\n",
    "        self.year = year\n",
    "        self.grades = []\n",
    "    def add_grade(self, grade):\n",
    "        if type(grade) is Grade: self.grades.append(grade.score)\n",
    "    def get_average(self):\n",
    "        return sum(self.grades)/len(self.grades)"
   ]
  },
  {
   "cell_type": "markdown",
   "metadata": {},
   "source": [
    "<br/>B. Create a `Grade` class, with minimum_passing as an attribute set to `65`.\n",
    "- Give `Grade` a constructor. Take in a parameter score and assign it to `self.score`.\n",
    "- Write a `Grade` method `.is_passing()` that returns whether a `Grade` has a passing `.score`."
   ]
  },
  {
   "cell_type": "code",
   "execution_count": 17,
   "metadata": {},
   "outputs": [],
   "source": [
    "class Grade:\n",
    "    minimum_passing = 65\n",
    "    def __init__(self, score):\n",
    "        self.score = score\n",
    "    def __repr__(self):\n",
    "        return str(self.score)\n",
    "    def is_passing(self):\n",
    "        if self.score >= self.minimum_passing: return True\n",
    "        else: return False"
   ]
  },
  {
   "cell_type": "markdown",
   "metadata": {},
   "source": [
    "<br/>C. Create three instances of the `Student` class: Roger van der Weyden, year 10; Sandro Botticelli, year 12; Pieter Bruegel the Elder, year 8. Save them into the variables `roger`, `sandro`, and `pieter`."
   ]
  },
  {
   "cell_type": "code",
   "execution_count": 18,
   "metadata": {},
   "outputs": [],
   "source": [
    "# Instantiate the 'Student' class\n",
    "roger = Student(\"Roger van der Weyden\", 10)\n",
    "sandro = Student(\"Sandro Botticelli\", 12)\n",
    "pieter = Student(\"Pieter Bruegel the Elder\", 8)"
   ]
  },
  {
   "cell_type": "markdown",
   "metadata": {},
   "source": [
    "<br/>D. Create new `Grade`s with scores of `100`, `65` and `82` and add them to pieter‘s `.grades` attribute using `.add_grade()`."
   ]
  },
  {
   "cell_type": "code",
   "execution_count": 21,
   "metadata": {},
   "outputs": [],
   "source": [
    "pieter.add_grade(Grade(100))\n",
    "pieter.add_grade(Grade(65))\n",
    "pieter.add_grade(Grade(82))"
   ]
  },
  {
   "cell_type": "markdown",
   "metadata": {},
   "source": [
    "<br/>E. Great job! You’ve created two classes and defined their interactions. This is object-oriented programming! Now calculate his average grade using the `.get_average()` method."
   ]
  },
  {
   "cell_type": "code",
   "execution_count": 22,
   "metadata": {},
   "outputs": [
    {
     "name": "stdout",
     "output_type": "stream",
     "text": [
      "86.75\n"
     ]
    }
   ],
   "source": [
    "print(pieter.get_average())"
   ]
  }
 ],
 "metadata": {
  "kernelspec": {
   "display_name": "Python 3",
   "language": "python",
   "name": "python3"
  },
  "language_info": {
   "codemirror_mode": {
    "name": "ipython",
    "version": 3
   },
   "file_extension": ".py",
   "mimetype": "text/x-python",
   "name": "python",
   "nbconvert_exporter": "python",
   "pygments_lexer": "ipython3",
   "version": "3.8.4"
  }
 },
 "nbformat": 4,
 "nbformat_minor": 2
}
