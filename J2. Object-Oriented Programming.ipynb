{
 "cells": [
  {
   "cell_type": "markdown",
   "metadata": {},
   "source": [
    "<img src=\"atom.png\" alt=\"Atom\" style=\"width:60px\" align=\"left\" vertical-align=\"middle\">\n",
    "\n",
    "## 1. Why Object-Oriented Programming?\n",
    "*in Python 3*\n",
    "\n",
    "----\n",
    "As computers became more powerful and code became more complex, *programming paradigms* evolved. A programming paradigm is a specific style of organizing programs with the goal with organizing code for ease of use, decreasing bugs and better maintainability.\n",
    "\n",
    "<br/>All programs are composed of *data* and *behaviour*. \n",
    "\n",
    "<br/>One of the more popular paradigms is *object-oriented programming (OOP)*. The two other paradigms: *procedural programming* and *functional programming*. \n",
    "\n",
    "<br/>**Procedural programming:**\n",
    "- In procedural programming the data and behaviour are written sequentially\n",
    "- Order matters\n",
    "- Data is mutated directly as the program carries out its behavior\n",
    "\n",
    "<br/>**Functional programming:**\n",
    "- Data and behaviour are kept separate\n",
    "- Behaviour is abstracted into a pure function which takes data and processes it into an output\n",
    "- Data is never mutated directly\n",
    "\n",
    "<br/>**Object-oriented programming:**\n",
    "- The data and behaviour are grouped together in special objects into an easy-to-use container\n",
    "- Data and functions (behavior) are grouped into objects "
   ]
  },
  {
   "cell_type": "markdown",
   "metadata": {},
   "source": [
    "<img src=\"atom.png\" alt=\"Atom\" style=\"width:60px\" align=\"left\" vertical-align=\"middle\">\n",
    "\n",
    "## 2. The 4 Pillars of Object-Oriented Programming\n",
    "*in Python 3*\n",
    "\n",
    "----\n",
    "<br/>**1. Encapsulation**\n",
    "- Encapsulation refers to the bundling of data, along with the methods that operate on that data, into a single unit\n",
    "- Limits data scope and prevents code outside the object from modifying it in undesirable ways\n",
    "- Many programming languages use encapsulation frequently in the form of *classes*\n",
    "\n",
    "<br/>**2. Abstraction**\n",
    "- Abstraction is the concept of object-oriented programming that \"shows\" only essential attributes and \"hides\" unnecessary information\n",
    "- The main purpose of abstraction is hiding the unnecessary details from the users\n",
    "- Abstracting away the complex logic of code makes life easier for the user\n",
    "\n",
    "<br/>**3. Inheritance**\n",
    "-  Inheritance is the mechanism of basing an object or class upon another object (prototype-based inheritance) or class (class-based inheritance), retaining similar implementation.\n",
    "- It allows the *inheritance* of all the attributes and functionality of another object or class\n",
    "- This allows sharing of code between multiple classes and reduces the amount of code that needs to be written overall\n",
    "- Works best when a class or object is a more specific version of another\n",
    "\n",
    "<br/>**4. Polymorphism**\n",
    "- Polymorphism describes the concept that objects of different types can be accessed through the same interface\n",
    "- Any code that is designed to work with one form of the polymorphic object can also work with other forms of the same object\n",
    "- This allows the use of polymorphic objects interchangeably "
   ]
  },
  {
   "cell_type": "markdown",
   "metadata": {},
   "source": [
    "<img src=\"atom.png\" alt=\"Atom\" style=\"width:60px\" align=\"left\" vertical-align=\"middle\">\n",
    "\n",
    "## 3. Introduction to Object-Oriented Programming\n",
    "*in Python 3*\n",
    "\n",
    "----\n",
    "In programming, most languages offer various features that give us different ways to tackle technical problems. With so many different languages out there, with their own unique set of features, it became necessary to create a classification system to help distinguish those sets of features. This ultimately led to the creation of the term *programming paradigm* - a way to classify different programming languages and the unique features that they offered.\n",
    "\n",
    "<br/>As we explore Python deeper, our code might fall into multiple paradigm categories at once. This is because most modern-day languages offer more than one specific paradigm we can program in. While we could spend all day exploring all the paradigms Python offers, we'll instead dive into one of the most popular paradigms, and one we have already been using (maybe unknowingly), called *Object-Oriented Programming (OOP)*.\n",
    "\n",
    "<br/>At the forefront of any language classified as an OOP language, there must exist the ability to create programs around classes and objects. We have already started working with these concepts earlier as we built our own custom classes, class methods, and instance objects. To recap, let’s take a look at an example:"
   ]
  },
  {
   "cell_type": "code",
   "execution_count": 19,
   "metadata": {},
   "outputs": [],
   "source": [
    "class Dog:\n",
    "    sound = \"Woof\"\n",
    "\n",
    "    def __init__(self, name, age):\n",
    "        self.name = name\n",
    "        self.age = age\n",
    "\n",
    "    def bark(self):\n",
    "        print(Dog.sound)"
   ]
  },
  {
   "cell_type": "markdown",
   "metadata": {},
   "source": [
    "In the above example, we are representing a real-world entity (a dog) as a class with properties (name and age) and methods (bark). These features make up the core of the OOP paradigm and ultimately allow us to build more intricate programs. This however only scratches the surface of what we can accomplish. To explore the paradigm further, we will examine the four core pillars of OOP:\n",
    "1. Inheritance\n",
    "2. Polymorphism\n",
    "3. Abstraction\n",
    "4. Encapsulation\n",
    "\n",
    "<br/>Each of these pillars will allow us to expand our skills so that we can take full advantage of the power of object-oriented programming in Python! We will begin exploring these pillars in later exercises but for now, let’s refresh ourselves on OOP fundamentals.\n",
    "\n",
    "<br/>*Exercise:*\n",
    "<br/>A. To start our exploration into OOP, create a class that will represent an employee of a company.\n",
    "- Define the `Employee` class with an `__init__()` method\n",
    "- Define a class variable `new_id` and set it equal to `1`\n",
    "\n",
    "<br/>B. Each `Employee` instance will need its own unique ID. Inside the `Employee` class:\n",
    "- Define an` __init__()` method\n",
    "- Inside `__init__()`, define `self.id` and set it equal to the class variable `new_id`\n",
    "- Lastly, increment `new_id` by `1`\n",
    "\n",
    "<br/>C. Now create a function to output the instance id. Inside the `Employee` class:\n",
    "- Define a `say_id()` method\n",
    "- Inside `say_id()`, output the string `\"My id is \"` and then the instance id."
   ]
  },
  {
   "cell_type": "code",
   "execution_count": 20,
   "metadata": {},
   "outputs": [],
   "source": [
    "class Employee:\n",
    "    new_id  = 1\n",
    "    def __init__(self):\n",
    "        self.id = Employee.new_id\n",
    "        Employee.new_id += 1\n",
    "\n",
    "    def say_id(self):\n",
    "        print(f\"My id is {self.id}\")"
   ]
  },
  {
   "cell_type": "markdown",
   "metadata": {},
   "source": [
    "<br/>D. Lastly, create 2 employees and have them give their ids. Outside of the `Employee` class:\n",
    "- Define the variable `e1` and set it to an instance of `Employee`\n",
    "- Define the variable `e2` and set it to an instance of `Employee`\n",
    "- Have both `e1` and `e2` output their ids"
   ]
  },
  {
   "cell_type": "code",
   "execution_count": 21,
   "metadata": {},
   "outputs": [
    {
     "name": "stdout",
     "output_type": "stream",
     "text": [
      "My id is 1\n",
      "My id is 2\n"
     ]
    }
   ],
   "source": [
    "e1 = Employee()\n",
    "e2 = Employee()\n",
    "e1.say_id()\n",
    "e2.say_id()"
   ]
  },
  {
   "cell_type": "markdown",
   "metadata": {},
   "source": [
    "<img src=\"atom.png\" alt=\"Atom\" style=\"width:60px\" align=\"left\" vertical-align=\"middle\">\n",
    "\n",
    "## 4. OOP Pillar: Inheritance\n",
    "*in Python 3*\n",
    "\n",
    "----\n",
    "When we hear the word “inheritance”, code may not be the first thing that springs to mind; we’re probably more likely to think of inheriting genetic traits, like the eye color from a mother or dimples from a grandfather. In the world of Object-Oriented Programming, inheritance is actually one of the core pillars for creating intricate structures with our classes. To dive into this concept, let’s examine a `Dog` and `Cat` class:"
   ]
  },
  {
   "cell_type": "code",
   "execution_count": 22,
   "metadata": {},
   "outputs": [],
   "source": [
    "class Dog:\n",
    "    def bark(self):\n",
    "        print('Woof!')\n",
    " \n",
    "class Cat:\n",
    "    def meow(self):\n",
    "        print('Meow!')"
   ]
  },
  {
   "cell_type": "markdown",
   "metadata": {},
   "source": [
    "These two classes define two distinct animals with their own methods of communication. Now, what if we wanted to give both of these classes the ability to eat by calling a method called `eat()`. We could write the method twice in both classes but then we would be repeating code! We also may need to write it inside every specific animal class we ever create. Instead, we can utilize the power of inheritance.\n",
    "\n",
    "<br/>Since both `Cat` and `Dog` fall under the classification of `Animal` we can create a parent class to represent properties and methods they can both share! Here is what it might look like:"
   ]
  },
  {
   "cell_type": "code",
   "execution_count": 23,
   "metadata": {},
   "outputs": [],
   "source": [
    "class Animal: \n",
    "    def eat(self): \n",
    "        print(\"Nom Nom Nom...eating food!\")"
   ]
  },
  {
   "cell_type": "markdown",
   "metadata": {},
   "source": [
    "Great, we have an `Animal` class with a `eat()` method, but how do we actually get the `Dog` and `Cat` class to inherit this method so it can be shared with both classes? Well here is what the base structure will look like:"
   ]
  },
  {
   "cell_type": "code",
   "execution_count": 24,
   "metadata": {},
   "outputs": [],
   "source": [
    "class ParentClass:\n",
    "    #class methods/properties...\n",
    "    pass\n",
    "\n",
    "class ChildClass(ParentClass):\n",
    "    #class methods/properties...\n",
    "    pass"
   ]
  },
  {
   "cell_type": "markdown",
   "metadata": {},
   "source": [
    "If we apply this structure to our example, our code looks like this:"
   ]
  },
  {
   "cell_type": "code",
   "execution_count": 25,
   "metadata": {},
   "outputs": [],
   "source": [
    "class Dog(Animal):\n",
    "    def bark(self):\n",
    "        print('Bark!')\n",
    "\n",
    "class Cat(Animal):\n",
    "    def meow(self):\n",
    "        print('Meow!')"
   ]
  },
  {
   "cell_type": "markdown",
   "metadata": {},
   "source": [
    "Now, let’s see inheritance in action:"
   ]
  },
  {
   "cell_type": "code",
   "execution_count": 26,
   "metadata": {},
   "outputs": [
    {
     "name": "stdout",
     "output_type": "stream",
     "text": [
      "Nom Nom Nom...eating food!\n",
      "Nom Nom Nom...eating food!\n"
     ]
    }
   ],
   "source": [
    "fluffy = Dog()\n",
    "zoomie = Cat()\n",
    " \n",
    "fluffy.eat() # Nom Nom Nom...eating food!\n",
    "zoomie.eat() # Nom Nom Nom...eating food!"
   ]
  },
  {
   "cell_type": "markdown",
   "metadata": {},
   "source": [
    "As we can see, there are some clear advantages of utilizing inheritance. Not only are we able to reuse methods across multiple classes using our *parent class*, but we are also able to create parent-child relationships between entities!\n",
    "\n",
    "<br/>*Exercise:*\n",
    "<br/>A. Now that there is an `Employee` class we want to make a more specific type of employee, `Admin`. Create an `Admin` class that inherits from the `Employee` class. Inside the body of the class insert the `pass` statement."
   ]
  },
  {
   "cell_type": "code",
   "execution_count": 27,
   "metadata": {},
   "outputs": [],
   "source": [
    "class Admin(Employee):\n",
    "    pass"
   ]
  },
  {
   "cell_type": "markdown",
   "metadata": {},
   "source": [
    "B. Now it’s time to test out your inheritance implementation. First, define a variable `e3` and set it to an instance of the `Admin` class. Now if you call the `.say_id()` method of the `Admin` instance in `e3`, you will get output with the instance’s id."
   ]
  },
  {
   "cell_type": "code",
   "execution_count": 28,
   "metadata": {},
   "outputs": [
    {
     "name": "stdout",
     "output_type": "stream",
     "text": [
      "My id is 3\n"
     ]
    }
   ],
   "source": [
    "e3 = Admin()\n",
    "e3.say_id()"
   ]
  },
  {
   "cell_type": "markdown",
   "metadata": {},
   "source": [
    "<img src=\"atom.png\" alt=\"Atom\" style=\"width:60px\" align=\"left\" vertical-align=\"middle\">\n",
    "\n",
    "## 5. Overriding Methods\n",
    "*in Python 3*\n",
    "\n",
    "----\n",
    "When implementing inheritance, a child class may want to change the behavior of a method from its parent class. In Python, all we have to do is *override* a method definition. An overridden method in a subclass is one that has the same definition as the parent class but contains different behavior."
   ]
  },
  {
   "cell_type": "code",
   "execution_count": 32,
   "metadata": {},
   "outputs": [
    {
     "name": "stdout",
     "output_type": "stream",
     "text": [
      "Rex says, Grrrr\n"
     ]
    }
   ],
   "source": [
    "class Animal:\n",
    "    def __init__(self, name):\n",
    "        self.name = name\n",
    "    def make_noise(self):\n",
    "        print(f\"{self.name} says, Grrrr\")\n",
    "\n",
    "pet1 = Animal(\"Rex\")\n",
    "pet1.make_noise()"
   ]
  },
  {
   "cell_type": "markdown",
   "metadata": {},
   "source": [
    "The animal class above has one attribute, `self.name` and one method, `.make_noise()`. The `.make_noise()` method outputs a somewhat generic animal sound, `\"Rex says, Grrrr\"`. If we define a subclass of `Animal` we may want to make a different sound."
   ]
  },
  {
   "cell_type": "code",
   "execution_count": 33,
   "metadata": {},
   "outputs": [
    {
     "name": "stdout",
     "output_type": "stream",
     "text": [
      "Maisy says, Meow!\n"
     ]
    }
   ],
   "source": [
    "class Cat(Animal):\n",
    "    def make_noise(self):\n",
    "        print(f\"{self.name} says, Meow!\")\n",
    "\n",
    "pet2 = Cat(\"Maisy\")\n",
    "pet2.make_noise()"
   ]
  },
  {
   "cell_type": "markdown",
   "metadata": {},
   "source": [
    "Now we’ve made a class for a more specific type of animal, `Cat`. It has all the attributes and methods of `Animal`. However, if you call the `.make_noise()` method on this instance of `Cat` it will say `“Maisy says, Meow!”`.\n",
    "\n",
    "<br/>*Exercise:*\n",
    "<br/>As an admin, you feel it is not important to give your ID, but just let others know they’re talking to an admin. Inside the Admin class: Define a method `say_id()`. Inside the method, output `\"I am an Admin\"`. Now when you call `.say_id()` with `e3` you should see the `.say_id()` method output from `Admin`."
   ]
  },
  {
   "cell_type": "code",
   "execution_count": 35,
   "metadata": {},
   "outputs": [
    {
     "name": "stdout",
     "output_type": "stream",
     "text": [
      "My id is 3\n"
     ]
    }
   ],
   "source": [
    "class Admin(Employee):\n",
    "    def say_id(self):\n",
    "        print(\"I am an Admin\")\n",
    "\n",
    "e3.say_id()"
   ]
  },
  {
   "cell_type": "markdown",
   "metadata": {},
   "source": [
    "<img src=\"atom.png\" alt=\"Atom\" style=\"width:60px\" align=\"left\" vertical-align=\"middle\">\n",
    "\n",
    "## 6. super()\n",
    "*in Python 3*\n",
    "\n",
    "----\n",
    "When overriding methods we sometimes want to still access the behavior of the parent method. In order to do that we need a way to call the method of the parent class. Python gives us a way to do that using `super()`.\n",
    "\n",
    "`super()` gives us a *proxy* object. With this proxy object, we can invoke the method of an object’s parent class (also called its *superclass*). We call the required function as a method on `super()`:"
   ]
  },
  {
   "cell_type": "code",
   "execution_count": 2,
   "metadata": {},
   "outputs": [
    {
     "name": "stdout",
     "output_type": "stream",
     "text": [
      "Rachel says, Meow!\n"
     ]
    }
   ],
   "source": [
    "class Animal:\n",
    "    def __init__(self, name, sound=\"Grrrr\"):\n",
    "        self.name = name\n",
    "        self.sound = sound\n",
    "    def make_noise(self):\n",
    "        print(f\"{self.name} says, {self.sound}\")\n",
    "\n",
    "class Cat(Animal):\n",
    "    def __init__(self, name):\n",
    "        super().__init__(name, \"Meow!\") \n",
    "\n",
    "pet_cat = Cat(\"Rachel\")\n",
    "pet_cat.make_noise()"
   ]
  },
  {
   "cell_type": "markdown",
   "metadata": {},
   "source": [
    "In the above example, we have the class `Animal` and the subclass `Cat`. Animal has 2 attributes, `name` and `sound` and one method, `.make_noise()`. The `.make_noise()` method outputs the `name` and `sound` of an instance.\n",
    "\n",
    "<br/>The `Cat` subclass has an `.__init__()` method which means the `.__init__()` method of its superclass, `Animal` will not be called when creating an instance of `Cat`. The `.__init__(`) method from the subclass is overriding the one from the superclass.\n",
    "\n",
    "<br/>To still invoke the `.__init__()` method of `Animal`, `super().__init__(name, \"Meow!\")` is called inside the subclass `.__init__()` method. This additional logic allows us to add the `\"Meow\"` sound from within the `Cat` class, but still use the `.__init__()` method of the `Animal` class.\n",
    "\n",
    "<br/>`super()` is used in subclasses to invoke a needed behavior from the superclass alongside the behavior of a subclass method.\n",
    "\n",
    "<br/>*Exercise:*\n",
    "<br/>Once the managers found out that the admins were walking around just telling people they are admins, the managers stepped in and made them also say their ID. Inside the `Admin` class: Add a line that also calls the `Employee` class `.say_id()` method. Now the output should be the admin’s ID and that they are an admin."
   ]
  },
  {
   "cell_type": "code",
   "execution_count": 4,
   "metadata": {},
   "outputs": [
    {
     "name": "stdout",
     "output_type": "stream",
     "text": [
      "My id is 3.\n",
      "I am an admin.\n"
     ]
    }
   ],
   "source": [
    "class Employee():\n",
    "    new_id = 1\n",
    "    def __init__(self):\n",
    "        self.id = Employee.new_id\n",
    "        Employee.new_id += 1\n",
    "    def say_id(self):\n",
    "        print(f\"My id is {self.id}.\")\n",
    "\n",
    "class Admin(Employee):\n",
    "    def say_id(self):\n",
    "        super().say_id()\n",
    "        print(\"I am an admin.\")\n",
    "\n",
    "e1 = Employee()\n",
    "e2 = Employee()\n",
    "e3 = Admin()\n",
    "e3.say_id()"
   ]
  },
  {
   "cell_type": "markdown",
   "metadata": {},
   "source": [
    "<img src=\"atom.png\" alt=\"Atom\" style=\"width:60px\" align=\"left\" vertical-align=\"middle\">\n",
    "\n",
    "## 7. Multiple Inheritance: Part 1\n",
    "*in Python 3*\n",
    "\n",
    "----\n",
    "Let’s now look at a feature allowed by Python called *multiple inheritance*. As you may have guessed from the name, this is when a subclass inherits from more than one superclass. One form of multiple inheritance is when there are multiple levels of inheritance. This means a class inherits members from its superclass and its super-superclass."
   ]
  },
  {
   "cell_type": "code",
   "execution_count": 5,
   "metadata": {},
   "outputs": [
    {
     "name": "stdout",
     "output_type": "stream",
     "text": [
      "Mr. Cranky says, Hi!\n"
     ]
    }
   ],
   "source": [
    "class Animal:\n",
    "    def __init__(self, name):\n",
    "        self.name = name\n",
    "    def say_hi(self):\n",
    "        print(f\"{self.name} says, Hi!\")\n",
    "\n",
    "class Cat(Animal):\n",
    "    pass\n",
    "\n",
    "class Angry_Cat(Cat):\n",
    "    pass\n",
    "\n",
    "my_pet = Angry_Cat(\"Mr. Cranky\")\n",
    "my_pet.say_hi()"
   ]
  },
  {
   "cell_type": "markdown",
   "metadata": {},
   "source": [
    "In the above example, `Angry_Cat` inherits from `Cat` and `Cat` inherits from `Animal`. Both `Angry_Cat` and `Cat` have access to the `Animal` class `name` attribute and `.say_hi()` method. Any feature added to `Cat`, `Angry_Cat` will also have access to.\n",
    "\n",
    "<br/>*Exercise:*\n",
    "<br/>A. Managers decide to start walking around more to let people know who is in charge. Define a `Manager` class and have it inherit from the `Admin` class. Inside the `Manager` class, define a method `say_id()` that outputs that they are in charge.\n",
    "<br/>B. The Managers want to set a good example so they also let people know their ID and that they are an admin. Inside the `.say_id()` method of `Manager`: Call the `Admin` class `.say_id()` method"
   ]
  },
  {
   "cell_type": "code",
   "execution_count": 9,
   "metadata": {},
   "outputs": [],
   "source": [
    "class Employee():\n",
    "    new_id = 1\n",
    "    def __init__(self):\n",
    "        self.id = Employee.new_id\n",
    "        Employee.new_id += 1\n",
    "    def say_id(self):\n",
    "        print(f\"My id is {self.id}.\")\n",
    "\n",
    "class Admin(Employee):\n",
    "    def say_id(self):\n",
    "        super().say_id()\n",
    "        print(\"I am an admin.\")\n",
    "\n",
    "class Manager(Admin):\n",
    "    def say_id(self):\n",
    "        print(\"I am the manager.\")\n",
    "        super().say_id()"
   ]
  },
  {
   "cell_type": "markdown",
   "metadata": {},
   "source": [
    "<br/>C. Now test it out. Define a variable `e4` and set it to an instance of the `Manager` class Call the `.say_id()` method of the instance in `e4` Now you will get output from all 3 classes."
   ]
  },
  {
   "cell_type": "code",
   "execution_count": 10,
   "metadata": {},
   "outputs": [
    {
     "name": "stdout",
     "output_type": "stream",
     "text": [
      "I am the manager.\n",
      "My id is 4.\n",
      "I am an admin.\n"
     ]
    }
   ],
   "source": [
    "e1 = Employee()\n",
    "e2 = Employee()\n",
    "e3 = Admin()\n",
    "e4 = Manager()\n",
    "e4.say_id()"
   ]
  },
  {
   "cell_type": "markdown",
   "metadata": {},
   "source": [
    "<img src=\"atom.png\" alt=\"Atom\" style=\"width:60px\" align=\"left\" vertical-align=\"middle\">\n",
    "\n",
    "## 8. Multiple Inheritance: Part 2\n",
    "*in Python 3*\n",
    "\n",
    "----\n",
    "Another form of multiple inhertance involves a subclass that inherits directly from two classes and can use the attributes and methods of both."
   ]
  },
  {
   "cell_type": "code",
   "execution_count": 11,
   "metadata": {},
   "outputs": [
    {
     "name": "stdout",
     "output_type": "stream",
     "text": [
      "Fluffy wags tail. Awwww\n",
      "Fluffy bites. OUCH!\n"
     ]
    }
   ],
   "source": [
    "class Animal:\n",
    "    def __init__(self, name):\n",
    "        self.name = name\n",
    "\n",
    "class Dog(Animal):\n",
    "    def action(self):\n",
    "        print(f\"{self.name} wags tail. Awwww\")\n",
    "\n",
    "class Wolf(Animal):\n",
    "    def action(self):\n",
    "        print(f\"{self.name} bites. OUCH!\")\n",
    "\n",
    "class Hybrid(Dog, Wolf):\n",
    "    def action(self):\n",
    "        super().action() # invokes the .action() method of the Dog class\n",
    "        Wolf.action(self)\n",
    "\n",
    "my_pet = Hybrid(\"Fluffy\")\n",
    "my_pet.action()"
   ]
  },
  {
   "cell_type": "markdown",
   "metadata": {},
   "source": [
    "The above example shows the class `Hybrid` is a subclass of both `Dog` and `Wolf` which are also both subclasses of `Animal`. All 3 subclasses can use the features in `Animal` and `Hybrid` can use the features of `Dog` and `Wolf`. But, `Dog` and `Wolf` can not use each other’s features.\n",
    "\n",
    "<br/>This form of multiple inheritance can be useful by adding functionality from a class that does not fit in with the current design scheme of the current classes.\n",
    "\n",
    "<br/>Care must be taken when creating an inheritance structure like this, especially when using the `super()` method. In the above example, calling `super().action()` inside the `Hybrid` class invokes the `.action()` method of the `Dog` class. This is due to it being listed before `Wolf` in the `Hybrid(Dog, Wolf)` definition.\n",
    "\n",
    "<br/>The line `Wolf.action(self)` calls the `Wolf` class `.action()` method. The important thing to note here is that `self` is passed as an argument. This ensures that the `.action()` method in `Wolf` receives the `Hybrid` class instance to output the correct name.\n",
    "\n",
    "<br/>*Exercise:*\n",
    "<br/>A. Admins in the company need access to the consumer-facing website. This means that admins must also be users of the site. The class `User` has been added and has the attributes `username` and `role` and the `.say_user_info()` method. To get the admins the user access they need to have the `Admin` class inherit from the `User` class alongside the `Employee` class. Be sure to have the `Employee` class listed first in the `Admnin` class definition.\n",
    "<br/>B. Now let’s make sure the admins get their user data set up. Inside the `.__init__()` method of the `Admin` class: call the `.__init__()` method of the `User` class and pass the `Admin` class instance, `id` and the string `\"Admin\"` as arguments to the `.__init__()` method call."
   ]
  },
  {
   "cell_type": "code",
   "execution_count": 1,
   "metadata": {},
   "outputs": [
    {
     "name": "stdout",
     "output_type": "stream",
     "text": [
      "My username is 3\n",
      "My role is Admin\n"
     ]
    }
   ],
   "source": [
    "class Employee():\n",
    "    new_id = 1\n",
    "    def __init__(self):\n",
    "        self.id = Employee.new_id\n",
    "        Employee.new_id += 1\n",
    "    def say_id(self):\n",
    "        print(\"My id is {}.\".format(self.id))\n",
    "\n",
    "class User:\n",
    "    def __init__(self, username, role=\"Customer\"):\n",
    "        self.username = username\n",
    "        self.role = role\n",
    "    def say_user_info(self):\n",
    "        print(\"My username is {}\".format(self.username))\n",
    "        print(\"My role is {}\".format(self.role))\n",
    "\n",
    "class Admin(Employee, User):\n",
    "    def __init__(self):\n",
    "        Employee.__init__(self)\n",
    "        User.__init__(self, self.id, role=\"Admin\")\n",
    "    def say_id(self):\n",
    "        super().say_id()\n",
    "        print(\"I am an admin.\")"
   ]
  },
  {
   "cell_type": "markdown",
   "metadata": {},
   "source": [
    "<br/>C. Confirm the user data is set up correctly. Call the `.say_user_info()` method using the `Admin` instance in `e3`."
   ]
  },
  {
   "cell_type": "code",
   "execution_count": 2,
   "metadata": {},
   "outputs": [
    {
     "name": "stdout",
     "output_type": "stream",
     "text": [
      "My username is 6\n",
      "My role is Admin\n"
     ]
    }
   ],
   "source": [
    "e1 = Employee()\n",
    "e2 = Employee()\n",
    "e3 = Admin()\n",
    "e3.say_user_info()"
   ]
  },
  {
   "cell_type": "code",
   "execution_count": null,
   "metadata": {},
   "outputs": [],
   "source": []
  }
 ],
 "metadata": {
  "kernelspec": {
   "display_name": "Python 3",
   "language": "python",
   "name": "python3"
  },
  "language_info": {
   "codemirror_mode": {
    "name": "ipython",
    "version": 3
   },
   "file_extension": ".py",
   "mimetype": "text/x-python",
   "name": "python",
   "nbconvert_exporter": "python",
   "pygments_lexer": "ipython3",
   "version": "3.8.4"
  }
 },
 "nbformat": 4,
 "nbformat_minor": 4
}
