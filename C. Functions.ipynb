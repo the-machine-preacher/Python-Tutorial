{
 "cells": [
  {
   "cell_type": "markdown",
   "metadata": {},
   "source": [
    "<img src=\"atom.png\" alt=\"Atom\" style=\"width:60px\" align=\"left\" vertical-align=\"middle\">\n",
    "\n",
    "## 1. Introduction to Functions\n",
    "*in Python 3 (Updated: 19 May 2022)*\n",
    "\n",
    "----\n",
    "In programming, as we start to write bigger and more complex programs, one thing we will start to notice is we will often have to repeat the same set of steps in many different places in our program.\n",
    "\n",
    "<br/>Let’s imagine we were building an application to help people plan trips! When using a trip planning application we can say a simple procedure could look like this:\n",
    "\n",
    "    1. Establish your origin and destination\n",
    "    2. Calculate the distance/route\n",
    "    3. Return the best route to the user\n",
    " \n",
    "<br/>We will perform these three steps every time users have to travel between two points using our trip application. In our programs, we could rewrite the same procedures over and over (and over) for each time we want to travel, but there’s a better way! Python gives us a useful concept called *functions.*\n",
    "\n",
    "<br/>Functions are a convenient way to group our code into reusable blocks. A function contains a sequence of steps that can be performed repeatedly throughout a program without having to repeat the process of writing the same code again.\n",
    "\n",
    "<br/>In this lesson, we are going to explore the idea of a function by slowly building out a Python program for our trip planning steps!\n",
    "\n",
    "<br/>At the end of this lesson, you’ll know how to:\n",
    "- Write a function and return values from it\n",
    "- Allow functions to take custom input\n",
    "- Experiment with how functions access our other python code\n",
    "\n",
    "<br/>And much more!\n",
    "\n",
    "<br/>*Exercise:*\n",
    "<br/>In this lesson we will be building a function called `navigation_steps()`. It will serve as a container for the three steps discussed above in the navigation procedure and can be reused across multiple users as they plan their trips to different locations. The basic algorith is as follows:\n",
    "- Establish your starting & end points\n",
    "- Calculate the distance/route\n",
    "- Return the best route\n",
    "\n",
    "<br/>Without further ado, let's begin!"
   ]
  },
  {
   "cell_type": "markdown",
   "metadata": {},
   "source": [
    "<img src=\"atom.png\" alt=\"Atom\" style=\"width:60px\" align=\"left\" vertical-align=\"middle\">\n",
    "\n",
    "## 2. Why Functions?\n",
    "*in Python 3*\n",
    "\n",
    "----\n",
    "Let’s come back to the trip planning application we just discussed in the previous exercise. The steps we talked about for our program were:\n",
    "\n",
    "    1. Establish your origin and destination\n",
    "    2. Calculate the distance/route\n",
    "    3. Return the best route to the user\n",
    "\n",
    "<br/>If we were to convert our steps into Python code, a very simple version that plans a trip between two popular New York tourist destinations might look like this:"
   ]
  },
  {
   "cell_type": "code",
   "execution_count": 1,
   "metadata": {},
   "outputs": [
    {
     "name": "stdout",
     "output_type": "stream",
     "text": [
      "Setting the Empire State Building as the starting point and Time Square as our destination.\n",
      "Calculating the total distance between our points.\n",
      "The best route is by train and will take approximately 10 minutes.\n"
     ]
    }
   ],
   "source": [
    "print(\"Setting the Empire State Building as the starting point and Time Square as our destination.\")\n",
    "print(\"Calculating the total distance between our points.\") \n",
    "print(\"The best route is by train and will take approximately 10 minutes.\") "
   ]
  },
  {
   "cell_type": "markdown",
   "metadata": {},
   "source": [
    "Anytime we want to go between these two points we would need to run these three print statements (for now we can assume the best route and time will stay the same).\n",
    "\n",
    "<br/>If our program now had 100 new people trying to find the best directions between the Empire State Building and Times Square, we would need to run each of our three print statements 100 times!\n",
    "\n",
    "<br/>Now, if you’re thinking about using a loop here, your intuition would be totally right! Unfortunately, we won’t be always traveling between the same two locations which means a loop won’t be as effective when we want to customize a trip. We will address this in the upcoming sections!\n",
    "\n",
    "<br/>In the next section, we will learn how we can *refactor* (restructure) our code to utilize functions to reuse code."
   ]
  },
  {
   "cell_type": "markdown",
   "metadata": {},
   "source": [
    "<img src=\"atom.png\" alt=\"Atom\" style=\"width:60px\" align=\"left\" vertical-align=\"middle\">\n",
    "\n",
    "## 3. Defining a Function\n",
    "*in Python 3*\n",
    "\n",
    "----\n",
    "A *function* consists of many parts, so let’s first get familiar with its core - a function definition.\n",
    "\n",
    "<br/>Here’s an example of a function definition:"
   ]
  },
  {
   "cell_type": "code",
   "execution_count": 5,
   "metadata": {},
   "outputs": [],
   "source": [
    "def function_name():\n",
    "    print(\"functions tasks go here\")"
   ]
  },
  {
   "cell_type": "markdown",
   "metadata": {},
   "source": [
    "There are some key components we want to note here:\n",
    "- The `def` keyword indicates the beginning of a function (also known as a function header). The function header is followed by a name in `snake_case` format that describes the task the function performs. It’s best practice to give your functions a descriptive yet concise name.\n",
    "- Following the function name is a pair of parenthesis `( )` that can hold input values known as parameters (more on parameters later in the lesson!). In this example function, we have no parameters.\n",
    "- A colon `:` to mark the end of the function header.\n",
    "- Lastly, we have one or more valid python statements that make up the function body (where we have our `print()` statement).\n",
    "\n",
    "<br/>Notice we’ve indented our `print(\"functions tasks go here\")`. Like loops and conditionals, code inside a function must be indented to show that they are part of the function.\n",
    "\n",
    "<br/>Here is an example of a function that greets a user for our trip planning application:"
   ]
  },
  {
   "cell_type": "code",
   "execution_count": 6,
   "metadata": {},
   "outputs": [],
   "source": [
    "def trip_welcome():\n",
    "    print(\"Welcome to Tripcademy!\") \n",
    "    print(\"Let's get you to your destination.\")"
   ]
  },
  {
   "cell_type": "markdown",
   "metadata": {},
   "source": [
    "**Note** \n",
    "<br/>Running the code will result in an empty output terminal. The `print()` statements within the function will not execute since our function hasn’t been used. We will explore this further in the next exercise; for now, let’s practice defining a function.\n",
    "\n",
    "<br/>*Exercise:*\n",
    "<br/>1. Two of the most common NYC attractions include the Empire State Building and Times Square. We’ll write a function that prints the directions via subway from the Empire State Building to Times Square. First, define a function, `directions_to_timesSq()`. Leave the body of the function empty for now.\n",
    "- When we run the code, we will see an error: `IndentationError: expected an indented block` or `SyntaxError: unexpected EOF while parsing`. This will occur when we don’t populate a function with any statements. We will populate it with code in the next step."
   ]
  },
  {
   "cell_type": "code",
   "execution_count": 7,
   "metadata": {},
   "outputs": [
    {
     "ename": "SyntaxError",
     "evalue": "unexpected EOF while parsing (<ipython-input-7-a886ce594cb4>, line 1)",
     "output_type": "error",
     "traceback": [
      "\u001b[1;36m  File \u001b[1;32m\"<ipython-input-7-a886ce594cb4>\"\u001b[1;36m, line \u001b[1;32m1\u001b[0m\n\u001b[1;33m    def directions_to_timesSq():\u001b[0m\n\u001b[1;37m                                ^\u001b[0m\n\u001b[1;31mSyntaxError\u001b[0m\u001b[1;31m:\u001b[0m unexpected EOF while parsing\n"
     ]
    }
   ],
   "source": [
    "def directions_to_timesSq():"
   ]
  },
  {
   "cell_type": "markdown",
   "metadata": {},
   "source": [
    "2. Within the body of the function, use three `print()` statements to output the following directions (remember, if you run your code, you shouldn’t see any output in the terminal at this point):"
   ]
  },
  {
   "cell_type": "code",
   "execution_count": 8,
   "metadata": {},
   "outputs": [],
   "source": [
    "def directions_to_timesSq():\n",
    "    print(\"Walk 4 mins to 34th St Herald Square train station\")\n",
    "    print(\"Take the Northbound N, Q, R, or W train 1 stop\")\n",
    "    print(\"Get off the Times Square 42nd Street stop\")"
   ]
  },
  {
   "cell_type": "markdown",
   "metadata": {},
   "source": [
    "<img src=\"atom.png\" alt=\"Atom\" style=\"width:60px\" align=\"left\" vertical-align=\"middle\">\n",
    "\n",
    "## 4. Calling a Function\n",
    "*in Python 3*\n",
    "\n",
    "----\n",
    "Now that we’ve practiced defining a function, let’s learn about calling a function to execute the code within its body.\n",
    "\n",
    "<br/>The process of executing the code inside the body of a function is known as calling it (This is also known as “executing a function”). To call a function in Python, type out its name followed by parentheses `( )`.\n",
    "\n",
    "<br/>Let’s revisit our `directions_to_timesSq()` function :"
   ]
  },
  {
   "cell_type": "code",
   "execution_count": 1,
   "metadata": {},
   "outputs": [],
   "source": [
    "def directions_to_timesSq():\n",
    "    print(\"Walk 4 mins to 34th St Herald Square train station.\")\n",
    "    print(\"Take the Northbound N, Q, R, or W train 1 stop.\")\n",
    "    print(\"Get off the Times Square 42nd Street stop.\")"
   ]
  },
  {
   "cell_type": "markdown",
   "metadata": {},
   "source": [
    "To call our function, we must type out the function’s name followed by a pair of parentheses and no indentation. \n",
    "\n",
    "<br/>Calling the function will execute the `print` statements within the body (from the top statement to the bottom statement) and result in the following output:"
   ]
  },
  {
   "cell_type": "code",
   "execution_count": 2,
   "metadata": {},
   "outputs": [
    {
     "name": "stdout",
     "output_type": "stream",
     "text": [
      "Walk 4 mins to 34th St Herald Square train station.\n",
      "Take the Northbound N, Q, R, or W train 1 stop.\n",
      "Get off the Times Square 42nd Street stop.\n"
     ]
    }
   ],
   "source": [
    "directions_to_timesSq()"
   ]
  },
  {
   "cell_type": "markdown",
   "metadata": {},
   "source": [
    "*Exercise:*\n",
    "<br/>Add an additional print statement to our `directions_to_timesSq()` function. Have the statement print `\"Take lots of pictures!\"`:"
   ]
  },
  {
   "cell_type": "code",
   "execution_count": 3,
   "metadata": {},
   "outputs": [
    {
     "name": "stdout",
     "output_type": "stream",
     "text": [
      "Walk 4 mins to 34th St Herald Square train station.\n",
      "Take the Northbound N, Q, R, or W train 1 stop.\n",
      "Get off the Times Square 42nd Street stop.\n",
      "Take lots of pictures!\n"
     ]
    }
   ],
   "source": [
    "def directions_to_timesSq():\n",
    "    print(\"Walk 4 mins to 34th St Herald Square train station.\")\n",
    "    print(\"Take the Northbound N, Q, R, or W train 1 stop.\")\n",
    "    print(\"Get off the Times Square 42nd Street stop.\")\n",
    "    print(\"Take lots of pictures!\")\n",
    "\n",
    "directions_to_timesSq()"
   ]
  },
  {
   "cell_type": "markdown",
   "metadata": {},
   "source": [
    "<img src=\"atom.png\" alt=\"Atom\" style=\"width:60px\" align=\"left\" vertical-align=\"middle\">\n",
    "\n",
    "## 5. Whitespace & Execution Flow\n",
    "*in Python 3*\n",
    "\n",
    "----\n",
    "Consider our welcome function for our trip planning application:"
   ]
  },
  {
   "cell_type": "code",
   "execution_count": 4,
   "metadata": {},
   "outputs": [],
   "source": [
    "def trip_welcome():\n",
    "    print(\"Welcome to Tripcademy!\") \n",
    "    print(\"Let's get you to your destination.\")"
   ]
  },
  {
   "cell_type": "markdown",
   "metadata": {},
   "source": [
    "The print statements all run together when `trip_welcome()` is called. This is because they have the same base level of indentation (4 spaces).\n",
    "\n",
    "In Python, the amount of whitespace tells the computer what is part of a function and what is not part of that function.\n",
    "\n",
    "If we wanted to write another statement outside of `trip_welcome()`, we would have to unindent the new line:"
   ]
  },
  {
   "cell_type": "code",
   "execution_count": 5,
   "metadata": {},
   "outputs": [
    {
     "name": "stdout",
     "output_type": "stream",
     "text": [
      "Woah, look at the weather outside! Don't walk, take the train!\n",
      "Welcome to Tripcademy!\n",
      "Let's get you to your destination.\n"
     ]
    }
   ],
   "source": [
    "def trip_welcome():\n",
    "    # Indented code is part of the function body\n",
    "    print(\"Welcome to Tripcademy!\") \n",
    "    print(\"Let's get you to your destination.\")\n",
    " \n",
    "# Unindented code below is not part of the function body\n",
    "print(\"Woah, look at the weather outside! Don't walk, take the train!\")\n",
    " \n",
    "trip_welcome()"
   ]
  },
  {
   "cell_type": "markdown",
   "metadata": {},
   "source": [
    "Our `trip_welcome()` function steps will not print `Woah, look at the weather outside! Don't walk, take the train!` on our function call. The `print()` statement was unindented to show it was not a part of the function body but rather a separate statement.\n",
    "\n",
    "<br/>Lastly, note that the execution of a program always begins on the first line. The code is then executed one line at a time from top to bottom. This is known as *execution flow* and is the order a program in python executes code.\n",
    "\n",
    "<br/>`Woah, look at the weather outside! Don't walk, take the train!` was printed before the `print()` statements from the function `trip_welcome()`.\n",
    "\n",
    "<br/>Even though our function was defined before our lone `print()` statement, we didn’t call our function until after.\n",
    "\n",
    "<br/>Let’s play around with indentation and the flow of execution!\n",
    "\n",
    "<br/>*Exercise:*\n",
    "<br/>1. We are going to help our trip planner users figure out if they should travel today based on the weather. Let’s let our users know we can check the weather for them. Write a `print()` statement that will output `Checking the weather for you!`."
   ]
  },
  {
   "cell_type": "code",
   "execution_count": 6,
   "metadata": {},
   "outputs": [
    {
     "name": "stdout",
     "output_type": "stream",
     "text": [
      "Checking the weather for you!\n"
     ]
    }
   ],
   "source": [
    "print(\"Checking the weather for you!\")"
   ]
  },
  {
   "cell_type": "markdown",
   "metadata": {},
   "source": [
    "2. We took a look outside and see a bright sunny day. Write a function called `weather_check()` that will `print` a message to our users that it’s a great day to travel! The function should output: `Looks great outside! Enjoy your trip.`"
   ]
  },
  {
   "cell_type": "code",
   "execution_count": 7,
   "metadata": {},
   "outputs": [],
   "source": [
    "def weather_check():\n",
    "    print(\"Looks great outside! Enjoy your trip.\")"
   ]
  },
  {
   "cell_type": "markdown",
   "metadata": {},
   "source": [
    "3. Oh no! It looks like some clouds came in and it started raining. Our users shouldn’t go on a trip in the rain. In our `weather_check()` function add a second `print()` statement under the first one which prints a warning message for our travelers!"
   ]
  },
  {
   "cell_type": "code",
   "execution_count": 9,
   "metadata": {},
   "outputs": [
    {
     "name": "stdout",
     "output_type": "stream",
     "text": [
      "Looks great outside! Enjoy your trip.\n",
      "False Alarm, the weather changed! There is a thunderstorm approaching. Cancel your plans and stay inside.\n"
     ]
    }
   ],
   "source": [
    "def weather_check():\n",
    "    print(\"Looks great outside! Enjoy your trip.\")\n",
    "    print(\"False Alarm, the weather changed! There is a thunderstorm approaching. Cancel your plans and stay inside.\")\n",
    "    \n",
    "weather_check()"
   ]
  },
  {
   "cell_type": "markdown",
   "metadata": {},
   "source": [
    "4. Unindent your final print statement in your `weather_check()` function. Run the program again. Notice the difference?"
   ]
  },
  {
   "cell_type": "code",
   "execution_count": 10,
   "metadata": {},
   "outputs": [
    {
     "name": "stdout",
     "output_type": "stream",
     "text": [
      "False Alarm, the weather changed! There is a thunderstorm approaching. Cancel your plans and stay inside.\n",
      "Looks great outside! Enjoy your trip.\n"
     ]
    }
   ],
   "source": [
    "def weather_check():\n",
    "    print(\"Looks great outside! Enjoy your trip.\")\n",
    "print(\"False Alarm, the weather changed! There is a thunderstorm approaching. Cancel your plans and stay inside.\")\n",
    "    \n",
    "weather_check()"
   ]
  },
  {
   "cell_type": "markdown",
   "metadata": {},
   "source": [
    "<img src=\"atom.png\" alt=\"Atom\" style=\"width:60px\" align=\"left\" vertical-align=\"middle\">\n",
    "\n",
    "## 6. Parameters & Arguments\n",
    "*in Python 3*\n",
    "\n",
    "----\n",
    "Let’s return to our `trip_welcome()` function one more time! Let’s modify our function to give a welcome that is a bit more detailed."
   ]
  },
  {
   "cell_type": "code",
   "execution_count": 11,
   "metadata": {},
   "outputs": [
    {
     "name": "stdout",
     "output_type": "stream",
     "text": [
      "Welcome to Tripcademy!\n",
      "Looks like you're going to Times Square today.\n"
     ]
    }
   ],
   "source": [
    "def trip_welcome():\n",
    "    print(\"Welcome to Tripcademy!\") \n",
    "    print(\"Looks like you're going to Times Square today.\")\n",
    " \n",
    "trip_welcome()"
   ]
  },
  {
   "cell_type": "markdown",
   "metadata": {},
   "source": [
    "Our function does a really good job of welcoming anyone who is traveling to Times Square but a really poor job if they are going anywhere else. In order for us to make our function a bit more dynamic, we are going to use the concept of function *parameters*.\n",
    "\n",
    "<br/>Function parameters allow our function to accept data as an input value. We list the parameters a function takes as input between the parentheses of a function `( )`.\n",
    "\n",
    "<br/>Here is our `trip_welcome()` that uses a single parameter `destination`:"
   ]
  },
  {
   "cell_type": "code",
   "execution_count": 14,
   "metadata": {},
   "outputs": [],
   "source": [
    "def trip_welcome(destination):\n",
    "    print(\"Welcome to Tripcademy!\") \n",
    "    print(\"Looks like you're going to \" + destination + \" today.\")"
   ]
  },
  {
   "cell_type": "markdown",
   "metadata": {},
   "source": [
    "In the above example, we define a single parameter called `destination` and apply it in our function body in the second `print` statement. We are telling our function it should expect some data passed in for `destination` that it can apply to any statements in the function body.\n",
    "\n",
    "<br/>But how do we actually use this parameter? Our parameter of `destination` is used by passing in an *argument* to the function when we call it."
   ]
  },
  {
   "cell_type": "code",
   "execution_count": 15,
   "metadata": {},
   "outputs": [
    {
     "name": "stdout",
     "output_type": "stream",
     "text": [
      "Welcome to Tripcademy!\n",
      "Looks like you're going to Times Square today.\n"
     ]
    }
   ],
   "source": [
    "trip_welcome(\"Times Square\")"
   ]
  },
  {
   "cell_type": "markdown",
   "metadata": {},
   "source": [
    "To summarize, here is a quick breakdown of the distinction between a *parameter* and an *argument*:\n",
    "- The parameter is the name defined in the parenthesis of the function and can be used in the function body\n",
    "<img src=\"Python_FuctionLessonDiagrams_1.svg\" alt=\"Python_FuctionLessonDiagrams_1\" width=\"600\"/>\n",
    "- The argument is the data that is passed in when we call the function and assigned to the parameter name\n",
    "<img src=\"Python_FuctionLessonDiagrams_2.svg\" alt=\"Python_FuctionLessonDiagrams_2\" width=\"600\"/>\n",
    "\n",
    "<br/>*Exercise:*\n",
    "<br/>1. Let’s write a function with parameters and call the function with an argument to see it all in action! Create a function called `generate_trip_instructions()` that defines one parameter called `location`:"
   ]
  },
  {
   "cell_type": "code",
   "execution_count": 17,
   "metadata": {},
   "outputs": [],
   "source": [
    "def generate_trip_instructions(location):\n",
    "    print(\"Looks like you are planning a trip to visit \" + location)\n",
    "    print(\"You can use the public subway system to get to \" + location)"
   ]
  },
  {
   "cell_type": "markdown",
   "metadata": {},
   "source": [
    "2. Time for some greenery! Let’s see what happens when we call the function and input the argument `\"Central Park\"`, a backyard wonder in the heart of New York City."
   ]
  },
  {
   "cell_type": "code",
   "execution_count": 18,
   "metadata": {},
   "outputs": [
    {
     "name": "stdout",
     "output_type": "stream",
     "text": [
      "Looks like you are planning a trip to visit Central Park\n",
      "You can use the public subway system to get to Central Park\n"
     ]
    }
   ],
   "source": [
    "generate_trip_instructions(\"Central Park\")"
   ]
  },
  {
   "cell_type": "markdown",
   "metadata": {},
   "source": [
    "3. The day trip is over and we need to get back to the train station to head home. Change the argument to `\"Grand Central Station\"` and call the function again. What changed in the output?"
   ]
  },
  {
   "cell_type": "code",
   "execution_count": 19,
   "metadata": {},
   "outputs": [
    {
     "name": "stdout",
     "output_type": "stream",
     "text": [
      "Looks like you are planning a trip to visit Grand Central Station\n",
      "You can use the public subway system to get to Grand Central Station\n"
     ]
    }
   ],
   "source": [
    "generate_trip_instructions(\"Grand Central Station\")"
   ]
  },
  {
   "cell_type": "markdown",
   "metadata": {},
   "source": [
    "<img src=\"atom.png\" alt=\"Atom\" style=\"width:60px\" align=\"left\" vertical-align=\"middle\">\n",
    "\n",
    "## 7. Multiple Parameters\n",
    "*in Python 3*\n",
    "\n",
    "----\n",
    "Using a single parameter is useful but functions let us use as many parameters as we want! That way, we can pass in more than one input to our functions.\n",
    "\n",
    "<br/>We can write a function that takes in more than one parameter by using commas:"
   ]
  },
  {
   "cell_type": "code",
   "execution_count": 20,
   "metadata": {},
   "outputs": [],
   "source": [
    "def my_function(parameter1, parameter2, parameter3):\n",
    "    print(parameter1, parameter2, parameter3)"
   ]
  },
  {
   "cell_type": "markdown",
   "metadata": {},
   "source": [
    "When we call our function, we will need to provide arguments for each of the parameters we assigned in our function definition."
   ]
  },
  {
   "cell_type": "code",
   "execution_count": 21,
   "metadata": {},
   "outputs": [
    {
     "name": "stdout",
     "output_type": "stream",
     "text": [
      "argument1 argument2 argument3\n"
     ]
    }
   ],
   "source": [
    "# Calling my_function\n",
    "my_function(\"argument1\", \"argument2\", \"argument3\")"
   ]
  },
  {
   "cell_type": "markdown",
   "metadata": {},
   "source": [
    "For example take our trip applications `trip_welcome()` function that has two parameters:"
   ]
  },
  {
   "cell_type": "code",
   "execution_count": 22,
   "metadata": {},
   "outputs": [],
   "source": [
    "def trip_welcome(origin, destination):\n",
    "    print(\"Welcome to Tripcademy\")\n",
    "    print(\"Looks like you are traveling from \" + origin)\n",
    "    print(\"And you are heading to \" + destination)"
   ]
  },
  {
   "cell_type": "markdown",
   "metadata": {},
   "source": [
    "Our two parameters in this function are `origin` and `destination`. In order to properly call our function, we need to pass argument values for both of them.\n",
    "\n",
    "<br/>The ordering of your parameters is important as their position will map to the position of the arguments and will determine their assigned value in the function body (more on this in the next exercise!).\n",
    "\n",
    "<br/>Our function call could look like:"
   ]
  },
  {
   "cell_type": "code",
   "execution_count": 23,
   "metadata": {},
   "outputs": [
    {
     "name": "stdout",
     "output_type": "stream",
     "text": [
      "Welcome to Tripcademy\n",
      "Looks like you are traveling from Prospect Park\n",
      "And you are heading to Atlantic Terminal\n"
     ]
    }
   ],
   "source": [
    "trip_welcome(\"Prospect Park\", \"Atlantic Terminal\")"
   ]
  },
  {
   "cell_type": "markdown",
   "metadata": {},
   "source": [
    "In this call, the argument value of `\"Prospect Park\"` is assigned to be the `origin` parameter, and the argument value of `\"Atlantic Terminal\"` is assigned to the `destination` parameter.\n",
    "\n",
    "<br/>Let’s practice writing and calling a multiple parameter function!\n",
    "\n",
    "<br/>*Exercise:*\n",
    "<br/>1. Our travel application users want to calculate the total expenses they may have to incur on a trip. Write a function called calculate_expenses that will have four parameters (in exact order). Each of these parameters will account for a different expense that our users will incur:\n",
    "\n",
    "    - plane_ticket_price\n",
    "    - car_rental_rate\n",
    "    - hotel_rate\n",
    "    - trip_time"
   ]
  },
  {
   "cell_type": "code",
   "execution_count": 24,
   "metadata": {},
   "outputs": [],
   "source": [
    "def calculate_expenses(plane_ticket_price, car_rental_rate, hotel_rate, trip_time):\n",
    "    pass"
   ]
  },
  {
   "cell_type": "markdown",
   "metadata": {},
   "source": [
    "2. Within the body of the function, let’s start to make some calculations for our expenses. First, let’s calculate the total price for a car rental. Create new variable called `car_rental_total` that is the product of `car_rental_rate` and `trip_time`."
   ]
  },
  {
   "cell_type": "code",
   "execution_count": 25,
   "metadata": {},
   "outputs": [],
   "source": [
    "def calculate_expenses(plane_ticket_price, car_rental_rate, hotel_rate, trip_time):\n",
    "    car_rental_total  = car_rental_rate  * trip_time"
   ]
  },
  {
   "cell_type": "markdown",
   "metadata": {},
   "source": [
    "3. Next, we want to apply the same logic but for our `hotel_rate`. Create new variable called `hotel_total` that is the product of `hotel_rate` and `trip_time`. We also have a coupon to give our users some cashback for their hotel visit so subtract `10` from that total in the same statement. Woohoo, coupons!"
   ]
  },
  {
   "cell_type": "code",
   "execution_count": 26,
   "metadata": {},
   "outputs": [],
   "source": [
    "def calculate_expenses(plane_ticket_price, car_rental_rate, hotel_rate, trip_time):\n",
    "    car_rental_total  = car_rental_rate  * trip_time\n",
    "    hotel_total  = hotel_rate * trip_time - 10"
   ]
  },
  {
   "cell_type": "markdown",
   "metadata": {},
   "source": [
    "4. Lastly, let’s print a nice message for our users to see the total. Use print to output the sum of `car_rental_total`, `hotel_total` and `plane_ticket_price`."
   ]
  },
  {
   "cell_type": "code",
   "execution_count": 27,
   "metadata": {},
   "outputs": [],
   "source": [
    "def calculate_expenses(plane_ticket_price, car_rental_rate, hotel_rate, trip_time):\n",
    "    car_rental_total  = car_rental_rate  * trip_time\n",
    "    hotel_total  = hotel_rate * trip_time - 10\n",
    "    print(car_rental_total + hotel_total + plane_ticket_price)"
   ]
  },
  {
   "cell_type": "markdown",
   "metadata": {},
   "source": [
    "5. Call your function with the following argument values for the parameters listed:\n",
    "\n",
    "        - plane_ticket_price: 200\n",
    "        - car_rental_rate: 100\n",
    "        - hotel_rate: 100\n",
    "        - trip_time: 5"
   ]
  },
  {
   "cell_type": "code",
   "execution_count": 29,
   "metadata": {},
   "outputs": [
    {
     "name": "stdout",
     "output_type": "stream",
     "text": [
      "1190\n"
     ]
    }
   ],
   "source": [
    "calculate_expenses(200, 100, 100, 5)"
   ]
  },
  {
   "cell_type": "markdown",
   "metadata": {},
   "source": [
    "<img src=\"atom.png\" alt=\"Atom\" style=\"width:60px\" align=\"left\" vertical-align=\"middle\">\n",
    "\n",
    "## 8. Types of Arguments\n",
    "*in Python 3*\n",
    "\n",
    "----\n",
    "In Python, there are 3 different types of arguments we can give a function.\n",
    "- Positional arguments: arguments that can be called by their position in the function definition\n",
    "- Keyword arguments: arguments that can be called by their name\n",
    "- Default arguments: arguments that are given default values\n",
    "\n",
    "<br/>Positional Arguments are arguments we have already been using! Their assignments depend on their positions in the function call. Let’s look at a function called `calculate_taxi_price()` that allows our users to see how much a taxi would cost to their destination 🚕."
   ]
  },
  {
   "cell_type": "code",
   "execution_count": 30,
   "metadata": {},
   "outputs": [],
   "source": [
    "def calculate_taxi_price(miles_to_travel, rate, discount):\n",
    "    print(miles_to_travel * rate - discount )"
   ]
  },
  {
   "cell_type": "markdown",
   "metadata": {},
   "source": [
    "In this function, `miles_to_travel` is *positioned* as the first parameter, `rate` is positioned as the second parameter, and `discount` is the third. When we call our function, the position of the arguments will be mapped to the positions defined in the function declaration."
   ]
  },
  {
   "cell_type": "code",
   "execution_count": 31,
   "metadata": {},
   "outputs": [
    {
     "name": "stdout",
     "output_type": "stream",
     "text": [
      "995\n"
     ]
    }
   ],
   "source": [
    "# 100 is miles_to_travel\n",
    "# 10 is rate\n",
    "# 5 is discount\n",
    "calculate_taxi_price(100, 10, 5)"
   ]
  },
  {
   "cell_type": "markdown",
   "metadata": {},
   "source": [
    "Alternatively, we can use *Keyword Arguments* where we explicitly refer to what each argument is assigned to in the function call. Notice in the code example below that the arguments do not follow the same order as defined in the function declaration."
   ]
  },
  {
   "cell_type": "code",
   "execution_count": 32,
   "metadata": {},
   "outputs": [
    {
     "name": "stdout",
     "output_type": "stream",
     "text": [
      "40.0\n"
     ]
    }
   ],
   "source": [
    "calculate_taxi_price(rate=0.5, discount=10, miles_to_travel=100)"
   ]
  },
  {
   "cell_type": "markdown",
   "metadata": {},
   "source": [
    "Lastly, sometimes we want to give our function arguments default values. We can provide a default value to an argument by using the assignment operator `=`. This will happen in the function declaration rather than the function call **and must always be declared at the end of the function declaration (i.e. if a function accepts multiple parameters, the default argument should always be declared at the end).** Here is an example where the discount argument in our `calculate_taxi_price` function will always have a default value of `10`:"
   ]
  },
  {
   "cell_type": "code",
   "execution_count": 33,
   "metadata": {},
   "outputs": [],
   "source": [
    "def calculate_taxi_price(miles_to_travel, rate, discount = 10):\n",
    "    print(miles_to_travel * rate - discount )"
   ]
  },
  {
   "cell_type": "markdown",
   "metadata": {},
   "source": [
    "When using a default argument, we can either choose to call the function without providing a value for a discount (and thus our function will use the default value assigned) or overwrite the default argument by providing our own:"
   ]
  },
  {
   "cell_type": "code",
   "execution_count": 34,
   "metadata": {},
   "outputs": [
    {
     "name": "stdout",
     "output_type": "stream",
     "text": [
      "-5.0\n",
      "-15.0\n"
     ]
    }
   ],
   "source": [
    "# Using the default value of 10 for discount.\n",
    "calculate_taxi_price(10, 0.5)\n",
    " \n",
    "# Overwriting the default value of 10 with 20\n",
    "calculate_taxi_price(10, 0.5, 20)"
   ]
  },
  {
   "cell_type": "markdown",
   "metadata": {},
   "source": [
    "Let’s practice using these different types of arguments!\n",
    "\n",
    "<br/>*Exercise:*\n",
    "<br/>1. Tripcademy (our trusty travel app) needs to allow passengers to plan a trip (duh). Write a function called `trip_planner()` that will have three parameters: `first_destination`, `second_destination` and `final_destination`. Give the `final_destination` parameter a default value of `\"Codecademy HQ\"`. Then, we want to introduce the trip to users. Use `print()` in our function to output Here is what your trip will look like!."
   ]
  },
  {
   "cell_type": "code",
   "execution_count": 1,
   "metadata": {},
   "outputs": [],
   "source": [
    "def trip_planner(first_destination, second_destination , final_destination=\"Timbuktu\"):\n",
    "    print(\"Here is what your trip will look like!\")"
   ]
  },
  {
   "cell_type": "markdown",
   "metadata": {},
   "source": [
    "2. In our function definition let’s provide an itinerary that will describe the destinations our user will visit in order. Print a statement that follows this form: `First, we will stop in <first_destination>, then <second_destination>, and lastly <final_destination>`"
   ]
  },
  {
   "cell_type": "code",
   "execution_count": 2,
   "metadata": {},
   "outputs": [
    {
     "name": "stdout",
     "output_type": "stream",
     "text": [
      "Here is what your trip will look like!\n",
      "First, we will stop in London, then India, and lastly New Zealand\n"
     ]
    }
   ],
   "source": [
    "def trip_planner(first_destination, second_destination , final_destination=\"Timbuktu\"):\n",
    "    print(\"Here is what your trip will look like!\")\n",
    "    print(f\"First, we will stop in {first_destination}, then {second_destination}, and lastly {final_destination}\")\n",
    "    \n",
    "# An example call to our function using positional arguments:\n",
    "trip_planner(\"London\", \"India\", \"New Zealand\")"
   ]
  },
  {
   "cell_type": "markdown",
   "metadata": {},
   "source": [
    "3. Call the function `trip_planner()` with the following values for the parameters:\n",
    "\n",
    "        - first_destination: \"France\"\n",
    "        - second_destination: \"Germany\"\n",
    "        - final_destination: \"Denmark\""
   ]
  },
  {
   "cell_type": "code",
   "execution_count": 38,
   "metadata": {},
   "outputs": [
    {
     "name": "stdout",
     "output_type": "stream",
     "text": [
      "Here is what your trip will look like!\n",
      "First, we will stop in France, thenGermany, and lastly Denmark\n"
     ]
    }
   ],
   "source": [
    "trip_planner(\"France\", \"Germany\", \"Denmark\")"
   ]
  },
  {
   "cell_type": "markdown",
   "metadata": {},
   "source": [
    "4. Call the function `trip_planner()` again with the following values for the parameters (note the difference in your output depending on the position of your arguments):\n",
    "\n",
    "        - first_destination: \"Denmark\"\n",
    "        - second_destination: \"France\"\n",
    "        - final_destination: \"Germany\""
   ]
  },
  {
   "cell_type": "code",
   "execution_count": 39,
   "metadata": {},
   "outputs": [
    {
     "name": "stdout",
     "output_type": "stream",
     "text": [
      "Here is what your trip will look like!\n",
      "First, we will stop in Denmark, thenFrance, and lastly Germany\n"
     ]
    }
   ],
   "source": [
    "trip_planner(\"Denmark\", \"France\", \"Germany\")"
   ]
  },
  {
   "cell_type": "markdown",
   "metadata": {},
   "source": [
    "5. Call the function `trip_planner()` again using keyword arguments in this exact order:\n",
    "\n",
    "        - first_destination: \"Iceland\"\n",
    "        - final_destination: \"Germany\"\n",
    "        - second_destination: \"India\""
   ]
  },
  {
   "cell_type": "code",
   "execution_count": 40,
   "metadata": {},
   "outputs": [
    {
     "name": "stdout",
     "output_type": "stream",
     "text": [
      "Here is what your trip will look like!\n",
      "First, we will stop in Iceland, thenIndia, and lastly Germany\n"
     ]
    }
   ],
   "source": [
    "trip_planner(first_destination=\"Iceland\", final_destination=\"Germany\", second_destination=\"India\")"
   ]
  },
  {
   "cell_type": "markdown",
   "metadata": {},
   "source": [
    "6. Lastly, go ahead and call the function `trip_planner()` using only two positional arguments to see the default argument in action:\n",
    "\n",
    "        - first_destination: \"Brooklyn\"\n",
    "        - second_destination: \"Queens\""
   ]
  },
  {
   "cell_type": "code",
   "execution_count": 3,
   "metadata": {},
   "outputs": [
    {
     "name": "stdout",
     "output_type": "stream",
     "text": [
      "Here is what your trip will look like!\n",
      "First, we will stop in Brooklyn, then Queens, and lastly Timbuktu\n"
     ]
    }
   ],
   "source": [
    "trip_planner(\"Brooklyn\", \"Queens\")"
   ]
  },
  {
   "cell_type": "markdown",
   "metadata": {},
   "source": [
    "<img src=\"atom.png\" alt=\"Atom\" style=\"width:60px\" align=\"left\" vertical-align=\"middle\">\n",
    "\n",
    "## 9. Built-in Functions vs User Defined Functions\n",
    "*in Python 3*\n",
    "\n",
    "----\n",
    "There are two distinct categories for functions in the world of Python. What we have been writing so far in our exercises are called *User Defined Functions* - functions that are written by users (like us!).\n",
    "\n",
    "<br/>There is another category called *Built-in functions* - functions that come built into Python for us to use. Remember when we were using `print` or `str`? Both of these functions are built into the language for us, which means we have been using built-in functions all along!\n",
    "\n",
    "There are lots of different built-in functions that we can use in our programs. Take a look at this example of using `len()` to get the length of a string:"
   ]
  },
  {
   "cell_type": "code",
   "execution_count": 42,
   "metadata": {},
   "outputs": [
    {
     "name": "stdout",
     "output_type": "stream",
     "text": [
      "28\n"
     ]
    }
   ],
   "source": [
    "destination_name = \"Venkatanarasimharajuvaripeta\"\n",
    " \n",
    "# Built-in function: len()\n",
    "length_of_destination = len(destination_name)\n",
    " \n",
    "# Built-in function: print()\n",
    "print(length_of_destination)"
   ]
  },
  {
   "cell_type": "markdown",
   "metadata": {},
   "source": [
    "Here we are using a total of two built-in functions in our example: `print()`, and `len()`.\n",
    "\n",
    "<br/>And yes, if you’re wondering, that is a real railway station in India!\n",
    "\n",
    "<br/>There are even more obscure ones like `help()` where Python will print a link to documentation for us and provide some details. Check out all the latest built-in functions in the [official Python docs](\"https://docs.python.org/3/library/functions.html\").\n",
    "\n",
    "<br/>Let’s practice using a few of them. You may need to rely on the provided Python documentation links to find your answers!\n",
    "\n",
    "<br/>*Exercise:*\n",
    "<br/>1. We were provided a list of prices for some gift shop items. Create a variable called `max_price` and call the built-in function `max()` with the variables of prices to get the maximum price, then print `max_price`:\n",
    "\n",
    "    - T-shirt: 9.75\n",
    "    - Shorts: 15.50\n",
    "    - Mug: 5.99\n",
    "    - Poster: 2.00"
   ]
  },
  {
   "cell_type": "code",
   "execution_count": 5,
   "metadata": {},
   "outputs": [
    {
     "name": "stdout",
     "output_type": "stream",
     "text": [
      "15.5\n"
     ]
    }
   ],
   "source": [
    "tshirt_price = 9.75\n",
    "shorts_price = 15.50\n",
    "mug_price = 5.99\n",
    "poster_price = 2.00\n",
    "\n",
    "# Write your code below:\n",
    "max_price = max(tshirt_price, shorts_price, mug_price, poster_price)\n",
    "print(max_price)"
   ]
  },
  {
   "cell_type": "markdown",
   "metadata": {},
   "source": [
    "2. Using the same set of prices, create a new variable called `min_price` and use the built-in function `min()` with the variables of prices to get the minimum price, then print `min_price`:"
   ]
  },
  {
   "cell_type": "code",
   "execution_count": 45,
   "metadata": {},
   "outputs": [
    {
     "name": "stdout",
     "output_type": "stream",
     "text": [
      "2.0\n"
     ]
    }
   ],
   "source": [
    "min_price = min(tshirt_price, shorts_price, mug_price, poster_price)\n",
    "print(min_price)"
   ]
  },
  {
   "cell_type": "markdown",
   "metadata": {},
   "source": [
    "3. Use the built-in function `round()` to round the price of the variable `tshirt_pric`e by one decimal place. Save the result to a variable called `rounded_price` and print it."
   ]
  },
  {
   "cell_type": "code",
   "execution_count": 6,
   "metadata": {},
   "outputs": [
    {
     "name": "stdout",
     "output_type": "stream",
     "text": [
      "9.8\n"
     ]
    }
   ],
   "source": [
    "rounded_price  = round(tshirt_price, 1)\n",
    "print(rounded_price)"
   ]
  },
  {
   "cell_type": "markdown",
   "metadata": {},
   "source": [
    "<img src=\"atom.png\" alt=\"Atom\" style=\"width:60px\" align=\"left\" vertical-align=\"middle\">\n",
    "\n",
    "## 10. Scope\n",
    "*in Python 3*\n",
    "\n",
    "----\n",
    "As we expand our programs with more functions, we might start to ponder, where exactly do we have access to our variables? To examine this, let’s revisit a modified version of the first function we built out together:"
   ]
  },
  {
   "cell_type": "code",
   "execution_count": 1,
   "metadata": {},
   "outputs": [],
   "source": [
    "def trip_welcome(destination):\n",
    "    print(\" Looks like you're going to the \" + destination + \" today. \")"
   ]
  },
  {
   "cell_type": "markdown",
   "metadata": {},
   "source": [
    "What if we wanted to access the variable `destination` outside of the function? Could we use it? Take a second to think about what the following program will output, then check the result below:"
   ]
  },
  {
   "cell_type": "code",
   "execution_count": 4,
   "metadata": {},
   "outputs": [
    {
     "ename": "NameError",
     "evalue": "name 'destination' is not defined",
     "output_type": "error",
     "traceback": [
      "\u001b[1;31m---------------------------------------------------------------------------\u001b[0m",
      "\u001b[1;31mNameError\u001b[0m                                 Traceback (most recent call last)",
      "\u001b[1;32m<ipython-input-4-583c8d14fea4>\u001b[0m in \u001b[0;36m<module>\u001b[1;34m\u001b[0m\n\u001b[0;32m      2\u001b[0m     \u001b[0mprint\u001b[0m\u001b[1;33m(\u001b[0m\u001b[1;34m\" Looks like you're going to the \"\u001b[0m \u001b[1;33m+\u001b[0m \u001b[0mdestination\u001b[0m \u001b[1;33m+\u001b[0m \u001b[1;34m\" today. \"\u001b[0m\u001b[1;33m)\u001b[0m\u001b[1;33m\u001b[0m\u001b[1;33m\u001b[0m\u001b[0m\n\u001b[0;32m      3\u001b[0m \u001b[1;33m\u001b[0m\u001b[0m\n\u001b[1;32m----> 4\u001b[1;33m \u001b[0mprint\u001b[0m\u001b[1;33m(\u001b[0m\u001b[0mdestination\u001b[0m\u001b[1;33m)\u001b[0m\u001b[1;33m\u001b[0m\u001b[1;33m\u001b[0m\u001b[0m\n\u001b[0m",
      "\u001b[1;31mNameError\u001b[0m: name 'destination' is not defined"
     ]
    }
   ],
   "source": [
    "def trip_welcome(destination):\n",
    "    print(\" Looks like you're going to the \" + destination + \" today. \")\n",
    " \n",
    "print(destination)"
   ]
  },
  {
   "cell_type": "markdown",
   "metadata": {},
   "source": [
    "If we try to run this code, we will get a `NameError`, telling us that `destination` is not defined. The variable `destination` has only been defined inside the space of a function, so it does not exist outside the function.\n",
    "\n",
    "<br/>We call the part of a program where `destination` can be accessed its *scope*. The *scope* of `destination` is only inside the `trip_welcome()`.\n",
    "\n",
    "<br/>Take a look at another example:"
   ]
  },
  {
   "cell_type": "code",
   "execution_count": 6,
   "metadata": {},
   "outputs": [
    {
     "name": "stdout",
     "output_type": "stream",
     "text": [
      "Budget:  1000\n",
      " Looks like you're going to California\n",
      " Your budget for this trip is 1000\n"
     ]
    }
   ],
   "source": [
    "budget = 1000\n",
    " \n",
    "# Here we are using a default value for our parameter of `destination` \n",
    "def trip_welcome(destination=\"California\"):\n",
    "    print(\" Looks like you're going to \" + destination)\n",
    "    print(\" Your budget for this trip is \" + str(budget))\n",
    " \n",
    "print(\"Budget: \", budget)\n",
    "trip_welcome()"
   ]
  },
  {
   "cell_type": "markdown",
   "metadata": {},
   "source": [
    "Here we are able to access the `budget` both inside the `trip_welcome` function as well as our `print()` statement. If a variable lives outside of any function it can be accessed anywhere in the file.\n",
    "\n",
    "<br/>**Note**\n",
    "<br/>We can also declare a variable within a function as `global` to make it accessible everywhere *(globally)* in the program. Note that it is not advisable to do so as this can lead to a lot of *hidden* global variables within a program that can clutter. It is always a good idea to declare *global* variables at the start of a program. "
   ]
  },
  {
   "cell_type": "code",
   "execution_count": 11,
   "metadata": {},
   "outputs": [
    {
     "name": "stdout",
     "output_type": "stream",
     "text": [
      " Looks like you're going to California\n",
      " Your minimum budget for this trip is 500\n",
      "Budget:  500\n"
     ]
    }
   ],
   "source": [
    "def trip_welcome(destination=\"California\"):\n",
    "    global minimum_budget\n",
    "    minimum_budget = 500\n",
    "    print(\" Looks like you're going to \" + destination)\n",
    "    print(\" Your minimum budget for this trip is \" + str(minimum_budget))\n",
    " \n",
    "trip_welcome()\n",
    "print(\"Budget: \", minimum_budget)"
   ]
  },
  {
   "cell_type": "markdown",
   "metadata": {},
   "source": [
    "*Exercise:*\n",
    "<br/>1. Our users want to be able to save a list of their favorite places in our travel application. We have received a rough draft for this implementation from another coder, but there are some problems with variable scope which prevent it from working properly. Take a second to understand what the program is doing and see the error:"
   ]
  },
  {
   "cell_type": "code",
   "execution_count": 12,
   "metadata": {},
   "outputs": [
    {
     "name": "stdout",
     "output_type": "stream",
     "text": [
      "There are 3 locations\n"
     ]
    },
    {
     "ename": "NameError",
     "evalue": "name 'favorite_locations' is not defined",
     "output_type": "error",
     "traceback": [
      "\u001b[1;31m---------------------------------------------------------------------------\u001b[0m",
      "\u001b[1;31mNameError\u001b[0m                                 Traceback (most recent call last)",
      "\u001b[1;32m<ipython-input-12-e8dd39b4ea23>\u001b[0m in \u001b[0;36m<module>\u001b[1;34m\u001b[0m\n\u001b[0;32m      9\u001b[0m \u001b[1;33m\u001b[0m\u001b[0m\n\u001b[0;32m     10\u001b[0m \u001b[0mprint_count_locations\u001b[0m\u001b[1;33m(\u001b[0m\u001b[1;33m)\u001b[0m\u001b[1;33m\u001b[0m\u001b[1;33m\u001b[0m\u001b[0m\n\u001b[1;32m---> 11\u001b[1;33m \u001b[0mshow_favorite_locations\u001b[0m\u001b[1;33m(\u001b[0m\u001b[1;33m)\u001b[0m\u001b[1;33m\u001b[0m\u001b[1;33m\u001b[0m\u001b[0m\n\u001b[0m",
      "\u001b[1;32m<ipython-input-12-e8dd39b4ea23>\u001b[0m in \u001b[0;36mshow_favorite_locations\u001b[1;34m()\u001b[0m\n\u001b[0;32m      6\u001b[0m \u001b[1;31m# This function will print the favorite locations\u001b[0m\u001b[1;33m\u001b[0m\u001b[1;33m\u001b[0m\u001b[1;33m\u001b[0m\u001b[0m\n\u001b[0;32m      7\u001b[0m \u001b[1;32mdef\u001b[0m \u001b[0mshow_favorite_locations\u001b[0m\u001b[1;33m(\u001b[0m\u001b[1;33m)\u001b[0m\u001b[1;33m:\u001b[0m\u001b[1;33m\u001b[0m\u001b[1;33m\u001b[0m\u001b[0m\n\u001b[1;32m----> 8\u001b[1;33m     \u001b[0mprint\u001b[0m\u001b[1;33m(\u001b[0m\u001b[1;34m\"Your favorite locations are: \"\u001b[0m \u001b[1;33m+\u001b[0m \u001b[0mfavorite_locations\u001b[0m\u001b[1;33m)\u001b[0m\u001b[1;33m\u001b[0m\u001b[1;33m\u001b[0m\u001b[0m\n\u001b[0m\u001b[0;32m      9\u001b[0m \u001b[1;33m\u001b[0m\u001b[0m\n\u001b[0;32m     10\u001b[0m \u001b[0mprint_count_locations\u001b[0m\u001b[1;33m(\u001b[0m\u001b[1;33m)\u001b[0m\u001b[1;33m\u001b[0m\u001b[1;33m\u001b[0m\u001b[0m\n",
      "\u001b[1;31mNameError\u001b[0m: name 'favorite_locations' is not defined"
     ]
    }
   ],
   "source": [
    "# This function will print a hardcoded count of how many locations we have.\n",
    "def print_count_locations():\n",
    "    favorite_locations = \"Paris, Norway, Iceland\"\n",
    "    print(\"There are 3 locations\")\n",
    "    \n",
    "# This function will print the favorite locations\n",
    "def show_favorite_locations():\n",
    "    print(\"Your favorite locations are: \" + favorite_locations)\n",
    "\n",
    "print_count_locations()\n",
    "show_favorite_locations()"
   ]
  },
  {
   "cell_type": "markdown",
   "metadata": {},
   "source": [
    "2. Looking at the error, it seems like the main issue is that `favorite_locations` is not defined. Why would our program not be able to see our beautiful `favorite_locations` variable?\n",
    "- Aha! It must be a *scope* issue. Fix the scope of `favorite_locations` so that both our functions can access it:"
   ]
  },
  {
   "cell_type": "code",
   "execution_count": 13,
   "metadata": {},
   "outputs": [
    {
     "name": "stdout",
     "output_type": "stream",
     "text": [
      "There are 3 locations\n",
      "Your favorite locations are: Paris, Norway, Iceland\n"
     ]
    }
   ],
   "source": [
    "# Declare global variables\n",
    "favorite_locations = \"Paris, Norway, Iceland\"\n",
    "\n",
    "# This function will print a hardcoded count of how many locations we have.\n",
    "def print_count_locations():\n",
    "    print(\"There are 3 locations\")\n",
    "    \n",
    "# This function will print the favorite locations\n",
    "def show_favorite_locations():\n",
    "    print(\"Your favorite locations are: \" + favorite_locations)\n",
    "\n",
    "print_count_locations()\n",
    "show_favorite_locations()"
   ]
  },
  {
   "cell_type": "markdown",
   "metadata": {},
   "source": [
    "<img src=\"atom.png\" alt=\"Atom\" style=\"width:60px\" align=\"left\" vertical-align=\"middle\">\n",
    "\n",
    "## 11. Returns\n",
    "*in Python 3*\n",
    "\n",
    "----\n",
    "At this point, our functions have been using `print()` to help us visualize the output in our interpreter. Functions can also *return* a value to the program so that this value can be modified or used later. We use the Python keyword `return` to do this.\n",
    "\n",
    "<br/>Here’s an example of a program that will `return` a converted currency for a given location a user may want to visit in our trip planner application."
   ]
  },
  {
   "cell_type": "code",
   "execution_count": 14,
   "metadata": {},
   "outputs": [
    {
     "name": "stdout",
     "output_type": "stream",
     "text": [
      "100 dollars in US currency would give you 140.0 New Zealand dollars\n"
     ]
    }
   ],
   "source": [
    "def calculate_exchange_usd(us_dollars, exchange_rate):\n",
    "    return us_dollars * exchange_rate\n",
    " \n",
    "new_zealand_exchange = calculate_exchange_usd(100, 1.4)\n",
    " \n",
    "print(\"100 dollars in US currency would give you \" + str(new_zealand_exchange) + \" New Zealand dollars\")"
   ]
  },
  {
   "cell_type": "markdown",
   "metadata": {},
   "source": [
    "Saving our values returned from a function like we did with `new_zealand_exchange` allows us to reuse the value (in the form of a variable) throughout the rest of the program. When there is a result from a function that is stored in a variable, it is called a *returned function value*. Let’s try to return some data in the exercises!\n",
    "\n",
    "<br/>*Exercise:*\n",
    "<br/>1. Our travel application is getting really popular. Some of our users have posted on social media that it would be useful if our application could help them track their budget during trips. We want to help them track their starting budget and let them know how much they have left after an expense. Take a second to understand the code look at the output:"
   ]
  },
  {
   "cell_type": "code",
   "execution_count": 15,
   "metadata": {},
   "outputs": [
    {
     "name": "stdout",
     "output_type": "stream",
     "text": [
      "Your remaining budget is: $3500.75\n"
     ]
    }
   ],
   "source": [
    "current_budget = 3500.75\n",
    "\n",
    "def print_remaining_budget(budget):\n",
    "  print(\"Your remaining budget is: $\" + str(budget))\n",
    "\n",
    "print_remaining_budget(current_budget)"
   ]
  },
  {
   "cell_type": "markdown",
   "metadata": {},
   "source": [
    "2. Let’s create a new function called `deduct_expense()` that will take two parameters. The first parameter will be `budget` and the second parameter will be `expense`. Our function will be taking in a budget value as well as the expense we want to subtract. We will want our function to *return* the budget minus the expense our travelers are incurring."
   ]
  },
  {
   "cell_type": "code",
   "execution_count": 16,
   "metadata": {},
   "outputs": [],
   "source": [
    "def deduct_expense(budget, expense):\n",
    "    return budget - expense"
   ]
  },
  {
   "cell_type": "markdown",
   "metadata": {},
   "source": [
    "3. Looks like the most common expense our travelers are incurring is a t-shirt purchase. Let’s create a variable called `shirt_expense` and for now, we will give it a set value of `9` (We are not accounting for currency changes at the moment). Make sure this is defined outside of the functions in your script."
   ]
  },
  {
   "cell_type": "code",
   "execution_count": 17,
   "metadata": {},
   "outputs": [],
   "source": [
    "shirt_expense = 9"
   ]
  },
  {
   "cell_type": "markdown",
   "metadata": {},
   "source": [
    "4. Now that we have an expense to subtract, create a new variable called `new_budget_after_shirt` and set it to be the function call of `deduct_expense()`. Pass our `current_budget` variable as the first argument and the `shirt_expense` variable as the second argument."
   ]
  },
  {
   "cell_type": "code",
   "execution_count": 18,
   "metadata": {},
   "outputs": [],
   "source": [
    "new_budget_after_shirt = deduct_expense(current_budget, shirt_expense)"
   ]
  },
  {
   "cell_type": "markdown",
   "metadata": {},
   "source": [
    "5. Lastly, we want our users to see the remaining budget. Call the provided `print_remaining_budget()` function, passing in `new_budget_after_shirt` as the only argument."
   ]
  },
  {
   "cell_type": "code",
   "execution_count": 19,
   "metadata": {},
   "outputs": [
    {
     "name": "stdout",
     "output_type": "stream",
     "text": [
      "Your remaining budget is: $3491.75\n"
     ]
    }
   ],
   "source": [
    "print_remaining_budget(new_budget_after_shirt)"
   ]
  },
  {
   "cell_type": "markdown",
   "metadata": {},
   "source": [
    "<img src=\"atom.png\" alt=\"Atom\" style=\"width:60px\" align=\"left\" vertical-align=\"middle\">\n",
    "\n",
    "## 12. Multiple Returns\n",
    "*in Python 3*\n",
    "\n",
    "----\n",
    "Sometimes we may want to return more than one value from a function. We can return several values by separating them with a comma. Take a look at this example of a function that allows users in our travel application to check the upcoming week’s weather (starting on Monday):"
   ]
  },
  {
   "cell_type": "code",
   "execution_count": 20,
   "metadata": {},
   "outputs": [],
   "source": [
    "weather_data = ['Sunny', 'Sunny', 'Cloudy', 'Raining', 'Snowing']\n",
    " \n",
    "def threeday_weather_report(weather):\n",
    "    first_day = \" Tomorrow the weather will be \" + weather[0]\n",
    "    second_day = \" The following day it will be \" + weather[1]\n",
    "    third_day = \" Two days from now it will be \" + weather[2]\n",
    "    return first_day, second_day, third_day"
   ]
  },
  {
   "cell_type": "markdown",
   "metadata": {},
   "source": [
    "This function takes in a set of data in the form of a list for the upcoming week’s weather. We can get our returned function values by assigning them to variables when we call the function:"
   ]
  },
  {
   "cell_type": "code",
   "execution_count": 21,
   "metadata": {},
   "outputs": [
    {
     "name": "stdout",
     "output_type": "stream",
     "text": [
      " Tomorrow the weather will be Sunny\n",
      " The following day it will be Sunny\n",
      " Two days from now it will be Cloudy\n"
     ]
    }
   ],
   "source": [
    "monday, tuesday, wednesday = threeday_weather_report(weather_data)\n",
    " \n",
    "print(monday)\n",
    "print(tuesday)\n",
    "print(wednesday)"
   ]
  },
  {
   "cell_type": "markdown",
   "metadata": {},
   "source": [
    "Let’s practice using multiple returns by `return`ing to our previous code example.\n",
    "\n",
    "<br/>*Exercise:*\n",
    "<br/>1. Our users liked the previous functionality that we added to our travel application, but recently we have had an influx of users planning trips in Italy. We want to create a small function to output the top places to visit in Italy. Another member of our team already started on the implementation of this feature but it is still missing a few key details. Take a second to review the code."
   ]
  },
  {
   "cell_type": "code",
   "execution_count": 22,
   "metadata": {},
   "outputs": [],
   "source": [
    "def top_tourist_locations_italy():\n",
    "    first = \"Rome\"\n",
    "    second = \"Venice\"\n",
    "    third = \"Florence\""
   ]
  },
  {
   "cell_type": "markdown",
   "metadata": {},
   "source": [
    "2. We want to be able to return the three most popular destinations from our function `top_tourist_locations_italy()`. Add a line in the function `top_tourist_locations_italy()` that will return the values of `first`, `second`, `third` in that exact order:"
   ]
  },
  {
   "cell_type": "code",
   "execution_count": 23,
   "metadata": {},
   "outputs": [],
   "source": [
    "def top_tourist_locations_italy():\n",
    "    first = \"Rome\"\n",
    "    second = \"Venice\"\n",
    "    third = \"Florence\"\n",
    "    return first, second, third"
   ]
  },
  {
   "cell_type": "markdown",
   "metadata": {},
   "source": [
    "3. In order to use our three returned values from `top_tourist_locations_italy()` we need to assign them to new variables names after we call our function. Set the return of the function `top_tourist_locations_italy()` to be equal to three new variables called `most_popular1`, `most_popular2`, and `most_popular3` in that exact order:"
   ]
  },
  {
   "cell_type": "code",
   "execution_count": 27,
   "metadata": {},
   "outputs": [
    {
     "name": "stdout",
     "output_type": "stream",
     "text": [
      "Rome\n",
      "Venice\n",
      "Florence\n"
     ]
    }
   ],
   "source": [
    "most_popular1, most_popular2, most_popular3 = top_tourist_locations_italy()\n",
    "print(most_popular1)\n",
    "print(most_popular2)\n",
    "print(most_popular3)"
   ]
  },
  {
   "cell_type": "markdown",
   "metadata": {},
   "source": [
    "<img src=\"atom.png\" alt=\"Atom\" style=\"width:60px\" align=\"left\" vertical-align=\"middle\">\n",
    "\n",
    "## 13. Review\n",
    "*Python 3*\n",
    "\n",
    "----\n",
    "Excellent work! 👏 In this lesson, you’ve covered a major fundamental programming concept used in the majority of all programs to organize code into reusable blocks. To recap, we explored:\n",
    "    \n",
    "    1. What problems arise in our programs without functions\n",
    "    2. What functions are and how to write them\n",
    "    3. How whitespace plays an important role in how a program will execute our code and more importantly distinguish function code from non-function code\n",
    "    4. How to pass input values into our functions using parameters and arguments\n",
    "    5. The difference between built-in and user-defined functions and some common built-in functions python offers\n",
    "    6. How we can reuse function output with the `return` keyword, as well as multiple returns\n",
    "    7. Where variables can be accessed in our programs that use functions (i.e. the *scope* of a function)\n",
    "\n",
    "<br/>Let’s practice putting all these concepts together!\n",
    "\n",
    "<br/>*Exercise:*\n",
    "<br/>Alright, this is it. We are going to use all of our knowledge of functions to build out TripPlanner V1.0:\n",
    "<br/>1. First, like in our previous exercises, we want to make sure to welcome our users to the application. Create a function called `trip_planner_welcome()` that takes one parameter called `name`. The function should use `print()` to output a message like this: `Welcome to tripplanner v1.0 <Name Here>` where `<Name Here>` represents the parameter variable of `name` we defined. Call `trip_planner_welcome()`, passing your `name` as an argument."
   ]
  },
  {
   "cell_type": "code",
   "execution_count": 7,
   "metadata": {},
   "outputs": [
    {
     "name": "stdout",
     "output_type": "stream",
     "text": [
      "Welcome to tripplanner v1.0 Code Monkey\n"
     ]
    }
   ],
   "source": [
    "def trip_planner_welcome(name):\n",
    "    print(f\"Welcome to tripplanner v1.0 {name}\")\n",
    "trip_planner_welcome(\"Code Monkey\")"
   ]
  },
  {
   "cell_type": "markdown",
   "metadata": {},
   "source": [
    "2. Next, we are going to define a function called `estimated_time_rounded()` that will allow us to calculate a rounded time value based on a decimal for our user’s trip.\n",
    "- An example call for this function will look like this: `estimated_time_rounded(2.5)`, where `2` represents 2 hours and `.5` represents 30 minutes\n",
    "- Define the function `estimated_time_rounded()` with a single parameter `estimated_time`\n",
    "- The function should create a variable called `rounded_time` that is the result of calling the `round()` built-in function on the parameter `estimated_time` and return `rounded_time`\n",
    "- After the function definition, call `estimated_time_rounded()` with a decimal argument and save the result to a variable called `estimate`, since this amount represents a time, be sure to use a positive number"
   ]
  },
  {
   "cell_type": "code",
   "execution_count": 10,
   "metadata": {},
   "outputs": [],
   "source": [
    "def estimated_time_rounded(estimated_time):\n",
    "    rounded_time = round(estimated_time)\n",
    "    return rounded_time\n",
    "\n",
    "estimate = estimated_time_rounded(8.5)"
   ]
  },
  {
   "cell_type": "markdown",
   "metadata": {},
   "source": [
    "2. Next, we are going to generate messages for a user’s planned trip. Create a function called `destination_setup()` that will have four parameters in this exact order:\n",
    "\n",
    "        - origin\n",
    "        - destination\n",
    "        - estimated_time\n",
    "        - mode_of_transport\n",
    "\n",
    "<br/>Give the parameter `mode_of_transport` a default value of `\"Car\"`. The program will error out if we run it since we have not defined a function body yet. Don’t worry we will do that in the next step."
   ]
  },
  {
   "cell_type": "code",
   "execution_count": 29,
   "metadata": {},
   "outputs": [
    {
     "ename": "SyntaxError",
     "evalue": "unexpected EOF while parsing (<ipython-input-29-42762c2a0b54>, line 1)",
     "output_type": "error",
     "traceback": [
      "\u001b[1;36m  File \u001b[1;32m\"<ipython-input-29-42762c2a0b54>\"\u001b[1;36m, line \u001b[1;32m1\u001b[0m\n\u001b[1;33m    def destination_setup(origin, destination, estimated_time, mode_of_transport = \"Car\"):\u001b[0m\n\u001b[1;37m                                                                                          ^\u001b[0m\n\u001b[1;31mSyntaxError\u001b[0m\u001b[1;31m:\u001b[0m unexpected EOF while parsing\n"
     ]
    }
   ],
   "source": [
    "def destination_setup(origin, destination, estimated_time, mode_of_transport = \"Car\"):"
   ]
  },
  {
   "cell_type": "markdown",
   "metadata": {},
   "source": [
    "3. Next, we are going to write four `print()` statements in our function. Each of the `print()` statements use a different parameter from our function `destination_setup()`. After the function definition, call `destination_setup()` with the following arguments:\n",
    "- `origin` and `destination` should be string values representing the places you will travel from and to\n",
    "- Use the estimate you created earlier for `estimated_time`\n",
    "- If you will be traveling by a mode other than `Car`, be sure to overwrite the default value of `mode_of_transport`"
   ]
  },
  {
   "cell_type": "code",
   "execution_count": 12,
   "metadata": {},
   "outputs": [
    {
     "name": "stdout",
     "output_type": "stream",
     "text": [
      "Your trip starts off in Australia\n",
      "And you are traveling to India\n",
      "You will be traveling by aeroplane\n",
      "It will take approximately 8 hours\n"
     ]
    }
   ],
   "source": [
    "def destination_setup(origin, destination, estimated_time, mode_of_transport = \"car\"):\n",
    "    print(f\"Your trip starts off in {origin}\")\n",
    "    print(f\"And you are traveling to {destination}\")\n",
    "    print(f\"You will be traveling by {mode_of_transport}\")\n",
    "    print(f\"It will take approximately {estimated_time} hours\")\n",
    "\n",
    "destination_setup(\"Australia\", \"India\", estimate, \"aeroplane\")"
   ]
  },
  {
   "cell_type": "markdown",
   "metadata": {},
   "source": [
    "5. Great job! 👏 We have successfully finished our first version of the trip builder application. Go ahead and fill in the values with whatever you like. Once have filled in the arguments, run the program to see it all in action:"
   ]
  },
  {
   "cell_type": "code",
   "execution_count": 13,
   "metadata": {},
   "outputs": [
    {
     "name": "stdout",
     "output_type": "stream",
     "text": [
      "Welcome to tripplanner v1.0 Code Monkey\n",
      "Your trip starts off in New York\n",
      "And you are traveling to California\n",
      "You will be traveling by car\n",
      "It will take approximately 12 hours\n"
     ]
    }
   ],
   "source": [
    "# Give some arguments\n",
    "trip_planner_welcome(\"Code Monkey\")\n",
    "estimate = estimated_time_rounded(12.43)\n",
    "destination_setup(\"New York\", \"California\", estimate)"
   ]
  }
 ],
 "metadata": {
  "kernelspec": {
   "display_name": "Python 3",
   "language": "python",
   "name": "python3"
  },
  "language_info": {
   "codemirror_mode": {
    "name": "ipython",
    "version": 3
   },
   "file_extension": ".py",
   "mimetype": "text/x-python",
   "name": "python",
   "nbconvert_exporter": "python",
   "pygments_lexer": "ipython3",
   "version": "3.8.4"
  }
 },
 "nbformat": 4,
 "nbformat_minor": 4
}
