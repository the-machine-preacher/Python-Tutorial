{
 "cells": [
  {
   "cell_type": "markdown",
   "metadata": {},
   "source": [
    "<img src=\"atom.png\" alt=\"Atom\" style=\"width:60px\" align=\"left\" vertical-align=\"middle\">\n",
    "\n",
    "## 1. What is a list?\n",
    "*in Python 3*\n",
    "\n",
    "----\n",
    "Lists are mutable sequences, typically used to store collections of homogeneous items (where the precise degree of similarity will vary by application) in Python.\n",
    "\n",
    "<br/>Suppose we want to make a list of the heights of students in a class:\n",
    "\n",
    "    Jenny is 61 inches tall\n",
    "    Alexus is 70 inches tall\n",
    "    Sam is 67 inches tall\n",
    "    Grace is 64 inches tall\n",
    "\n",
    "<br/>In Python, we can create a variable called `heights` to store these numbers:\n",
    "\n"
   ]
  },
  {
   "cell_type": "code",
   "execution_count": 1,
   "metadata": {},
   "outputs": [],
   "source": [
    "heights = [61, 70, 67, 64]"
   ]
  },
  {
   "cell_type": "markdown",
   "metadata": {},
   "source": [
    "Notice that:\n",
    "\n",
    "    1. A list begins and ends with square brackets ([ and ]).\n",
    "    2. Each item (i.e., 67 or 70) is separated by a comma (,)\n",
    "    3. It’s considered good practice to insert a space ' ' after each comma, but your code will run just fine if you forget the space.\n"
   ]
  },
  {
   "cell_type": "markdown",
   "metadata": {},
   "source": [
    "<img src=\"atom.png\" alt=\"Atom\" style=\"width:60px\" align=\"left\" vertical-align=\"middle\">\n",
    "\n",
    "## 2. Lists II\n",
    "*in Python 3*\n",
    "\n",
    "----\n",
    "Lists can contain more than just numbers.\n",
    "\n",
    "<br/>Let’s revisit our height example:\n",
    "\n",
    "    Jenny is 61 inches tall\n",
    "    Alexus is 70 inches tall\n",
    "    Sam is 67 inches tall\n",
    "    Grace is 64 inches tall\n",
    "\n",
    "<br/>We can make a list of strings that contain the students’ names:"
   ]
  },
  {
   "cell_type": "code",
   "execution_count": 3,
   "metadata": {},
   "outputs": [],
   "source": [
    "names = ['Jenny', 'Alexus', 'Sam', 'Grace']"
   ]
  },
  {
   "cell_type": "markdown",
   "metadata": {},
   "source": [
    "We can also combine multiple data types in one list. For example, these lists contain both strings and integers:"
   ]
  },
  {
   "cell_type": "code",
   "execution_count": 5,
   "metadata": {},
   "outputs": [],
   "source": [
    "mixed_list = ['Jenny', 61]\n",
    "ints_and_strings = [1, 2, 3, 'four', 'five', 'hello']\n",
    "sam_height = ['Sam', 67]"
   ]
  },
  {
   "cell_type": "markdown",
   "metadata": {},
   "source": [
    "<img src=\"atom.png\" alt=\"Atom\" style=\"width:60px\" align=\"left\" vertical-align=\"middle\">\n",
    "\n",
    "## 3. List of Lists\n",
    "*in Python 3*\n",
    "\n",
    "----\n",
    "We’ve seen that the items in a list can be numbers or strings. They can also be other lists!\n",
    "\n",
    "<br/>Once more, let’s return to our class height example:\n",
    "\n",
    "    Jenny is 61 inches tall\n",
    "    Alexus is 70 inches tall\n",
    "    Sam is 67 inches tall\n",
    "    Grace is 64 inches tall\n",
    "\n",
    "<br/>Previously, we saw that we could create a list representing both Jenny’s name and height:"
   ]
  },
  {
   "cell_type": "code",
   "execution_count": 6,
   "metadata": {},
   "outputs": [],
   "source": [
    "jenny = ['Jenny', 61]"
   ]
  },
  {
   "cell_type": "markdown",
   "metadata": {},
   "source": [
    "We can put several of these lists into one list, such that each entry in the list represents a student and their height, and another of their names and ages:"
   ]
  },
  {
   "cell_type": "code",
   "execution_count": 8,
   "metadata": {},
   "outputs": [],
   "source": [
    "heights = [['Jenny', 61], ['Alexus', 70], ['Sam', 67], ['Grace', 64], ['Vik', 68]]\n",
    "ages = [['Aaron', 15], ['Dhruti', 16]]"
   ]
  },
  {
   "cell_type": "markdown",
   "metadata": {},
   "source": [
    "<img src=\"atom.png\" alt=\"Atom\" style=\"width:60px\" align=\"left\" vertical-align=\"middle\">\n",
    "\n",
    "## 4. Zip\n",
    "*in Python 3*\n",
    "\n",
    "----\n",
    "Again, let’s return to our class height example:\n",
    "\n",
    "    Jenny is 61 inches tall\n",
    "    Alexus is 70 inches tall\n",
    "    Sam is 67 inches tall\n",
    "    Grace is 64 inches tall\n",
    "\n",
    "<br/>Suppose that we already had a list of names and a list of heights:"
   ]
  },
  {
   "cell_type": "code",
   "execution_count": 9,
   "metadata": {},
   "outputs": [],
   "source": [
    "names = ['Jenny', 'Alexus', 'Sam', 'Grace']\n",
    "heights = [61, 70, 67, 65]"
   ]
  },
  {
   "cell_type": "markdown",
   "metadata": {},
   "source": [
    "If we wanted to create a list of lists that paired each name with a height, we could use the command `zip`. `zip` takes two (or more) lists as inputs and returns an *object* that contains a list of pairs. Each *pair* contains one element from each of the inputs. You won’t be able to see much about this object from just printing it because it will return the location of this object in memory. Output would look something like this:"
   ]
  },
  {
   "cell_type": "code",
   "execution_count": 10,
   "metadata": {},
   "outputs": [
    {
     "name": "stdout",
     "output_type": "stream",
     "text": [
      "<zip object at 0x1100c2148>\n"
     ]
    }
   ],
   "source": [
    "names_and_heights = zip(names, heights)\n",
    "print(names_and_heights)"
   ]
  },
  {
   "cell_type": "markdown",
   "metadata": {},
   "source": [
    "To see the nested lists, you can convert the zip object to a `list` first:"
   ]
  },
  {
   "cell_type": "code",
   "execution_count": 11,
   "metadata": {},
   "outputs": [
    {
     "name": "stdout",
     "output_type": "stream",
     "text": [
      "[('Jenny', 61), ('Alexus', 70), ('Sam', 67), ('Grace', 65)]\n"
     ]
    }
   ],
   "source": [
    "print(list(names_and_heights))"
   ]
  },
  {
   "cell_type": "markdown",
   "metadata": {},
   "source": [
    "Another example:"
   ]
  },
  {
   "cell_type": "code",
   "execution_count": 4,
   "metadata": {},
   "outputs": [
    {
     "name": "stdout",
     "output_type": "stream",
     "text": [
      "[('Jenny', 'Elphonse'), ('Alexus', 'Dr. Doggy DDS'), ('Sam', 'Carter'), ('Grace', 'Ralph')]\n"
     ]
    }
   ],
   "source": [
    "names = ['Jenny', 'Alexus', 'Sam', 'Grace']\n",
    "dogs_names = ['Elphonse', 'Dr. Doggy DDS', 'Carter', 'Ralph']\n",
    "\n",
    "names_and_dogs_names = zip(names, dogs_names)\n",
    "list_of_names_and_dogs_names = list(names_and_dogs_names)\n",
    "print(list_of_names_and_dogs_names)"
   ]
  },
  {
   "cell_type": "markdown",
   "metadata": {},
   "source": [
    "<img src=\"atom.png\" alt=\"Atom\" style=\"width:60px\" align=\"left\" vertical-align=\"middle\">\n",
    "\n",
    "## 5. Empty Lists\n",
    "*in Python 3*\n",
    "\n",
    "----\n",
    "A list doesn’t have to contain anything! You can create an empty list like this:"
   ]
  },
  {
   "cell_type": "code",
   "execution_count": 13,
   "metadata": {},
   "outputs": [],
   "source": [
    "empty_list = []"
   ]
  },
  {
   "cell_type": "markdown",
   "metadata": {},
   "source": [
    "Why would we create an empty list?\n",
    "\n",
    "<br/>Usually, it’s because we’re planning on filling it later based on some input. We’ll talk about two ways of filling up a list in the next example."
   ]
  },
  {
   "cell_type": "markdown",
   "metadata": {},
   "source": [
    "<img src=\"atom.png\" alt=\"Atom\" style=\"width:60px\" align=\"left\" vertical-align=\"middle\">\n",
    "\n",
    "## 6. Growing a List: Append\n",
    "*in Python 3*\n",
    "\n",
    "----\n",
    "We can add a single element to a list using `.append()`. For example, suppose we have an empty list called `empty_list`:"
   ]
  },
  {
   "cell_type": "code",
   "execution_count": 14,
   "metadata": {},
   "outputs": [],
   "source": [
    "empty_list = []"
   ]
  },
  {
   "cell_type": "markdown",
   "metadata": {},
   "source": [
    "We can add the element `1` using the following commands:"
   ]
  },
  {
   "cell_type": "code",
   "execution_count": 15,
   "metadata": {},
   "outputs": [],
   "source": [
    "empty_list.append(1)"
   ]
  },
  {
   "cell_type": "markdown",
   "metadata": {},
   "source": [
    "If we examine `empty_list`, we see that it now contains `1`:"
   ]
  },
  {
   "cell_type": "code",
   "execution_count": 16,
   "metadata": {},
   "outputs": [
    {
     "name": "stdout",
     "output_type": "stream",
     "text": [
      "[1]\n"
     ]
    }
   ],
   "source": [
    "print(empty_list)"
   ]
  },
  {
   "cell_type": "markdown",
   "metadata": {},
   "source": [
    "When we use `.append()` on a list that already has elements, our new element is added to the **end** of the list:"
   ]
  },
  {
   "cell_type": "code",
   "execution_count": 17,
   "metadata": {},
   "outputs": [
    {
     "name": "stdout",
     "output_type": "stream",
     "text": [
      "[1, 2, 3, 5]\n"
     ]
    }
   ],
   "source": [
    "# Create a list\n",
    "my_list = [1, 2, 3]\n",
    "\n",
    "# Append a number\n",
    "my_list.append(5)\n",
    "print(my_list) # check the result"
   ]
  },
  {
   "cell_type": "markdown",
   "metadata": {},
   "source": [
    "It’s important to remember that `.append()` comes **after** the list. This is different from functions like `print`, which come **before.** Another example:"
   ]
  },
  {
   "cell_type": "code",
   "execution_count": 18,
   "metadata": {},
   "outputs": [
    {
     "name": "stdout",
     "output_type": "stream",
     "text": [
      "['daisies', 'periwinkle']\n",
      "['daisies', 'periwinkle', 'tulips', 'roses']\n"
     ]
    }
   ],
   "source": [
    "orders = ['daisies', 'periwinkle']\n",
    "print(orders)\n",
    "orders.append('tulips')\n",
    "orders.append('roses')\n",
    "print(orders)"
   ]
  },
  {
   "cell_type": "markdown",
   "metadata": {},
   "source": [
    "**Note:** similar to `.sort()`, the function `.append()` does not return anything:"
   ]
  },
  {
   "cell_type": "code",
   "execution_count": 1,
   "metadata": {},
   "outputs": [
    {
     "name": "stdout",
     "output_type": "stream",
     "text": [
      "[23, 42, 108, 3]\n",
      "None\n"
     ]
    }
   ],
   "source": [
    "lst = [23, 42, 108]\n",
    "new_list = lst.append(len(lst))\n",
    "print(lst) # This will return the desired answer\n",
    "print(new_list) # This will not return anything"
   ]
  },
  {
   "cell_type": "markdown",
   "metadata": {},
   "source": [
    "Because of this, you are better off adding lists manually instead of using the `.append()` function as this may lead to unnecessary errors:"
   ]
  },
  {
   "cell_type": "code",
   "execution_count": 4,
   "metadata": {},
   "outputs": [
    {
     "name": "stdout",
     "output_type": "stream",
     "text": [
      "[91, 94, 97, 100]\n",
      "None\n"
     ]
    }
   ],
   "source": [
    "# Return a list of every third number between start and 100 (inclusive). For example, every_three_nums(91) should return the list [91, 94, 97, 100]:\n",
    "start = 91\n",
    "print(list(range(start, 100, 3)) + [100]) # This will return the desired answer\n",
    "print(list(range(start, 100, 3)).append(100)) # This will not return anything"
   ]
  },
  {
   "cell_type": "markdown",
   "metadata": {},
   "source": [
    "<img src=\"atom.png\" alt=\"Atom\" style=\"width:60px\" align=\"left\" vertical-align=\"middle\">\n",
    "\n",
    "## 7. Growing a List: Plus (+)\n",
    "*in Python 3*\n",
    "\n",
    "----"
   ]
  },
  {
   "cell_type": "markdown",
   "metadata": {},
   "source": [
    "When we want to add multiple items to a list, we can use `+` to combine two lists.\n",
    "\n",
    "<br/>Below, we have a list of items sold at a bakery called `items_sold`:"
   ]
  },
  {
   "cell_type": "code",
   "execution_count": 15,
   "metadata": {},
   "outputs": [],
   "source": [
    "items_sold = ['cake', 'cookie', 'bread']"
   ]
  },
  {
   "cell_type": "markdown",
   "metadata": {},
   "source": [
    "Suppose the bakery wants to start selling `'biscuit'` and `'tart'`:"
   ]
  },
  {
   "cell_type": "code",
   "execution_count": 16,
   "metadata": {},
   "outputs": [
    {
     "name": "stdout",
     "output_type": "stream",
     "text": [
      "['cake', 'cookie', 'bread', 'biscuit', 'tart']\n"
     ]
    }
   ],
   "source": [
    "items_sold_new = items_sold + ['biscuit', 'tart']\n",
    "print(items_sold_new)"
   ]
  },
  {
   "cell_type": "markdown",
   "metadata": {},
   "source": [
    "In this example, we created a new variable, `items_sold_new`, which contained both the original items sold, and the new ones. We can inspect the original `items_sold` and see that it did not change:"
   ]
  },
  {
   "cell_type": "code",
   "execution_count": 18,
   "metadata": {},
   "outputs": [
    {
     "name": "stdout",
     "output_type": "stream",
     "text": [
      "['cake', 'cookie', 'bread']\n"
     ]
    }
   ],
   "source": [
    "print(items_sold)"
   ]
  },
  {
   "cell_type": "markdown",
   "metadata": {},
   "source": [
    "We can only use `+` with other lists. If we type in this code we will get a `TypeError`:"
   ]
  },
  {
   "cell_type": "code",
   "execution_count": 22,
   "metadata": {},
   "outputs": [
    {
     "ename": "TypeError",
     "evalue": "can only concatenate list (not \"int\") to list",
     "output_type": "error",
     "traceback": [
      "\u001b[0;31m---------------------------------------------------------------------------\u001b[0m",
      "\u001b[0;31mTypeError\u001b[0m                                 Traceback (most recent call last)",
      "\u001b[0;32m<ipython-input-22-fabe97ee4a58>\u001b[0m in \u001b[0;36m<module>\u001b[0;34m()\u001b[0m\n\u001b[1;32m      1\u001b[0m \u001b[0mmy_list\u001b[0m \u001b[0;34m=\u001b[0m \u001b[0;34m[\u001b[0m\u001b[0;36m1\u001b[0m\u001b[0;34m,\u001b[0m \u001b[0;36m2\u001b[0m\u001b[0;34m,\u001b[0m \u001b[0;36m3\u001b[0m\u001b[0;34m]\u001b[0m\u001b[0;34m\u001b[0m\u001b[0m\n\u001b[0;32m----> 2\u001b[0;31m \u001b[0mmy_list\u001b[0m \u001b[0;34m+\u001b[0m \u001b[0;36m4\u001b[0m\u001b[0;34m\u001b[0m\u001b[0m\n\u001b[0m",
      "\u001b[0;31mTypeError\u001b[0m: can only concatenate list (not \"int\") to list"
     ]
    }
   ],
   "source": [
    "my_list = [1, 2, 3]\n",
    "my_list + 4"
   ]
  },
  {
   "cell_type": "markdown",
   "metadata": {},
   "source": [
    "If we want to add a single element using `+`, we have to put it into a list with brackets (`[]`):"
   ]
  },
  {
   "cell_type": "code",
   "execution_count": 23,
   "metadata": {},
   "outputs": [
    {
     "data": {
      "text/plain": [
       "[1, 2, 3, 4]"
      ]
     },
     "execution_count": 23,
     "metadata": {},
     "output_type": "execute_result"
    }
   ],
   "source": [
    "my_list + [4]"
   ]
  },
  {
   "cell_type": "markdown",
   "metadata": {},
   "source": [
    "Other examples:"
   ]
  },
  {
   "cell_type": "code",
   "execution_count": 19,
   "metadata": {},
   "outputs": [
    {
     "name": "stdout",
     "output_type": "stream",
     "text": [
      "['daisy', 'buttercup', 'snapdragon', 'gardenia', 'lily', 'lilac', 'iris']\n",
      "[5, 3, 4, 5, 4, 4]\n"
     ]
    }
   ],
   "source": [
    "orders = ['daisy', 'buttercup', 'snapdragon', 'gardenia', 'lily']\n",
    "\n",
    "# Create new orders here:\n",
    "new_orders = orders + ['lilac', 'iris']\n",
    "print(new_orders)\n",
    "\n",
    "# Broken prices:\n",
    "broken_prices = [5, 3, 4, 5, 4] + [4]\n",
    "print(broken_prices)"
   ]
  },
  {
   "cell_type": "markdown",
   "metadata": {},
   "source": [
    "<img src=\"atom.png\" alt=\"Atom\" style=\"width:60px\" align=\"left\" vertical-align=\"middle\">\n",
    "\n",
    "## 8. Range I\n",
    "*in Python 3*\n",
    "\n",
    "----\n",
    "Often, we want to create a list of consecutive numbers. For example, suppose we want a list containing the numbers 0 through 9:"
   ]
  },
  {
   "cell_type": "code",
   "execution_count": 25,
   "metadata": {},
   "outputs": [],
   "source": [
    "my_list = [0, 1, 2, 3, 4, 5, 6, 7, 8, 9]"
   ]
  },
  {
   "cell_type": "markdown",
   "metadata": {},
   "source": [
    "Typing out all of those numbers takes time and the more numbers we type, the more likely it is that we have a typo.\n",
    "\n",
    "<br/>Python gives us an easy way of creating these lists using a function called `range`. The function `range` takes a single input, and generates numbers starting at `0` and ending at the number **before** the input. So, if we want the numbers from `0` through `9`, we use `range(10)` because `10` is `1` greater than `9`:"
   ]
  },
  {
   "cell_type": "code",
   "execution_count": 2,
   "metadata": {},
   "outputs": [],
   "source": [
    "my_range = range(10)"
   ]
  },
  {
   "cell_type": "markdown",
   "metadata": {},
   "source": [
    "Just like with `zip`, the `range` function returns an object that we can convert into a `list`:"
   ]
  },
  {
   "cell_type": "code",
   "execution_count": 27,
   "metadata": {},
   "outputs": [
    {
     "name": "stdout",
     "output_type": "stream",
     "text": [
      "range(0, 10)\n",
      "[0, 1, 2, 3, 4, 5, 6, 7, 8, 9]\n"
     ]
    }
   ],
   "source": [
    "print(my_range)\n",
    "print(list(my_range))"
   ]
  },
  {
   "cell_type": "markdown",
   "metadata": {},
   "source": [
    "<img src=\"atom.png\" alt=\"Atom\" style=\"width:60px\" align=\"left\" vertical-align=\"middle\">\n",
    "\n",
    "## 9. Range II\n",
    "*in Python 3*\n",
    "\n",
    "----\n",
    "We can use `range` to generate more interesting lists.\n",
    "\n",
    "<br/>By default, `range` creates a list starting at `0`. However, if we call `range` with two arguments, we can create a list that starts at a different number. For example, `range(2, 9)` would generate numbers starting at `2` and ending at `8` (just before `9`):"
   ]
  },
  {
   "cell_type": "code",
   "execution_count": 28,
   "metadata": {},
   "outputs": [
    {
     "name": "stdout",
     "output_type": "stream",
     "text": [
      "[2, 3, 4, 5, 6, 7, 8]\n"
     ]
    }
   ],
   "source": [
    "my_list = range(2, 9)\n",
    "print(list(my_list))"
   ]
  },
  {
   "cell_type": "markdown",
   "metadata": {},
   "source": [
    "With one or two arguments, `range` will create a list of consecutive numbers (i.e., each number is one greater than the previous number). If we use a third argument, we can create a list that “skips” numbers. For example, `range(2, 9, 2)` will give us a list where each number is `2` greater than the previous number:"
   ]
  },
  {
   "cell_type": "code",
   "execution_count": 29,
   "metadata": {},
   "outputs": [
    {
     "name": "stdout",
     "output_type": "stream",
     "text": [
      "[2, 4, 6, 8]\n"
     ]
    }
   ],
   "source": [
    "my_range2 = range(2, 9, 2)\n",
    "print(list(my_range2))"
   ]
  },
  {
   "cell_type": "markdown",
   "metadata": {},
   "source": [
    "We can skip as many numbers as we want! In this example, we’ll start at `1` and skip `10` between each number until we get to `100`:"
   ]
  },
  {
   "cell_type": "code",
   "execution_count": 30,
   "metadata": {},
   "outputs": [
    {
     "name": "stdout",
     "output_type": "stream",
     "text": [
      "[1, 11, 21, 31, 41, 51, 61, 71, 81, 91]\n"
     ]
    }
   ],
   "source": [
    "my_range3 = range(1, 100, 10)\n",
    "print(list(my_range3))"
   ]
  },
  {
   "cell_type": "markdown",
   "metadata": {},
   "source": [
    "Other examples:"
   ]
  },
  {
   "cell_type": "code",
   "execution_count": 3,
   "metadata": {},
   "outputs": [
    {
     "name": "stdout",
     "output_type": "stream",
     "text": [
      "[5, 8, 11, 14]\n",
      "[0, 5, 10, 15, 20, 25, 30, 35]\n"
     ]
    }
   ],
   "source": [
    "list1 = range(5, 15, 3)\n",
    "list2 = range(0, 40, 5)\n",
    "print(list(list1))\n",
    "print(list(list2))"
   ]
  },
  {
   "cell_type": "markdown",
   "metadata": {},
   "source": [
    "<img src=\"atom.png\" alt=\"Atom\" style=\"width:60px\" align=\"left\" vertical-align=\"middle\">\n",
    "\n",
    "## 10. Review\n",
    "*Python 3*\n",
    "\n",
    "----\n",
    "So far, we have learned\n",
    "\n",
    "    1. How to create a list\n",
    "    2. How to create a list of lists using zip\n",
    "    3. How to add elements to a list using either .append() or +\n",
    "    4. How to use range to create lists of integers\n",
    "\n",
    "<br/>Refer to [Learn.py](https://github.com/the-machine-preacher/Learn-Python) to help you remember the content covered in this lesson. Below is another example of the concepts learned:\n"
   ]
  },
  {
   "cell_type": "code",
   "execution_count": 14,
   "metadata": {},
   "outputs": [
    {
     "name": "stdout",
     "output_type": "stream",
     "text": [
      "Ages: [32, 41, 29, 42]\n",
      "Name & Age: [('Ainsley', 32), ('Ben', 41), ('Chani', 29), ('Depak', 42)]\n",
      "IDs: [0, 1, 2, 3]\n",
      "Name & IDs: [('Ainsley', 0), ('Ben', 1), ('Chani', 2), ('Depak', 3)]\n",
      "\n",
      "Subjects: ['physics', 'calculus', 'poetry', 'history', 'computer science']\n",
      "Grades: [98, 97, 85, 88, 100]\n",
      "\n",
      "Gradebook: [('physics', 98), ('calculus', 97), ('poetry', 85), ('history', 88), ('computer science', 100), ('visual arts', 93)]\n"
     ]
    }
   ],
   "source": [
    "#Basic operations\n",
    "first_names = ['Ainsley', 'Ben', 'Chani', 'Depak']\n",
    "age = []\n",
    "age.append(42)\n",
    "all_ages = [32, 41, 29] + age\n",
    "name_and_age = zip(first_names, all_ages)\n",
    "ids = range(4)\n",
    "name_and_ids = list(zip(first_names, ids))\n",
    "print(\"Ages:\", all_ages)\n",
    "print(\"Name & Age:\", list(name_and_age))\n",
    "print(\"IDs:\", list(ids))\n",
    "print(\"Name & IDs:\", name_and_ids)\n",
    "\n",
    "#Appending variables, lists and tuples to lists\n",
    "last_semester_gradebook = [(\"politics\", 80), (\"latin\", 96), (\"dance\", 97), (\"architecture\", 65)]\n",
    "subjects = [\"physics\", \"calculus\", \"poetry\", \"history\"]\n",
    "\n",
    "subjects.append(\"computer science\")\n",
    "grades = [98, 97, 85, 88]\n",
    "grades.append(100)\n",
    "print(\"\\nSubjects:\", subjects)\n",
    "print(\"Grades:\", grades)\n",
    "\n",
    "gradebook = list(zip(subjects, grades))\n",
    "gradebook.append((\"visual arts\", 93))\n",
    "print(\"\\nGradebook:\", gradebook)"
   ]
  }
 ],
 "metadata": {
  "kernelspec": {
   "display_name": "Python 3",
   "language": "python",
   "name": "python3"
  },
  "language_info": {
   "codemirror_mode": {
    "name": "ipython",
    "version": 3
   },
   "file_extension": ".py",
   "mimetype": "text/x-python",
   "name": "python",
   "nbconvert_exporter": "python",
   "pygments_lexer": "ipython3",
   "version": "3.8.4"
  }
 },
 "nbformat": 4,
 "nbformat_minor": 2
}
