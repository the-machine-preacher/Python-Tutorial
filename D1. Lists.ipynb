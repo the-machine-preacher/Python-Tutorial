{
 "cells": [
  {
   "cell_type": "markdown",
   "metadata": {},
   "source": [
    "<img src=\"atom.png\" alt=\"Atom\" style=\"width:60px\" align=\"left\" vertical-align=\"middle\">\n",
    "\n",
    "## 1. What is a list?\n",
    "*in Python 3*\n",
    "\n",
    "----\n",
    "In programming, it is common to want to work with collections of data. In Python, a list is one of the many built-in data structures that allows us to work with a collection of data in sequential order. Formally, lists are mutable sequences, typically used to store collections of homogeneous items (where the precise degree of similarity will vary by application). \n",
    "\n",
    "<br/>Suppose we want to make a list of the heights of students in a class:\n",
    "\n",
    "    Noelle is 61 inches tall\n",
    "    Ava is 70 inches tall\n",
    "    Sam is 67 inches tall\n",
    "    Mia is 64 inches tall\n",
    "\n",
    "<br/>In Python, we can create a variable called `heights` to store these numbers:\n",
    "\n"
   ]
  },
  {
   "cell_type": "code",
   "execution_count": 1,
   "metadata": {},
   "outputs": [],
   "source": [
    "heights = [61, 70, 67, 64]"
   ]
  },
  {
   "cell_type": "markdown",
   "metadata": {},
   "source": [
    "Notice that:\n",
    "\n",
    "    1. A list begins and ends with square brackets [ and ].\n",
    "    2. Each item (i.e., 67 or 70) is separated by a comma (,)\n",
    "    3. It’s considered good practice to insert a space ' ' after each comma, but your code will run just fine if you forget the space.\n"
   ]
  },
  {
   "cell_type": "markdown",
   "metadata": {},
   "source": [
    "<img src=\"atom.png\" alt=\"Atom\" style=\"width:60px\" align=\"left\" vertical-align=\"middle\">\n",
    "\n",
    "## 2. What can a List contain?\n",
    "*in Python 3*\n",
    "\n",
    "----\n",
    "Lists can contain more than just numbers.\n",
    "\n",
    "<br/>Let’s revisit our height example:\n",
    "\n",
    "    Noelle is 61 inches tall\n",
    "    Ava is 70 inches tall\n",
    "    Sam is 67 inches tall\n",
    "    Mia is 64 inches tall\n",
    "\n",
    "<br/>We can make a list of strings that contain the students’ names:"
   ]
  },
  {
   "cell_type": "code",
   "execution_count": 3,
   "metadata": {},
   "outputs": [],
   "source": [
    "names = [\"Noelle\", \"Ava\", \"Sam\", \"Mia\"]"
   ]
  },
  {
   "cell_type": "markdown",
   "metadata": {},
   "source": [
    "We can even combine multiple data types in one list. For example, this list contains both a string and an integer:"
   ]
  },
  {
   "cell_type": "code",
   "execution_count": 2,
   "metadata": {},
   "outputs": [],
   "source": [
    "mixed_list_string_number = [\"Noelle\", 61]"
   ]
  },
  {
   "cell_type": "markdown",
   "metadata": {},
   "source": [
    "Lists can contain any data type in Python! For example, this list contains a string, integer, boolean, and float:"
   ]
  },
  {
   "cell_type": "code",
   "execution_count": 3,
   "metadata": {},
   "outputs": [],
   "source": [
    "# Some examples of lists\n",
    "mixed_list_common = [\"Mia\", 27, False, 0.5]\n",
    "ints_and_strings = [1, 2, 3, \"four\", \"five\", \"six\"]\n",
    "sam_height_and_testscore = [\"Sam\", 67, 85.5, True]"
   ]
  },
  {
   "cell_type": "markdown",
   "metadata": {},
   "source": [
    "<img src=\"atom.png\" alt=\"Atom\" style=\"width:60px\" align=\"left\" vertical-align=\"middle\">\n",
    "\n",
    "## 3. Empty Lists\n",
    "*in Python 3*\n",
    "\n",
    "----\n",
    "A list doesn’t have to contain anything, even *nothing!* There are two ways to create an empty list in Python. The most direct way is to create a variable and assign it an empty list by using a set of square brackets `[]` containing no items. The second way to create an empty list is to use the `list` class to create an empty list. Both methods achieve the same result and are shown in the following example code:"
   ]
  },
  {
   "cell_type": "code",
   "execution_count": 5,
   "metadata": {},
   "outputs": [],
   "source": [
    "# Method 1\n",
    "empty_list = []\n",
    "\n",
    "# Method 2\n",
    "empty_list_2 = list()"
   ]
  },
  {
   "cell_type": "markdown",
   "metadata": {},
   "source": [
    "Why would we create an empty list?\n",
    "\n",
    "<br/>Usually, it’s because we’re planning on filling it up later based on some other input. We’ll talk about two ways of filling up a list in the next exercise."
   ]
  },
  {
   "cell_type": "markdown",
   "metadata": {},
   "source": [
    "<img src=\"atom.png\" alt=\"Atom\" style=\"width:60px\" align=\"left\" vertical-align=\"middle\">\n",
    "\n",
    "## 4. List Methods\n",
    "*in Python 3*\n",
    "\n",
    "----\n",
    "As we start exploring lists further in the next exercises, we will encounter the concept of a *method*.\n",
    "\n",
    "<br/>In Python, for any specific data-type (strings, booleans, lists, etc.) there is built-in functionality that we can use to create, manipulate, and even delete our data. We call this built-in functionality a *method*.\n",
    "\n",
    "<br/>For lists, methods will follow the form of `list_name.method()`. Some methods will require an input value that will go between the parenthesis of the method `( )`.\n",
    "\n",
    "<br/>An example of a popular list method is `.append()`, which allows us to add an element to the end of a list."
   ]
  },
  {
   "cell_type": "code",
   "execution_count": 6,
   "metadata": {},
   "outputs": [
    {
     "name": "stdout",
     "output_type": "stream",
     "text": [
      "['This', 'is', 'an', 'example', 'list']\n"
     ]
    }
   ],
   "source": [
    "append_example = ['This', 'is', 'an', 'example']\n",
    "append_example.append('list')\n",
    "print(append_example)"
   ]
  },
  {
   "cell_type": "markdown",
   "metadata": {},
   "source": [
    "We will be exploring `.append()` and many other methods in the upcoming exercises but for now take a second to examine and play around with the code for two common list methods:"
   ]
  },
  {
   "cell_type": "code",
   "execution_count": 8,
   "metadata": {},
   "outputs": [
    {
     "name": "stdout",
     "output_type": "stream",
     "text": [
      "Using append:  [1, 2, 3, 4, 5]\n",
      "Using remove:  [1, 2, 3, 4]\n"
     ]
    }
   ],
   "source": [
    "example_list = [1, 2, 3, 4]\n",
    "\n",
    "#Using Append\n",
    "example_list.append(5)\n",
    "print(\"Using append: \", example_list)\n",
    "\n",
    "#Using Remove\n",
    "example_list.remove(5)\n",
    "print(\"Using remove: \", example_list)"
   ]
  },
  {
   "cell_type": "markdown",
   "metadata": {},
   "source": [
    "<img src=\"atom.png\" alt=\"Atom\" style=\"width:60px\" align=\"left\" vertical-align=\"middle\">\n",
    "\n",
    "## 5. Growing a List: Append\n",
    "*in Python 3*\n",
    "\n",
    "----\n",
    "We can add a single element to a list using the `.append()` Python method. Suppose we have an empty list called `garden`:"
   ]
  },
  {
   "cell_type": "code",
   "execution_count": 9,
   "metadata": {},
   "outputs": [],
   "source": [
    "garden = []"
   ]
  },
  {
   "cell_type": "markdown",
   "metadata": {},
   "source": [
    "We can add the element `\"Tomatoes\"` by using the `.append()` method:"
   ]
  },
  {
   "cell_type": "code",
   "execution_count": 10,
   "metadata": {},
   "outputs": [
    {
     "name": "stdout",
     "output_type": "stream",
     "text": [
      "['Tomatoes']\n"
     ]
    }
   ],
   "source": [
    "garden.append(\"Tomatoes\")\n",
    "print(garden)"
   ]
  },
  {
   "cell_type": "markdown",
   "metadata": {},
   "source": [
    "We see that garden now contains `\"Tomatoes\"`! When we use `.append()` on a list that already has elements, our new element is added to the end of the list:"
   ]
  },
  {
   "cell_type": "code",
   "execution_count": 11,
   "metadata": {},
   "outputs": [
    {
     "name": "stdout",
     "output_type": "stream",
     "text": [
      "['Tomatoes', 'Grapes', 'Cauliflower', 'Green Beans']\n"
     ]
    }
   ],
   "source": [
    "# Create a list\n",
    "garden = [\"Tomatoes\", \"Grapes\", \"Cauliflower\"]\n",
    " \n",
    "# Append a new element\n",
    "garden.append(\"Green Beans\")\n",
    "print(garden)"
   ]
  },
  {
   "cell_type": "markdown",
   "metadata": {},
   "source": [
    "Let’s use the `.append()` method to manipulate another list.\n",
    "\n",
    "<br/>*Exercise:*\n",
    "<br/>A. Jiho works for a gardening store called Petal Power. Jiho keeps a record of orders in a list called `orders`. Use `print` to inspect the orders he has received today."
   ]
  },
  {
   "cell_type": "code",
   "execution_count": 12,
   "metadata": {},
   "outputs": [
    {
     "name": "stdout",
     "output_type": "stream",
     "text": [
      "['daisies', 'periwinkle']\n"
     ]
    }
   ],
   "source": [
    "orders = [\"daisies\", \"periwinkle\"]\n",
    "print(orders)"
   ]
  },
  {
   "cell_type": "markdown",
   "metadata": {},
   "source": [
    "<br/>B. Jiho just received a new order for `\"tulips\"`. Use `append` to add this string to `orders`."
   ]
  },
  {
   "cell_type": "code",
   "execution_count": 13,
   "metadata": {},
   "outputs": [],
   "source": [
    "orders.append(\"tulips\")"
   ]
  },
  {
   "cell_type": "markdown",
   "metadata": {},
   "source": [
    "<br/>C. Another order has come in! Use append to add `\"roses\"` to `orders`."
   ]
  },
  {
   "cell_type": "code",
   "execution_count": 15,
   "metadata": {},
   "outputs": [
    {
     "name": "stdout",
     "output_type": "stream",
     "text": [
      "['daisies', 'periwinkle', 'tulips', 'roses', 'roses']\n"
     ]
    }
   ],
   "source": [
    "orders.append(\"roses\")\n",
    "print(orders)"
   ]
  },
  {
   "cell_type": "markdown",
   "metadata": {},
   "source": [
    "**Note:**\n",
    "<br/>It’s important to remember that `.append()` comes *after* the list. This is different from functions like `print`, which come *before.*"
   ]
  },
  {
   "cell_type": "markdown",
   "metadata": {},
   "source": [
    "<img src=\"atom.png\" alt=\"Atom\" style=\"width:60px\" align=\"left\" vertical-align=\"middle\">\n",
    "\n",
    "## 6. Growing a List: Plus (+)\n",
    "*in Python 3*\n",
    "\n",
    "----\n",
    "When we want to add multiple items to a list, we can use `+` to combine two lists (this is also known as *concatenation*).\n",
    "\n",
    "Below, we have a list of items sold at a bakery called `items_sold`:"
   ]
  },
  {
   "cell_type": "code",
   "execution_count": 17,
   "metadata": {},
   "outputs": [],
   "source": [
    "items_sold = ['cake', 'cookie', 'bread']"
   ]
  },
  {
   "cell_type": "markdown",
   "metadata": {},
   "source": [
    "Suppose the bakery wants to start selling `'biscuit'` and `'tart'`:"
   ]
  },
  {
   "cell_type": "code",
   "execution_count": 18,
   "metadata": {},
   "outputs": [
    {
     "name": "stdout",
     "output_type": "stream",
     "text": [
      "['cake', 'cookie', 'bread', 'biscuit', 'tart']\n"
     ]
    }
   ],
   "source": [
    "items_sold_new = items_sold + ['biscuit', 'tart']\n",
    "print(items_sold_new)"
   ]
  },
  {
   "cell_type": "markdown",
   "metadata": {},
   "source": [
    "In this example, we created a new variable, `items_sold_new`, which contained both the original items sold, and the new items. We can inspect the original `items_sold` and see that it did not change:"
   ]
  },
  {
   "cell_type": "code",
   "execution_count": 19,
   "metadata": {},
   "outputs": [
    {
     "name": "stdout",
     "output_type": "stream",
     "text": [
      "['cake', 'cookie', 'bread']\n"
     ]
    }
   ],
   "source": [
    "print(items_sold)"
   ]
  },
  {
   "cell_type": "markdown",
   "metadata": {},
   "source": [
    "We can only use `+` with other lists. If we type in this code we will get a `TypeError`:"
   ]
  },
  {
   "cell_type": "code",
   "execution_count": 20,
   "metadata": {},
   "outputs": [
    {
     "ename": "TypeError",
     "evalue": "can only concatenate list (not \"int\") to list",
     "output_type": "error",
     "traceback": [
      "\u001b[1;31m---------------------------------------------------------------------------\u001b[0m",
      "\u001b[1;31mTypeError\u001b[0m                                 Traceback (most recent call last)",
      "\u001b[1;32m<ipython-input-20-fabe97ee4a58>\u001b[0m in \u001b[0;36m<module>\u001b[1;34m\u001b[0m\n\u001b[0;32m      1\u001b[0m \u001b[0mmy_list\u001b[0m \u001b[1;33m=\u001b[0m \u001b[1;33m[\u001b[0m\u001b[1;36m1\u001b[0m\u001b[1;33m,\u001b[0m \u001b[1;36m2\u001b[0m\u001b[1;33m,\u001b[0m \u001b[1;36m3\u001b[0m\u001b[1;33m]\u001b[0m\u001b[1;33m\u001b[0m\u001b[1;33m\u001b[0m\u001b[0m\n\u001b[1;32m----> 2\u001b[1;33m \u001b[0mmy_list\u001b[0m \u001b[1;33m+\u001b[0m \u001b[1;36m4\u001b[0m\u001b[1;33m\u001b[0m\u001b[1;33m\u001b[0m\u001b[0m\n\u001b[0m",
      "\u001b[1;31mTypeError\u001b[0m: can only concatenate list (not \"int\") to list"
     ]
    }
   ],
   "source": [
    "my_list = [1, 2, 3]\n",
    "my_list + 4"
   ]
  },
  {
   "cell_type": "markdown",
   "metadata": {},
   "source": [
    "If we want to add a single element using `+`, we have to put it into a list with brackets (`[]`):"
   ]
  },
  {
   "cell_type": "code",
   "execution_count": 21,
   "metadata": {},
   "outputs": [
    {
     "data": {
      "text/plain": [
       "[1, 2, 3, 4]"
      ]
     },
     "execution_count": 21,
     "metadata": {},
     "output_type": "execute_result"
    }
   ],
   "source": [
    "my_list + [4]"
   ]
  },
  {
   "cell_type": "markdown",
   "metadata": {},
   "source": [
    "Let’s use `+` to practice combining two lists!\n",
    "\n",
    "<br/>*Exercise:*\n",
    "<br/>A. Jiho is updating a list of `orders`. He just received orders for `\"lilac\"` and `\"iris\"`. Create a list called `new_orders` that contains our new orders."
   ]
  },
  {
   "cell_type": "code",
   "execution_count": 22,
   "metadata": {},
   "outputs": [],
   "source": [
    "# Create new orders here:\n",
    "new_orders = [\"lilac\", \"iris\"]"
   ]
  },
  {
   "cell_type": "markdown",
   "metadata": {},
   "source": [
    "<br/>B. Use `+` to create a new list called `orders_combined` that combines `orders` with `new_orders`."
   ]
  },
  {
   "cell_type": "code",
   "execution_count": 23,
   "metadata": {},
   "outputs": [
    {
     "name": "stdout",
     "output_type": "stream",
     "text": [
      "['daisies', 'periwinkle', 'tulips', 'roses', 'roses', 'lilac', 'iris']\n"
     ]
    }
   ],
   "source": [
    "orders_combined = orders + new_orders\n",
    "print(orders_combined)"
   ]
  },
  {
   "cell_type": "markdown",
   "metadata": {},
   "source": [
    "<img src=\"atom.png\" alt=\"Atom\" style=\"width:60px\" align=\"left\" vertical-align=\"middle\">\n",
    "\n",
    "## 7. Accessing List Elements\n",
    "*in Python 3*\n",
    "\n",
    "----\n",
    "We are interviewing candidates for a job. We will call each candidate in order, represented by a Python list:"
   ]
  },
  {
   "cell_type": "code",
   "execution_count": 1,
   "metadata": {},
   "outputs": [],
   "source": [
    "calls = [\"Juan\", \"Zofia\", \"Amare\", \"Ezio\", \"Ananya\"]"
   ]
  },
  {
   "cell_type": "markdown",
   "metadata": {},
   "source": [
    "First, we’ll call `\"Juan\"`, then `\"Zofia\"`, etc.\n",
    "\n",
    "<br/>In Python, we call the location of an element in a list its *index.* Python lists are *zero-indexed.* This means that the first element in a list has index `0`, rather than`1`. Here are the index numbers for the list calls:\n",
    "\n",
    "    - Juan: 0\n",
    "    - Zofia: 1\n",
    "    - Amare: 2\n",
    "    - Ezio: 3\n",
    "    - Anaya: 4"
   ]
  },
  {
   "cell_type": "markdown",
   "metadata": {},
   "source": [
    "In this example, the element with *index* `2` is `\"Amare\"`.\n",
    "\n",
    "<br/>We can select a single element from a list by using square brackets `[]` and the index of the list item. If we wanted to select the third element from the list, we’d use `calls[2]`:"
   ]
  },
  {
   "cell_type": "code",
   "execution_count": 2,
   "metadata": {},
   "outputs": [
    {
     "name": "stdout",
     "output_type": "stream",
     "text": [
      "Amare\n"
     ]
    }
   ],
   "source": [
    "print(calls[2])"
   ]
  },
  {
   "cell_type": "markdown",
   "metadata": {},
   "source": [
    "**Note:** \n",
    "<br/>When accessing elements of an list, you must use an `int` as the index. If you use a `floa`t, you will get an error. This can be especially tricky when using division. For example `print(calls[4/2])` will result in an error, because `4/2` gets evaluated to the `float 2.0`.\n",
    "\n",
    "<br/>To solve this problem, you can force the result of your division to be an `int` by using the `int()` function. `int()` takes a number and cuts off the decimal point. For example, `int(5.9)` and `int(5.0)` will both become `5`. Therefore, `calls[int(4/2)]` will result in the same value as `calls[2]`, whereas `calls[4/2]` will result in an error.\n",
    "\n",
    "<br/>*Exercise:*\n",
    "<br/>A. Use square brackets `[` and `]` to select the 4th employee from the list `employees`. Save it to the variable `employee_four`:"
   ]
  },
  {
   "cell_type": "code",
   "execution_count": 3,
   "metadata": {},
   "outputs": [
    {
     "name": "stdout",
     "output_type": "stream",
     "text": [
      "Pam\n"
     ]
    }
   ],
   "source": [
    "employees = [\"Michael\", \"Dwight\", \"Jim\", \"Pam\", \"Ryan\", \"Andy\", \"Robert\"]\n",
    "employee_four = employees[3]\n",
    "print(employees[3])"
   ]
  },
  {
   "cell_type": "markdown",
   "metadata": {},
   "source": [
    "<br/>B. Selecting an element that does not exist produces an `IndexError`:"
   ]
  },
  {
   "cell_type": "code",
   "execution_count": 4,
   "metadata": {},
   "outputs": [
    {
     "ename": "IndexError",
     "evalue": "list index out of range",
     "output_type": "error",
     "traceback": [
      "\u001b[1;31m---------------------------------------------------------------------------\u001b[0m",
      "\u001b[1;31mIndexError\u001b[0m                                Traceback (most recent call last)",
      "\u001b[1;32m<ipython-input-4-ddbf1dd23a57>\u001b[0m in \u001b[0;36m<module>\u001b[1;34m\u001b[0m\n\u001b[1;32m----> 1\u001b[1;33m \u001b[0mprint\u001b[0m\u001b[1;33m(\u001b[0m\u001b[0memployees\u001b[0m\u001b[1;33m[\u001b[0m\u001b[1;36m8\u001b[0m\u001b[1;33m]\u001b[0m\u001b[1;33m)\u001b[0m\u001b[1;33m\u001b[0m\u001b[1;33m\u001b[0m\u001b[0m\n\u001b[0m",
      "\u001b[1;31mIndexError\u001b[0m: list index out of range"
     ]
    }
   ],
   "source": [
    "print(employees[8])"
   ]
  },
  {
   "cell_type": "markdown",
   "metadata": {},
   "source": [
    "<img src=\"atom.png\" alt=\"Atom\" style=\"width:60px\" align=\"left\" vertical-align=\"middle\">\n",
    "\n",
    "## 8. Accessing List Elements: Negative Index\n",
    "*in Python 3*\n",
    "\n",
    "----\n",
    "What if we want to select the last element of a list?\n",
    "\n",
    "<br/>We can use the index `-1` to select the last item of a list, even when we don’t know how many elements are in a list. Consider the following list with 6 elements:"
   ]
  },
  {
   "cell_type": "code",
   "execution_count": 5,
   "metadata": {},
   "outputs": [],
   "source": [
    "pancake_recipe = [\"eggs\", \"flour\", \"butter\", \"milk\", \"sugar\", \"love\"]"
   ]
  },
  {
   "cell_type": "markdown",
   "metadata": {},
   "source": [
    "If we select the `-1` index, we get the final element, `\"love\"`:"
   ]
  },
  {
   "cell_type": "code",
   "execution_count": 6,
   "metadata": {},
   "outputs": [
    {
     "name": "stdout",
     "output_type": "stream",
     "text": [
      "love\n"
     ]
    }
   ],
   "source": [
    "print(pancake_recipe[-1])"
   ]
  },
  {
   "cell_type": "markdown",
   "metadata": {},
   "source": [
    "This is equivalent to selecting the element with index `5`:"
   ]
  },
  {
   "cell_type": "code",
   "execution_count": 7,
   "metadata": {},
   "outputs": [
    {
     "name": "stdout",
     "output_type": "stream",
     "text": [
      "love\n"
     ]
    }
   ],
   "source": [
    "print(pancake_recipe[5])"
   ]
  },
  {
   "cell_type": "markdown",
   "metadata": {},
   "source": [
    "*Exercise:*\n",
    "<br/>Here's another example of accessing the last element:"
   ]
  },
  {
   "cell_type": "code",
   "execution_count": 8,
   "metadata": {},
   "outputs": [
    {
     "name": "stdout",
     "output_type": "stream",
     "text": [
      "cereal\n",
      "cereal\n"
     ]
    }
   ],
   "source": [
    "shopping_list = [\"eggs\", \"butter\", \"milk\", \"cucumbers\", \"juice\", \"cereal\"]\n",
    "last_element = shopping_list[-1] # Use negative index to access the last element\n",
    "index5_element = shopping_list[5] # This is the last element\n",
    "\n",
    "# Both values are the same:\n",
    "print(index5_element)\n",
    "print(last_element)"
   ]
  },
  {
   "cell_type": "markdown",
   "metadata": {},
   "source": [
    "<img src=\"atom.png\" alt=\"Atom\" style=\"width:60px\" align=\"left\" vertical-align=\"middle\">\n",
    "\n",
    "## 9. Modifying List Elements\n",
    "*in Python 3*\n",
    "\n",
    "----\n",
    "Let’s return to our garden."
   ]
  },
  {
   "cell_type": "code",
   "execution_count": 9,
   "metadata": {},
   "outputs": [],
   "source": [
    "garden = [\"Tomatoes\", \"Green Beans\", \"Cauliflower\", \"Grapes\"]"
   ]
  },
  {
   "cell_type": "markdown",
   "metadata": {},
   "source": [
    "Unfortunately, we forgot to water our cauliflower and we don’t think it is going to recover. Thankfully our friend Jiho from Petal Power came to the rescue. Jiho gifted us some strawberry seeds. We will replace the cauliflower with our new seeds.\n",
    "\n",
    "<br/>We will need to modify the list to accommodate the change to our `garden` list. To change a value in a list, reassign the value using the specific index:"
   ]
  },
  {
   "cell_type": "code",
   "execution_count": 10,
   "metadata": {},
   "outputs": [
    {
     "name": "stdout",
     "output_type": "stream",
     "text": [
      "['Tomatoes', 'Green Beans', 'Strawberries', 'Grapes']\n"
     ]
    }
   ],
   "source": [
    "garden[2] = \"Strawberries\"\n",
    "print(garden)"
   ]
  },
  {
   "cell_type": "markdown",
   "metadata": {},
   "source": [
    "Negative indices will work as well:"
   ]
  },
  {
   "cell_type": "code",
   "execution_count": 11,
   "metadata": {},
   "outputs": [
    {
     "name": "stdout",
     "output_type": "stream",
     "text": [
      "['Tomatoes', 'Green Beans', 'Strawberries', 'Raspberries']\n"
     ]
    }
   ],
   "source": [
    "garden[-1] = \"Raspberries\"\n",
    "print(garden)"
   ]
  },
  {
   "cell_type": "markdown",
   "metadata": {},
   "source": [
    "*Exercise:*\n",
    "<br/>A. We have decided to start selling some of our garden produce. Word around our town has spread and people are interested in getting some of our delicious vegetables and fruit. We decided to create a waitlist to make sure we can sell to all of our new customers! Define a list called `garden_waitlist` and set the value to contain our customers (in order): `\"Jiho\"`, `\"Adam\"`, `\"Sonny\"`, and `\"Alisha\"`."
   ]
  },
  {
   "cell_type": "code",
   "execution_count": 12,
   "metadata": {},
   "outputs": [],
   "source": [
    "garden_waitlist = [\"Jiho\", \"Adam\", \"Sonny\", \"Alisha\"]"
   ]
  },
  {
   "cell_type": "markdown",
   "metadata": {},
   "source": [
    "<br/>B. `\"Adam\"` decided his fridge is too full at the moment and asked us to remove him from the waitlist and make space for one of our other townsfolk. Replace `\"Adam\"` with our other interested customer `\"Calla\"` using the index method we used in the narrative. Print `garden_waitlist` to see the change."
   ]
  },
  {
   "cell_type": "code",
   "execution_count": 13,
   "metadata": {},
   "outputs": [
    {
     "name": "stdout",
     "output_type": "stream",
     "text": [
      "['Jiho', 'Calla', 'Sonny', 'Alisha']\n"
     ]
    }
   ],
   "source": [
    "garden_waitlist[1] = \"Calla\"\n",
    "print(garden_waitlist)"
   ]
  },
  {
   "cell_type": "markdown",
   "metadata": {},
   "source": [
    "<br/>C. `Alisha` realized she was already stocked with all the items we are selling. She asked us to replace her with her friend `Alex` who just ran out. Replace `Alisha` with Alex using a *negative index.* Print `garden_waitlist` again to see the change."
   ]
  },
  {
   "cell_type": "code",
   "execution_count": 14,
   "metadata": {},
   "outputs": [
    {
     "name": "stdout",
     "output_type": "stream",
     "text": [
      "['Jiho', 'Calla', 'Sonny', 'Alex']\n"
     ]
    }
   ],
   "source": [
    "garden_waitlist[-1] = \"Alex\"\n",
    "print(garden_waitlist)"
   ]
  },
  {
   "cell_type": "markdown",
   "metadata": {},
   "source": [
    "<img src=\"atom.png\" alt=\"Atom\" style=\"width:60px\" align=\"left\" vertical-align=\"middle\">\n",
    "\n",
    "## 10. Shrinking a List: Remove\n",
    "*in Python 3*\n",
    "\n",
    "----\n",
    "We can remove elements in a list using the `.remove()` Python method. Suppose we have a filled list called `shopping_line` that represents a line at a grocery store:"
   ]
  },
  {
   "cell_type": "code",
   "execution_count": 15,
   "metadata": {},
   "outputs": [],
   "source": [
    "shopping_line = [\"Cole\", \"Kip\", \"Chris\", \"Sylvana\"]"
   ]
  },
  {
   "cell_type": "markdown",
   "metadata": {},
   "source": [
    "We could remove `\"Chris\"` by using the `.remove()` method:"
   ]
  },
  {
   "cell_type": "code",
   "execution_count": 16,
   "metadata": {},
   "outputs": [
    {
     "name": "stdout",
     "output_type": "stream",
     "text": [
      "['Cole', 'Kip', 'Sylvana']\n"
     ]
    }
   ],
   "source": [
    "shopping_line.remove(\"Chris\")\n",
    "print(shopping_line)"
   ]
  },
  {
   "cell_type": "markdown",
   "metadata": {},
   "source": [
    "We can also use `.remove()` on a list that has duplicate elements. Only the first instance of the matching element is removed:"
   ]
  },
  {
   "cell_type": "code",
   "execution_count": 17,
   "metadata": {},
   "outputs": [
    {
     "name": "stdout",
     "output_type": "stream",
     "text": [
      "['Cole', 'Kip', 'Sylvana', 'Chris']\n"
     ]
    }
   ],
   "source": [
    "# Create a list\n",
    "shopping_line = [\"Cole\", \"Kip\", \"Chris\", \"Sylvana\", \"Chris\"]\n",
    " \n",
    "# Remove a element\n",
    "shopping_line.remove(\"Chris\")\n",
    "print(shopping_line)"
   ]
  },
  {
   "cell_type": "markdown",
   "metadata": {},
   "source": [
    "Let’s practice using the `.remove()` method to remove elements from a list.\n",
    "\n",
    "<br/>*Exercise:*\n",
    "<br/>A. We have decided to get into the grocery store business. Our manager Calla has decided to store all the inventory purchases in a list to help track what products need to be ordered. Let’s create a list called `order_list` with the following values (in this particular order): `\"Celery\", \"Orange Juice\", \"Orange\", \"Flatbread\"`. Print `order_list` to see the current list."
   ]
  },
  {
   "cell_type": "code",
   "execution_count": 19,
   "metadata": {},
   "outputs": [
    {
     "name": "stdout",
     "output_type": "stream",
     "text": [
      "['Celery', 'Orange Juice', 'Orange', 'Flatbread']\n"
     ]
    }
   ],
   "source": [
    "order_list = [\"Celery\", \"Orange Juice\", \"Orange\", \"Flatbread\"]\n",
    "print(order_list)"
   ]
  },
  {
   "cell_type": "markdown",
   "metadata": {},
   "source": [
    "<br/>B. We are in luck! We actually found a spare case of `\"Flatbread\"` in our back storage. We won’t need to order it anymore. Let’s remove it from `order_list` using the `.remove()` method. Print `order_list` to see the current list."
   ]
  },
  {
   "cell_type": "code",
   "execution_count": 20,
   "metadata": {},
   "outputs": [
    {
     "name": "stdout",
     "output_type": "stream",
     "text": [
      "['Celery', 'Orange Juice', 'Orange']\n"
     ]
    }
   ],
   "source": [
    "order_list.remove(\"Flatbread\")\n",
    "print(order_list)"
   ]
  },
  {
   "cell_type": "markdown",
   "metadata": {},
   "source": [
    "<br/>C. Our store has grown to be a huge success! We decided to open a second store and require a new order list. Calla has done us the favor of putting one together. Create a new list called `new_store_order_list` and assign it the following values (in order): `\"Orange\", \"Apple\", \"Mango\", \"Broccoli\", \"Mango\"`. Note: Our second store is going to need two orders of mangos so the value is duplicated. Print `new_store_order_list` to see the current list."
   ]
  },
  {
   "cell_type": "code",
   "execution_count": 21,
   "metadata": {},
   "outputs": [
    {
     "name": "stdout",
     "output_type": "stream",
     "text": [
      "['Orange', 'Apple', 'Mango', 'Broccoli', 'Mango']\n"
     ]
    }
   ],
   "source": [
    "new_store_order_list = [\"Orange\", \"Apple\", \"Mango\", \"Broccoli\", \"Mango\"]\n",
    "print(new_store_order_list)"
   ]
  },
  {
   "cell_type": "markdown",
   "metadata": {},
   "source": [
    "<br/>D. We are in luck again! We actually found a spare case of `\"Mango\"` in our back storage. We won’t be needing to place two orders anymore. Let’s remove it from `new_store_order_list` using the `.remove()` method. Print `new_store_order_list` to see the current list."
   ]
  },
  {
   "cell_type": "code",
   "execution_count": 22,
   "metadata": {},
   "outputs": [
    {
     "name": "stdout",
     "output_type": "stream",
     "text": [
      "['Orange', 'Apple', 'Broccoli', 'Mango']\n"
     ]
    }
   ],
   "source": [
    "new_store_order_list.remove(\"Mango\")\n",
    "print(new_store_order_list)"
   ]
  },
  {
   "cell_type": "markdown",
   "metadata": {},
   "source": [
    "<br/>E. Calla ran to tell us some important news! She asked us to remove `\"Onions\"` from our new `new_store_order_list`. If we double-check our list, we will notice we don’t have `\"Onions\"` on our list. Let’s see what happens when we try to remove an item that does not exist. Call the `.remove()` method with the value of `\"Onions\"` on our `new_store_order_list` list."
   ]
  },
  {
   "cell_type": "code",
   "execution_count": 23,
   "metadata": {},
   "outputs": [
    {
     "ename": "ValueError",
     "evalue": "list.remove(x): x not in list",
     "output_type": "error",
     "traceback": [
      "\u001b[1;31m---------------------------------------------------------------------------\u001b[0m",
      "\u001b[1;31mValueError\u001b[0m                                Traceback (most recent call last)",
      "\u001b[1;32m<ipython-input-23-37cf2784ed23>\u001b[0m in \u001b[0;36m<module>\u001b[1;34m\u001b[0m\n\u001b[1;32m----> 1\u001b[1;33m \u001b[0mnew_store_order_list\u001b[0m\u001b[1;33m.\u001b[0m\u001b[0mremove\u001b[0m\u001b[1;33m(\u001b[0m\u001b[1;34m\"Onions\"\u001b[0m\u001b[1;33m)\u001b[0m\u001b[1;33m\u001b[0m\u001b[1;33m\u001b[0m\u001b[0m\n\u001b[0m",
      "\u001b[1;31mValueError\u001b[0m: list.remove(x): x not in list"
     ]
    }
   ],
   "source": [
    "new_store_order_list.remove(\"Onions\")"
   ]
  },
  {
   "cell_type": "markdown",
   "metadata": {},
   "source": [
    "<img src=\"atom.png\" alt=\"Atom\" style=\"width:60px\" align=\"left\" vertical-align=\"middle\">\n",
    "\n",
    "## 11. List of Lists (Two-Dimensional [2D] Lists)\n",
    "*in Python 3*\n",
    "\n",
    "----\n",
    "We’ve seen that the items in a list can be numbers or strings. Lists can contain other lists! We will commonly refer to these as *two-dimensional (2D) lists.*\n",
    "\n",
    "<br/>Once more, let’s look at a class height example:\n",
    "\n",
    "    Noelle is 61 inches tall\n",
    "    Ava is 70 inches tall\n",
    "    Sam is 67 inches tall\n",
    "    Mia is 64 inches tall\n",
    "\n",
    "<br/>Previously, we saw that we could create a list representing both Noelle’s name and height:"
   ]
  },
  {
   "cell_type": "code",
   "execution_count": 24,
   "metadata": {},
   "outputs": [],
   "source": [
    "noelle = [\"Noelle\", 61]"
   ]
  },
  {
   "cell_type": "markdown",
   "metadata": {},
   "source": [
    "We can put several of these lists into one list, such that each entry in the list represents a student and their height:"
   ]
  },
  {
   "cell_type": "code",
   "execution_count": 25,
   "metadata": {},
   "outputs": [],
   "source": [
    "heights = [[\"Noelle\", 61], [\"Ava\", 70], [\"Sam\", 67], [\"Mia\", 64]]"
   ]
  },
  {
   "cell_type": "markdown",
   "metadata": {},
   "source": [
    "We will often find that a two-dimensional list is a very good structure for representing grids such as games like tic-tac-toe."
   ]
  },
  {
   "cell_type": "code",
   "execution_count": 26,
   "metadata": {},
   "outputs": [],
   "source": [
    "#A 2d list with three lists in each of the indices. \n",
    "tic_tac_toe = [\n",
    "            [[\"X\"],[\"O\"],[\"X\"]], \n",
    "            [[\"O\"],[\"X\"],[\"O\"]], \n",
    "            [[\"O\"],[\"O\"],[\"X\"]]\n",
    "]"
   ]
  },
  {
   "cell_type": "markdown",
   "metadata": {},
   "source": [
    "*Exercise:*\n",
    "<br/>A. A new student named `\"Vik\"` has joined our class. Vik is `68` inches tall. Add a sublist to the end of the `heights` list that represents Vik and his height."
   ]
  },
  {
   "cell_type": "code",
   "execution_count": 28,
   "metadata": {},
   "outputs": [
    {
     "name": "stdout",
     "output_type": "stream",
     "text": [
      "[['Jenny', 61], ['Alexus', 70], ['Sam', 67], ['Grace', 64], ['Vik', 68]]\n"
     ]
    }
   ],
   "source": [
    "heights = [[\"Jenny\", 61], [\"Alexus\", 70], [\"Sam\", 67], [\"Grace\", 64]]\n",
    "heights.append([\"Vik\", 68])\n",
    "print(heights)"
   ]
  },
  {
   "cell_type": "markdown",
   "metadata": {},
   "source": [
    "<br/>B. Create a two-dimensional list called `ages` where each sublist contains a student’s name and their age. Use the following data:\n",
    "\n",
    "    \"Aaron\" is 15\n",
    "    \"Dhruti\" is 16"
   ]
  },
  {
   "cell_type": "code",
   "execution_count": 29,
   "metadata": {},
   "outputs": [
    {
     "name": "stdout",
     "output_type": "stream",
     "text": [
      "[['Aaron', 15], ['Dhruti', 16]]\n"
     ]
    }
   ],
   "source": [
    "ages = [[\"Aaron\", 15], [\"Dhruti\", 16]]\n",
    "print(ages)"
   ]
  },
  {
   "cell_type": "markdown",
   "metadata": {},
   "source": [
    "<img src=\"atom.png\" alt=\"Atom\" style=\"width:60px\" align=\"left\" vertical-align=\"middle\">\n",
    "\n",
    "## 12. Accessing 2D Lists\n",
    "*in Python 3*\n",
    "\n",
    "----\n",
    "Let’s return to our classroom heights example:"
   ]
  },
  {
   "cell_type": "code",
   "execution_count": 30,
   "metadata": {},
   "outputs": [],
   "source": [
    "heights = [[\"Noelle\", 61], [\"Ali\", 70], [\"Sam\", 67]]"
   ]
  },
  {
   "cell_type": "markdown",
   "metadata": {},
   "source": [
    "Two-dimensional lists can be accessed similar to their one-dimensional counterpart. Instead of providing a single pair of brackets `[ ]` we will use an additional set for each dimension past the first. If we wanted to access `\"Noelle\"`‘s `height`:"
   ]
  },
  {
   "cell_type": "code",
   "execution_count": 31,
   "metadata": {},
   "outputs": [
    {
     "name": "stdout",
     "output_type": "stream",
     "text": [
      "61\n"
     ]
    }
   ],
   "source": [
    "#Access the sublist at index 0, and then access the 1st index of that sublist. \n",
    "noelles_height = heights[0][1] \n",
    "print(noelles_height)"
   ]
  },
  {
   "cell_type": "markdown",
   "metadata": {},
   "source": [
    "Let’s practice accessing data in a two-dimensional list.\n",
    "\n",
    "<br/>*Exercise:*\n",
    "<br/>A. We want to have a way to store all of our classroom test score data. Using the provided table, create a two-dimensional list called `class_name_test` to represent the data. Each sublist in `class_name_test` should have one student’s name and their associated score. Print `class_name_test` to see the result.\n",
    "\n",
    "    - \"Jenny\": 90\n",
    "    - \"Alexus\": 85.5\n",
    "    - \"Sam\": 83\n",
    "    - \"Ellie\": 101.5"
   ]
  },
  {
   "cell_type": "code",
   "execution_count": 32,
   "metadata": {},
   "outputs": [
    {
     "name": "stdout",
     "output_type": "stream",
     "text": [
      "[['Jenny', 90], ['Alexus', 85.5], ['Sam', 83], ['Ellie', 101.5]]\n"
     ]
    }
   ],
   "source": [
    "class_name_test = [[\"Jenny\", 90], [\"Alexus\", 85.5], [\"Sam\", 83], [\"Ellie\", 101.5]]\n",
    "print(class_name_test)"
   ]
  },
  {
   "cell_type": "markdown",
   "metadata": {},
   "source": [
    "<br/>B. Use double square brackets `[][]` to select Sam‘s test score from the list `class_name_test`. Save it to the variable `sams_score`. Print the variable `sams_score` to see the result."
   ]
  },
  {
   "cell_type": "code",
   "execution_count": 33,
   "metadata": {},
   "outputs": [
    {
     "name": "stdout",
     "output_type": "stream",
     "text": [
      "83\n"
     ]
    }
   ],
   "source": [
    "sams_score = class_name_test[2][1]\n",
    "print(sams_score)"
   ]
  },
  {
   "cell_type": "markdown",
   "metadata": {},
   "source": [
    "<br/>C. Use double square brackets `[][]` to select Ellies test score from the list `class_name_test`. *This time only use negative indices!* Save it to the variable `ellies_score`. Print the variable `ellies_score` to see the result."
   ]
  },
  {
   "cell_type": "code",
   "execution_count": 34,
   "metadata": {},
   "outputs": [
    {
     "name": "stdout",
     "output_type": "stream",
     "text": [
      "101.5\n"
     ]
    }
   ],
   "source": [
    "ellies_score = class_name_test[-1][-1]\n",
    "print(ellies_score)"
   ]
  },
  {
   "cell_type": "markdown",
   "metadata": {},
   "source": [
    "<img src=\"atom.png\" alt=\"Atom\" style=\"width:60px\" align=\"left\" vertical-align=\"middle\">\n",
    "\n",
    "## 13. Modifying 2D Lists\n",
    "*in Python 3*\n",
    "\n",
    "----\n",
    "Now that we know how to access two-dimensional lists, modifying the elements should come naturally. Let’s return to a classroom example, but now instead of heights or test scores, our list stores the student’s favorite hobby."
   ]
  },
  {
   "cell_type": "code",
   "execution_count": 1,
   "metadata": {},
   "outputs": [],
   "source": [
    "class_name_hobbies = [[\"Jenny\", \"Breakdancing\"], [\"Alexus\", \"Photography\"], [\"Grace\", \"Soccer\"]]"
   ]
  },
  {
   "cell_type": "markdown",
   "metadata": {},
   "source": [
    "`\"Jenny\"` changed their mind and is now more interested in `\"Meditation\"`. We will need to modify the list to accommodate the change to our `class_name_hobbies` list. To change a value in a two-dimensional list, reassign the value using the specific index."
   ]
  },
  {
   "cell_type": "code",
   "execution_count": 2,
   "metadata": {},
   "outputs": [
    {
     "name": "stdout",
     "output_type": "stream",
     "text": [
      "[['Jenny', 'Meditation'], ['Alexus', 'Photography'], ['Grace', 'Soccer']]\n"
     ]
    }
   ],
   "source": [
    "# The list of Jenny is at index 0. The hobby is at index 1. \n",
    "class_name_hobbies[0][1] = \"Meditation\"\n",
    "print(class_name_hobbies)"
   ]
  },
  {
   "cell_type": "markdown",
   "metadata": {},
   "source": [
    "Negative indices will work as well."
   ]
  },
  {
   "cell_type": "code",
   "execution_count": 3,
   "metadata": {},
   "outputs": [
    {
     "name": "stdout",
     "output_type": "stream",
     "text": [
      "[['Jenny', 'Meditation'], ['Alexus', 'Photography'], ['Grace', 'Football']]\n"
     ]
    }
   ],
   "source": [
    "# The list of Jenny is at index 0. The hobby is at index 1. \n",
    "class_name_hobbies[-1][-1] = \"Football\"\n",
    "print(class_name_hobbies)"
   ]
  },
  {
   "cell_type": "markdown",
   "metadata": {},
   "source": [
    "*Exercise:*\n",
    "<br/>A. Our school is expanding! We are welcoming a new set of students today from all over the world. Using the provided table, create a two-dimensional list called `incoming_class` to represent the data. Each sublist in `incoming_class` should contain the name, nationality, and grade for a single student.\n",
    "\n",
    "    - Kenny, American, grade 9\n",
    "    - Tanya, Russian, grade 9\n",
    "    - Madison, Indian, grade 7"
   ]
  },
  {
   "cell_type": "code",
   "execution_count": 4,
   "metadata": {},
   "outputs": [
    {
     "name": "stdout",
     "output_type": "stream",
     "text": [
      "[['Kenny', 'American', 9], ['Tanya', 'Russian', 9], ['Madison', 'Indian', 7]]\n"
     ]
    }
   ],
   "source": [
    "incoming_class = [[\"Kenny\", \"American\", 9], [\"Tanya\", \"Russian\", 9], [\"Madison\", \"Indian\", 7]]\n",
    "print(incoming_class)"
   ]
  },
  {
   "cell_type": "markdown",
   "metadata": {},
   "source": [
    "<br/>B. `\"Madison\"` passed an exam to advance a grade. She will be pushed into 8th grade rather than her current 7th in our list. Modify the list using double brackets `[][]` to make the change. Use *positive inidices.* Print `incoming_class` to see our change."
   ]
  },
  {
   "cell_type": "code",
   "execution_count": 5,
   "metadata": {},
   "outputs": [
    {
     "name": "stdout",
     "output_type": "stream",
     "text": [
      "[['Kenny', 'American', 9], ['Tanya', 'Russian', 9], ['Madison', 'Indian', 8]]\n"
     ]
    }
   ],
   "source": [
    "incoming_class[2][2] = 8\n",
    "print(incoming_class)"
   ]
  },
  {
   "cell_type": "markdown",
   "metadata": {},
   "source": [
    "<br/>C. `\"Kenny\"` likes to be called by his nickname `\"Ken\"`. Modify the list using double brackets `[][]` to accommodate the change but only using negative indices. Print `incoming_class` to see our change."
   ]
  },
  {
   "cell_type": "code",
   "execution_count": 6,
   "metadata": {},
   "outputs": [
    {
     "name": "stdout",
     "output_type": "stream",
     "text": [
      "[['Ken', 'American', 9], ['Tanya', 'Russian', 9], ['Madison', 'Indian', 8]]\n"
     ]
    }
   ],
   "source": [
    "incoming_class[-3][-3] = \"Ken\"\n",
    "print(incoming_class)"
   ]
  },
  {
   "cell_type": "markdown",
   "metadata": {},
   "source": [
    "<img src=\"atom.png\" alt=\"Atom\" style=\"width:60px\" align=\"left\" vertical-align=\"middle\">\n",
    "\n",
    "## 14. Review\n",
    "*Python 3*\n",
    "\n",
    "----\n",
    "In this lesson, we learned how to:\n",
    "\n",
    "    - How to create a list\n",
    "    - How to access, add, remove, and modify list elements\n",
    "    - How to create a two-dimensional list\n",
    "    - How to access and modify two-dimensional list elements\n",
    "    \n",
    "Let’s practice these skills.\n",
    "\n",
    "<br/>*Exercise:*\n",
    "<br/>A. Maria is entering customer data for her web store business. We’re going to help her organize her data. Start by turning this list of customer first names into a list called `first_names`. Make sure to enter the names in this order:\n",
    "- Ainsley\n",
    "- Ben\n",
    "- Chani\n",
    "- Depak"
   ]
  },
  {
   "cell_type": "markdown",
   "metadata": {},
   "source": [
    "<br/>B. Maria wants to track all customer’s preferred sizes for her clothing. Create a list called `preferred_size`. Fill our new list `preferred_size` with the data containing the preferred sizes for Ainsley, Ben, and Chani:"
   ]
  },
  {
   "cell_type": "code",
   "execution_count": 7,
   "metadata": {},
   "outputs": [],
   "source": [
    "preferred_size = [\"Small\", \"Large\", \"Medium\"]"
   ]
  },
  {
   "cell_type": "markdown",
   "metadata": {},
   "source": [
    "<br/>C. On no! We forgot to add Depak’s size. Depak’s size is `\"Medium\"`. Use `.append()` to add `\"Medium\"` to the `preferred_size` list. Print `preferred_size` to see our change."
   ]
  },
  {
   "cell_type": "code",
   "execution_count": 10,
   "metadata": {},
   "outputs": [
    {
     "name": "stdout",
     "output_type": "stream",
     "text": [
      "['Small', 'Large', 'Medium', 'Medium', 'Medium']\n"
     ]
    }
   ],
   "source": [
    "preferred_size.append(\"Medium\")\n",
    "print(preferred_size)"
   ]
  },
  {
   "cell_type": "markdown",
   "metadata": {},
   "source": [
    "<br/>D. Maria is having a hard time visualizing which customer is associated with each size. Let’s restructure our two lists into a two-dimensional list to help Maria. In addition to our already available data, Maria is adding a third value for each customer that reflects if they want expedited shipping on their orders. This will be reflected using a boolean value (`True` for expedited, `False` for regular). Create a two-dimensional list called `customer_data`. Each sublist should contain a name, size, and expedited shipping option for a single person. Print `customer_data` to see the data."
   ]
  },
  {
   "cell_type": "code",
   "execution_count": 12,
   "metadata": {},
   "outputs": [
    {
     "name": "stdout",
     "output_type": "stream",
     "text": [
      "[['Ainsley', 'Small', True], ['Ben', 'Large', False], ['Chani', 'Medium', True], ['Depak', 'Medium', False]]\n"
     ]
    }
   ],
   "source": [
    "customer_data = [['Ainsley', 'Small', True], ['Ben', 'Large', False], ['Chani', 'Medium', True], ['Depak', 'Medium', False]]\n",
    "print(customer_data)"
   ]
  },
  {
   "cell_type": "markdown",
   "metadata": {},
   "source": [
    "<br/>E. `\"Chani\"` reached out to Maria. She requested to switch to regular shipping to save some money. Change the data value for `\"Chani\"`‘s shipping preference to `False` in our two-dimensional list to reflect the change."
   ]
  },
  {
   "cell_type": "code",
   "execution_count": 13,
   "metadata": {},
   "outputs": [
    {
     "name": "stdout",
     "output_type": "stream",
     "text": [
      "[['Ainsley', 'Small', True], ['Ben', 'Large', False], ['Chani', 'Medium', False], ['Depak', 'Medium', False]]\n"
     ]
    }
   ],
   "source": [
    "customer_data[2][2] = False\n",
    "print(customer_data)"
   ]
  },
  {
   "cell_type": "markdown",
   "metadata": {},
   "source": [
    "<br/>F. `\"Ben\"` reached out to Maria asking to remove his shipping option because he is not sure what type he wants. Use the `.remove()` method to delete the shipping value from the sublist that contains ben’s data."
   ]
  },
  {
   "cell_type": "code",
   "execution_count": 14,
   "metadata": {},
   "outputs": [
    {
     "name": "stdout",
     "output_type": "stream",
     "text": [
      "[['Ainsley', 'Small', True], ['Ben', 'Large'], ['Chani', 'Medium', False], ['Depak', 'Medium', False]]\n"
     ]
    }
   ],
   "source": [
    "customer_data[1].remove(False)\n",
    "print(customer_data)"
   ]
  },
  {
   "cell_type": "markdown",
   "metadata": {},
   "source": [
    "<br/>G. Great job making it this far! One last thing, Maria received a new customer \"Amit\" and \"Karim\" that had the following data: `[[\"Amit\", \"Large\", True], [\"Karim\", \"X-Large\", False]]`. Create a new variable `customer_data_final`. Combine our existing list `customer_data` with our new customer 2d list using + by adding it to the end of customer_data. Print `customer_data_final` to see our final result."
   ]
  },
  {
   "cell_type": "code",
   "execution_count": 15,
   "metadata": {},
   "outputs": [
    {
     "name": "stdout",
     "output_type": "stream",
     "text": [
      "[['Ainsley', 'Small', True], ['Ben', 'Large'], ['Chani', 'Medium', False], ['Depak', 'Medium', False], ['Amit', 'Large', True], ['Karim', 'X-Large', False]]\n"
     ]
    }
   ],
   "source": [
    "customer_data_final = customer_data + [[\"Amit\", \"Large\", True], [\"Karim\", \"X-Large\", False]]\n",
    "print(customer_data_final )"
   ]
  }
 ],
 "metadata": {
  "kernelspec": {
   "display_name": "Python 3",
   "language": "python",
   "name": "python3"
  },
  "language_info": {
   "codemirror_mode": {
    "name": "ipython",
    "version": 3
   },
   "file_extension": ".py",
   "mimetype": "text/x-python",
   "name": "python",
   "nbconvert_exporter": "python",
   "pygments_lexer": "ipython3",
   "version": "3.8.4"
  }
 },
 "nbformat": 4,
 "nbformat_minor": 2
}
