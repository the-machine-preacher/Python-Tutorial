{
 "cells": [
  {
   "cell_type": "markdown",
   "metadata": {},
   "source": [
    "<img src=\"atom.png\" alt=\"Atom\" style=\"width:60px\" align=\"left\" vertical-align=\"middle\">\n",
    "\n",
    "## 1. What is a Dictionary?\n",
    "*in Python 3*\n",
    "\n",
    "----\n",
    "A *dictionary* is an unordered set of *key: value* pairs.\n",
    "\n",
    "<br/>Suppose we want to store the prices of various items sold at a cafe:\n",
    "\n",
    "    Oatmeal is 3 dollars\n",
    "    Avocado Toast is 6 dollars\n",
    "    Carrot Juice is 5 dollars\n",
    "    Blueberry Muffin is 2 dollars\n",
    "\n",
    "<br/>In Python, we can create a dictionary called `menu` to store this data:"
   ]
  },
  {
   "cell_type": "code",
   "execution_count": 1,
   "metadata": {},
   "outputs": [],
   "source": [
    "menu = {\"oatmeal\": 3, \"avocado toast\": 6, \"carrot juice\": 5, \"blueberry muffin\": 2}"
   ]
  },
  {
   "cell_type": "markdown",
   "metadata": {},
   "source": [
    "Notice that:\n",
    "1. A dictionary begins and ends with curly braces (`{` and `}`).\n",
    "2. Each item consists of a *key* (i.e., “oatmeal”) and a value (i.e., 3)\n",
    "3. Each key: value pair (i.e., `\"oatmeal\": 3` or `\"avocado toast\": 6`) is separated by a comma (`,`)\n",
    "4. It’s considered good practice to insert a space (` `) after each comma, but your code will still run without the space.\n",
    "\n",
    "<br/>Dictionaries provide us with a way to map pieces of data to each other, so that we can quickly find values that are associated with one another."
   ]
  },
  {
   "cell_type": "markdown",
   "metadata": {},
   "source": [
    "<img src=\"atom.png\" alt=\"Atom\" style=\"width:60px\" align=\"left\" vertical-align=\"middle\">\n",
    "\n",
    "## 2. Make a Dictionary\n",
    "*in Python 3*\n",
    "\n",
    "----\n",
    "In the previous exercise we saw a dictionary that maps strings to numbers (i.e., `\"oatmeal\": 3`). However, the keys can be numbers as well. For example, if we were mapping restaurant bill subtotals to the bill total after tip, a dictionary could look like:"
   ]
  },
  {
   "cell_type": "code",
   "execution_count": 3,
   "metadata": {},
   "outputs": [],
   "source": [
    "subtotal_to_total = {20: 24, 10: 12, 5: 6, 15: 18}"
   ]
  },
  {
   "cell_type": "markdown",
   "metadata": {},
   "source": [
    "Values can be any type. You can use a string, a number, a list, or even another dictionary as the value associated with a key!\n",
    "\n",
    "<br/>For example:"
   ]
  },
  {
   "cell_type": "code",
   "execution_count": 4,
   "metadata": {},
   "outputs": [],
   "source": [
    "students_in_classes = {\"software design\": [\"Aaron\", \"Delila\", \"Samson\"], \"cartography\": [\"Christopher\", \"Juan\", \"Marco\"], \"philosophy\": [\"Frederica\", \"Manuel\"]}"
   ]
  },
  {
   "cell_type": "markdown",
   "metadata": {},
   "source": [
    "The list `[\"Aaron\", \"Delila\", \"Samson\"]`, which is the value for the key `\"software design\"`, represents the students in that class.\n",
    "\n",
    "<br/>You can also mix and match key and value types. For example:"
   ]
  },
  {
   "cell_type": "code",
   "execution_count": 1,
   "metadata": {},
   "outputs": [],
   "source": [
    "person = {\"name\": \"Shuri\", \"age\": 18, \"siblings\": [\"T'Chaka\", \"Ramonda\"]}"
   ]
  },
  {
   "cell_type": "markdown",
   "metadata": {},
   "source": [
    "*Exercise:*\n",
    "<br/>Create a dictionary called translations that maps the following words in English to their definitions in Sindarin (the language of the elves):"
   ]
  },
  {
   "cell_type": "code",
   "execution_count": 2,
   "metadata": {},
   "outputs": [],
   "source": [
    "translations = {\"mountain\":\"orod\", \"bread\":\"bass\", \"friend\":\"mellon\", \"horse\":\"roch\"}"
   ]
  },
  {
   "cell_type": "markdown",
   "metadata": {},
   "source": [
    "<img src=\"atom.png\" alt=\"Atom\" style=\"width:60px\" align=\"left\" vertical-align=\"middle\">\n",
    "\n",
    "## 3. Invalid Keys\n",
    "*in Python 3*\n",
    "\n",
    "----\n",
    "We can have a list or a dictionary as a *value* of an item in a dictionary, but we cannot use these data types as keys of the dictionary. If we try to, we will get a `TypeError`. For example:"
   ]
  },
  {
   "cell_type": "code",
   "execution_count": 6,
   "metadata": {},
   "outputs": [
    {
     "ename": "TypeError",
     "evalue": "unhashable type: 'list'",
     "output_type": "error",
     "traceback": [
      "\u001b[0;31m---------------------------------------------------------------------------\u001b[0m",
      "\u001b[0;31mTypeError\u001b[0m                                 Traceback (most recent call last)",
      "\u001b[0;32m<ipython-input-6-e062b738d37c>\u001b[0m in \u001b[0;36m<module>\u001b[0;34m()\u001b[0m\n\u001b[0;32m----> 1\u001b[0;31m \u001b[0mpowers\u001b[0m \u001b[0;34m=\u001b[0m \u001b[0;34m{\u001b[0m\u001b[0;34m[\u001b[0m\u001b[0;36m1\u001b[0m\u001b[0;34m,\u001b[0m \u001b[0;36m2\u001b[0m\u001b[0;34m,\u001b[0m \u001b[0;36m4\u001b[0m\u001b[0;34m,\u001b[0m \u001b[0;36m8\u001b[0m\u001b[0;34m,\u001b[0m \u001b[0;36m16\u001b[0m\u001b[0;34m]\u001b[0m\u001b[0;34m:\u001b[0m \u001b[0;36m2\u001b[0m\u001b[0;34m,\u001b[0m \u001b[0;34m[\u001b[0m\u001b[0;36m1\u001b[0m\u001b[0;34m,\u001b[0m \u001b[0;36m3\u001b[0m\u001b[0;34m,\u001b[0m \u001b[0;36m9\u001b[0m\u001b[0;34m,\u001b[0m \u001b[0;36m27\u001b[0m\u001b[0;34m,\u001b[0m \u001b[0;36m81\u001b[0m\u001b[0;34m]\u001b[0m\u001b[0;34m:\u001b[0m \u001b[0;36m3\u001b[0m\u001b[0;34m}\u001b[0m\u001b[0;34m\u001b[0m\u001b[0m\n\u001b[0m",
      "\u001b[0;31mTypeError\u001b[0m: unhashable type: 'list'"
     ]
    }
   ],
   "source": [
    "powers = {[1, 2, 4, 8, 16]: 2, [1, 3, 9, 27, 81]: 3}"
   ]
  },
  {
   "cell_type": "markdown",
   "metadata": {},
   "source": [
    "The word “unhashable” in this context means that this ‘list’ is an object that can be changed. Dictionaries in Python rely on each key having a *hash* value, a specific identifier for the key. If the key can change, that hash value would not be reliable. So the keys must always be unchangeable, hashable data types, like numbers or strings.\n",
    "\n",
    "<br/>**Note:**\n",
    "<br/>A tuple is a hashable value and can be used as a dictionary key. A tuple would be useful as a key when storing values associated with a grid or some other coordinate type system. The following code example shows a dictionary with keys representing a simple x,y grid system."
   ]
  },
  {
   "cell_type": "code",
   "execution_count": 3,
   "metadata": {},
   "outputs": [
    {
     "name": "stdout",
     "output_type": "stream",
     "text": [
      "{(0, 0): 100, (1, 1): 200, (1, 0): 150, (0, 1): 125}\n"
     ]
    }
   ],
   "source": [
    "coordinates = { (0,0) : 100, (1,1) : 200}\n",
    "coordinates[(1,0)] = 150\n",
    "coordinates[(0,1)] = 125\n",
    "\n",
    "print(coordinates)"
   ]
  },
  {
   "cell_type": "markdown",
   "metadata": {},
   "source": [
    "<img src=\"atom.png\" alt=\"Atom\" style=\"width:60px\" align=\"left\" vertical-align=\"middle\">\n",
    "\n",
    "## 4. Empty Dictionary\n",
    "*in Python 3*\n",
    "\n",
    "----\n",
    "A dictionary doesn’t have to contain anything. You can create an empty dictionary:"
   ]
  },
  {
   "cell_type": "code",
   "execution_count": 8,
   "metadata": {},
   "outputs": [],
   "source": [
    "empty_dict = {}"
   ]
  },
  {
   "cell_type": "markdown",
   "metadata": {},
   "source": [
    "We can create an empty dictionary when we plan to fill it later based on some other input. We will explore ways to fill a dictionary in the next exercise."
   ]
  },
  {
   "cell_type": "markdown",
   "metadata": {},
   "source": [
    "<img src=\"atom.png\" alt=\"Atom\" style=\"width:60px\" align=\"left\" vertical-align=\"middle\">\n",
    "\n",
    "## 5. Add A Key\n",
    "*in Python 3*\n",
    "\n",
    "----\n",
    "To add a single key : value pair to a dictionary, we can use the syntax:\n",
    "\n",
    "<br/>`my_dict[\"new_key\"] = \"new_value\"`"
   ]
  },
  {
   "cell_type": "markdown",
   "metadata": {},
   "source": [
    "For example, if we had our `menu` object from the first exercise:"
   ]
  },
  {
   "cell_type": "code",
   "execution_count": 5,
   "metadata": {},
   "outputs": [],
   "source": [
    "menu = {\"oatmeal\": 3, \"avocado toast\": 6, \"carrot juice\": 5, \"blueberry muffin\": 2}"
   ]
  },
  {
   "cell_type": "markdown",
   "metadata": {},
   "source": [
    "and we wanted to add a new item, `\"cheesecake\"` for `8` dollars, we could use:"
   ]
  },
  {
   "cell_type": "code",
   "execution_count": 6,
   "metadata": {},
   "outputs": [],
   "source": [
    "menu[\"cheesecake\"] = 8"
   ]
  },
  {
   "cell_type": "markdown",
   "metadata": {},
   "source": [
    "Now, menu looks like:"
   ]
  },
  {
   "cell_type": "code",
   "execution_count": 7,
   "metadata": {},
   "outputs": [
    {
     "name": "stdout",
     "output_type": "stream",
     "text": [
      "{'oatmeal': 3, 'avocado toast': 6, 'carrot juice': 5, 'blueberry muffin': 2, 'cheesecake': 8}\n"
     ]
    }
   ],
   "source": [
    "print(menu)"
   ]
  },
  {
   "cell_type": "markdown",
   "metadata": {},
   "source": [
    "Just because a key doesn’t have a useful meaning, it can still be inserted into a dictionary as long as Python is able to compute a hash value for it. The following code example shows three keys which Python will accept without reporting an error. These keys are unlikely to be useful but are accepted by Python without complaint and could result in unexpected behavior."
   ]
  },
  {
   "cell_type": "code",
   "execution_count": 8,
   "metadata": {},
   "outputs": [
    {
     "name": "stdout",
     "output_type": "stream",
     "text": [
      "{None: 100, '': 200, False: 300}\n"
     ]
    }
   ],
   "source": [
    "mydict = {}\n",
    "mydict[None] = 100\n",
    "mydict[''] = 200\n",
    "mydict[False] = 300\n",
    "\n",
    "print(mydict)"
   ]
  },
  {
   "cell_type": "markdown",
   "metadata": {},
   "source": [
    "<img src=\"atom.png\" alt=\"Atom\" style=\"width:60px\" align=\"left\" vertical-align=\"middle\">\n",
    "\n",
    "## 6. Add Multiple Keys\n",
    "*in Python 3*\n",
    "\n",
    "----\n",
    "If we wanted to add multiple key : value pairs to a dictionary at once, we can use the `.update()` method.\n",
    "\n",
    "<br/>Looking at our `sensors` object from the first exercise:"
   ]
  },
  {
   "cell_type": "code",
   "execution_count": 10,
   "metadata": {},
   "outputs": [],
   "source": [
    "sensors =  {\"living room\": 21, \"kitchen\": 23, \"bedroom\": 20}"
   ]
  },
  {
   "cell_type": "markdown",
   "metadata": {},
   "source": [
    "If we wanted to add 3 new rooms, we could use:"
   ]
  },
  {
   "cell_type": "code",
   "execution_count": 11,
   "metadata": {},
   "outputs": [],
   "source": [
    "sensors.update({\"pantry\": 22, \"guest room\": 25, \"patio\": 34})"
   ]
  },
  {
   "cell_type": "markdown",
   "metadata": {},
   "source": [
    "which would add all three items to the `sensors` dictionary. Now, `sensors` looks like:"
   ]
  },
  {
   "cell_type": "code",
   "execution_count": 12,
   "metadata": {},
   "outputs": [
    {
     "name": "stdout",
     "output_type": "stream",
     "text": [
      "{'living room': 21, 'kitchen': 23, 'bedroom': 20, 'pantry': 22, 'guest room': 25, 'patio': 34}\n"
     ]
    }
   ],
   "source": [
    "print(sensors)"
   ]
  },
  {
   "cell_type": "markdown",
   "metadata": {},
   "source": [
    "*Exercise:*\n",
    "<br/>In one line of code, add two new users to the user_ids dictionary: `theLooper`, with an id of `138475`; `stringQueen`, with an id of `85739`. Print the dictionary."
   ]
  },
  {
   "cell_type": "code",
   "execution_count": 13,
   "metadata": {},
   "outputs": [
    {
     "name": "stdout",
     "output_type": "stream",
     "text": [
      "{'teraCoder': 9018293, 'proProgrammer': 119238, 'theLooper': 138475, 'stringQueen': 85739}\n"
     ]
    }
   ],
   "source": [
    "user_ids = {\"teraCoder\": 9018293, \"proProgrammer\": 119238}\n",
    "user_ids.update({\"theLooper\":138475, \"stringQueen\":85739})\n",
    "print(user_ids)"
   ]
  },
  {
   "cell_type": "markdown",
   "metadata": {},
   "source": [
    "<img src=\"atom.png\" alt=\"Atom\" style=\"width:60px\" align=\"left\" vertical-align=\"middle\">\n",
    "\n",
    "## 7. Overwrite Values\n",
    "*in Python 3*\n",
    "\n",
    "----\n",
    "We know that we can add a key by using syntax like:"
   ]
  },
  {
   "cell_type": "code",
   "execution_count": 18,
   "metadata": {},
   "outputs": [],
   "source": [
    "menu['avocado toast'] = 7"
   ]
  },
  {
   "cell_type": "markdown",
   "metadata": {},
   "source": [
    "which will create a key `'avocado toast'` and set the value to `7`. But what if we already have an `'avocado toast'` entry in the `menu` dictionary?\n",
    "\n",
    "<br/>In that case, our value assignment would overwrite the existing value attached to the key `'avocado toast'`."
   ]
  },
  {
   "cell_type": "code",
   "execution_count": 19,
   "metadata": {},
   "outputs": [
    {
     "name": "stdout",
     "output_type": "stream",
     "text": [
      "{'carrot juice': 5, 'oatmeal': 5, 'blueberry muffin': 2, 'avocado toast': 6}\n"
     ]
    }
   ],
   "source": [
    "menu = {\"oatmeal\": 3, \"avocado toast\": 6, \"carrot juice\": 5, \"blueberry muffin\": 2}\n",
    "menu[\"oatmeal\"] = 5\n",
    "print(menu)"
   ]
  },
  {
   "cell_type": "markdown",
   "metadata": {},
   "source": [
    "Notice the value of `\"oatmeal\"` has now changed to `5`.\n",
    "\n",
    "<br/>*Exercise:*\n",
    "<br/>Add the key `\"Supporting Actress\"` and set the value to `\"Viola Davis\"`. Then without changing the definition of the dictionary `oscar_winners`, change the value associated with the key `\"Best Picture\"` to `\"Moonlight\"`."
   ]
  },
  {
   "cell_type": "code",
   "execution_count": 20,
   "metadata": {},
   "outputs": [],
   "source": [
    "oscar_winners = {\"Best Picture\": \"La La Land\", \"Best Actor\": \"Casey Affleck\", \"Best Actress\": \"Emma Stone\", \"Animated Feature\": \"Zootopia\"}\n",
    "oscar_winners[\"Supporting Actress\"] = \"Viola Davis\"\n",
    "oscar_winners[\"Best Picture\"] = \"Moonlight\""
   ]
  },
  {
   "cell_type": "markdown",
   "metadata": {},
   "source": [
    "<img src=\"atom.png\" alt=\"Atom\" style=\"width:60px\" align=\"left\" vertical-align=\"middle\">\n",
    "\n",
    "## 8. List Comprehensions to Dictionaries\n",
    "*in Python 3*\n",
    "\n",
    "----\n",
    "Let’s say we have two lists that we want to combine into a dictionary, like a list of students and a list of their heights, in inches:"
   ]
  },
  {
   "cell_type": "code",
   "execution_count": 14,
   "metadata": {},
   "outputs": [],
   "source": [
    "names = ['Jenny', 'Alexus', 'Sam', 'Grace']\n",
    "heights = [61, 70, 67, 64]"
   ]
  },
  {
   "cell_type": "markdown",
   "metadata": {},
   "source": [
    "Python allows you to create a dictionary using a list comprehension, with this syntax:\n",
    "\n",
    "<br/>`students = {key:value for key, value in zip(names, heights)} # one method`"
   ]
  },
  {
   "cell_type": "code",
   "execution_count": 15,
   "metadata": {},
   "outputs": [
    {
     "name": "stdout",
     "output_type": "stream",
     "text": [
      "{'Jenny': 61, 'Alexus': 70, 'Sam': 67, 'Grace': 64}\n"
     ]
    }
   ],
   "source": [
    "students = {name:height for name, height in zip(names, heights)}\n",
    "print(students)"
   ]
  },
  {
   "cell_type": "markdown",
   "metadata": {},
   "source": [
    "Remember that `zip()` combines two lists into a list of pairs. This list comprehension:\n",
    "1. Takes a pair from the zipped list of pairs from `names` and `heights`\n",
    "2. Names the elements in the pair key (the one originally from the `names` list) and value (the one originally from the `heights` list)\n",
    "3. Creates a `key : value` item in the `students` dictionary\n",
    "4. Repeats steps 1-3 for the entire list of pairs\n",
    "\n",
    "<br/>*Exercise:*\n",
    "<br/>Create a dictionary called `drinks_to_caffeine` by using a list comprehension that goes through the `zipped_drinks` list and turns each pair into a `key:value` item."
   ]
  },
  {
   "cell_type": "code",
   "execution_count": 16,
   "metadata": {},
   "outputs": [
    {
     "name": "stdout",
     "output_type": "stream",
     "text": [
      "{'espresso': 64, 'chai': 40, 'decaf': 0, 'drip': 120}\n"
     ]
    }
   ],
   "source": [
    "drinks = [\"espresso\", \"chai\", \"decaf\", \"drip\"]\n",
    "caffeine = [64, 40, 0, 120]\n",
    "\n",
    "drinks_to_caffeine = {drink:caffeinated for drink, caffeinated in zip(drinks, caffeine)}\n",
    "print(drinks_to_caffeine)"
   ]
  },
  {
   "cell_type": "markdown",
   "metadata": {},
   "source": [
    "<img src=\"atom.png\" alt=\"Atom\" style=\"width:60px\" align=\"left\" vertical-align=\"middle\">\n",
    "\n",
    "## 9. Review\n",
    "*Python 3*\n",
    "\n",
    "----\n",
    "So far we have learned:\n",
    "\n",
    "    1. How to create a dictionary\n",
    "    2. How to add elements to a dictionary\n",
    "    3. How to update elements in a dictionary\n",
    "    4. How to use a list comprehension to create a dictionary from two lists\n",
    "\n",
    "<br/>*Exercise:*\n",
    "<br/>A. We are building a music streaming service. We have provided two lists, representing songs in a user’s library and the amount of times each song has been played. Using a list comprehension, create a dictionary called `plays` that goes through `zip(songs, playcounts)` and creates a `song:playcount` pair for each `song` in `songs` and each `playcount` in `playcounts`. Print the dictionary."
   ]
  },
  {
   "cell_type": "code",
   "execution_count": 17,
   "metadata": {},
   "outputs": [
    {
     "name": "stdout",
     "output_type": "stream",
     "text": [
      "{'Like a Rolling Stone': 78, 'Satisfaction': 29, 'Imagine': 44, \"What's Going On\": 21, 'Respect': 89, 'Good Vibrations': 5}\n"
     ]
    }
   ],
   "source": [
    "songs = [\"Like a Rolling Stone\", \"Satisfaction\", \"Imagine\", \"What's Going On\", \"Respect\", \"Good Vibrations\"]\n",
    "playcounts = [78, 29, 44, 21, 89, 5]\n",
    "\n",
    "# List comprehension using dictionaries\n",
    "plays = {song:playcount for song, playcount in zip(songs, playcounts)}\n",
    "print(plays)"
   ]
  },
  {
   "cell_type": "markdown",
   "metadata": {},
   "source": [
    "<br/>B. After printing plays, add a new entry to it. The entry should be for the song `\"Purple Haze\"` and the playcount is `1`. This user has caught Aretha Franklin fever and listened to `“Respect”` 5 more times. Update the value for `\"Respect\"` to be 94 in the plays dictionary."
   ]
  },
  {
   "cell_type": "code",
   "execution_count": 18,
   "metadata": {},
   "outputs": [],
   "source": [
    "# Adding/updating keys and values to dictionaries\n",
    "plays[\"Purple Haze\"] = 1\n",
    "plays[\"Respect\"] = 94"
   ]
  },
  {
   "cell_type": "markdown",
   "metadata": {},
   "source": [
    "<br/>C. Create a dictionary called `library` that has two `key:value` pairs: key `\"The Best Songs\"` with a value of `plays`, the dictionary you created; key `\"Sunday Feelings\"` with a value of an empty dictionary. Print the dictionary."
   ]
  },
  {
   "cell_type": "code",
   "execution_count": 19,
   "metadata": {},
   "outputs": [
    {
     "name": "stdout",
     "output_type": "stream",
     "text": [
      "{'The Best Songs': {'Like a Rolling Stone': 78, 'Satisfaction': 29, 'Imagine': 44, \"What's Going On\": 21, 'Respect': 94, 'Good Vibrations': 5, 'Purple Haze': 1}, 'Sunday Feelings': {}}\n"
     ]
    }
   ],
   "source": [
    "# A library within a library\n",
    "library = {\"The Best Songs\":plays}\n",
    "library[\"Sunday Feelings\"] = {}\n",
    "print(library)"
   ]
  }
 ],
 "metadata": {
  "kernelspec": {
   "display_name": "Python 3",
   "language": "python",
   "name": "python3"
  },
  "language_info": {
   "codemirror_mode": {
    "name": "ipython",
    "version": 3
   },
   "file_extension": ".py",
   "mimetype": "text/x-python",
   "name": "python",
   "nbconvert_exporter": "python",
   "pygments_lexer": "ipython3",
   "version": "3.8.4"
  }
 },
 "nbformat": 4,
 "nbformat_minor": 2
}
