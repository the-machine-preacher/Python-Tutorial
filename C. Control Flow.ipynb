{
 "cells": [
  {
   "cell_type": "markdown",
   "metadata": {},
   "source": [
    "<img src=\"atom.png\" alt=\"Atom\" style=\"width:60px\" align=\"left\" vertical-align=\"middle\">\n",
    "\n",
    "## 1. Control Flow: An Introduction\n",
    "*in Python 3*\n",
    "\n",
    "----\n",
    "Imagine waking up in the morning.\n",
    "\n",
    "You wake up and think,\n",
    "\n",
    ">“Ugh, is it a weekday?”\n",
    "\n",
    "<br/>If so, you have to get up and get dressed and get ready for work or school. If not, you can sleep in a bit longer and catch a couple extra Z’s. But alas, it is a weekday, so you are up and dressed and you go to look outside, “What’s the weather like? Do I need an umbrella?”\n",
    "\n",
    "<br/>These questions and decisions control the flow of your morning, each step and result is a product of the conditions of the day and your surroundings. Your computer, just like you, goes through a similar flow every time it executes code. A program will run (wake up) and start moving through its checklists: Is this condition met? Is that condition met? Okay, let’s execute this code and return that value.\n",
    "\n",
    "<br/>This is the Control Flow of your program. In Python, your script will execute from the top down, until there is nothing left to run. It is your job to include gateways, known as conditional statements, to tell the computer when it should execute certain blocks of code. If these conditions are met, then run this function.\n",
    "\n",
    "<br/>Over the course of this lesson, you will learn how to build conditional statements using boolean expressions, and manage the control flow in your code."
   ]
  },
  {
   "cell_type": "markdown",
   "metadata": {},
   "source": [
    "<img src=\"atom.png\" alt=\"Atom\" style=\"width:60px\" align=\"left\" vertical-align=\"middle\">\n",
    "\n",
    "## 2. Boolean Expressions\n",
    "*to Python 3*\n",
    "\n",
    "----\n",
    "In order to build control flow into our program, we want to be able to check if something is true or not. A boolean expression is a statement that can either be `True` or `False`.\n",
    "\n",
    "<br/>Let’s go back to the ‘waking up’ example. The first question, “Is today a weekday?” can be written as a boolean expression:\n",
    "\n",
    ">Today is a weekday.\n",
    "\n",
    "<br/>This expression can be `True` if today is Tuesday, or it can be `False` if today is Saturday. There are no other options.\n",
    "\n",
    "<br/>Consider the phrase:\n",
    "\n",
    ">Friday is the best day of the week.\n",
    "\n",
    "<br/>Is this a boolean expression?\n",
    "\n",
    "<br/>No, this statement is an opinion and is not objectively `True` or `False`. Someone else might say that “Wednesday is the best weekday,” and their statement would be no less `True` or `False` than the one above.\n",
    "\n",
    "<br/>How about the phrase:\n",
    "\n",
    ">Sunday starts with the letter 'C'.\n",
    "\n",
    "<br/>Is this a boolean expression?\n",
    "\n",
    "<br/>Yes! This expression can only be `True` or `False`, which makes it a boolean expression. Even though the statement itself is false (Sunday starts with the letter ‘C’), it is still a boolean expression.\n"
   ]
  },
  {
   "cell_type": "markdown",
   "metadata": {},
   "source": [
    "\n",
    "<br/>*Exercise*\n",
    "<br/>Determine if the following statements are boolean expressions or not. If they are, set the matching variable to the right to `\"Yes\"` and if not set the variable to `\"No\"`. Here’s an example of what to do:\n",
    "\n",
    "Example statement:\n",
    "\n",
    ">My dog is the cutest dog in the world.\n",
    "\n",
    "<br/>This is an opinion and not a boolean expression, so you would set example_statement to `\"No\"` in the editor to the right. Okay, now it’s your turn:"
   ]
  },
  {
   "cell_type": "code",
   "execution_count": 1,
   "metadata": {},
   "outputs": [],
   "source": [
    "#Dogs are mammals. \n",
    "statement_one = \"Yes\"\n",
    "#My dog is named Pavel.\n",
    "statement_two = \"Yes\"\n",
    "#Dogs make the best pets.\n",
    "statement_three = \"No\"\n",
    "#Cats are female dogs.\n",
    "statement_four = \"Yes\""
   ]
  },
  {
   "cell_type": "markdown",
   "metadata": {},
   "source": [
    "<img src=\"atom.png\" alt=\"Atom\" style=\"width:60px\" align=\"left\" vertical-align=\"middle\">\n",
    "\n",
    "## 3. Relational Operators: Equals and Not Equals\n",
    "*in Python 3*\n",
    "\n",
    "----\n",
    "Now that we understand what boolean expressions are, let’s learn to create them in Python. We can create a boolean expression by using relational operators.\n",
    "\n",
    "<br/>Relational operators compare two items and return either `True` or `False`. For this reason, you will sometimes hear them called comparators.\n",
    "\n",
    "<br/>The two boolean operators we’ll cover first are:\n",
    "\n",
    "    Equals: ==\n",
    "    Not equals: !=\n",
    "\n",
    "<br/>These operators compare two items and return `True` or `False` if they are equal or not.\n",
    "\n",
    "<br/>We can create boolean expressions by comparing two values using these operators:"
   ]
  },
  {
   "cell_type": "code",
   "execution_count": 21,
   "metadata": {},
   "outputs": [
    {
     "data": {
      "text/plain": [
       "False"
      ]
     },
     "execution_count": 21,
     "metadata": {},
     "output_type": "execute_result"
    }
   ],
   "source": [
    ">>> 1 == 1\n",
    "True\n",
    ">>> 2 != 4\n",
    "True\n",
    ">>> 3 == 5\n",
    "False\n",
    ">>> '7' == 7\n",
    "False"
   ]
  },
  {
   "cell_type": "markdown",
   "metadata": {},
   "source": [
    "Determine if the following boolean expressions are `True` or `False`. Input your answer as `True` or `False` in the appropriate variable to the right."
   ]
  },
  {
   "cell_type": "code",
   "execution_count": 3,
   "metadata": {},
   "outputs": [
    {
     "data": {
      "text/plain": [
       "True"
      ]
     },
     "execution_count": 3,
     "metadata": {},
     "output_type": "execute_result"
    }
   ],
   "source": [
    "#Statement 1\n",
    "(5 * 2) - 1 == 8 + 1"
   ]
  },
  {
   "cell_type": "code",
   "execution_count": 4,
   "metadata": {},
   "outputs": [
    {
     "data": {
      "text/plain": [
       "False"
      ]
     },
     "execution_count": 4,
     "metadata": {},
     "output_type": "execute_result"
    }
   ],
   "source": [
    "#Statement 2\n",
    "13 - 6 != (3 * 2) + 1"
   ]
  },
  {
   "cell_type": "code",
   "execution_count": 5,
   "metadata": {},
   "outputs": [
    {
     "data": {
      "text/plain": [
       "True"
      ]
     },
     "execution_count": 5,
     "metadata": {},
     "output_type": "execute_result"
    }
   ],
   "source": [
    "#Statement 3\n",
    "3 * (2 - 1) == 4 - 1"
   ]
  },
  {
   "cell_type": "markdown",
   "metadata": {},
   "source": [
    "<img src=\"atom.png\" alt=\"Atom\" style=\"width:60px\" align=\"left\" vertical-align=\"middle\">\n",
    "\n",
    "## 4. Boolean Variables\n",
    "*in Python 3*\n",
    "\n",
    "----\n",
    "Before we go any further, let’s talk a little bit about `True` and `False`. You may notice that when you type them in the code editor (with uppercase `T` and `F`), they appear in a different color than variables or strings. This is because `True` and `False` are their own special type: bool.\n",
    "\n",
    "<br/>`True` and `False` are the only bool types, and any variable that is assigned one of these values is called a *boolean variable.* Boolean variables can be created in several ways. The easiest way is to simply assign `True` or `False` to a variable:"
   ]
  },
  {
   "cell_type": "code",
   "execution_count": 6,
   "metadata": {},
   "outputs": [],
   "source": [
    "set_to_true = True\n",
    "set_to_false = False"
   ]
  },
  {
   "cell_type": "markdown",
   "metadata": {},
   "source": [
    "You can also set a variable equal to a boolean expression."
   ]
  },
  {
   "cell_type": "code",
   "execution_count": 20,
   "metadata": {},
   "outputs": [],
   "source": [
    "bool_one = 5 != 7 \n",
    "bool_two = 1 + 1 != 2\n",
    "bool_three = 3 * 3 == 9"
   ]
  },
  {
   "cell_type": "markdown",
   "metadata": {},
   "source": [
    "These variables now contain boolean values, so when you reference them they will only return the `True` or `False` values of the expression they were assigned."
   ]
  },
  {
   "cell_type": "code",
   "execution_count": 11,
   "metadata": {},
   "outputs": [
    {
     "data": {
      "text/plain": [
       "True"
      ]
     },
     "execution_count": 11,
     "metadata": {},
     "output_type": "execute_result"
    }
   ],
   "source": [
    "bool_three"
   ]
  },
  {
   "cell_type": "markdown",
   "metadata": {},
   "source": [
    "**Note:** Boolean values `True` and `False` always need to be capitalized and do not have quotation marks."
   ]
  },
  {
   "cell_type": "markdown",
   "metadata": {},
   "source": [
    "<img src=\"atom.png\" alt=\"Atom\" style=\"width:60px\" align=\"left\" vertical-align=\"middle\">\n",
    "\n",
    "## 5. If Statements\n",
    "*to Python 3*\n",
    "\n",
    "----\n",
    "“Okay okay okay, boolean variables, boolean expressions, blah blah blah, I thought I was learning how to build control flow into my code!”\n",
    "\n",
    "<br/>You are, I promise you!\n",
    "\n",
    "<br/>Understanding boolean variables and expressions is essential because they are the building blocks of conditional statements.\n",
    "\n",
    "<br/>Recall the waking-up example from the beginning of this lesson. The decision-making process of “Is it raining? If so, bring an umbrella” is a conditional statement. Here it is phrased in a different way:\n",
    "\n",
    ">If it is raining then bring an umbrella.\n",
    "\n",
    "<br/>Can you pick out the boolean expression here?\n",
    "\n",
    "<br/>Right, `\"it is raining\"` is the boolean expression, and this conditional statement is checking to see if it is `True`.\n",
    "\n",
    "<br/>If `\"it is raining\" == True` then the rest of the conditional statement will be executed and you will bring an umbrella.\n",
    "\n",
    "<br/>This is the form of a conditional statement:\n",
    "\n",
    ">If [it is raining] then [bring an umbrella]\n",
    "\n",
    "<br/>In Python, it looks very similar:"
   ]
  },
  {
   "cell_type": "code",
   "execution_count": 14,
   "metadata": {},
   "outputs": [
    {
     "name": "stdout",
     "output_type": "stream",
     "text": [
      "Bring an umbrella!\n"
     ]
    }
   ],
   "source": [
    "is_raining = True\n",
    "if is_raining:\n",
    "    print('Bring an umbrella!')"
   ]
  },
  {
   "cell_type": "markdown",
   "metadata": {},
   "source": [
    "You’ll notice that instead of “then” we have a colon, '`:`'. That tells the computer that what’s coming next is what should be executed if the condition is met. Let’s take a look at another conditional statement:"
   ]
  },
  {
   "cell_type": "code",
   "execution_count": 15,
   "metadata": {},
   "outputs": [
    {
     "name": "stdout",
     "output_type": "stream",
     "text": [
      "apple\n"
     ]
    }
   ],
   "source": [
    "if 2 == 4 - 2: \n",
    "    print(\"apple\")"
   ]
  },
  {
   "cell_type": "markdown",
   "metadata": {},
   "source": [
    "Will this code print `apple` to the terminal? Yes, because the condition of the `if` statement, `2 == 4 - 2` is `True`. The following are two examples of `if` statements:"
   ]
  },
  {
   "cell_type": "code",
   "execution_count": 16,
   "metadata": {},
   "outputs": [
    {
     "name": "stdout",
     "output_type": "stream",
     "text": [
      "I know it is you Dave! Go away!\n"
     ]
    }
   ],
   "source": [
    "def dave_check(user_name):\n",
    "    if user_name == \"Dave\":\n",
    "        return \"Get off my computer Dave!\"\n",
    "    if user_name == \"angela_catlady_87\":\n",
    "        return \"I know it is you Dave! Go away!\"\n",
    "\n",
    "# Enter a user name here, make sure to make it a string\n",
    "user_name = 'angela_catlady_87'\n",
    "print(dave_check(user_name))"
   ]
  },
  {
   "cell_type": "markdown",
   "metadata": {},
   "source": [
    "<img src=\"atom.png\" alt=\"Atom\" style=\"width:60px\" align=\"left\" vertical-align=\"middle\">\n",
    "\n",
    "## 6. Relational Operators II\n",
    "*in Python 3*\n",
    "\n",
    "----\n",
    "Now that we’ve added conditional statements to our toolkit for building control flow, let’s explore more ways to create boolean expressions. So far we know two relational operators, equals and not equals, but there are a ton (well, four) more:\n",
    "\n",
    "    Greater than: >\n",
    "    Less than: <\n",
    "    Greater than or equal to: >=\n",
    "    Less than or equal to: <=\n",
    "\n",
    "<br/>Let’s say we’re running a movie streaming platform and we want to write a function that checks if our users are over 13 when showing them a PG-13 movie. We could write something like:"
   ]
  },
  {
   "cell_type": "code",
   "execution_count": 17,
   "metadata": {},
   "outputs": [],
   "source": [
    "def age_check(age):\n",
    "    if age >= 13:\n",
    "        return True"
   ]
  },
  {
   "cell_type": "markdown",
   "metadata": {},
   "source": [
    "This function will take the users `age` and compare it to the number `13`. If `age` is greater than or equal to `13` it will return `True`.\n",
    "\n",
    "<br/>*Exercise*\n",
    "<br/>Write two functions, one to check if a number is greater than, less then or equal to another. Another function to check if a student has achieved enough credits to graduate."
   ]
  },
  {
   "cell_type": "code",
   "execution_count": 18,
   "metadata": {},
   "outputs": [
    {
     "name": "stdout",
     "output_type": "stream",
     "text": [
      "You have enough credits to graduate!\n"
     ]
    }
   ],
   "source": [
    "# Compare two numbers\n",
    "def greater_than(x, y):\n",
    "    if x > y:\n",
    "        return x\n",
    "    if y > x:\n",
    "        return y\n",
    "    if x == y: \n",
    "        return \"These numbers are the same\"\n",
    "\n",
    "# Check credit requirements\n",
    "def graduation_reqs(credits):\n",
    "    if credits >= 120:\n",
    "        return \"You have enough credits to graduate!\"\n",
    "\n",
    "# Check if 120 credits is adequate to graduate\n",
    "print(graduation_reqs(120))"
   ]
  },
  {
   "cell_type": "markdown",
   "metadata": {},
   "source": [
    "<img src=\"atom.png\" alt=\"Atom\" style=\"width:60px\" align=\"left\" vertical-align=\"middle\">\n",
    "\n",
    "## 7. Boolean Operators: and\n",
    "*in Python 3*\n",
    "\n",
    "----\n",
    "Often, the conditions you want to check in your conditional statement will require more than one boolean expression to cover. In these cases, you can build larger boolean expressions using boolean operators. These operators (also known as *logical operators*) combine smaller boolean expressions into larger boolean expressions.\n",
    "\n",
    "<br/>There are three boolean operators that we will cover:\n",
    "\n",
    "    and\n",
    "    or\n",
    "    not\n",
    "\n",
    "<br/>Let’s start with `and`.\n",
    "\n",
    "<br/>`and` combines two boolean expressions and evaluates as True if both its components are True, but False otherwise.\n",
    "\n",
    "<br/>Consider the example\n",
    "\n",
    ">Oranges are a fruit and carrots are a vegetable.\n",
    "\n",
    "<br/>This boolean expression is comprised of two smaller expressions, `oranges are a fruit` and `carrots are a vegetable`, both of which are `True` and connected by the boolean operator `and`, so the entire expression is `True`.\n",
    "\n",
    "<br/>Let’s look at an example of some `AND` statements in Python:"
   ]
  },
  {
   "cell_type": "code",
   "execution_count": 19,
   "metadata": {},
   "outputs": [
    {
     "data": {
      "text/plain": [
       "False"
      ]
     },
     "execution_count": 19,
     "metadata": {},
     "output_type": "execute_result"
    }
   ],
   "source": [
    ">>> (1 + 1 == 2) and (2 + 2 == 4)\n",
    "True\n",
    ">>> (1 + 1 == 2) and (2 < 1)\n",
    "False\n",
    ">>> (1 > 9) and (5 != 6)\n",
    "False\n",
    ">>> (0 == 10) and (1 + 1 == 1) \n",
    "False"
   ]
  },
  {
   "cell_type": "markdown",
   "metadata": {},
   "source": [
    "Notice that in the second and third examples, even though part of the expression is `True`, the entire expression as a whole is `False` because the other statement is `False`. The fourth statement is also `False` because both components are `False`."
   ]
  },
  {
   "cell_type": "code",
   "execution_count": 22,
   "metadata": {},
   "outputs": [
    {
     "data": {
      "text/plain": [
       "False"
      ]
     },
     "execution_count": 22,
     "metadata": {},
     "output_type": "execute_result"
    }
   ],
   "source": [
    "# Statement 1\n",
    "(2 + 2 + 2 >= 6) and (-1 * -1 < 0)"
   ]
  },
  {
   "cell_type": "code",
   "execution_count": 23,
   "metadata": {},
   "outputs": [
    {
     "data": {
      "text/plain": [
       "True"
      ]
     },
     "execution_count": 23,
     "metadata": {},
     "output_type": "execute_result"
    }
   ],
   "source": [
    "# Statement 2\n",
    "(4 * 2 <= 8) and (7 - 1 == 6)"
   ]
  },
  {
   "cell_type": "code",
   "execution_count": 24,
   "metadata": {},
   "outputs": [
    {
     "name": "stdout",
     "output_type": "stream",
     "text": [
      "You meet the requirements to graduate!\n"
     ]
    }
   ],
   "source": [
    "# Example function\n",
    "def graduation_reqs(gpa, credits):\n",
    "  if (credits >= 120) and (gpa >= 2.0):\n",
    "    return \"You meet the requirements to graduate!\"\n",
    "\n",
    "print(graduation_reqs(2.0, 120))"
   ]
  },
  {
   "cell_type": "markdown",
   "metadata": {},
   "source": [
    "<img src=\"atom.png\" alt=\"Atom\" style=\"width:60px\" align=\"left\" vertical-align=\"middle\">\n",
    "\n",
    "## 8. Boolean Operators: or\n",
    "*in Python 3*\n",
    "\n",
    "----\n",
    "The boolean operator `or` combines two expressions into a larger expression that is `True` if either component is `True`.\n",
    "\n",
    "<br/>Consider the statement\n",
    "\n",
    ">Oranges are a fruit or apples are a vegetable.\n",
    "\n",
    "<br/>This statement is composed of two expressions: `oranges are a fruit` which is `True` and `apples are a vegetable` which is `False`. Because the two expressions are connected by the `or` operator, the entire statement is `True`. Only one component needs to be `True` for an `or` statement to be `True`.\n",
    "\n",
    "<br/>In English, `or` implies that if one component is `True`, then the other component must be `False`. This is not true in Python. If an or statement has two `True` components, it is also `True`.\n",
    "\n",
    "<br/>Let’s take a look at a few more examples in Python:"
   ]
  },
  {
   "cell_type": "code",
   "execution_count": 25,
   "metadata": {},
   "outputs": [
    {
     "data": {
      "text/plain": [
       "False"
      ]
     },
     "execution_count": 25,
     "metadata": {},
     "output_type": "execute_result"
    }
   ],
   "source": [
    ">>> True or (3 + 4 == 7)\n",
    "True\n",
    ">>> (1 - 1 == 0) or False\n",
    "True\n",
    ">>> (2 < 0) or True\n",
    "True\n",
    ">>> (3 == 8) or (3 > 4) \n",
    "False"
   ]
  },
  {
   "cell_type": "markdown",
   "metadata": {},
   "source": [
    "Notice that each `or` statement that has at least one `True` component is `True`, but the final statement has two `False` components, so it is `False`.\n",
    "\n",
    "<br/>*Exercise*\n",
    "<br/>Below are additional examples to solidify the concept."
   ]
  },
  {
   "cell_type": "code",
   "execution_count": 26,
   "metadata": {},
   "outputs": [
    {
     "data": {
      "text/plain": [
       "True"
      ]
     },
     "execution_count": 26,
     "metadata": {},
     "output_type": "execute_result"
    }
   ],
   "source": [
    "# Statement 1\n",
    "(2 - 1 > 3) or (-5 * 2 == -10)"
   ]
  },
  {
   "cell_type": "code",
   "execution_count": 27,
   "metadata": {},
   "outputs": [
    {
     "data": {
      "text/plain": [
       "True"
      ]
     },
     "execution_count": 27,
     "metadata": {},
     "output_type": "execute_result"
    }
   ],
   "source": [
    "# Statement 2\n",
    "(9 + 5 <= 15) or (7 != 4 + 3)"
   ]
  },
  {
   "cell_type": "code",
   "execution_count": 28,
   "metadata": {},
   "outputs": [
    {
     "name": "stdout",
     "output_type": "stream",
     "text": [
      "True\n"
     ]
    }
   ],
   "source": [
    "# Check to see if a student has fulfilled the necessary GPA & credit requirements to graduate\n",
    "def graduation_mailer(gpa, credits):\n",
    "    if (gpa >= 2.0) or (credits >= 120):\n",
    "        return True\n",
    "\n",
    "print(graduation_mailer(2.0, 120))"
   ]
  },
  {
   "cell_type": "markdown",
   "metadata": {},
   "source": [
    "<img src=\"atom.png\" alt=\"Atom\" style=\"width:60px\" align=\"left\" vertical-align=\"middle\">\n",
    "\n",
    "## 9. Boolean Operators: not\n",
    "*in Python 3*\n",
    "\n",
    "----\n",
    "The final boolean operator we will cover is `not`. This operator is straightforward: when applied to any boolean expression it reverses the boolean value. So if we have a `True` statement and apply a `not` operator we get a `False` statement."
   ]
  },
  {
   "cell_type": "code",
   "execution_count": 29,
   "metadata": {},
   "outputs": [
    {
     "data": {
      "text/plain": [
       "True"
      ]
     },
     "execution_count": 29,
     "metadata": {},
     "output_type": "execute_result"
    }
   ],
   "source": [
    "not True == False\n",
    "not False == True"
   ]
  },
  {
   "cell_type": "markdown",
   "metadata": {},
   "source": [
    "Consider the following statement:\n",
    "\n",
    ">Oranges are not a fruit.\n",
    "\n",
    "<br/>Here, we took the `True` statement `oranges are a fruit` and added a `not` operator to make the `False` statement `oranges are not a fruit`.\n",
    "\n",
    "<br/>This example in English is slightly different from the way it would appear in Python because in Python we add the `not` operator to the very beginning of the statement. Let’s take a look at some of those:"
   ]
  },
  {
   "cell_type": "code",
   "execution_count": 30,
   "metadata": {},
   "outputs": [
    {
     "data": {
      "text/plain": [
       "True"
      ]
     },
     "execution_count": 30,
     "metadata": {},
     "output_type": "execute_result"
    }
   ],
   "source": [
    "# Statement 1\n",
    ">>> not 1 + 1 == 2\n",
    "False\n",
    ">>> not 7 < 0\n",
    "True"
   ]
  },
  {
   "cell_type": "code",
   "execution_count": 31,
   "metadata": {},
   "outputs": [
    {
     "data": {
      "text/plain": [
       "False"
      ]
     },
     "execution_count": 31,
     "metadata": {},
     "output_type": "execute_result"
    }
   ],
   "source": [
    "# Statement 2\n",
    "not (4 + 5 <= 9)"
   ]
  },
  {
   "cell_type": "code",
   "execution_count": 32,
   "metadata": {},
   "outputs": [
    {
     "data": {
      "text/plain": [
       "True"
      ]
     },
     "execution_count": 32,
     "metadata": {},
     "output_type": "execute_result"
    }
   ],
   "source": [
    "# Statement 3\n",
    "not (8 * 2) != 20 - 4"
   ]
  },
  {
   "cell_type": "code",
   "execution_count": 35,
   "metadata": {},
   "outputs": [
    {
     "name": "stdout",
     "output_type": "stream",
     "text": [
      "Your GPA is not high enough to graduate.\n"
     ]
    }
   ],
   "source": [
    "# An example function: check to see if a student has fulfilled the necessary GPA & credit requirements to graduate\n",
    "def graduation_reqs(gpa, credits):\n",
    "    if (gpa >= 2.0) and (credits >= 120):\n",
    "        return \"You meet the requirements to graduate!\"\n",
    "    if (gpa >= 2.0) and not (credits >= 120):\n",
    "        return \"You do not have enough credits to graduate.\"\n",
    "    if (credits >= 120) and not (gpa >= 2.0):\n",
    "        return \"Your GPA is not high enough to graduate.\"\n",
    "    if not (gpa >= 2.0) and not (credits >= 120):\n",
    "        return \"You do not meet either requirement to graduate!\"\n",
    "    \n",
    "print(graduation_reqs(credits=240, gpa=1.0))"
   ]
  },
  {
   "cell_type": "markdown",
   "metadata": {},
   "source": [
    "<img src=\"atom.png\" alt=\"Atom\" style=\"width:60px\" align=\"left\" vertical-align=\"middle\">\n",
    "\n",
    "## 10. Else Statements\n",
    "*in Python 3*\n",
    "\n",
    "----\n",
    "As you can tell from your work with Calvin Coolidge’s Cool College, once you start including lots of if statements in a function the code becomes a little cluttered and clunky. Luckily, there are other tools we can use to build control flow.\n",
    "\n",
    "<br/>`else` statements allow us to elegantly describe what we want our code to do when certain conditions are not met.\n",
    "\n",
    "<br/>`else` statements always appear in conjunction with `if` statements. Consider our waking-up example to see how this works:"
   ]
  },
  {
   "cell_type": "code",
   "execution_count": 37,
   "metadata": {},
   "outputs": [
    {
     "name": "stdout",
     "output_type": "stream",
     "text": [
      "Wake up!\n"
     ]
    }
   ],
   "source": [
    "weekday = 'Tuesday'\n",
    "if weekday:\n",
    "    print(\"Wake up!\")\n",
    "else:\n",
    "    print(\"Sleep in!\")"
   ]
  },
  {
   "cell_type": "markdown",
   "metadata": {},
   "source": [
    "In this way, we can build `if` statements that execute different code if conditions are or are not met. This prevents us from needing to write `if` statements for each possible condition, we can instead write a blanket `else` statement for all the times the condition is not met.\n",
    "\n",
    "<br/>Let’s return to our `age_check` function for our movie streaming platform. Previously, all it did was check if the user’s age was over 13 and if so return `True`. We can use an `else` statement to return a message in the event the user is too young to watch the movie."
   ]
  },
  {
   "cell_type": "code",
   "execution_count": 2,
   "metadata": {},
   "outputs": [
    {
     "name": "stdout",
     "output_type": "stream",
     "text": [
      "Sorry, you must be 13 or older to watch this movie.\n"
     ]
    }
   ],
   "source": [
    "def age_check(age):\n",
    "    if age >= 13:\n",
    "        return True\n",
    "    else:\n",
    "        return \"Sorry, you must be 13 or older to watch this movie.\"\n",
    "\n",
    "print(age_check(12))"
   ]
  },
  {
   "cell_type": "code",
   "execution_count": 39,
   "metadata": {},
   "outputs": [
    {
     "name": "stdout",
     "output_type": "stream",
     "text": [
      "You do not meet the GPA or the credit requirement for graduation.\n"
     ]
    }
   ],
   "source": [
    "# Example function with 'else': check to see if a student has fulfilled the necessary GPA & credit requirements to graduate\n",
    "def graduation_reqs(gpa, credits):\n",
    "    if (gpa >= 2.0) and (credits >= 120):\n",
    "        return \"You meet the requirements to graduate!\"\n",
    "    if (gpa >= 2.0) and not (credits >= 120):\n",
    "        return \"You do not have enough credits to graduate.\"\n",
    "    if (credits >= 120) and not (gpa >= 2.0):\n",
    "        return \"Your GPA is not high enough to graduate.\"\n",
    "    else:\n",
    "        return \"You do not meet the GPA or the credit requirement for graduation.\"\n",
    "\n",
    "print(graduation_reqs(credits=100, gpa=1.0))"
   ]
  },
  {
   "cell_type": "markdown",
   "metadata": {},
   "source": [
    "<img src=\"atom.png\" alt=\"Atom\" style=\"width:60px\" align=\"left\" vertical-align=\"middle\">\n",
    "\n",
    "## 11. Else If Statements\n",
    "*in Python 3*\n",
    "\n",
    "----\n",
    "We have `if` statements, we have `else` statements, we can also have `elif` statements.\n",
    "\n",
    "<br/>Now you may be asking yourself, what the heck is an `elif` statement? It’s exactly what it sounds like, “else if”. An `elif` statement checks another condition after the previous `if` statements conditions aren’t met.\n",
    "\n",
    "<br/>We can use `elif` statements to control the order we want our program to check each of our conditional statements. First, the `if` statement is checked, then each `elif` statement is checked from top to bottom, then finally the `else` code is executed if none of the previous conditions have been met.\n",
    "\n",
    "<br/>Let’s take a look at this in practice. The following function will display a “thank you” message after someone donates to a charity: It takes the donation amount and prints a message based on how much was donated."
   ]
  },
  {
   "cell_type": "code",
   "execution_count": 41,
   "metadata": {},
   "outputs": [
    {
     "name": "stdout",
     "output_type": "stream",
     "text": [
      "Thank you for your donation! You have achieved silver donation status!\n"
     ]
    }
   ],
   "source": [
    "def thank_you(donation):\n",
    "    if donation >= 1000:\n",
    "        print(\"Thank you for your donation! You have achieved platinum donation status!\")\n",
    "    elif donation >= 500: \n",
    "        print(\"Thank you for your donation! You have achieved gold donation status!\")\n",
    "    elif donation >= 100:\n",
    "        print(\"Thank you for your donation! You have achieved silver donation status!\")\n",
    "    else:\n",
    "        print(\"Thank you for your donation! You have achieved bronze donation status!\")\n",
    "        \n",
    "thank_you(130)"
   ]
  },
  {
   "cell_type": "markdown",
   "metadata": {},
   "source": [
    "Take a second to think about this function. What would happen if all of the `elif` statements were simply `if` statements? If you donated `$1000.00`, then the first three messages would all print because each `if` condition had been met.\n",
    "\n",
    "<br/>But because we used `elif` statements, it checks each condition sequentially and only prints one message. If I donate `$600.00`, the code first checks if that is over `$1000.00`, which it is not, then it checks if it’s over `$500.00`, which it is, so it prints that message, then because all of the other statements are `elif` and `else`, none of them get checked and no more messages get printed.\n",
    "\n",
    "<br/>Examples of some other `elif` statements:"
   ]
  },
  {
   "cell_type": "code",
   "execution_count": 2,
   "metadata": {},
   "outputs": [
    {
     "name": "stdout",
     "output_type": "stream",
     "text": [
      "B\n"
     ]
    }
   ],
   "source": [
    "def grade_converter(gpa):\n",
    "    if gpa >= 4.0:\n",
    "        grade = \"A\"\n",
    "    elif gpa >= 3.0:\n",
    "        grade = \"B\"\n",
    "    elif gpa >= 2.0:\n",
    "        grade = \"C\"\n",
    "    elif gpa >= 1.0:\n",
    "        grade = \"D\"\n",
    "    else: \n",
    "        grade = \"F\"\n",
    "    return grade\n",
    "\n",
    "print(grade_converter(3.2))"
   ]
  },
  {
   "cell_type": "markdown",
   "metadata": {},
   "source": [
    "<img src=\"atom.png\" alt=\"Atom\" style=\"width:60px\" align=\"left\" vertical-align=\"middle\">\n",
    "\n",
    "## 12. Try and Except Statements\n",
    "*in Python 3*\n",
    "\n",
    "----\n",
    "`if`, `elif`, and `else` statements aren’t the only way to build a control flow into your program. You can use `try` and `except` statements to check for possible errors that a user might encounter.\n",
    "\n",
    "<br/>The general syntax of a try and except statement is:"
   ]
  },
  {
   "cell_type": "code",
   "execution_count": 7,
   "metadata": {},
   "outputs": [
    {
     "name": "stdout",
     "output_type": "stream",
     "text": [
      "Hello\n"
     ]
    }
   ],
   "source": [
    "try:\n",
    "    print(\"Hello\")\n",
    "except:\n",
    "    pass\n",
    "    # some statement"
   ]
  },
  {
   "cell_type": "markdown",
   "metadata": {},
   "source": [
    "First, the statement under `try` will be executed. If at some point an exception is raised during this execution, such as a `NameError` or a `ValueError` and that exception matches the keyword in the `except` statement, then the `try` statement will terminate and the `except` statement will execute.\n",
    "\n",
    "<br/>Let’s take a look at this in an application. I want to write a function that takes two numbers, `a` and `b` as the input and then returns `a` divided by `b`. But, there is a possibility that `b` is zero, which will cause an error, so I want to include a `try` and `except` flow to catch this error."
   ]
  },
  {
   "cell_type": "code",
   "execution_count": 9,
   "metadata": {},
   "outputs": [
    {
     "name": "stdout",
     "output_type": "stream",
     "text": [
      "Can't divide by zero!\n"
     ]
    }
   ],
   "source": [
    "def divides(a,b):\n",
    "    try:\n",
    "        result = a / b\n",
    "        print (result)\n",
    "    except ZeroDivisionError:\n",
    "        print (\"Can't divide by zero!\")\n",
    "\n",
    "divides(4, 0)"
   ]
  },
  {
   "cell_type": "markdown",
   "metadata": {},
   "source": [
    "Now, to catch a `ValueError`:"
   ]
  },
  {
   "cell_type": "code",
   "execution_count": 10,
   "metadata": {},
   "outputs": [
    {
     "name": "stdout",
     "output_type": "stream",
     "text": [
      "You raised a ValueError!\n"
     ]
    }
   ],
   "source": [
    "def raises_value_error():\n",
    "    try:\n",
    "        raise ValueError\n",
    "    except:\n",
    "        print(\"You raised a ValueError!\")\n",
    "    \n",
    "raises_value_error()"
   ]
  },
  {
   "cell_type": "markdown",
   "metadata": {},
   "source": [
    "<img src=\"atom.png\" alt=\"Atom\" style=\"width:60px\" align=\"left\" vertical-align=\"middle\">\n",
    "\n",
    "## 13. Contradiction\n",
    "*in Python 3*\n",
    "\n",
    "----\n",
    "An `if` statement that is always false is called a *contradiction.* You will rarely want to do this while programming, but it is important to realize it is possible to do this.\n",
    "\n",
    "<br/>To illustrate: create a function named `always_false()` that has one parameter named num. "
   ]
  },
  {
   "cell_type": "code",
   "execution_count": 12,
   "metadata": {},
   "outputs": [
    {
     "name": "stdout",
     "output_type": "stream",
     "text": [
      "False\n"
     ]
    }
   ],
   "source": [
    "def always_false(num):\n",
    "    if not (num > num) and not (num < num):\n",
    "        return False\n",
    "\n",
    "print(always_false(10))"
   ]
  },
  {
   "cell_type": "markdown",
   "metadata": {},
   "source": [
    "<img src=\"atom.png\" alt=\"Atom\" style=\"width:60px\" align=\"left\" vertical-align=\"middle\">\n",
    "\n",
    "## 14. Review\n",
    "*Python 3*\n",
    "\n",
    "----\n",
    "Great job! We covered a ton of material in this lesson and you’ve increased the number of tools in your Python toolkit by several-fold. Let’s review what you’ve learned this lesson:\n",
    "\n",
    "    1. Boolean expressions are statements that can be either True or False\n",
    "    2. A boolean variable is a variable that is set to either True or False.\n",
    "    3. You can create boolean expressions using relational operators:\n",
    "        Equals: ==\n",
    "        Not equals: !=\n",
    "        Greater than: >\n",
    "        Greater than or equal to: >=\n",
    "        Less than: <\n",
    "        Less than or equal to: <=\n",
    "    4. if statements can be used to create control flow in your code.\n",
    "    5. else statements can be used to execute code when the conditions of an if statement are not met.\n",
    "    6. elif statements can be used to build additional checks into your if statements\n",
    "    7. try and except statements are used to build error control into your code.\n",
    "\n",
    "<br/>Let’s put these skills to the test!\n",
    "\n",
    "<br/>Refer to [Learn.py](https://github.com/the-machine-preacher/Learn-Python) to help you remember the content covered in this lesson. Below is another example of the concepts learned:\n"
   ]
  },
  {
   "cell_type": "code",
   "execution_count": 11,
   "metadata": {},
   "outputs": [
    {
     "name": "stdout",
     "output_type": "stream",
     "text": [
      "This applicant should be given an in-person interview.\n"
     ]
    }
   ],
   "source": [
    "def applicant_selector(gpa, ps_score, ec_count):\n",
    "    if (gpa >= 3.0) and (ps_score >= 90) and (ec_count >= 3):\n",
    "        return \"This applicant should be accepted.\"\n",
    "    elif (gpa >= 3.0) and (ps_score >= 90):\n",
    "        return \"This applicant should be given an in-person interview.\"\n",
    "    else:\n",
    "        return \"This applicant should be rejected.\"\n",
    "\n",
    "print(applicant_selector(3.0, 90, 1))"
   ]
  }
 ],
 "metadata": {
  "kernelspec": {
   "display_name": "Python 3",
   "language": "python",
   "name": "python3"
  },
  "language_info": {
   "codemirror_mode": {
    "name": "ipython",
    "version": 3
   },
   "file_extension": ".py",
   "mimetype": "text/x-python",
   "name": "python",
   "nbconvert_exporter": "python",
   "pygments_lexer": "ipython3",
   "version": "3.8.4"
  }
 },
 "nbformat": 4,
 "nbformat_minor": 2
}
