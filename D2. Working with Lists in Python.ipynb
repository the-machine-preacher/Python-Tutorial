{
 "cells": [
  {
   "cell_type": "markdown",
   "metadata": {},
   "source": [
    "<img src=\"atom.png\" alt=\"Atom\" style=\"width:60px\" align=\"left\" vertical-align=\"middle\">\n",
    "\n",
    "## 1. Operations on Lists\n",
    "*in Python 3*\n",
    "\n",
    "----\n",
    "Now that we know how to create a list, we can start working with existing lists of data.\n",
    "\n",
    "<br/>In this lesson, you’ll learn how to:\n",
    "\n",
    "    1. Get the length of a list\n",
    "    2. Select subsets of a list (called slicing)\n",
    "    3. Count the number of times that an element appears in a list\n",
    "    4. Sort a list of items\n"
   ]
  },
  {
   "cell_type": "markdown",
   "metadata": {},
   "source": [
    "<img src=\"atom.png\" alt=\"Atom\" style=\"width:60px\" align=\"left\" vertical-align=\"middle\">\n",
    "\n",
    "## 2. Length of a List\n",
    "*in Python 3*\n",
    "\n",
    "----\n",
    "Often, we’ll need to find the number of items in a list, usually called its length.\n",
    "\n",
    "<br/>We can do this using the function `len`. When we apply `len` to a list, we get the number of elements in that list:"
   ]
  },
  {
   "cell_type": "code",
   "execution_count": 3,
   "metadata": {},
   "outputs": [
    {
     "name": "stdout",
     "output_type": "stream",
     "text": [
      "5\n",
      "6\n"
     ]
    }
   ],
   "source": [
    "#First example\n",
    "my_list = [1, 2, 3, 4, 5]\n",
    "print(len(my_list))\n",
    "\n",
    "#Another example\n",
    "list1 = range(2, 20, 3)\n",
    "list1_len = len(list1)\n",
    "print(list1_len)"
   ]
  },
  {
   "cell_type": "markdown",
   "metadata": {},
   "source": [
    "<img src=\"atom.png\" alt=\"Atom\" style=\"width:60px\" align=\"left\" vertical-align=\"middle\">\n",
    "\n",
    "## 3. Selecting List Elements I\n",
    "*in Python 3*\n",
    "\n",
    "----\n",
    "Chris is interviewing candidates for a job. He will call each candidate in order, represented by a Python list:"
   ]
  },
  {
   "cell_type": "code",
   "execution_count": 3,
   "metadata": {},
   "outputs": [],
   "source": [
    "calls = ['Ali', 'Bob', 'Cam', 'Doug', 'Ellie']"
   ]
  },
  {
   "cell_type": "markdown",
   "metadata": {},
   "source": [
    "First, he’ll call `'Ali'`, then `'Bob'`, etc.\n",
    "\n",
    "<br/>In Python, we call the order of an element in a list its *index.*\n",
    "\n",
    "<br/>Python lists are *zero-indexed.* This means that the first element in a list has index `0`, rather than `1`.\n",
    "\n",
    "<br/>In the above example, the element with index 2 is `'Cam'`.\n",
    "\n",
    "<br/>We can select a single element from a list by using square brackets (`[]`) and the index of the list item. For example, if we wanted to select the third element from the list, we’d use `calls[2]`:\n"
   ]
  },
  {
   "cell_type": "code",
   "execution_count": 4,
   "metadata": {},
   "outputs": [
    {
     "name": "stdout",
     "output_type": "stream",
     "text": [
      "Cam\n"
     ]
    }
   ],
   "source": [
    "print(calls[2])"
   ]
  },
  {
   "cell_type": "markdown",
   "metadata": {},
   "source": [
    "Another example:"
   ]
  },
  {
   "cell_type": "code",
   "execution_count": 4,
   "metadata": {},
   "outputs": [
    {
     "name": "stdout",
     "output_type": "stream",
     "text": [
      "7\n",
      "Robert\n"
     ]
    }
   ],
   "source": [
    "employees = ['Michael', 'Dwight', 'Jim', 'Pam', 'Ryan', 'Andy', 'Robert']\n",
    "index4 = employees[4]\n",
    "print(len(employees))\n",
    "print(employees[6])"
   ]
  },
  {
   "cell_type": "markdown",
   "metadata": {},
   "source": [
    "<img src=\"atom.png\" alt=\"Atom\" style=\"width:60px\" align=\"left\" vertical-align=\"middle\">\n",
    "\n",
    "## 4. Selecting List Elements II\n",
    "*in Python 3*\n",
    "\n",
    "----\n",
    "What if we want to select the last element of a list?\n",
    "\n",
    "<br/>We can use the index `-1` to select the last item of a list, even when we don’t know how many elements are in a list.\n",
    "\n",
    "<br/>Consider the following list with 5 elements:"
   ]
  },
  {
   "cell_type": "code",
   "execution_count": 6,
   "metadata": {},
   "outputs": [],
   "source": [
    "list1 = ['a', 'b', 'c', 'd', 'e']"
   ]
  },
  {
   "cell_type": "markdown",
   "metadata": {},
   "source": [
    "If we select the `-1` element, we get the final element, 'e':"
   ]
  },
  {
   "cell_type": "code",
   "execution_count": 7,
   "metadata": {},
   "outputs": [
    {
     "name": "stdout",
     "output_type": "stream",
     "text": [
      "e\n"
     ]
    }
   ],
   "source": [
    "print(list1[-1])"
   ]
  },
  {
   "cell_type": "markdown",
   "metadata": {},
   "source": [
    "This is the same as selecting the element with index `4`:"
   ]
  },
  {
   "cell_type": "code",
   "execution_count": 8,
   "metadata": {},
   "outputs": [
    {
     "name": "stdout",
     "output_type": "stream",
     "text": [
      "e\n"
     ]
    }
   ],
   "source": [
    "print(list1[4])"
   ]
  },
  {
   "cell_type": "markdown",
   "metadata": {},
   "source": [
    "Another example:"
   ]
  },
  {
   "cell_type": "code",
   "execution_count": 5,
   "metadata": {},
   "outputs": [
    {
     "name": "stdout",
     "output_type": "stream",
     "text": [
      "6\n",
      "cereal\n",
      "cereal\n"
     ]
    }
   ],
   "source": [
    "shopping_list = ['eggs', 'butter', 'milk', 'cucumbers', 'juice', 'cereal']\n",
    "print(len(shopping_list))\n",
    "\n",
    "last_element = shopping_list[-1]\n",
    "element5 = shopping_list[5]\n",
    "print(last_element)\n",
    "print(element5)"
   ]
  },
  {
   "cell_type": "markdown",
   "metadata": {},
   "source": [
    "<img src=\"atom.png\" alt=\"Atom\" style=\"width:60px\" align=\"left\" vertical-align=\"middle\">\n",
    "\n",
    "## 5. Slicing Lists\n",
    "*in Python 3*\n",
    "\n",
    "----\n",
    "Suppose we have a list of letters:"
   ]
  },
  {
   "cell_type": "code",
   "execution_count": 10,
   "metadata": {},
   "outputs": [],
   "source": [
    "letters = ['a', 'b', 'c', 'd', 'e', 'f', 'g']"
   ]
  },
  {
   "cell_type": "markdown",
   "metadata": {},
   "source": [
    "Suppose we want to select from `b` through `f`.\n",
    "\n",
    "<br/>We can do this using the following syntax: `letters[start:end]`, where:\n",
    "- `start` is the index of the first element that we want to include in our selection. In this case, we want to start at `b`, which has index `1`.\n",
    "- `end` is the index of *one more than* the last index that we want to include. The last element we want is `f`, which has index `5`, so `end` needs to be `6`."
   ]
  },
  {
   "cell_type": "code",
   "execution_count": 11,
   "metadata": {},
   "outputs": [
    {
     "name": "stdout",
     "output_type": "stream",
     "text": [
      "['b', 'c', 'd', 'e', 'f']\n"
     ]
    }
   ],
   "source": [
    "sublist = letters[1:6]\n",
    "print(sublist)"
   ]
  },
  {
   "cell_type": "markdown",
   "metadata": {},
   "source": [
    "Creating a selection from a list is called *slicing.* Note that the numbering can be confusing! \n",
    "\n",
    "<br/>Another example:"
   ]
  },
  {
   "cell_type": "code",
   "execution_count": 12,
   "metadata": {},
   "outputs": [
    {
     "name": "stdout",
     "output_type": "stream",
     "text": [
      "['shirt', 'shirt', 'pants', 'pants']\n",
      "['pants', 'pants']\n"
     ]
    }
   ],
   "source": [
    "suitcase = ['shirt', 'shirt', 'pants', 'pants', 'pajamas', 'books']\n",
    "\n",
    "beginning = suitcase[0:4]\n",
    "print(beginning)\n",
    "\n",
    "middle = suitcase[2:4]\n",
    "print(middle)"
   ]
  },
  {
   "cell_type": "markdown",
   "metadata": {},
   "source": [
    "<img src=\"atom.png\" alt=\"Atom\" style=\"width:60px\" align=\"left\" vertical-align=\"middle\">\n",
    "\n",
    "## 6. Slicing Lists II \n",
    "*in Python 3*\n",
    "\n",
    "----\n",
    "If we want to select the first 3 elements of a list, we could use the following code:"
   ]
  },
  {
   "cell_type": "code",
   "execution_count": 13,
   "metadata": {},
   "outputs": [
    {
     "name": "stdout",
     "output_type": "stream",
     "text": [
      "['apple', 'banana', 'cherry']\n"
     ]
    }
   ],
   "source": [
    "fruits = ['apple', 'banana', 'cherry', 'date']\n",
    "print(fruits[0:3])"
   ]
  },
  {
   "cell_type": "markdown",
   "metadata": {},
   "source": [
    "When starting at the beginning of the list, it is also valid to omit the `0`:"
   ]
  },
  {
   "cell_type": "code",
   "execution_count": 14,
   "metadata": {},
   "outputs": [
    {
     "name": "stdout",
     "output_type": "stream",
     "text": [
      "['apple', 'banana', 'cherry']\n"
     ]
    }
   ],
   "source": [
    "print(fruits[:3])"
   ]
  },
  {
   "cell_type": "markdown",
   "metadata": {},
   "source": [
    "We can do something similar when selecting the last few items of a list:"
   ]
  },
  {
   "cell_type": "code",
   "execution_count": 15,
   "metadata": {},
   "outputs": [
    {
     "name": "stdout",
     "output_type": "stream",
     "text": [
      "['cherry', 'date']\n"
     ]
    }
   ],
   "source": [
    "print(fruits[2:])"
   ]
  },
  {
   "cell_type": "markdown",
   "metadata": {},
   "source": [
    "We can omit the final index when selecting the final elements from a list.\n",
    "\n",
    "<br/>If we want to select the last 3 elements of `fruits`, we can also use this syntax:"
   ]
  },
  {
   "cell_type": "code",
   "execution_count": 16,
   "metadata": {},
   "outputs": [
    {
     "name": "stdout",
     "output_type": "stream",
     "text": [
      "['banana', 'cherry', 'date']\n"
     ]
    }
   ],
   "source": [
    "print(fruits[-3:])"
   ]
  },
  {
   "cell_type": "markdown",
   "metadata": {},
   "source": [
    "We can use *negative* indexes to count backward from the last element. Another example:"
   ]
  },
  {
   "cell_type": "code",
   "execution_count": 17,
   "metadata": {},
   "outputs": [
    {
     "name": "stdout",
     "output_type": "stream",
     "text": [
      "['shirt', 'shirt', 'pants']\n",
      "['pajamas', 'books']\n"
     ]
    }
   ],
   "source": [
    "suitcase = ['shirt', 'shirt', 'pants', 'pants', 'pajamas', 'books']\n",
    "print(suitcase[:3])\n",
    "print(suitcase[-2:])"
   ]
  },
  {
   "cell_type": "markdown",
   "metadata": {},
   "source": [
    "<img src=\"atom.png\" alt=\"Atom\" style=\"width:60px\" align=\"left\" vertical-align=\"middle\">\n",
    "\n",
    "## 7. Removing items from lists\n",
    "*in Python 3*\n",
    "\n",
    "----\n",
    "In Python, there are several methods available that allow you to remove elements from a list.\n",
    "\n",
    "<br/>A. The `remove()` method will remove the first instance of a value in a list."
   ]
  },
  {
   "cell_type": "code",
   "execution_count": 6,
   "metadata": {},
   "outputs": [
    {
     "name": "stdout",
     "output_type": "stream",
     "text": [
      "[2, 3, 1]\n"
     ]
    }
   ],
   "source": [
    "list = [1, 2, 3, 1]\n",
    "list.remove(1) # This will remove the first '1' from the list, leaving [2, 3, 1]\n",
    "print(list)"
   ]
  },
  {
   "cell_type": "markdown",
   "metadata": {},
   "source": [
    "B. The `pop()` method removes an element at a given index, and will also return the removed item."
   ]
  },
  {
   "cell_type": "code",
   "execution_count": 19,
   "metadata": {},
   "outputs": [
    {
     "name": "stdout",
     "output_type": "stream",
     "text": [
      "10\n",
      "[20, 30, 40]\n"
     ]
    }
   ],
   "source": [
    "numbers = [10, 20, 30, 40]\n",
    "ten = numbers.pop(0)\n",
    "print(ten) # Returns 10\n",
    "print(numbers) # Returns [20, 30, 40]"
   ]
  },
  {
   "cell_type": "markdown",
   "metadata": {},
   "source": [
    "C. You can also use the `del` keyword in Python to remove an element or slice from a list."
   ]
  },
  {
   "cell_type": "code",
   "execution_count": 1,
   "metadata": {},
   "outputs": [
    {
     "name": "stdout",
     "output_type": "stream",
     "text": [
      "[50, 70, 80]\n",
      "[50, 70, 80]\n"
     ]
    }
   ],
   "source": [
    "# Deleting by index\n",
    "another_example = [50, 60, 70, 80]\n",
    "del another_example[1]\n",
    "print(another_example) # Returns [50, 70, 80]\n",
    "\n",
    "# Deleting by slicing\n",
    "numbers = [50, 60, 70, 80]\n",
    "del numbers[1:2]\n",
    "print(numbers) # Returns [50, 70, 80]"
   ]
  },
  {
   "cell_type": "markdown",
   "metadata": {},
   "source": [
    "D. One other method of removing elements from a list is to take a slice of the list, which excludes the index or indexes of the item or items you are trying to remove. For instance, to remove the first two items of a list, you can do:"
   ]
  },
  {
   "cell_type": "code",
   "execution_count": 21,
   "metadata": {},
   "outputs": [
    {
     "name": "stdout",
     "output_type": "stream",
     "text": [
      "[3, 1]\n"
     ]
    }
   ],
   "source": [
    "list = [1, 2, 3, 1]\n",
    "list = list[2:]\n",
    "print(list)"
   ]
  },
  {
   "cell_type": "markdown",
   "metadata": {},
   "source": [
    "*Exercise:*\n",
    "<br/>Write a function called `delete_starting_evens()` that has a parameter named `lst`.\n",
    "\n",
    "<br/>The function should remove elements from the front of `lst` until the front of the list is not even. The function should then return `lst`.\n",
    "\n",
    "<br/>For example if `lst` started as `[4, 8, 10, 11, 12, 15]`, then `delete_starting_evens(lst)` should return `[11, 12, 15]`.\n",
    "\n",
    "<br/>Make sure your function works even if every element in the list is even!"
   ]
  },
  {
   "cell_type": "code",
   "execution_count": 22,
   "metadata": {},
   "outputs": [
    {
     "name": "stdout",
     "output_type": "stream",
     "text": [
      "[11, 12, 15]\n",
      "[]\n"
     ]
    }
   ],
   "source": [
    "# Write your function here\n",
    "def delete_starting_evens(lst):\n",
    "    for number in lst:\n",
    "        if (number % 2 == 0) and (lst.index(number) == 0): \n",
    "            lst = lst[1:]\n",
    "    return lst\n",
    "    \n",
    "# Now, test your function\n",
    "print(delete_starting_evens([4, 8, 10, 11, 12, 15]))\n",
    "print(delete_starting_evens([4, 8, 10]))"
   ]
  },
  {
   "cell_type": "markdown",
   "metadata": {},
   "source": [
    "<img src=\"atom.png\" alt=\"Atom\" style=\"width:60px\" align=\"left\" vertical-align=\"middle\">\n",
    "\n",
    "## 8. Counting elements in a list \n",
    "*in Python 3*\n",
    "\n",
    "----\n",
    "Suppose we have a list called `letters` that represents the letters in the word “Mississippi”:"
   ]
  },
  {
   "cell_type": "code",
   "execution_count": 23,
   "metadata": {},
   "outputs": [],
   "source": [
    "letters = ['m', 'i', 's', 's', 'i', 's', 's', 'i', 'p', 'p', 'i']"
   ]
  },
  {
   "cell_type": "markdown",
   "metadata": {},
   "source": [
    "If we want to know how many times `i` appears in this word, we can use the function `count`:"
   ]
  },
  {
   "cell_type": "code",
   "execution_count": 24,
   "metadata": {},
   "outputs": [
    {
     "name": "stdout",
     "output_type": "stream",
     "text": [
      "4\n"
     ]
    }
   ],
   "source": [
    "num_i = letters.count('i')\n",
    "print(num_i)"
   ]
  },
  {
   "cell_type": "markdown",
   "metadata": {},
   "source": [
    "Another practical example: Mrs. WIlson’s class is voting for class president. She has saved each student’s vote into the list `votes`.\n",
    "\n",
    "<br/>Use count to determine how many students voted for `'Jake'`. Save your answer as `jake_votes`."
   ]
  },
  {
   "cell_type": "code",
   "execution_count": 25,
   "metadata": {},
   "outputs": [
    {
     "name": "stdout",
     "output_type": "stream",
     "text": [
      "9\n"
     ]
    }
   ],
   "source": [
    "votes = ['Jake', 'Jake', 'Laurie', 'Laurie', 'Laurie', 'Jake', 'Jake', 'Jake', 'Laurie', 'Cassie', 'Cassie', 'Jake', 'Jake', 'Cassie', 'Laurie', 'Cassie', 'Jake', 'Jake', 'Cassie', 'Laurie']\n",
    "\n",
    "jake_votes = votes.count('Jake')\n",
    "print(jake_votes)"
   ]
  },
  {
   "cell_type": "markdown",
   "metadata": {},
   "source": [
    "<img src=\"atom.png\" alt=\"Atom\" style=\"width:60px\" align=\"left\" vertical-align=\"middle\">\n",
    "\n",
    "## 9. Sorting Lists I\n",
    "*in Python 3*\n",
    "\n",
    "----\n",
    "Sometimes, we want to sort a list in either numerical (1, 2, 3, …) or alphabetical (a, b, c, …) order.\n",
    "\n",
    "<br/>We can sort a list in place using `.sort()`. Suppose that we have a list of names:"
   ]
  },
  {
   "cell_type": "code",
   "execution_count": 26,
   "metadata": {},
   "outputs": [
    {
     "name": "stdout",
     "output_type": "stream",
     "text": [
      "['Xander', 'Buffy', 'Angel', 'Willow', 'Giles']\n"
     ]
    }
   ],
   "source": [
    "names = ['Xander', 'Buffy', 'Angel', 'Willow', 'Giles']\n",
    "print(names)"
   ]
  },
  {
   "cell_type": "markdown",
   "metadata": {},
   "source": [
    "Now we apply `.sort()`:"
   ]
  },
  {
   "cell_type": "code",
   "execution_count": 27,
   "metadata": {},
   "outputs": [
    {
     "name": "stdout",
     "output_type": "stream",
     "text": [
      "['Angel', 'Buffy', 'Giles', 'Willow', 'Xander']\n"
     ]
    }
   ],
   "source": [
    "names.sort()\n",
    "print(names)"
   ]
  },
  {
   "cell_type": "markdown",
   "metadata": {},
   "source": [
    "Notice that `sort` goes *after* our list, `names`. If we try `sort(names)`, we will get a `NameError`.\n",
    "\n",
    "<br/>`sort` does not return anything. So, if we try to assign `names.sort()` to a variable, our new variable would be `None`:"
   ]
  },
  {
   "cell_type": "code",
   "execution_count": 28,
   "metadata": {},
   "outputs": [
    {
     "name": "stdout",
     "output_type": "stream",
     "text": [
      "None\n"
     ]
    }
   ],
   "source": [
    "sorted_names = names.sort()\n",
    "print(sorted_names)"
   ]
  },
  {
   "cell_type": "markdown",
   "metadata": {},
   "source": [
    "Although `sorted_names` is `None`, the line `sorted_names = names.sort()` still edited names:"
   ]
  },
  {
   "cell_type": "code",
   "execution_count": 29,
   "metadata": {},
   "outputs": [
    {
     "name": "stdout",
     "output_type": "stream",
     "text": [
      "['Angel', 'Buffy', 'Giles', 'Willow', 'Xander']\n"
     ]
    }
   ],
   "source": [
    "print(names)"
   ]
  },
  {
   "cell_type": "code",
   "execution_count": 1,
   "metadata": {},
   "outputs": [
    {
     "name": "stdout",
     "output_type": "stream",
     "text": [
      "Addresses:  ['10 Downing St.', '12 Grimmauld Place', '1600 Pennsylvania Ave', '221 B Baker St.', '42 Wallaby Way', '742 Evergreen Terrace']\n",
      "Names:  ['Albus', 'Harry', 'Hermione', 'Ron', 'Sirius']\n",
      "Cities:  None\n"
     ]
    }
   ],
   "source": [
    "### Exercise 1 & 2 ###\n",
    "addresses = ['221 B Baker St.', '42 Wallaby Way', '12 Grimmauld Place', '742 Evergreen Terrace', '1600 Pennsylvania Ave', '10 Downing St.']\n",
    "\n",
    "# Sort addresses here:\n",
    "addresses.sort()\n",
    "print(\"Addresses: \", addresses)\n",
    "\n",
    "### Exercise 3 ###\n",
    "names = ['Ron', 'Hermione', 'Harry', 'Albus', 'Sirius']\n",
    "names.sort()\n",
    "print(\"Names: \", names)\n",
    "\n",
    "### Exercise 4 ###\n",
    "cities = ['London', 'Paris', 'Rome', 'Los Angeles', 'New York']\n",
    "sorted_cities = cities.sort()\n",
    "print(\"Cities: \", sorted_cities)"
   ]
  },
  {
   "cell_type": "markdown",
   "metadata": {},
   "source": [
    "<img src=\"atom.png\" alt=\"Atom\" style=\"width:60px\" align=\"left\" vertical-align=\"middle\">\n",
    "\n",
    "## 10. Sorting Lists II\n",
    "*in Python 3*\n",
    "\n",
    "----\n",
    "A second way of sorting a list is to use `sorted`. `sorted` is different from `.sort()` in several ways:\n",
    "\n",
    "    1. It comes before a list, instead of after.\n",
    "    2. It generates a new list.\n",
    "\n",
    "<br/>Let’s return to our list of names:"
   ]
  },
  {
   "cell_type": "code",
   "execution_count": 31,
   "metadata": {},
   "outputs": [],
   "source": [
    "names = ['Xander', 'Buffy', 'Angel', 'Willow', 'Giles']"
   ]
  },
  {
   "cell_type": "markdown",
   "metadata": {},
   "source": [
    "Using `sorted`, we can create a new list, called `sorted_names`:"
   ]
  },
  {
   "cell_type": "code",
   "execution_count": 32,
   "metadata": {},
   "outputs": [
    {
     "name": "stdout",
     "output_type": "stream",
     "text": [
      "['Angel', 'Buffy', 'Giles', 'Willow', 'Xander']\n"
     ]
    }
   ],
   "source": [
    "sorted_names = sorted(names)\n",
    "print(sorted_names)"
   ]
  },
  {
   "cell_type": "markdown",
   "metadata": {},
   "source": [
    "Note that using `sorted` did not change `names`:"
   ]
  },
  {
   "cell_type": "code",
   "execution_count": 33,
   "metadata": {},
   "outputs": [
    {
     "name": "stdout",
     "output_type": "stream",
     "text": [
      "['Xander', 'Buffy', 'Angel', 'Willow', 'Giles']\n"
     ]
    }
   ],
   "source": [
    "print(names)"
   ]
  },
  {
   "cell_type": "markdown",
   "metadata": {},
   "source": [
    "**Note:** You can print the **reverse** of the above list of `sorted_names` using the following:"
   ]
  },
  {
   "cell_type": "code",
   "execution_count": 34,
   "metadata": {},
   "outputs": [
    {
     "name": "stdout",
     "output_type": "stream",
     "text": [
      "['Xander', 'Willow', 'Giles', 'Buffy', 'Angel']\n"
     ]
    }
   ],
   "source": [
    "print(sorted(sorted_names, reverse=True))"
   ]
  },
  {
   "cell_type": "markdown",
   "metadata": {},
   "source": [
    "Another example:"
   ]
  },
  {
   "cell_type": "code",
   "execution_count": 35,
   "metadata": {},
   "outputs": [
    {
     "name": "stdout",
     "output_type": "stream",
     "text": [
      "['Portal', 'Minecraft', 'Pacman', 'Tetris', 'The Sims', 'Pokemon']\n",
      "['Minecraft', 'Pacman', 'Pokemon', 'Portal', 'Tetris', 'The Sims']\n"
     ]
    }
   ],
   "source": [
    "games = ['Portal', 'Minecraft', 'Pacman', 'Tetris', 'The Sims', 'Pokemon']\n",
    "games_sorted = sorted(games)\n",
    "print(games)\n",
    "print(games_sorted)"
   ]
  },
  {
   "cell_type": "markdown",
   "metadata": {},
   "source": [
    "**Question**\n",
    "\n",
    "Both `sort()` and `sorted()` can be used to sort a list. What is the difference between them and when would I want to use one versus the other?\n",
    "\n",
    "<br/>**Answer**\n",
    "\n",
    "The primary difference between the list `sort()` function and the `sorted()` function is that the `sort()` function will modify the list it is called on. The `sorted()` function will create a new list containing a sorted version of the list it is given. The `sorted()` function will not modify the list passed as a parameter. If you want to sort a list but still have the original unsorted version, then you would use the `sorted()` function. If maintaining the original order of the list is unimportant, then you can call the `sort()` function on the list.\n",
    "\n",
    "<br/>A second important difference is that the `sorted()` function will return a list so you must assign the returned data to a new variable. The `sort()` function modifies the list in-place and has no return value.\n",
    "\n",
    "<br/>The example below shows the difference in behavior between `sort()` and `sorted()`. After being passed to `sorted()`, the `vegetables` list remains unchanged. Once the `sort()` function is called on it, the list is updated."
   ]
  },
  {
   "cell_type": "code",
   "execution_count": 36,
   "metadata": {},
   "outputs": [
    {
     "name": "stdout",
     "output_type": "stream",
     "text": [
      "['carrot', 'pea', 'potato', 'squash']\n",
      "['squash', 'pea', 'carrot', 'potato']\n",
      "['carrot', 'pea', 'potato', 'squash']\n"
     ]
    }
   ],
   "source": [
    "vegetables = ['squash', 'pea', 'carrot', 'potato']\n",
    "\n",
    "new_list = sorted(vegetables)\n",
    "\n",
    "# new_list = ['carrot', 'pea', 'potato', 'squash']\n",
    "print(new_list)\n",
    "\n",
    "# vegetables = ['squash', 'pea', 'carrot', 'potato']\n",
    "print(vegetables)\n",
    "\n",
    "vegetables.sort()\n",
    "\n",
    "# vegetables = ['carrot', 'pea', 'potato', 'squash']\n",
    "print(vegetables)"
   ]
  },
  {
   "cell_type": "markdown",
   "metadata": {},
   "source": [
    "<img src=\"atom.png\" alt=\"Atom\" style=\"width:60px\" align=\"left\" vertical-align=\"middle\">\n",
    "\n",
    "## 11. Reversing Lists\n",
    "*in Python 3*\n",
    "\n",
    "----\n",
    "You can reverse lists of items easily:"
   ]
  },
  {
   "cell_type": "code",
   "execution_count": 37,
   "metadata": {},
   "outputs": [
    {
     "name": "stdout",
     "output_type": "stream",
     "text": [
      "['squash', 'potato', 'pea', 'carrot']\n",
      "['squash', 'potato', 'pea', 'carrot']\n"
     ]
    }
   ],
   "source": [
    "# vegetables = ['carrot', 'pea', 'potato', 'squash']\n",
    "print(vegetables[::-1]) # One way of reversing lists\n",
    "vegetables.reverse() # Another way of reversing lists\n",
    "print(vegetables)"
   ]
  },
  {
   "cell_type": "markdown",
   "metadata": {},
   "source": [
    "<img src=\"atom.png\" alt=\"Atom\" style=\"width:60px\" align=\"left\" vertical-align=\"middle\">\n",
    "\n",
    "## 12. Review\n",
    "*Python 3*\n",
    "\n",
    "----\n",
    "In this lesson, we learned how to:\n",
    "\n",
    "    1. Get the length of a list\n",
    "    2. Select subsets of a list (called slicing)\n",
    "    3. Count the number of times that an element appears in a list\n",
    "    4. Removing items from lists\n",
    "    5. Sort a list of items\n",
    "    6. Reverse a list of items\n",
    "\n",
    "<br/>Refer to [Learn.py](https://github.com/the-machine-preacher/Learn-Python) to help you remember the content covered in this lesson. Below is another example of the concepts learned:\n"
   ]
  },
  {
   "cell_type": "code",
   "execution_count": 3,
   "metadata": {},
   "outputs": [
    {
     "name": "stdout",
     "output_type": "stream",
     "text": [
      "Number of items:  19\n",
      "First item:  twin bed\n",
      "Last item:  pillow\n",
      "Items 2-6:  ['headboard', 'queen bed', 'king bed', 'dresser']\n",
      "First 3 items:  ['twin bed', 'twin bed', 'headboard']\n",
      "Last 3 items:  ['sheets', 'pillow', 'pillow']\n",
      "Number of twin beds:  4\n",
      "Sorted inventory:  ['dresser', 'dresser', 'headboard', 'king bed', 'king bed', 'king bed', 'nightstand', 'nightstand', 'pillow', 'pillow', 'queen bed', 'sheets', 'sheets', 'table', 'table', 'twin bed', 'twin bed', 'twin bed', 'twin bed']\n"
     ]
    }
   ],
   "source": [
    "inventory = ['twin bed', 'twin bed', 'headboard', 'queen bed', 'king bed', 'dresser', 'dresser', 'table', 'table', 'nightstand', 'nightstand', 'king bed', 'king bed', 'twin bed', 'twin bed', 'sheets', 'sheets', 'pillow', 'pillow']\n",
    "\n",
    "### Exercise ###\n",
    "inventory_len = len(inventory)\n",
    "first = inventory[0]\n",
    "last = inventory[-1]\n",
    "inventory_2_6 = inventory[2:6]\n",
    "first_3 = inventory[:3]\n",
    "last_3 = inventory[-3:]\n",
    "twin_beds = inventory.count('twin bed')\n",
    "\n",
    "### Print the answers ###\n",
    "print(\"Number of items: \", inventory_len)\n",
    "print(\"First item: \", first)\n",
    "print(\"Last item: \", last)\n",
    "print(\"Items 2-6: \", inventory_2_6)\n",
    "print(\"First 3 items: \", first_3)\n",
    "print(\"Last 3 items: \", last_3)\n",
    "print(\"Number of twin beds: \", twin_beds)\n",
    "print(\"Sorted inventory: \", sorted(inventory))"
   ]
  }
 ],
 "metadata": {
  "kernelspec": {
   "display_name": "Python 3",
   "language": "python",
   "name": "python3"
  },
  "language_info": {
   "codemirror_mode": {
    "name": "ipython",
    "version": 3
   },
   "file_extension": ".py",
   "mimetype": "text/x-python",
   "name": "python",
   "nbconvert_exporter": "python",
   "pygments_lexer": "ipython3",
   "version": "3.8.4"
  }
 },
 "nbformat": 4,
 "nbformat_minor": 2
}
