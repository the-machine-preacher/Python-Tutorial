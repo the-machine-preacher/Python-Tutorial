{
 "cells": [
  {
   "cell_type": "markdown",
   "metadata": {},
   "source": [
    "<img src=\"atom.png\" alt=\"Atom\" style=\"width:60px\" align=\"left\" vertical-align=\"middle\">\n",
    "\n",
    "## 1. Working with Lists\n",
    "*in Python 3 (Updated: 16 May 2022)*\n",
    "\n",
    "----\n",
    "Now that we know how to create and access list data, we can start to explore additional ways of working with lists.\n",
    "\n",
    "<br/>In this lesson, you’ll learn how to:\n",
    "\n",
    "    1. Add and remove items from a list using a specific index\n",
    "    2. Create lists with continuous values\n",
    "    3. Get the length of a list\n",
    "    4. Select portions of a list (called slicing)\n",
    "    5. Count the number of times that an element appears in a list\n",
    "    6. Sort a list of items\n",
    "\n",
    "Take a second to preview some of the functions & methods we will be learning:\n",
    "\n",
    "    .count() - A list method to count the number of occurrences of an element in a list.\n",
    "    .insert() - A list method to insert an element into a specific index of a list.\n",
    "    .pop()- A list method to remove an element from a specific index or from the end of a list.\n",
    "    range() - A built-in Python function to create a sequence of intergers.\n",
    "    len() - A built-in Python function to get the length of a list.\n",
    "    .sort() / sorted() - A method and a built-in function to sort a list.\n",
    "\n",
    "\n",
    "<br/>**Note** \n",
    "<br/>In some of the exercises, we will be using built-in functions in Python. If you haven’t yet explored the concept of a function, it may look a bit new. Below we compare it to the method syntax we learned in the earlier lesson. Here is a preview:"
   ]
  },
  {
   "cell_type": "code",
   "execution_count": null,
   "metadata": {},
   "outputs": [],
   "source": [
    "# Example syntax for methods\n",
    "list.method(input)\n",
    " \n",
    "# Example syntax for a built-in function \n",
    "builtinfuncion(input)"
   ]
  },
  {
   "cell_type": "markdown",
   "metadata": {},
   "source": [
    "<img src=\"atom.png\" alt=\"Atom\" style=\"width:60px\" align=\"left\" vertical-align=\"middle\">\n",
    "\n",
    "## 2. Adding by Index: Insert\n",
    "*in Python 3*\n",
    "\n",
    "----\n",
    "The Python list method `.insert()` allows us to add an element to a specific index in a list. The `.insert()` method takes in two inputs:\n",
    "1. The index you want to insert into\n",
    "2. The element you want to insert at the specified index\n",
    "\n",
    "<br/>The `.insert()` method will handle shifting over elements and can be used with negative indices. To see it in action let’s imagine we have a list representing a line at a store:"
   ]
  },
  {
   "cell_type": "code",
   "execution_count": 1,
   "metadata": {},
   "outputs": [],
   "source": [
    "store_line = [\"Karla\", \"Maxium\", \"Martim\", \"Isabella\"]"
   ]
  },
  {
   "cell_type": "markdown",
   "metadata": {},
   "source": [
    "`\"Maxium\"` saved a spot for his friend `\"Vikor\"` and we need to adjust the list to add him into the line right behind `\"Maxium\"`. For this example, we can assume that `\"Karla\"` is the front of the line and the rest of the elements are behind her. Here is how we would use the `.insert()` method to insert `\"Vikor\"`:"
   ]
  },
  {
   "cell_type": "code",
   "execution_count": 2,
   "metadata": {},
   "outputs": [
    {
     "name": "stdout",
     "output_type": "stream",
     "text": [
      "['Karla', 'Maxium', 'Vikor', 'Martim', 'Isabella']\n"
     ]
    }
   ],
   "source": [
    "store_line.insert(2, \"Vikor\")\n",
    "print(store_line) "
   ]
  },
  {
   "cell_type": "markdown",
   "metadata": {},
   "source": [
    "Some important things to note:\n",
    "1. The order and number of the inputs is important. The `.insert()` method expects two inputs, the first being a numerical index, followed by any value as the second input\n",
    "2. When we insert an element into a list, all elements from the specified index and up to the last index are shifted one index to the right. This does not apply to inserting an element to the very end of a list as it will simply add an additional index and no other elements will need to shift\n",
    "\n",
    "<br/>*Exercise:*\n",
    "<br/>1. We are helping out a popular grocery store called Jiho’s Produce. Every week the store has to choose the order in which it displays some of its popular items on sale in the front window to attract customers. Jiho, the store owner, likes to store the items for the display in a list. Check out the current display list in our code editor:"
   ]
  },
  {
   "cell_type": "code",
   "execution_count": 3,
   "metadata": {},
   "outputs": [
    {
     "name": "stdout",
     "output_type": "stream",
     "text": [
      "['Mango', 'Filet Mignon', 'Chocolate Milk']\n"
     ]
    }
   ],
   "source": [
    "front_display_list = [\"Mango\", \"Filet Mignon\", \"Chocolate Milk\"]\n",
    "print(front_display_list)"
   ]
  },
  {
   "cell_type": "markdown",
   "metadata": {},
   "source": [
    "<br/>2. Jiho found out some great news! `\"Pineapple\"` is back in stock. Jiho would like to put `\"Pineapple\"` in the front of the list so it is the first item customers see in the display window. Use `.insert()` to add `\"Pineapple\"` to the front of the list. Print the resulting list to see the change. **Note:** For this list, the front will be the element at index `0`."
   ]
  },
  {
   "cell_type": "code",
   "execution_count": 4,
   "metadata": {},
   "outputs": [
    {
     "name": "stdout",
     "output_type": "stream",
     "text": [
      "['Pineapple', 'Mango', 'Filet Mignon', 'Chocolate Milk']\n"
     ]
    }
   ],
   "source": [
    "front_display_list.insert(0, \"Pineapple\")\n",
    "print(front_display_list)"
   ]
  },
  {
   "cell_type": "markdown",
   "metadata": {},
   "source": [
    "<img src=\"atom.png\" alt=\"Atom\" style=\"width:60px\" align=\"left\" vertical-align=\"middle\">\n",
    "\n",
    "## 3. Removing by Index: Pop\n",
    "*in Python 3*\n",
    "\n",
    "----\n",
    "Just as we learned to insert elements at specific indices, Python gives us a method to remove elements at a specific index using a method called `.pop()`. The `.pop()` method takes an optional single input: the index for the element you want to remove. To see it in action, let’s consider a list called `cs_topics` that stores a collection of topics one might study in a computer science program."
   ]
  },
  {
   "cell_type": "code",
   "execution_count": 5,
   "metadata": {},
   "outputs": [],
   "source": [
    "cs_topics = [\"Python\", \"Data Structures\", \"Balloon Making\", \"Algorithms\", \"Clowns 101\"]"
   ]
  },
  {
   "cell_type": "markdown",
   "metadata": {},
   "source": [
    "Two of these topics don’t look like they belong, let’s see how we remove them using `.pop()`. First let’s remove `\"Clowns 101\"`:"
   ]
  },
  {
   "cell_type": "code",
   "execution_count": 6,
   "metadata": {},
   "outputs": [
    {
     "name": "stdout",
     "output_type": "stream",
     "text": [
      "['Python', 'Data Structures', 'Balloon Making', 'Algorithms']\n",
      "Clowns 101\n"
     ]
    }
   ],
   "source": [
    "removed_element = cs_topics.pop()\n",
    "print(cs_topics)\n",
    "print(removed_element)"
   ]
  },
  {
   "cell_type": "markdown",
   "metadata": {},
   "source": [
    "Notice two things about this example:\n",
    "1. The method can be called without a specific index. Using `.pop()` without an index will remove whatever the last element of the list is. In our case `\"Clowns 101\"` gets removed\n",
    "2. `.pop()` is unique in that it will return the value that was removed. If we wanted to know what element was deleted, simply assign a variable to the call of the `.pop()` method. In this case, we assigned it to `removed_element`\n",
    "\n",
    "<br/>Lastly let’s remove `\"Balloon Making\"`:"
   ]
  },
  {
   "cell_type": "code",
   "execution_count": 7,
   "metadata": {},
   "outputs": [
    {
     "name": "stdout",
     "output_type": "stream",
     "text": [
      "['Python', 'Data Structures', 'Algorithms']\n"
     ]
    }
   ],
   "source": [
    "cs_topics.pop(2)\n",
    "print(cs_topics)"
   ]
  },
  {
   "cell_type": "markdown",
   "metadata": {},
   "source": [
    "Notice two things about this example:\n",
    "1. The method can be called with an optional specific index to remove. In our case, the index `2` removes the value of `\"Balloon Making\"`.\n",
    "2. We don’t have to save the removed value to any variable if we don’t care to use it later.\n",
    "\n",
    "<br/>**Note:** Passing in an index that does not exist or calling `.pop()` on an empty list will both result in an `IndexError`.\n",
    "\n",
    "<br/>*Exercise:*\n",
    "<br/>1. We have decided to pursue the study of data science in addition to our computer science coursework. We signed up for an online school that would help us become proficient. Check out the current list of topics we will be studying in our code editor:"
   ]
  },
  {
   "cell_type": "code",
   "execution_count": 8,
   "metadata": {},
   "outputs": [
    {
     "name": "stdout",
     "output_type": "stream",
     "text": [
      "['Machine Learning', 'SQL', 'Pandas', 'Algorithms', 'Statistics', 'Python 3']\n"
     ]
    }
   ],
   "source": [
    "data_science_topics = [\"Machine Learning\", \"SQL\", \"Pandas\", \"Algorithms\", \"Statistics\", \"Python 3\"]\n",
    "print(data_science_topics)"
   ]
  },
  {
   "cell_type": "markdown",
   "metadata": {},
   "source": [
    "<br/>2. It looks like we have an overlap with our computer science curriculum for the topic of `\"Python 3\"`. Let’s remove the topic from the list of `data_science_topics` using our newly learned `.pop()` method. Print `data_science_topics` to see your result."
   ]
  },
  {
   "cell_type": "code",
   "execution_count": 9,
   "metadata": {},
   "outputs": [
    {
     "name": "stdout",
     "output_type": "stream",
     "text": [
      "['Machine Learning', 'SQL', 'Pandas', 'Algorithms', 'Statistics']\n"
     ]
    }
   ],
   "source": [
    "data_science_topics.pop()\n",
    "print(data_science_topics)"
   ]
  },
  {
   "cell_type": "markdown",
   "metadata": {},
   "source": [
    "<br/>C. Looks like there is overlap on the `\"Algorithms\"` topic as well. Let’s use `.pop()` to remove it as well. Print `data_science_topics` to see the changes."
   ]
  },
  {
   "cell_type": "code",
   "execution_count": 10,
   "metadata": {},
   "outputs": [
    {
     "name": "stdout",
     "output_type": "stream",
     "text": [
      "['Machine Learning', 'SQL', 'Pandas', 'Statistics']\n"
     ]
    }
   ],
   "source": [
    "data_science_topics.pop(3)\n",
    "print(data_science_topics)"
   ]
  },
  {
   "cell_type": "markdown",
   "metadata": {},
   "source": [
    "<img src=\"atom.png\" alt=\"Atom\" style=\"width:60px\" align=\"left\" vertical-align=\"middle\">\n",
    "\n",
    "## 4. Consecutive Lists: Range\n",
    "*in Python 3*\n",
    "\n",
    "----\n",
    "Often, we want to create a list of consecutive numbers in our programs. For example, suppose we want a list containing the numbers `0` through `9`:"
   ]
  },
  {
   "cell_type": "code",
   "execution_count": 11,
   "metadata": {},
   "outputs": [],
   "source": [
    "my_list = [0, 1, 2, 3, 4, 5, 6, 7, 8, 9]"
   ]
  },
  {
   "cell_type": "markdown",
   "metadata": {},
   "source": [
    "Typing out all of those numbers takes time and the more numbers we type, the more likely it is that we have a typo that can cause an error. Python gives us an easy way of creating these types of lists using a built-in function called `range()`.\n",
    "\n",
    "<br/>The function `range()` takes a single input, and generates numbers starting at `0` and ending at the number **before** the input. So, if we want the numbers from `0` through `9`, we use `range(10)` because `10` is 1 greater than `9`:"
   ]
  },
  {
   "cell_type": "code",
   "execution_count": 12,
   "metadata": {},
   "outputs": [
    {
     "name": "stdout",
     "output_type": "stream",
     "text": [
      "range(0, 10)\n"
     ]
    }
   ],
   "source": [
    "my_range = range(10)\n",
    "print(my_range)"
   ]
  },
  {
   "cell_type": "markdown",
   "metadata": {},
   "source": [
    "Notice something different? The `range()` function is unique in that it creates a *range object.* It is not a typical list like the ones we have been working with. In order to use this object as a list, we have to first convert it using another built-in function called `list()`. The `list()` function takes in a single input for the object you want to convert.\n",
    "\n",
    "<br/>We use the `list()` function on our range object like this:"
   ]
  },
  {
   "cell_type": "code",
   "execution_count": 13,
   "metadata": {},
   "outputs": [
    {
     "name": "stdout",
     "output_type": "stream",
     "text": [
      "[0, 1, 2, 3, 4, 5, 6, 7, 8, 9]\n"
     ]
    }
   ],
   "source": [
    "print(list(my_range))"
   ]
  },
  {
   "cell_type": "markdown",
   "metadata": {},
   "source": [
    "*Exercise:*\n",
    "<br/>1. Modify `number_list` so that it is a range containing numbers starting at `0` and up to, but not including, `9`."
   ]
  },
  {
   "cell_type": "code",
   "execution_count": 14,
   "metadata": {},
   "outputs": [
    {
     "name": "stdout",
     "output_type": "stream",
     "text": [
      "[0, 1, 2, 3, 4, 5, 6, 7, 8]\n"
     ]
    }
   ],
   "source": [
    "number_list = range(9)\n",
    "print(list(number_list))"
   ]
  },
  {
   "cell_type": "markdown",
   "metadata": {},
   "source": [
    "<br/>2. Create a range called `zero_to_seven` with the numbers `0` through `7`. Print the result in list form."
   ]
  },
  {
   "cell_type": "code",
   "execution_count": 15,
   "metadata": {},
   "outputs": [
    {
     "name": "stdout",
     "output_type": "stream",
     "text": [
      "[0, 1, 2, 3, 4, 5, 6, 7]\n"
     ]
    }
   ],
   "source": [
    "zero_to_seven  = range(8)\n",
    "print(list(zero_to_seven))"
   ]
  },
  {
   "cell_type": "markdown",
   "metadata": {},
   "source": [
    "<img src=\"atom.png\" alt=\"Atom\" style=\"width:60px\" align=\"left\" vertical-align=\"middle\">\n",
    "\n",
    "## 5. The Power of Range!\n",
    "*in Python 3*\n",
    "\n",
    "----\n",
    "By default, `range()` creates a list starting at `0`. However, if we call `range()` with two inputs, we can create a list that starts at a different number. For example, `range(2, 9)` would generate numbers starting at `2` and ending at `8` (just before `9`):"
   ]
  },
  {
   "cell_type": "code",
   "execution_count": 16,
   "metadata": {},
   "outputs": [
    {
     "name": "stdout",
     "output_type": "stream",
     "text": [
      "[2, 3, 4, 5, 6, 7, 8]\n"
     ]
    }
   ],
   "source": [
    "my_list = range(2, 9)\n",
    "print(list(my_list))"
   ]
  },
  {
   "cell_type": "markdown",
   "metadata": {},
   "source": [
    "If we use a third input, we can create a list that “skips” numbers. For example, `range(2, 9, 2)` will give us a list where each number is `2` greater than the previous number:"
   ]
  },
  {
   "cell_type": "code",
   "execution_count": 17,
   "metadata": {},
   "outputs": [
    {
     "name": "stdout",
     "output_type": "stream",
     "text": [
      "[2, 4, 6, 8]\n"
     ]
    }
   ],
   "source": [
    "my_range2 = range(2, 9, 2)\n",
    "print(list(my_range2))"
   ]
  },
  {
   "cell_type": "markdown",
   "metadata": {},
   "source": [
    "We can skip as many numbers as we want! For example, we’ll start at `1` and skip in increments of `10` between each number until we get to `100`:"
   ]
  },
  {
   "cell_type": "code",
   "execution_count": 18,
   "metadata": {},
   "outputs": [
    {
     "name": "stdout",
     "output_type": "stream",
     "text": [
      "[1, 11, 21, 31, 41, 51, 61, 71, 81, 91]\n"
     ]
    }
   ],
   "source": [
    "my_range3 = range(1, 100, 10)\n",
    "print(list(my_range3))"
   ]
  },
  {
   "cell_type": "markdown",
   "metadata": {},
   "source": [
    "Our list stops at `91` because the next number in the sequence would be `101`, which is greater than `100` (our stopping point).\n",
    "\n",
    "<br/>*Exercise:*\n",
    "<br/>1. Modify the `range()` function that created the range `range_five_three` such that it: starts at `5`, has a difference of `3` between each item and ends before `15`."
   ]
  },
  {
   "cell_type": "code",
   "execution_count": 19,
   "metadata": {},
   "outputs": [
    {
     "name": "stdout",
     "output_type": "stream",
     "text": [
      "[5, 8, 11, 14]\n"
     ]
    }
   ],
   "source": [
    "range_five_three = range(5, 15, 3)\n",
    "print(list(range_five_three))"
   ]
  },
  {
   "cell_type": "markdown",
   "metadata": {},
   "source": [
    "<br/>2. Create a range called `range_diff_five` that: starts at `0`, has a difference of `5` between each item and ends before `40`."
   ]
  },
  {
   "cell_type": "code",
   "execution_count": 20,
   "metadata": {},
   "outputs": [
    {
     "name": "stdout",
     "output_type": "stream",
     "text": [
      "[0, 5, 10, 15, 20, 25, 30, 35]\n"
     ]
    }
   ],
   "source": [
    "range_diff_five = range(0, 40, 5)\n",
    "print(list(range_diff_five))"
   ]
  },
  {
   "cell_type": "markdown",
   "metadata": {},
   "source": [
    "<img src=\"atom.png\" alt=\"Atom\" style=\"width:60px\" align=\"left\" vertical-align=\"middle\">\n",
    "\n",
    "## 6. Length of a List\n",
    "*in Python 3*\n",
    "\n",
    "----\n",
    "Often, we’ll need to find the number of items in a list, usually called its *length.* \n",
    "\n",
    "<br/>We can do this using the function `len`. When we apply `len` to a list, we get the number of elements in that list:"
   ]
  },
  {
   "cell_type": "code",
   "execution_count": 21,
   "metadata": {},
   "outputs": [
    {
     "name": "stdout",
     "output_type": "stream",
     "text": [
      "5\n"
     ]
    }
   ],
   "source": [
    "my_list = [1, 2, 3, 4, 5]\n",
    "print(len(my_list))"
   ]
  },
  {
   "cell_type": "markdown",
   "metadata": {},
   "source": [
    "*Example:*\n",
    "<br/>1. Calculate the length of `long_list` and save it to the variable `long_list_len`. Print `long_list_len`."
   ]
  },
  {
   "cell_type": "code",
   "execution_count": 22,
   "metadata": {},
   "outputs": [
    {
     "name": "stdout",
     "output_type": "stream",
     "text": [
      "18\n"
     ]
    }
   ],
   "source": [
    "long_list = [1, 5, 6, 7, -23, 69.5, True, \"very\", \"long\", \"list\", \"that\", \"keeps\", \"going.\", \"Let's\", \"practice\", \"getting\", \"the\", \"length\"]\n",
    "long_list_len = len(long_list)\n",
    "print(long_list_len)"
   ]
  },
  {
   "cell_type": "markdown",
   "metadata": {},
   "source": [
    "<br/>2. We have provided a completed `range()` function for the variable range_list. Calculate its length using the function `len()` and save it to a variable called `range_list_length`. **Note:** Range objects do not need to be converted to lists in order to determine their length."
   ]
  },
  {
   "cell_type": "code",
   "execution_count": 23,
   "metadata": {},
   "outputs": [
    {
     "name": "stdout",
     "output_type": "stream",
     "text": [
      "300\n"
     ]
    }
   ],
   "source": [
    "range_list = range(2, 3000, 10)\n",
    "range_list_length = len(range_list)\n",
    "print(range_list_length)"
   ]
  },
  {
   "cell_type": "markdown",
   "metadata": {},
   "source": [
    "<br/>3. Change the `range()` function that generates `range_list` so that it skips `100` instead of `10` steps between items. How does this change `range_list_len`?"
   ]
  },
  {
   "cell_type": "code",
   "execution_count": 24,
   "metadata": {},
   "outputs": [
    {
     "name": "stdout",
     "output_type": "stream",
     "text": [
      "30\n"
     ]
    }
   ],
   "source": [
    "range_list = range(2, 3000, 100)\n",
    "range_list_length = len(range_list)\n",
    "print(range_list_length)"
   ]
  },
  {
   "cell_type": "markdown",
   "metadata": {},
   "source": [
    "<img src=\"atom.png\" alt=\"Atom\" style=\"width:60px\" align=\"left\" vertical-align=\"middle\">\n",
    "\n",
    "## 7. Slicing Lists\n",
    "*in Python 3*\n",
    "\n",
    "----\n",
    "In Python, often we want to extract only a portion of a list. Dividing a list in such a manner is referred to as *slicing.* Suppose we have a list of `letters`:"
   ]
  },
  {
   "cell_type": "code",
   "execution_count": 1,
   "metadata": {},
   "outputs": [],
   "source": [
    "letters = ['a', 'b', 'c', 'd', 'e', 'f', 'g']"
   ]
  },
  {
   "cell_type": "markdown",
   "metadata": {},
   "source": [
    "Suppose we want to select from `b` through `f`.\n",
    "\n",
    "<br/>We can do this using the following syntax: `letters[start:end]`, where:\n",
    "- `start` is the index of the first element that we want to include in our selection. In this case, we want to start at `b`, which has index `1`.\n",
    "- `end` is the index of *one more than* the last index that we want to include. The last element we want is `f`, which has index `5`, so `end` needs to be `6`."
   ]
  },
  {
   "cell_type": "code",
   "execution_count": 2,
   "metadata": {},
   "outputs": [
    {
     "name": "stdout",
     "output_type": "stream",
     "text": [
      "['b', 'c', 'd', 'e', 'f']\n"
     ]
    }
   ],
   "source": [
    "sublist = letters[1:6]\n",
    "print(sublist)"
   ]
  },
  {
   "cell_type": "markdown",
   "metadata": {},
   "source": [
    "Notice that the element at index `6` (which is `\"g\"`) is *not* included in our selection.\n",
    "\n",
    "<br/>*Exercise:*\n",
    "<br/>1. Use `print()` to examine the variable beginning:"
   ]
  },
  {
   "cell_type": "code",
   "execution_count": 3,
   "metadata": {},
   "outputs": [
    {
     "name": "stdout",
     "output_type": "stream",
     "text": [
      "['shirt', 'shirt', 'pants', 'pants']\n"
     ]
    }
   ],
   "source": [
    "suitcase = ['shirt', 'shirt', 'pants', 'pants', 'pajamas', 'books']\n",
    "\n",
    "beginning = suitcase[0:4]\n",
    "print(beginning)"
   ]
  },
  {
   "cell_type": "markdown",
   "metadata": {},
   "source": [
    "<br/>2. Modify `beginning`, so that it selects the first 2 elements of `suitcase`."
   ]
  },
  {
   "cell_type": "code",
   "execution_count": 4,
   "metadata": {},
   "outputs": [
    {
     "name": "stdout",
     "output_type": "stream",
     "text": [
      "['shirt', 'shirt']\n"
     ]
    }
   ],
   "source": [
    "beginning = suitcase[0:2]\n",
    "print(beginning)"
   ]
  },
  {
   "cell_type": "markdown",
   "metadata": {},
   "source": [
    "<br/>3. Create a new list called `middle` that contains the middle two items (`[\"pants\", \"pants\"]`) from `suitcase`. Print `middle` to see the slice."
   ]
  },
  {
   "cell_type": "code",
   "execution_count": 5,
   "metadata": {},
   "outputs": [
    {
     "name": "stdout",
     "output_type": "stream",
     "text": [
      "['pants', 'pants']\n"
     ]
    }
   ],
   "source": [
    "middle = suitcase[2:4]\n",
    "print(middle)"
   ]
  },
  {
   "cell_type": "markdown",
   "metadata": {},
   "source": [
    "**Note:**\n",
    "<br/>The last item in a list can be found using the index value computed by `len() - 1` for the list. A short-hand for this is to use an index value of `-1`. For any list, accessing the index of `[-1]` will return the last element of the list without needing to use the `len()` function. In the example below, both `print()` functions will output orange for the color."
   ]
  },
  {
   "cell_type": "code",
   "execution_count": 15,
   "metadata": {},
   "outputs": [
    {
     "name": "stdout",
     "output_type": "stream",
     "text": [
      "orange\n",
      "orange\n"
     ]
    }
   ],
   "source": [
    "colors = ['red', 'green', 'blue', 'yellow', 'orange']\n",
    "\n",
    "print(colors[-1])\n",
    "\n",
    "print(colors[len(colors) - 1])"
   ]
  },
  {
   "cell_type": "markdown",
   "metadata": {},
   "source": [
    "<img src=\"atom.png\" alt=\"Atom\" style=\"width:60px\" align=\"left\" vertical-align=\"middle\">\n",
    "\n",
    "## 8. Slicing Lists II \n",
    "*in Python 3*\n",
    "\n",
    "----\n",
    "Slicing syntax in Python is very flexible. Let’s look at a few more problems we can tackle with slicing. Take the list `fruits` as our example:"
   ]
  },
  {
   "cell_type": "code",
   "execution_count": 9,
   "metadata": {},
   "outputs": [],
   "source": [
    "fruits = [\"apple\", \"cherry\", \"pineapple\", \"orange\", \"mango\"]"
   ]
  },
  {
   "cell_type": "markdown",
   "metadata": {},
   "source": [
    "If we want to select the first *`n`* elements of a list, we could use the following code: `fruits[:n]`\n",
    "\n",
    "<br/>For our `fruits` list, suppose we wanted to slice the first three elements. The following code would start slicing from index `0` and up to index `3`. Note that the fruit at index `3` (`orange`) is not included in the results."
   ]
  },
  {
   "cell_type": "code",
   "execution_count": 10,
   "metadata": {},
   "outputs": [
    {
     "name": "stdout",
     "output_type": "stream",
     "text": [
      "['apple', 'cherry', 'pineapple']\n"
     ]
    }
   ],
   "source": [
    "print(fruits[0:3])"
   ]
  },
  {
   "cell_type": "markdown",
   "metadata": {},
   "source": [
    "We can do something similar when we want to slice the *last `n`* elements in a list: `fruits[-n:]`\n",
    "\n",
    "<br/>For our `fruits` list, suppose we wanted to slice the last two elements. This code slices from the element at index `-2` up through the last index."
   ]
  },
  {
   "cell_type": "code",
   "execution_count": 11,
   "metadata": {},
   "outputs": [
    {
     "name": "stdout",
     "output_type": "stream",
     "text": [
      "['orange', 'mango']\n"
     ]
    }
   ],
   "source": [
    "print(fruits[-2:])"
   ]
  },
  {
   "cell_type": "markdown",
   "metadata": {},
   "source": [
    "Negative indices can also accomplish taking *all but n last elements* of a list: `fruits[:-n]`\n",
    "\n",
    "<br/>For our `fruits` example, suppose we wanted to slice all but the last element from the list. This example starts counting from the `0` index up to the element at index `-1`."
   ]
  },
  {
   "cell_type": "code",
   "execution_count": 12,
   "metadata": {},
   "outputs": [
    {
     "name": "stdout",
     "output_type": "stream",
     "text": [
      "['apple', 'cherry', 'pineapple', 'orange']\n"
     ]
    }
   ],
   "source": [
    "print(fruits[:-1])"
   ]
  },
  {
   "cell_type": "markdown",
   "metadata": {},
   "source": [
    "*Exercise:*\n",
    "<br/>1. Create a new list called `last_two_elements` containing the final two elements of suitcase. Print `last_two_elements` to see your result."
   ]
  },
  {
   "cell_type": "code",
   "execution_count": 13,
   "metadata": {},
   "outputs": [
    {
     "name": "stdout",
     "output_type": "stream",
     "text": [
      "['pajamas', 'books']\n"
     ]
    }
   ],
   "source": [
    "suitcase = [\"shirt\", \"shirt\", \"pants\", \"pants\", \"pajamas\", \"books\"]\n",
    "\n",
    "last_two_elements = suitcase[-2:]\n",
    "print(last_two_elements)"
   ]
  },
  {
   "cell_type": "markdown",
   "metadata": {},
   "source": [
    "<br/>2. Create a new list called `slice_off_last_three` containing all but the last three elements. Print `slice_off_last_three` to see your result."
   ]
  },
  {
   "cell_type": "code",
   "execution_count": 14,
   "metadata": {},
   "outputs": [
    {
     "name": "stdout",
     "output_type": "stream",
     "text": [
      "['shirt', 'shirt', 'pants']\n"
     ]
    }
   ],
   "source": [
    "slice_off_last_three = suitcase[:-3]\n",
    "print(slice_off_last_three)"
   ]
  },
  {
   "cell_type": "markdown",
   "metadata": {},
   "source": [
    "<img src=\"atom.png\" alt=\"Atom\" style=\"width:60px\" align=\"left\" vertical-align=\"middle\">\n",
    "\n",
    "## 9. Counting in a List\n",
    "*in Python 3*\n",
    "\n",
    "----\n",
    "In Python, it is common to want to count occurrences of an item in a list. Suppose we have a list called `letters` that represents the letters in the word “Mississippi”:"
   ]
  },
  {
   "cell_type": "code",
   "execution_count": 16,
   "metadata": {},
   "outputs": [],
   "source": [
    "letters = [\"m\", \"i\", \"s\", \"s\", \"i\", \"s\", \"s\", \"i\", \"p\", \"p\", \"i\"]"
   ]
  },
  {
   "cell_type": "markdown",
   "metadata": {},
   "source": [
    "If we want to know how many times `i` appears in this word, we can use the function `count`:"
   ]
  },
  {
   "cell_type": "code",
   "execution_count": 17,
   "metadata": {},
   "outputs": [
    {
     "name": "stdout",
     "output_type": "stream",
     "text": [
      "4\n"
     ]
    }
   ],
   "source": [
    "num_i = letters.count('i')\n",
    "print(num_i)"
   ]
  },
  {
   "cell_type": "markdown",
   "metadata": {},
   "source": [
    "Notice that since `.count()` *returns* a value, we must assign it to a variable to use it. We can even use `.count()` to count element appearances in a two-dimensional list. Let’s use the list number_collection as an example:"
   ]
  },
  {
   "cell_type": "code",
   "execution_count": 1,
   "metadata": {},
   "outputs": [],
   "source": [
    "number_collection = [[100, 200], [100, 200], [475, 29], [34, 34]]"
   ]
  },
  {
   "cell_type": "markdown",
   "metadata": {},
   "source": [
    "If we wanted to know how often the sublist `[100, 200]` appears:"
   ]
  },
  {
   "cell_type": "code",
   "execution_count": 2,
   "metadata": {},
   "outputs": [
    {
     "name": "stdout",
     "output_type": "stream",
     "text": [
      "2\n"
     ]
    }
   ],
   "source": [
    "num_pairs = number_collection.count([100, 200])\n",
    "print(num_pairs)"
   ]
  },
  {
   "cell_type": "markdown",
   "metadata": {},
   "source": [
    "*Exercise:*\n",
    "<br/>Mrs. Wilson’s class is voting for class president. She has saved each student’s vote into the list `votes`. Use `.count()` to determine how many students voted for `\"Jake\"` then print it:"
   ]
  },
  {
   "cell_type": "code",
   "execution_count": 3,
   "metadata": {},
   "outputs": [
    {
     "name": "stdout",
     "output_type": "stream",
     "text": [
      "9\n"
     ]
    }
   ],
   "source": [
    "votes = [\"Jake\", \"Jake\", \"Laurie\", \"Laurie\", \"Laurie\", \"Jake\", \"Jake\", \"Jake\", \"Laurie\", \"Cassie\", \"Cassie\", \"Jake\", \"Jake\", \"Cassie\", \"Laurie\", \"Cassie\", \"Jake\", \"Jake\", \"Cassie\", \"Laurie\"]\n",
    "print(votes.count(\"Jake\"))"
   ]
  },
  {
   "cell_type": "markdown",
   "metadata": {},
   "source": [
    "<img src=\"atom.png\" alt=\"Atom\" style=\"width:60px\" align=\"left\" vertical-align=\"middle\">\n",
    "\n",
    "## 10. Sorting Lists I\n",
    "*in Python 3*\n",
    "\n",
    "----\n",
    "Sometimes, we want to sort a list in either numerical (1, 2, 3, …) or alphabetical (a, b, c, …) order.\n",
    "\n",
    "<br/>We can sort a list in place using `.sort()`. Suppose that we have a list of names:"
   ]
  },
  {
   "cell_type": "code",
   "execution_count": 5,
   "metadata": {},
   "outputs": [],
   "source": [
    "names = ['Xander', 'Buffy', 'Angel', 'Willow', 'Giles']"
   ]
  },
  {
   "cell_type": "markdown",
   "metadata": {},
   "source": [
    "Let’s see what happens when we apply `.sort()`:"
   ]
  },
  {
   "cell_type": "code",
   "execution_count": 6,
   "metadata": {},
   "outputs": [
    {
     "name": "stdout",
     "output_type": "stream",
     "text": [
      "['Angel', 'Buffy', 'Giles', 'Willow', 'Xander']\n"
     ]
    }
   ],
   "source": [
    "names.sort()\n",
    "print(names)"
   ]
  },
  {
   "cell_type": "markdown",
   "metadata": {},
   "source": [
    "As we can see, the `.sort()` method sorted our list of names in alphabetical order. `.sort()` also provides us the option to go in reverse. Instead of sorting in ascending order like we just saw, we can do so in descending order."
   ]
  },
  {
   "cell_type": "code",
   "execution_count": 7,
   "metadata": {},
   "outputs": [
    {
     "name": "stdout",
     "output_type": "stream",
     "text": [
      "['Xander', 'Willow', 'Giles', 'Buffy', 'Angel']\n"
     ]
    }
   ],
   "source": [
    "names.sort(reverse=True)\n",
    "print(names)"
   ]
  },
  {
   "cell_type": "markdown",
   "metadata": {},
   "source": [
    "**Note**\n",
    "<br/>The `.sort()` method does not return any value and thus does not need to be assigned to a variable since it modifies the list directly. If we do assign the result of the method, it would assign the value of `None` to the variable.\n",
    "\n",
    "<br/>*Exercise:*\n",
    "<br/>1. Use `.sort()` to sort addresses."
   ]
  },
  {
   "cell_type": "code",
   "execution_count": 9,
   "metadata": {},
   "outputs": [
    {
     "name": "stdout",
     "output_type": "stream",
     "text": [
      "['10 Downing St.', '12 Grimmauld Place', '1600 Pennsylvania Ave', '221 B Baker St.', '42 Wallaby Way', '742 Evergreen Terrace']\n"
     ]
    }
   ],
   "source": [
    "addresses = [\"221 B Baker St.\", \"42 Wallaby Way\", \"12 Grimmauld Place\", \"742 Evergreen Terrace\", \"1600 Pennsylvania Ave\", \"10 Downing St.\"]\n",
    "addresses.sort()\n",
    "print(addresses)"
   ]
  },
  {
   "cell_type": "markdown",
   "metadata": {},
   "source": [
    "<br/>2. Notice that `sort` goes *after* our list, `names`. If we try `sort(names)`, we will get a `NameError`:"
   ]
  },
  {
   "cell_type": "code",
   "execution_count": 10,
   "metadata": {},
   "outputs": [
    {
     "ename": "NameError",
     "evalue": "name 'sort' is not defined",
     "output_type": "error",
     "traceback": [
      "\u001b[1;31m---------------------------------------------------------------------------\u001b[0m",
      "\u001b[1;31mNameError\u001b[0m                                 Traceback (most recent call last)",
      "\u001b[1;32m<ipython-input-10-7cfc8c2ce9ea>\u001b[0m in \u001b[0;36m<module>\u001b[1;34m\u001b[0m\n\u001b[0;32m      1\u001b[0m \u001b[0mnames\u001b[0m \u001b[1;33m=\u001b[0m \u001b[1;33m[\u001b[0m\u001b[1;34m\"Ron\"\u001b[0m\u001b[1;33m,\u001b[0m \u001b[1;34m\"Hermione\"\u001b[0m\u001b[1;33m,\u001b[0m \u001b[1;34m\"Harry\"\u001b[0m\u001b[1;33m,\u001b[0m \u001b[1;34m\"Albus\"\u001b[0m\u001b[1;33m,\u001b[0m \u001b[1;34m\"Sirius\"\u001b[0m\u001b[1;33m]\u001b[0m\u001b[1;33m\u001b[0m\u001b[1;33m\u001b[0m\u001b[0m\n\u001b[1;32m----> 2\u001b[1;33m \u001b[0msort\u001b[0m\u001b[1;33m(\u001b[0m\u001b[0mnames\u001b[0m\u001b[1;33m)\u001b[0m\u001b[1;33m\u001b[0m\u001b[1;33m\u001b[0m\u001b[0m\n\u001b[0m",
      "\u001b[1;31mNameError\u001b[0m: name 'sort' is not defined"
     ]
    }
   ],
   "source": [
    "names = [\"Ron\", \"Hermione\", \"Harry\", \"Albus\", \"Sirius\"]\n",
    "sort(names)"
   ]
  },
  {
   "cell_type": "markdown",
   "metadata": {},
   "source": [
    "<br/>3. Edit the `.sort()` call on `cities` such that it sorts the `cities` in reverse order (descending). Print `cities` to see the result."
   ]
  },
  {
   "cell_type": "code",
   "execution_count": 11,
   "metadata": {},
   "outputs": [
    {
     "name": "stdout",
     "output_type": "stream",
     "text": [
      "['Rome', 'Paris', 'New York', 'Los Angeles', 'London']\n"
     ]
    }
   ],
   "source": [
    "cities = [\"London\", \"Paris\", \"Rome\", \"Los Angeles\", \"New York\"]\n",
    "cities.sort(reverse=True)\n",
    "print(cities)"
   ]
  },
  {
   "cell_type": "markdown",
   "metadata": {},
   "source": [
    "<img src=\"atom.png\" alt=\"Atom\" style=\"width:60px\" align=\"left\" vertical-align=\"middle\">\n",
    "\n",
    "## 11. Sorting Lists II\n",
    "*in Python 3*\n",
    "\n",
    "----\n",
    "A second way of sorting a list is to use `sorted`. `sorted` is different from `.sort()` in several ways:\n",
    "1. It comes *before* a list, instead of after.\n",
    "2. It generates a new list.\n",
    "\n",
    "<br/>Let’s return to our list of names:"
   ]
  },
  {
   "cell_type": "code",
   "execution_count": 12,
   "metadata": {},
   "outputs": [],
   "source": [
    "names = ['Xander', 'Buffy', 'Angel', 'Willow', 'Giles']"
   ]
  },
  {
   "cell_type": "markdown",
   "metadata": {},
   "source": [
    "Using `sorted`, we can create a new list, called `sorted_names`:"
   ]
  },
  {
   "cell_type": "code",
   "execution_count": 13,
   "metadata": {},
   "outputs": [
    {
     "name": "stdout",
     "output_type": "stream",
     "text": [
      "['Angel', 'Buffy', 'Giles', 'Willow', 'Xander']\n"
     ]
    }
   ],
   "source": [
    "sorted_names = sorted(names)\n",
    "print(sorted_names)"
   ]
  },
  {
   "cell_type": "markdown",
   "metadata": {},
   "source": [
    "Note that using `sorted` did not change `names`:"
   ]
  },
  {
   "cell_type": "code",
   "execution_count": 14,
   "metadata": {},
   "outputs": [
    {
     "name": "stdout",
     "output_type": "stream",
     "text": [
      "['Xander', 'Buffy', 'Angel', 'Willow', 'Giles']\n"
     ]
    }
   ],
   "source": [
    "print(names)"
   ]
  },
  {
   "cell_type": "markdown",
   "metadata": {},
   "source": [
    "**Note:** You can print the **reverse** of the above list of `sorted_names` using the following:"
   ]
  },
  {
   "cell_type": "code",
   "execution_count": 15,
   "metadata": {},
   "outputs": [
    {
     "name": "stdout",
     "output_type": "stream",
     "text": [
      "['Xander', 'Willow', 'Giles', 'Buffy', 'Angel']\n"
     ]
    }
   ],
   "source": [
    "print(sorted(sorted_names, reverse=True))"
   ]
  },
  {
   "cell_type": "markdown",
   "metadata": {},
   "source": [
    "The primary difference between the list `sort()` function and the `sorted()` function is that the `sort()` function will modify the list it is called on. The `sorted()` function will create a new list containing a sorted version of the list it is given. The `sorted()` function will not modify the list passed as a parameter. If you want to sort a list but still have the original unsorted version, then you would use the `sorted()` function. If maintaining the original order of the list is unimportant, then you can call the `sort()` function on the list.\n",
    "\n",
    "<br/>A second important difference is that the `sorted()` function will return a list so you must assign the returned data to a new variable. The `sort()` function modifies the list in-place and has no return value.\n",
    "\n",
    "<br/>*Exercise:*\n",
    "<br/>Use `sorted()` to order games and create a new list called `games_sorted`. Print both `games` and `games_sorted`. Notice the difference? The example shows the difference in behavior between `sort()` and `sorted()`. After being passed to `sorted()`, the `games` list remains unchanged. Once the `sort()` function is called on it, the list is updated."
   ]
  },
  {
   "cell_type": "code",
   "execution_count": 1,
   "metadata": {},
   "outputs": [
    {
     "name": "stdout",
     "output_type": "stream",
     "text": [
      "['Portal', 'Minecraft', 'Pacman', 'Tetris', 'The Sims', 'Pokemon']\n",
      "['Minecraft', 'Pacman', 'Pokemon', 'Portal', 'Tetris', 'The Sims']\n"
     ]
    }
   ],
   "source": [
    "games = ['Portal', 'Minecraft', 'Pacman', 'Tetris', 'The Sims', 'Pokemon']\n",
    "\n",
    "games_sorted = sorted(games)\n",
    "print(games)\n",
    "print(games_sorted)"
   ]
  },
  {
   "cell_type": "markdown",
   "metadata": {},
   "source": [
    "<img src=\"atom.png\" alt=\"Atom\" style=\"width:60px\" align=\"left\" vertical-align=\"middle\">\n",
    "\n",
    "## 12. Reversing Lists\n",
    "*in Python 3*\n",
    "\n",
    "----\n",
    "You can reverse lists of items easily:"
   ]
  },
  {
   "cell_type": "code",
   "execution_count": 2,
   "metadata": {},
   "outputs": [
    {
     "name": "stdout",
     "output_type": "stream",
     "text": [
      "['squash', 'potato', 'pea', 'carrot']\n",
      "['squash', 'potato', 'pea', 'carrot']\n"
     ]
    }
   ],
   "source": [
    "vegetables = ['carrot', 'pea', 'potato', 'squash']\n",
    "print(vegetables[::-1]) # One way of reversing lists\n",
    "vegetables.reverse() # Another way of reversing lists\n",
    "print(vegetables)"
   ]
  },
  {
   "cell_type": "markdown",
   "metadata": {},
   "source": [
    "<img src=\"atom.png\" alt=\"Atom\" style=\"width:60px\" align=\"left\" vertical-align=\"middle\">\n",
    "\n",
    "## 13. Review\n",
    "*Python 3*\n",
    "\n",
    "----\n",
    "In this lesson, we learned how to:\n",
    "\n",
    "    1. Add elements to a list by index using the .insert() method\n",
    "    2. Remove elements from a list by index using the .pop() method\n",
    "    3. Generate a list using the range() function\n",
    "    4. Get the length of a list using the len() function\n",
    "    5. Select portions of a list using slicing syntax\n",
    "    6. Count the number of times that an element appears in a list using the .count() method\n",
    "    7. Sort a list of items using either the .sort() method or sorted() function\n",
    "    8. Reverse a list using the .reverse() method\n",
    "\n",
    "<br/>*Exercise:*\n",
    "<br/>1. Our friend Jiho has been so successful in both the flower and grocery business that she has decided to open a furniture store. Jiho has compiled a list of inventory items into a list called `inventory` and wants to know a few facts about it. First, how many items are in the warehouse? Save the answer to a variable called `inventory_len`."
   ]
  },
  {
   "cell_type": "code",
   "execution_count": 21,
   "metadata": {},
   "outputs": [
    {
     "name": "stdout",
     "output_type": "stream",
     "text": [
      "19\n"
     ]
    }
   ],
   "source": [
    "inventory = [\"twin bed\", \"twin bed\", \"headboard\", \"queen bed\", \"king bed\", \"dresser\", \"dresser\", \"table\", \"table\", \"nightstand\", \"nightstand\", \"king bed\", \"king bed\", \"twin bed\", \"twin bed\", \"sheets\", \"sheets\", \"pillow\", \"pillow\"]\n",
    "inventory_len = len(inventory)\n",
    "print(inventory_len)"
   ]
  },
  {
   "cell_type": "markdown",
   "metadata": {},
   "source": [
    "<br/>2. Select the first element in `inventory`. Save it to a variable called `first`."
   ]
  },
  {
   "cell_type": "code",
   "execution_count": 22,
   "metadata": {},
   "outputs": [
    {
     "name": "stdout",
     "output_type": "stream",
     "text": [
      "twin bed\n"
     ]
    }
   ],
   "source": [
    "first = inventory[0]\n",
    "print(first)"
   ]
  },
  {
   "cell_type": "markdown",
   "metadata": {},
   "source": [
    "<br/>3. Select the last element from `inventory`. Save it to a variable called `last`."
   ]
  },
  {
   "cell_type": "code",
   "execution_count": 23,
   "metadata": {},
   "outputs": [
    {
     "name": "stdout",
     "output_type": "stream",
     "text": [
      "pillow\n"
     ]
    }
   ],
   "source": [
    "last = inventory[-1]\n",
    "print(last)"
   ]
  },
  {
   "cell_type": "markdown",
   "metadata": {},
   "source": [
    "<br/>4. Select items from the `inventory` starting at index `2` and up to, but not including, index `6`. Save your answer to a variable called `inventory_2_6`."
   ]
  },
  {
   "cell_type": "code",
   "execution_count": 24,
   "metadata": {},
   "outputs": [
    {
     "name": "stdout",
     "output_type": "stream",
     "text": [
      "['headboard', 'queen bed', 'king bed', 'dresser']\n"
     ]
    }
   ],
   "source": [
    "inventory_2_6 = inventory[2:6]\n",
    "print(inventory_2_6)"
   ]
  },
  {
   "cell_type": "markdown",
   "metadata": {},
   "source": [
    "<br/>5. Select the first 3 items of `inventory`. Save it to a variable called `first_3`."
   ]
  },
  {
   "cell_type": "code",
   "execution_count": 25,
   "metadata": {},
   "outputs": [
    {
     "name": "stdout",
     "output_type": "stream",
     "text": [
      "['twin bed', 'twin bed', 'headboard']\n"
     ]
    }
   ],
   "source": [
    "first_3 = inventory[:3]\n",
    "print(first_3)"
   ]
  },
  {
   "cell_type": "markdown",
   "metadata": {},
   "source": [
    "<br/>6. How many `'twin bed'`s are in `inventory`? Save your answer to a variable called `twin_bed`s."
   ]
  },
  {
   "cell_type": "code",
   "execution_count": 26,
   "metadata": {},
   "outputs": [
    {
     "name": "stdout",
     "output_type": "stream",
     "text": [
      "4\n"
     ]
    }
   ],
   "source": [
    "twin_beds = inventory.count('twin bed')\n",
    "print(twin_beds)"
   ]
  },
  {
   "cell_type": "markdown",
   "metadata": {},
   "source": [
    "<br/>7. Remove the 5th element in the `inventory`. Save the value to a variable called `removed_item`."
   ]
  },
  {
   "cell_type": "code",
   "execution_count": 28,
   "metadata": {},
   "outputs": [
    {
     "name": "stdout",
     "output_type": "stream",
     "text": [
      "dresser\n"
     ]
    }
   ],
   "source": [
    "removed_item = inventory.pop(4)\n",
    "print(removed_item)"
   ]
  },
  {
   "cell_type": "markdown",
   "metadata": {},
   "source": [
    "<br/>8. There was a new item added to our inventory called `\"19th Century Bed Frame\"`. Use the `.insert()` method to place the new item as the 11th element in our inventory."
   ]
  },
  {
   "cell_type": "code",
   "execution_count": 29,
   "metadata": {},
   "outputs": [
    {
     "name": "stdout",
     "output_type": "stream",
     "text": [
      "['twin bed', 'twin bed', 'headboard', 'queen bed', 'dresser', 'table', 'table', 'nightstand', 'nightstand', 'king bed', '19th Century Bed Frame', 'king bed', 'twin bed', 'twin bed', 'sheets', 'sheets', 'pillow', 'pillow']\n"
     ]
    }
   ],
   "source": [
    "inventory.insert(10, \"19th Century Bed Frame\")\n",
    "print(inventory)"
   ]
  },
  {
   "cell_type": "markdown",
   "metadata": {},
   "source": [
    "<br/>9. Sort inventory using the `.sort()` method or the `sorted()` function. Remember, the `sorted()` function doesn’t change the original list — it creates a new list with the elements properly sorted. If you use `sorted()` you’ll have to set `inventory` equal to the value returned by `sorted()`. Print `inventory` to see the result."
   ]
  },
  {
   "cell_type": "code",
   "execution_count": 30,
   "metadata": {},
   "outputs": [
    {
     "name": "stdout",
     "output_type": "stream",
     "text": [
      "['19th Century Bed Frame', 'dresser', 'headboard', 'king bed', 'king bed', 'nightstand', 'nightstand', 'pillow', 'pillow', 'queen bed', 'sheets', 'sheets', 'table', 'table', 'twin bed', 'twin bed', 'twin bed', 'twin bed']\n"
     ]
    }
   ],
   "source": [
    "print(sorted(inventory))"
   ]
  }
 ],
 "metadata": {
  "kernelspec": {
   "display_name": "Python 3",
   "language": "python",
   "name": "python3"
  },
  "language_info": {
   "codemirror_mode": {
    "name": "ipython",
    "version": 3
   },
   "file_extension": ".py",
   "mimetype": "text/x-python",
   "name": "python",
   "nbconvert_exporter": "python",
   "pygments_lexer": "ipython3",
   "version": "3.8.4"
  }
 },
 "nbformat": 4,
 "nbformat_minor": 2
}
