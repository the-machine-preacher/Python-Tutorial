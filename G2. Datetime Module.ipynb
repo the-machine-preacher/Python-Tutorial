{
 "cells": [
  {
   "cell_type": "markdown",
   "metadata": {},
   "source": [
    "<img src=\"atom.png\" alt=\"Atom\" style=\"width:60px\" align=\"left\" vertical-align=\"middle\">\n",
    "\n",
    "## 1. Introduction to the datetime module\n",
    "*to Python 3*\n",
    "\n",
    "----\n",
    "You will learn how to:\n",
    "1. Import datetime module.\n",
    "2. `strptime()`\n",
    "3. `strftime()`\n",
    "\n",
    "<br/>Datetime is an object. Below you will learn how to store a date:"
   ]
  },
  {
   "cell_type": "code",
   "execution_count": 13,
   "metadata": {},
   "outputs": [
    {
     "name": "stdout",
     "output_type": "stream",
     "text": [
      "1994\n",
      "1\n"
     ]
    }
   ],
   "source": [
    "from datetime import date, time, datetime, timedelta\n",
    "birthday = datetime(year=1994, month=2, day=15, hour=4, minute=25, second=12) # Arguments passed: year, month, date, time (24hrs), min, sec\n",
    "print(birthday.year)\n",
    "print(birthday.weekday()) # [0-Mon, 1-Tue, 2-Wed, 3-Thurs, 4-Fri, 5-Sat, 6-Sun]"
   ]
  },
  {
   "cell_type": "markdown",
   "metadata": {},
   "source": [
    "Specify the current date & time:"
   ]
  },
  {
   "cell_type": "code",
   "execution_count": 5,
   "metadata": {},
   "outputs": [
    {
     "name": "stdout",
     "output_type": "stream",
     "text": [
      "2021-06-21 20:26:10.583336\n",
      "Date components:  21 6 2021\n",
      "Today's weekday number is:  0\n",
      "The current date and time:  2021-06-21 20:26:10.583336\n",
      "The current time:  20:26:10.583336\n"
     ]
    }
   ],
   "source": [
    "# The current date & time\n",
    "print(datetime.now())\n",
    "\n",
    "# Print individual date components\n",
    "print(\"Date components: \", date.today().day, date.today().month, date.today().year)\n",
    "\n",
    "# Print the weekday number\n",
    "print(\"Today's weekday number is: \", date.today().weekday())\n",
    "\n",
    "# Print the current date and time\n",
    "print(\"The current date and time: \", datetime.now())\n",
    "print(\"The current time: \", datetime.now().time())"
   ]
  },
  {
   "cell_type": "markdown",
   "metadata": {},
   "source": [
    "<img src=\"atom.png\" alt=\"Atom\" style=\"width:60px\" align=\"left\" vertical-align=\"middle\">\n",
    "\n",
    "## 2. Parse datetime strings using strptime()\n",
    "*in Python 3*\n",
    "\n",
    "----\n",
    "Useful to accept datetime from users. Access the formatting options on:\n",
    "https://docs.python.org/3/library/datetime.html#strftime-and-strptime-format-codes"
   ]
  },
  {
   "cell_type": "code",
   "execution_count": 20,
   "metadata": {},
   "outputs": [
    {
     "data": {
      "text/plain": [
       "2020"
      ]
     },
     "execution_count": 20,
     "metadata": {},
     "output_type": "execute_result"
    }
   ],
   "source": [
    "parsed_date = datetime.strptime('28 May 2020','%d %b %Y')\n",
    "parsed_date.month\n",
    "parsed_date.year\n"
   ]
  },
  {
   "cell_type": "markdown",
   "metadata": {},
   "source": [
    "<img src=\"atom.png\" alt=\"Atom\" style=\"width:60px\" align=\"left\" vertical-align=\"middle\">\n",
    "\n",
    "## 3. Formatting datetime strings using strftime()\n",
    "*in Python 3*\n",
    "\n",
    "----\n",
    "Useful to format datetime for easy reading. Access the formatting options on:\n",
    "https://docs.python.org/3/library/datetime.html#strftime-and-strptime-format-codes\n"
   ]
  },
  {
   "cell_type": "code",
   "execution_count": 7,
   "metadata": {},
   "outputs": [
    {
     "name": "stdout",
     "output_type": "stream",
     "text": [
      "21 Jun 2021\n"
     ]
    }
   ],
   "source": [
    "print(datetime.strftime(datetime.now(), '%d %b %Y'))"
   ]
  },
  {
   "cell_type": "markdown",
   "metadata": {},
   "source": [
    "Formatting options for the `strftime()` method:\n",
    "- `%y/%Y` - Year; `%a/%A` - weekday; `%b/%B` - month; `%d` - day of the month\n",
    "- `%c` - locale's date and time; `%x` - locale's date; `%X` - locale's time\n",
    "- `%I/%H` - 12/24 hour; `%M` - minute; `%S` - second; `%p` - locale's AM/PM"
   ]
  },
  {
   "cell_type": "markdown",
   "metadata": {},
   "source": [
    "<img src=\"atom.png\" alt=\"Atom\" style=\"width:60px\" align=\"left\" vertical-align=\"middle\">\n",
    "\n",
    "## 4. Manipulating dates and time using timedelta()\n",
    "*in Python 3*\n",
    "\n",
    "----\n",
    "Subtract datetime (you can't add, divide or multiply dates):"
   ]
  },
  {
   "cell_type": "code",
   "execution_count": 19,
   "metadata": {},
   "outputs": [
    {
     "name": "stdout",
     "output_type": "stream",
     "text": [
      "233 days, 0:00:00\n",
      "3262 days, 3:08:44.726694\n",
      "3262 days\n"
     ]
    }
   ],
   "source": [
    "#Subtract 2 separate dates\n",
    "print(datetime(year=2020, month=5, day=28) - datetime(year=2019, month=10, day=8))\n",
    "\n",
    "# Subtract a future (or past date) from now\n",
    "print(datetime(year=2030, month=5, day=28) - datetime.now())\n",
    "\n",
    "# Format the subtracted date\n",
    "print((datetime(year=2030, month=5, day=28) - datetime.now()).days, \"days\")"
   ]
  },
  {
   "cell_type": "markdown",
   "metadata": {},
   "source": [
    "Create a `timedelta` object and add it to a date:"
   ]
  },
  {
   "cell_type": "code",
   "execution_count": 17,
   "metadata": {},
   "outputs": [
    {
     "name": "stdout",
     "output_type": "stream",
     "text": [
      "One year from now it will be: 2022-06-20 20:48:30.123580\n",
      "One year from now it will be: Monday, 20 Jun 2022\n"
     ]
    }
   ],
   "source": [
    "print(f\"One year from now it will be: {datetime.now() + timedelta(weeks=52)}\")\n",
    "\n",
    "# Format the above better using the following options\n",
    "print(f\"One year from now it will be: {(datetime.now() + timedelta(weeks=52)).strftime('%A, %d %b %Y')}\")"
   ]
  },
  {
   "cell_type": "markdown",
   "metadata": {},
   "source": [
    "<img src=\"atom.png\" alt=\"Atom\" style=\"width:60px\" align=\"left\" vertical-align=\"middle\">\n",
    "\n",
    "## 5. Using the calendar module\n",
    "*in Python 3*\n",
    "\n",
    "----\n",
    "Use Python's `calendar` module to draw a simple text calendar:"
   ]
  },
  {
   "cell_type": "code",
   "execution_count": 21,
   "metadata": {},
   "outputs": [
    {
     "name": "stdout",
     "output_type": "stream",
     "text": [
      "     June 2021\n",
      "Mo Tu We Th Fr Sa Su\n",
      "    1  2  3  4  5  6\n",
      " 7  8  9 10 11 12 13\n",
      "14 15 16 17 18 19 20\n",
      "21 22 23 24 25 26 27\n",
      "28 29 30\n",
      "\n"
     ]
    }
   ],
   "source": [
    "import calendar\n",
    "c = calendar.TextCalendar(calendar.MONDAY) # This tells the calendar to begin from Sunday\n",
    "print(c.formatmonth(theyear=2021, themonth=6))"
   ]
  },
  {
   "cell_type": "markdown",
   "metadata": {},
   "source": [
    "Draw a HTML calendar:"
   ]
  },
  {
   "cell_type": "code",
   "execution_count": 22,
   "metadata": {},
   "outputs": [
    {
     "name": "stdout",
     "output_type": "stream",
     "text": [
      "<table border=\"0\" cellpadding=\"0\" cellspacing=\"0\" class=\"month\">\n",
      "<tr><th colspan=\"7\" class=\"month\">June 2021</th></tr>\n",
      "<tr><th class=\"mon\">Mon</th><th class=\"tue\">Tue</th><th class=\"wed\">Wed</th><th class=\"thu\">Thu</th><th class=\"fri\">Fri</th><th class=\"sat\">Sat</th><th class=\"sun\">Sun</th></tr>\n",
      "<tr><td class=\"noday\">&nbsp;</td><td class=\"tue\">1</td><td class=\"wed\">2</td><td class=\"thu\">3</td><td class=\"fri\">4</td><td class=\"sat\">5</td><td class=\"sun\">6</td></tr>\n",
      "<tr><td class=\"mon\">7</td><td class=\"tue\">8</td><td class=\"wed\">9</td><td class=\"thu\">10</td><td class=\"fri\">11</td><td class=\"sat\">12</td><td class=\"sun\">13</td></tr>\n",
      "<tr><td class=\"mon\">14</td><td class=\"tue\">15</td><td class=\"wed\">16</td><td class=\"thu\">17</td><td class=\"fri\">18</td><td class=\"sat\">19</td><td class=\"sun\">20</td></tr>\n",
      "<tr><td class=\"mon\">21</td><td class=\"tue\">22</td><td class=\"wed\">23</td><td class=\"thu\">24</td><td class=\"fri\">25</td><td class=\"sat\">26</td><td class=\"sun\">27</td></tr>\n",
      "<tr><td class=\"mon\">28</td><td class=\"tue\">29</td><td class=\"wed\">30</td><td class=\"noday\">&nbsp;</td><td class=\"noday\">&nbsp;</td><td class=\"noday\">&nbsp;</td><td class=\"noday\">&nbsp;</td></tr>\n",
      "</table>\n",
      "\n"
     ]
    }
   ],
   "source": [
    "c = calendar.HTMLCalendar(calendar.MONDAY) # This tells the calendar to begin from Sunday\n",
    "print(c.formatmonth(theyear=2021, themonth=6))"
   ]
  },
  {
   "cell_type": "markdown",
   "metadata": {},
   "source": [
    "*Exercise:*\n",
    "<br/>Calculate the first Friday of every month for the year 2021:"
   ]
  },
  {
   "cell_type": "code",
   "execution_count": 23,
   "metadata": {},
   "outputs": [
    {
     "name": "stdout",
     "output_type": "stream",
     "text": [
      "The first Fridays of every month for the year 2021 are:\n",
      "01 January 2021\n",
      "05 February 2021\n",
      "05 March 2021\n",
      "02 April 2021\n",
      "07 May 2021\n",
      "04 June 2021\n",
      "02 July 2021\n",
      "06 August 2021\n",
      "03 September 2021\n",
      "01 October 2021\n",
      "05 November 2021\n",
      "03 December 2021\n"
     ]
    }
   ],
   "source": [
    "print(\"The first Fridays of every month for the year 2021 are:\")\n",
    "for i in range(1, 13):\n",
    "    month = calendar.monthcalendar(year=2021, month=i) # This provides a matrix of dates within the month 'i'\n",
    "    week1 = month[0] # This is an array of dates within the first week\n",
    "    week2 = month[1] # This is an array of dates within the second week\n",
    "    if week1[calendar.FRIDAY] != 0: print((datetime(year = 2021, month=i, day=week1[calendar.FRIDAY])).strftime(\"%d %B %Y\"))\n",
    "    else: print((datetime(year = 2021, month=i, day=week2[calendar.FRIDAY])).strftime(\"%d %B %Y\"))"
   ]
  }
 ],
 "metadata": {
  "kernelspec": {
   "display_name": "Python 3",
   "language": "python",
   "name": "python3"
  },
  "language_info": {
   "codemirror_mode": {
    "name": "ipython",
    "version": 3
   },
   "file_extension": ".py",
   "mimetype": "text/x-python",
   "name": "python",
   "nbconvert_exporter": "python",
   "pygments_lexer": "ipython3",
   "version": "3.8.4"
  }
 },
 "nbformat": 4,
 "nbformat_minor": 2
}
