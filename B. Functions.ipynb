{
 "cells": [
  {
   "cell_type": "markdown",
   "metadata": {},
   "source": [
    "<img src=\"atom.png\" alt=\"Atom\" style=\"width:60px\" align=\"left\" vertical-align=\"middle\">\n",
    "\n",
    "## 1. What is a Function?\n",
    "*in Python 3*\n",
    "\n",
    "----\n",
    "Let’s imagine that we are creating a program that greets customers as they enter a grocery store. We want a big screen at the entrance of the store to say: \n",
    "<br/><br/>`Welcome to Engrossing Grocers.` \n",
    "<br/>`Our special is mandarin oranges.`\n",
    "<br/>`Have fun shopping!` \n",
    "<br/><br/>We have learned to use print statements for this purpose:"
   ]
  },
  {
   "cell_type": "code",
   "execution_count": 1,
   "metadata": {},
   "outputs": [
    {
     "name": "stdout",
     "output_type": "stream",
     "text": [
      "Welcome to Engrossing Grocers.\n",
      "Our special is mandarin oranges.\n",
      "Have fun shopping!\n"
     ]
    }
   ],
   "source": [
    "print(\"Welcome to Engrossing Grocers.\")\n",
    "print(\"Our special is mandarin oranges.\")\n",
    "print(\"Have fun shopping!\")"
   ]
  },
  {
   "cell_type": "markdown",
   "metadata": {},
   "source": [
    "Every time a customer enters, we call these three lines of code. Even if only 3 or 4 customers come in, that’s a lot of lines of code required.\n",
    "\n",
    "<br/>In Python, we can make this process easier by assigning these lines of code to a function. We’ll name this function `greet_customer`. In order to call a function, we use the syntax `function_name()`. The parentheses are important! They make the code inside the function run. In this example, the function call looks like:\n",
    "<br/><br/>`greet_customer()`"
   ]
  },
  {
   "cell_type": "markdown",
   "metadata": {},
   "source": [
    "Every time we call `greet_customer()`, we would see:"
   ]
  },
  {
   "cell_type": "code",
   "execution_count": 18,
   "metadata": {},
   "outputs": [
    {
     "name": "stdout",
     "output_type": "stream",
     "text": [
      "Welcome to Engrossing Grocers.\n",
      "Our special is mandarin oranges.\n",
      "Have fun shopping!\n"
     ]
    }
   ],
   "source": [
    "def greet_customer():\n",
    "    print(\"Welcome to Engrossing Grocers.\")\n",
    "    print(\"Our special is mandarin oranges.\")\n",
    "    print(\"Have fun shopping!\")\n",
    "\n",
    "greet_customer()"
   ]
  },
  {
   "cell_type": "markdown",
   "metadata": {},
   "source": [
    "Having this functionality inside `greet_customer()` is better form, because we have isolated this behavior from the rest of our code. Once we determine that `greet_customer()` works the way we want, we can reuse it anywhere and be confident that it greets, without having to look at the implementation. We can get the same output, with less repeated code. Repeated code is generally more error prone and harder to understand, so it’s a good goal to reduce the amount of it."
   ]
  },
  {
   "cell_type": "markdown",
   "metadata": {},
   "source": [
    "Below is a function called `sing_song`. Call this function once to see what it prints out."
   ]
  },
  {
   "cell_type": "code",
   "execution_count": 2,
   "metadata": {},
   "outputs": [
    {
     "name": "stdout",
     "output_type": "stream",
     "text": [
      "You may say I'm a dreamer\n",
      "But I'm not the only one\n",
      "I hope some day you'll join us\n",
      "And the world will be as one\n"
     ]
    }
   ],
   "source": [
    "def sing_song():\n",
    "    print(\"You may say I'm a dreamer\")\n",
    "    print(\"But I'm not the only one\")\n",
    "    print(\"I hope some day you'll join us\")\n",
    "    print(\"And the world will be as one\")\n",
    "  \n",
    "# call sing_song() below:\n",
    "sing_song()"
   ]
  },
  {
   "cell_type": "markdown",
   "metadata": {},
   "source": [
    "<img src=\"atom.png\" alt=\"Atom\" style=\"width:60px\" align=\"left\" vertical-align=\"middle\">\n",
    "\n",
    "## 2. Write a Function\n",
    "*in Python 3*\n",
    "\n",
    "----\n",
    "We have seen the value of simple functions for modularizing code. Now we need to understand how to write a function. To write a function, you must have a heading and an indented block of code. The heading starts with the keyword def and the name of the function, followed by parentheses, and a colon. The indented block of code performs some sort of operation. This syntax looks like:"
   ]
  },
  {
   "cell_type": "code",
   "execution_count": 3,
   "metadata": {},
   "outputs": [],
   "source": [
    "def function_name():\n",
    "    #some code\n",
    "    pass"
   ]
  },
  {
   "cell_type": "markdown",
   "metadata": {},
   "source": [
    "For our `greet_customer()` example, the function definition looks like:"
   ]
  },
  {
   "cell_type": "code",
   "execution_count": 4,
   "metadata": {},
   "outputs": [
    {
     "name": "stdout",
     "output_type": "stream",
     "text": [
      "Welcome to Engrossing Grocers.\n",
      "Our special is mandarin oranges.\n",
      "Have fun shopping!\n"
     ]
    }
   ],
   "source": [
    "def greet_customer():\n",
    "    print(\"Welcome to Engrossing Grocers.\")\n",
    "    print(\"Our special is mandarin oranges.\")\n",
    "    print(\"Have fun shopping!\")\n",
    "\n",
    "greet_customer()\n",
    "# prints greeting lines"
   ]
  },
  {
   "cell_type": "markdown",
   "metadata": {},
   "source": [
    "The keyword `def` tells Python that we are defining a function. This function is called `greet_customer`. Everything that is indented after the `:` is what is run when `greet_customer()` is called. So every time we call `greet_customer()`, the three print statements run."
   ]
  },
  {
   "cell_type": "markdown",
   "metadata": {},
   "source": [
    "*Exercise*\n",
    "<br/>Write a function called `loading_screen` that prints \"This page is loading...\" to the console."
   ]
  },
  {
   "cell_type": "code",
   "execution_count": 6,
   "metadata": {},
   "outputs": [
    {
     "name": "stdout",
     "output_type": "stream",
     "text": [
      "This page is loading...\n"
     ]
    }
   ],
   "source": [
    "def loading_screen():\n",
    "    print(\"This page is loading...\")\n",
    "  \n",
    "loading_screen()"
   ]
  },
  {
   "cell_type": "markdown",
   "metadata": {},
   "source": [
    "<img src=\"atom.png\" alt=\"Atom\" style=\"width:60px\" align=\"left\" vertical-align=\"middle\">\n",
    "\n",
    "## 3. Whitespace\n",
    "*in Python 3*\n",
    "\n",
    "----\n",
    "Consider this function:"
   ]
  },
  {
   "cell_type": "code",
   "execution_count": 7,
   "metadata": {},
   "outputs": [],
   "source": [
    "def greet_customer():\n",
    "    print(\"Welcome to Engrossing Grocers.\")\n",
    "    print(\"Our special is mandarin oranges.\")\n",
    "    print(\"Have fun shopping!\")"
   ]
  },
  {
   "cell_type": "markdown",
   "metadata": {},
   "source": [
    "The three print statements are all executed together when `greet_customer()` is called. This is because they have the same level of indentation. In Python, the amount of whitespace tells the computer what is part of a function and what is not part of that function. If we wanted to write another line outside of `greet_customer()`, we would have to unindent the new line:"
   ]
  },
  {
   "cell_type": "code",
   "execution_count": 8,
   "metadata": {},
   "outputs": [
    {
     "name": "stdout",
     "output_type": "stream",
     "text": [
      "Cleanup on Aisle 6\n"
     ]
    }
   ],
   "source": [
    "def greet_customer():\n",
    "    print(\"Welcome to Engrossing Grocers.\")\n",
    "    print(\"Our special is mandarin oranges.\")\n",
    "    print(\"Have fun shopping!\")\n",
    "print(\"Cleanup on Aisle 6\")"
   ]
  },
  {
   "cell_type": "markdown",
   "metadata": {},
   "source": [
    "When we call `greet_customer`, the message `\"Cleanup on Aisle 6\"` is not printed, as it is not part of the function.\n",
    "\n",
    "Here, we use 2 spaces for our default indentation. Anything other than that will throw an error when you try to run the program. Many other platforms use 4 spaces. Some people even use tabs! These are all fine. What is important is being consistent throughout the project."
   ]
  },
  {
   "cell_type": "markdown",
   "metadata": {},
   "source": [
    "Run script.py. Look at what is printed out!\n"
   ]
  },
  {
   "cell_type": "code",
   "execution_count": 9,
   "metadata": {},
   "outputs": [
    {
     "name": "stdout",
     "output_type": "stream",
     "text": [
      "This computer is running on version Everest Puma\n",
      "This is your desktop\n"
     ]
    }
   ],
   "source": [
    "def about_this_computer():\n",
    "    print(\"This computer is running on version Everest Puma\")\n",
    "    print(\"This is your desktop\")\n",
    "\n",
    "about_this_computer()"
   ]
  },
  {
   "cell_type": "markdown",
   "metadata": {},
   "source": [
    "Remove the indent on the second print statement. Run the file. Now what’s printed? "
   ]
  },
  {
   "cell_type": "code",
   "execution_count": 10,
   "metadata": {},
   "outputs": [
    {
     "name": "stdout",
     "output_type": "stream",
     "text": [
      "This is your desktop\n",
      "This computer is running on version Everest Puma\n"
     ]
    }
   ],
   "source": [
    "def about_this_computer():\n",
    "    print(\"This computer is running on version Everest Puma\")\n",
    "print(\"This is your desktop\")\n",
    "\n",
    "about_this_computer()"
   ]
  },
  {
   "cell_type": "markdown",
   "metadata": {},
   "source": [
    "<img src=\"atom.png\" alt=\"Atom\" style=\"width:60px\" align=\"left\" vertical-align=\"middle\">\n",
    "\n",
    "## 4. Parameters\n",
    "*in Python 3*\n",
    "\n",
    "----\n",
    "Let’s return to Engrossing Grocers. The special of the day will not always be mandarin oranges, it will change every day. What if we wanted to call these three print statements again, except with a variable special? We can use *parameters*, which are variables that you can pass into the function when you call it."
   ]
  },
  {
   "cell_type": "code",
   "execution_count": 11,
   "metadata": {},
   "outputs": [],
   "source": [
    "def greet_customer(special_item):\n",
    "    print(\"Welcome to Engrossing Grocers.\")\n",
    "    print(\"Our special is \" + special_item + \".\")\n",
    "    print(\"Have fun shopping!\")"
   ]
  },
  {
   "cell_type": "markdown",
   "metadata": {},
   "source": [
    "In the definition heading for `greet_customer()`, the `special_item` is referred to as a formal parameter. This variable name is a placeholder for the name of the item that is the grocery’s special today. Now, when we call `greet_customer`, we have to provide a special_item:"
   ]
  },
  {
   "cell_type": "code",
   "execution_count": 12,
   "metadata": {},
   "outputs": [
    {
     "name": "stdout",
     "output_type": "stream",
     "text": [
      "Welcome to Engrossing Grocers.\n",
      "Our special is peanut butter.\n",
      "Have fun shopping!\n"
     ]
    }
   ],
   "source": [
    "greet_customer(\"peanut butter\")"
   ]
  },
  {
   "cell_type": "markdown",
   "metadata": {},
   "source": [
    "That item will get printed out in the second print statement:\n",
    "\n",
    "<br/>`Welcome to Engrossing Grocers.`\n",
    "<br/>`Our special is peanut butter.`\n",
    "<br/>`Have fun shopping!`"
   ]
  },
  {
   "cell_type": "markdown",
   "metadata": {},
   "source": [
    "The value between the parentheses when we call the function (in this case, `\"peanut butter\"`) is referred to as an *argument* of the function call. The argument is the information that is to be used in the execution of the function. When we then call the function, Python assigns the formal parameter name `special_item` with the actual parameter data, `\"peanut_butter\"`. In other words, it is as if this line was included at the top of the function:\n",
    "\n",
    "<br/>`special_item = \"peanut butter\"`\n",
    "\n",
    "<br/>Every time we call `greet_customer()` with a different value between the parentheses, `special_item` is assigned to hold that value."
   ]
  },
  {
   "cell_type": "markdown",
   "metadata": {},
   "source": [
    "*Exercise*\n",
    "<br/>The function `mult_two_add_three()` prints a number multiplied by `2` and added to `3`. As it is written right now, the number that it operates on is always 5.\n",
    "\n",
    "Call the function and see what it prints to the console.\n"
   ]
  },
  {
   "cell_type": "code",
   "execution_count": 13,
   "metadata": {},
   "outputs": [
    {
     "name": "stdout",
     "output_type": "stream",
     "text": [
      "13\n"
     ]
    }
   ],
   "source": [
    "def mult_two_add_three():\n",
    "    number = 5\n",
    "    print(number*2 + 3)\n",
    "  \n",
    "# Call mult_two_add_three() here:\n",
    "mult_two_add_three()"
   ]
  },
  {
   "cell_type": "markdown",
   "metadata": {},
   "source": [
    "Now, modify the function definition so that it has a parameter called number. Then delete the `number = 5` assignment on the first line of the function. Pass the number `1` into your function call.\n"
   ]
  },
  {
   "cell_type": "code",
   "execution_count": 14,
   "metadata": {},
   "outputs": [
    {
     "name": "stdout",
     "output_type": "stream",
     "text": [
      "5\n"
     ]
    }
   ],
   "source": [
    "def mult_two_add_three(number):\n",
    "    print(number*2 + 3)\n",
    "  \n",
    "# Call mult_two_add_three() here:\n",
    "mult_two_add_three(1)"
   ]
  },
  {
   "cell_type": "markdown",
   "metadata": {},
   "source": [
    "Call the function with the different values for arguments:"
   ]
  },
  {
   "cell_type": "code",
   "execution_count": 15,
   "metadata": {},
   "outputs": [
    {
     "name": "stdout",
     "output_type": "stream",
     "text": [
      "5\n",
      "13\n",
      "1\n",
      "3\n"
     ]
    }
   ],
   "source": [
    "# Call mult_two_add_three() here:\n",
    "mult_two_add_three(1)\n",
    "mult_two_add_three(5)\n",
    "mult_two_add_three(-1)\n",
    "mult_two_add_three(0)"
   ]
  },
  {
   "cell_type": "markdown",
   "metadata": {},
   "source": [
    "<img src=\"atom.png\" alt=\"Atom\" style=\"width:60px\" align=\"left\" vertical-align=\"middle\">\n",
    "\n",
    "## 5. Multiple Parameters\n",
    "*in Python 3*\n",
    "\n",
    "----\n",
    "Our grocery greeting system has gotten popular, and now other supermarkets want to use it. As such, we want to be able to modify both the special item and the name of the grocery store in a greeting like this:\n",
    "\n",
    "<br/>`Welcome to [grocery store].`\n",
    "<br/>`Our special is [special item].`\n",
    "<br/>`Have fun shopping!`\n",
    "\n",
    "<br/>We can make a function take more than one parameter by using commas:"
   ]
  },
  {
   "cell_type": "code",
   "execution_count": 16,
   "metadata": {},
   "outputs": [],
   "source": [
    "def greet_customer(grocery_store, special_item):\n",
    "    print(\"Welcome to \"+ grocery_store + \".\")\n",
    "    print(\"Our special is \" + special_item + \".\")\n",
    "    print(\"Have fun shopping!\")"
   ]
  },
  {
   "cell_type": "markdown",
   "metadata": {},
   "source": [
    "The variables `grocery_store` and `special_item` must now both be provided to the function upon calling it:"
   ]
  },
  {
   "cell_type": "code",
   "execution_count": 17,
   "metadata": {},
   "outputs": [
    {
     "name": "stdout",
     "output_type": "stream",
     "text": [
      "Welcome to Stu's Staples.\n",
      "Our special is papayas.\n",
      "Have fun shopping!\n"
     ]
    }
   ],
   "source": [
    "greet_customer(\"Stu's Staples\", \"papayas\")"
   ]
  },
  {
   "cell_type": "markdown",
   "metadata": {},
   "source": [
    "*Exercise*\n",
    "<br/>The function `mult_two_add_three` takes a number, multiplies it by two and adds three. We want to make this more flexible. First, change the name of the function to `mult_x_add_y`, then modify its parameters as follows:"
   ]
  },
  {
   "cell_type": "code",
   "execution_count": 19,
   "metadata": {},
   "outputs": [
    {
     "name": "stdout",
     "output_type": "stream",
     "text": [
      "13\n",
      "4\n"
     ]
    }
   ],
   "source": [
    "def mult_x_add_y(number, x, y):\n",
    "    print(number*x + y)\n",
    "\n",
    "mult_x_add_y(5, 2, 3)\n",
    "mult_x_add_y(1, 3, 1)"
   ]
  },
  {
   "cell_type": "markdown",
   "metadata": {},
   "source": [
    "<img src=\"atom.png\" alt=\"Atom\" style=\"width:60px\" align=\"left\" vertical-align=\"middle\">\n",
    "\n",
    "## 7. Keyword Arguments\n",
    "*in Python 3*\n",
    "\n",
    "----\n",
    "In our `greet_customer()` function from the last exercise, we had two arguments:"
   ]
  },
  {
   "cell_type": "code",
   "execution_count": 20,
   "metadata": {},
   "outputs": [],
   "source": [
    "def greet_customer(grocery_store, special_item):\n",
    "    print(\"Welcome to \"+ grocery_store + \".\")\n",
    "    print(\"Our special is \" + special_item + \".\")\n",
    "    print(\"Have fun shopping!\")"
   ]
  },
  {
   "cell_type": "markdown",
   "metadata": {},
   "source": [
    "Whichever value is put into `greet_customer()` first is assigned to `grocery_store`, and whichever value is put in second is assigned to `special_item`. These are called *positional arguments* because their assignments depend on their *positions* in the function call.\n",
    "\n",
    "We can also pass these arguments as *keyword arguments,* where we explicitly refer to what each argument is assigned to in the function call."
   ]
  },
  {
   "cell_type": "code",
   "execution_count": 21,
   "metadata": {},
   "outputs": [
    {
     "name": "stdout",
     "output_type": "stream",
     "text": [
      "Welcome to Stu's Staples.\n",
      "Our special is chips and salsa.\n",
      "Have fun shopping!\n"
     ]
    }
   ],
   "source": [
    "greet_customer(special_item=\"chips and salsa\", grocery_store=\"Stu's Staples\")"
   ]
  },
  {
   "cell_type": "markdown",
   "metadata": {},
   "source": [
    "We can use keyword arguments to make it explicit what each of our arguments to a function should refer to in the body of the function itself.\n",
    "\n",
    "We can also define *default arguments* for a function using syntax very similar to our keyword-argument syntax, but used during the function definition. If the function is called without an argument for that parameter, it relies on the default."
   ]
  },
  {
   "cell_type": "code",
   "execution_count": 22,
   "metadata": {},
   "outputs": [],
   "source": [
    "def greet_customer(special_item, grocery_store=\"Engrossing Grocers\"):\n",
    "    print(\"Welcome to \"+ grocery_store + \".\")\n",
    "    print(\"Our special is \" + special_item + \".\")\n",
    "    print(\"Have fun shopping!\")"
   ]
  },
  {
   "cell_type": "markdown",
   "metadata": {},
   "source": [
    "In this case, `grocery_store` has a default value of \"Engrossing Grocers\". If we call the function with only one argument, the value of \"Engrossing Grocers\" is used for `grocery_store`:"
   ]
  },
  {
   "cell_type": "code",
   "execution_count": 23,
   "metadata": {},
   "outputs": [
    {
     "name": "stdout",
     "output_type": "stream",
     "text": [
      "Welcome to Engrossing Grocers.\n",
      "Our special is bananas.\n",
      "Have fun shopping!\n"
     ]
    }
   ],
   "source": [
    "greet_customer(\"bananas\")"
   ]
  },
  {
   "cell_type": "markdown",
   "metadata": {},
   "source": [
    "Once you give an argument a default value (making it a keyword argument), no arguments that follow can be used positionally. For example:"
   ]
  },
  {
   "cell_type": "code",
   "execution_count": 25,
   "metadata": {},
   "outputs": [
    {
     "ename": "SyntaxError",
     "evalue": "non-default argument follows default argument (<ipython-input-25-b9eb19d77563>, line 1)",
     "output_type": "error",
     "traceback": [
      "\u001b[0;36m  File \u001b[0;32m\"<ipython-input-25-b9eb19d77563>\"\u001b[0;36m, line \u001b[0;32m1\u001b[0m\n\u001b[0;31m    def greet_customer(special_item=\"bananas\", grocery_store): # this is not valid\u001b[0m\n\u001b[0m                      ^\u001b[0m\n\u001b[0;31mSyntaxError\u001b[0m\u001b[0;31m:\u001b[0m non-default argument follows default argument\n"
     ]
    }
   ],
   "source": [
    "def greet_customer(special_item=\"bananas\", grocery_store): # this is not valid\n",
    "    pass\n",
    "\n",
    "def greet_customer(special_item, grocery_store=\"Engrossing Grocers\"): # this is valid\n",
    "    pass"
   ]
  },
  {
   "cell_type": "markdown",
   "metadata": {},
   "source": [
    "*Exercise*\n",
    "We have defined a function `create_spreadsheet`, which just takes in a title, and prints that it is creating a spreadsheet. Run the code to see the function work on an input of `\"Downloads\"`."
   ]
  },
  {
   "cell_type": "code",
   "execution_count": 26,
   "metadata": {},
   "outputs": [
    {
     "name": "stdout",
     "output_type": "stream",
     "text": [
      "Creating a spreadsheet called Downloads\n"
     ]
    }
   ],
   "source": [
    "# Define create_spreadsheet():\n",
    "def create_spreadsheet(title):\n",
    "    print(\"Creating a spreadsheet called \"+title)\n",
    "\n",
    "# Call create_spreadsheet() below with the required arguments:\n",
    "create_spreadsheet(\"Downloads\")"
   ]
  },
  {
   "cell_type": "markdown",
   "metadata": {},
   "source": [
    "Add the parameter `row_count` to the function definition. Set the default value to be `1000`."
   ]
  },
  {
   "cell_type": "code",
   "execution_count": 27,
   "metadata": {},
   "outputs": [
    {
     "name": "stdout",
     "output_type": "stream",
     "text": [
      "Creating a spreadsheet called Downloads\n"
     ]
    }
   ],
   "source": [
    "# Define create_spreadsheet():\n",
    "def create_spreadsheet(title, row_count=1000):\n",
    "    print(\"Creating a spreadsheet called \"+title)\n",
    "\n",
    "# Call create_spreadsheet() below with the required arguments:\n",
    "create_spreadsheet(\"Downloads\")"
   ]
  },
  {
   "cell_type": "markdown",
   "metadata": {},
   "source": [
    "Change the print statement in the function to print “Creating a spreadsheet called title with `row_count rows`”, where title and `row_count` are replaced with their respective values. \n",
    "\n",
    "<br/>**Remember, to concatenate a number to a string object, you’ll first have to cast `row_count` to a string using `str()`. Otherwise, you’ll get a `TypeError`.**\n"
   ]
  },
  {
   "cell_type": "code",
   "execution_count": 1,
   "metadata": {},
   "outputs": [
    {
     "name": "stdout",
     "output_type": "stream",
     "text": [
      "Creating a spreadsheet called Downloads with 1000 rows\n"
     ]
    }
   ],
   "source": [
    "# Define create_spreadsheet():\n",
    "def create_spreadsheet(title, row_count=1000):\n",
    "    print(\"Creating a spreadsheet called \"+title+\" with \"+str(row_count)+\" rows\")\n",
    "\n",
    "# Call create_spreadsheet() below with the required arguments:\n",
    "create_spreadsheet(\"Downloads\")"
   ]
  },
  {
   "cell_type": "markdown",
   "metadata": {},
   "source": [
    "Call `create_spreadsheet()` with title set to `\"Applications\"` and row_count set to `10`."
   ]
  },
  {
   "cell_type": "code",
   "execution_count": 2,
   "metadata": {},
   "outputs": [
    {
     "name": "stdout",
     "output_type": "stream",
     "text": [
      "Creating a spreadsheet called Applications with 10 rows\n"
     ]
    }
   ],
   "source": [
    "create_spreadsheet(\"Applications\", row_count=10)"
   ]
  },
  {
   "cell_type": "markdown",
   "metadata": {},
   "source": [
    "<img src=\"atom.png\" alt=\"Atom\" style=\"width:60px\" align=\"left\" vertical-align=\"middle\">\n",
    "\n",
    "## 8. Returns\n",
    "*in Python 3*\n",
    "\n",
    "----\n",
    "So far, we have only seen functions that print out some result to the console. Functions can also return a value to the user so that this value can be modified or used later. When there is a result from a function that can be stored in a variable, it is called a returned function value. We use the keyword return to do this.\n",
    "\n",
    "<br/>Here’s an example of a function `divide_by_four` that takes an integer argument, divides it by four, and returns the result:"
   ]
  },
  {
   "cell_type": "code",
   "execution_count": 30,
   "metadata": {},
   "outputs": [],
   "source": [
    "def divide_by_four(input_number):\n",
    "    return input_number/4"
   ]
  },
  {
   "cell_type": "markdown",
   "metadata": {},
   "source": [
    "The program that calls `divide_by_four` can then use the result later:"
   ]
  },
  {
   "cell_type": "code",
   "execution_count": 31,
   "metadata": {},
   "outputs": [
    {
     "name": "stdout",
     "output_type": "stream",
     "text": [
      "16 divided by 4 is 4.0!\n",
      "4.0 divided by 4 is 1.0!\n"
     ]
    }
   ],
   "source": [
    "result = divide_by_four(16)\n",
    "# result now holds 4\n",
    "print(\"16 divided by 4 is \" + str(result) + \"!\")\n",
    "result2 = divide_by_four(result)\n",
    "print(str(result) + \" divided by 4 is \" + str(result2) + \"!\")"
   ]
  },
  {
   "cell_type": "markdown",
   "metadata": {},
   "source": [
    "In this example, we returned a number, but we could also `return` a String:"
   ]
  },
  {
   "cell_type": "code",
   "execution_count": 33,
   "metadata": {},
   "outputs": [
    {
     "name": "stdout",
     "output_type": "stream",
     "text": [
      "Our special is banana yogurt.\n"
     ]
    }
   ],
   "source": [
    "def create_special_string(special_item):\n",
    "    return \"Our special is \" + special_item + \".\"\n",
    "\n",
    "special_string = create_special_string(\"banana yogurt\")\n",
    "\n",
    "print(special_string)"
   ]
  },
  {
   "cell_type": "markdown",
   "metadata": {},
   "source": [
    "*Exercise*\n",
    "<br/>The function `calculate_age` creates a variable called `age` that is the difference between the current year, and a birth year, both of which are inputs of the function. Add a line to return `age`."
   ]
  },
  {
   "cell_type": "code",
   "execution_count": 34,
   "metadata": {},
   "outputs": [],
   "source": [
    "def calculate_age(current_year, birth_year):\n",
    "    age = current_year - birth_year\n",
    "    return age"
   ]
  },
  {
   "cell_type": "markdown",
   "metadata": {},
   "source": [
    "Call the function with various parameters and return the results:"
   ]
  },
  {
   "cell_type": "code",
   "execution_count": 1,
   "metadata": {},
   "outputs": [
    {
     "name": "stdout",
     "output_type": "stream",
     "text": [
      "I am 56 years old and my dad is 96 years old\n"
     ]
    }
   ],
   "source": [
    "def calculate_age(current_year, birth_year):\n",
    "    age = current_year - birth_year\n",
    "    return age\n",
    "\n",
    "my_age = calculate_age(2049, 1993)\n",
    "dads_age = calculate_age(2049, 1953)\n",
    "\n",
    "print(f\"I am {my_age} years old and my dad is {dads_age} years old\")"
   ]
  },
  {
   "cell_type": "markdown",
   "metadata": {},
   "source": [
    "<img src=\"atom.png\" alt=\"Atom\" style=\"width:60px\" align=\"left\" vertical-align=\"middle\">\n",
    "\n",
    "## 9. Multiple Return Values\n",
    "*in Python 3*\n",
    "\n",
    "----\n",
    "Sometimes we may want to return more than one value from a function. We can return several values by separating them with a comma:"
   ]
  },
  {
   "cell_type": "code",
   "execution_count": 36,
   "metadata": {},
   "outputs": [],
   "source": [
    "def square_point(x_value, y_value):\n",
    "    x_2 = x_value * x_value\n",
    "    y_2 = y_value * y_value\n",
    "    return x_2, y_2"
   ]
  },
  {
   "cell_type": "markdown",
   "metadata": {},
   "source": [
    "This function takes in an x value and a y value, and returns them both, squared. We can get those values by assigning them both to variables when we call the function:"
   ]
  },
  {
   "cell_type": "code",
   "execution_count": 37,
   "metadata": {},
   "outputs": [
    {
     "name": "stdout",
     "output_type": "stream",
     "text": [
      "1\n",
      "9\n"
     ]
    }
   ],
   "source": [
    "x_squared, y_squared = square_point(1, 3)\n",
    "print(x_squared)\n",
    "print(y_squared)"
   ]
  },
  {
   "cell_type": "markdown",
   "metadata": {},
   "source": [
    "Another example:"
   ]
  },
  {
   "cell_type": "code",
   "execution_count": 38,
   "metadata": {},
   "outputs": [
    {
     "name": "stdout",
     "output_type": "stream",
     "text": [
      "80 120\n"
     ]
    }
   ],
   "source": [
    "def get_boundaries(target, margin):\n",
    "    low_limit = target - margin\n",
    "    high_limit = margin + target\n",
    "    return low_limit, high_limit\n",
    "\n",
    "low, high = get_boundaries(target=100, margin=20)\n",
    "print(low, high)"
   ]
  },
  {
   "cell_type": "markdown",
   "metadata": {},
   "source": [
    "<img src=\"atom.png\" alt=\"Atom\" style=\"width:60px\" align=\"left\" vertical-align=\"middle\">\n",
    "\n",
    "## 10. Scope\n",
    "*in Python 3*\n",
    "\n",
    "----\n",
    "Let’s say we have our function from the last exercise that creates a string about a special item:"
   ]
  },
  {
   "cell_type": "code",
   "execution_count": 39,
   "metadata": {},
   "outputs": [],
   "source": [
    "def create_special_string(special_item):\n",
    "    return \"Our special is \" + special_item + \".\""
   ]
  },
  {
   "cell_type": "markdown",
   "metadata": {},
   "source": [
    "What if we wanted to access the variable `special_item` outside of the function? Could we use it?"
   ]
  },
  {
   "cell_type": "code",
   "execution_count": 40,
   "metadata": {},
   "outputs": [
    {
     "ename": "NameError",
     "evalue": "name 'special_item' is not defined",
     "output_type": "error",
     "traceback": [
      "\u001b[0;31m---------------------------------------------------------------------------\u001b[0m",
      "\u001b[0;31mNameError\u001b[0m                                 Traceback (most recent call last)",
      "\u001b[0;32m<ipython-input-40-cc9374a3dcf8>\u001b[0m in \u001b[0;36m<module>\u001b[0;34m()\u001b[0m\n\u001b[1;32m      2\u001b[0m     \u001b[0;32mreturn\u001b[0m \u001b[0;34m\"Our special is \"\u001b[0m \u001b[0;34m+\u001b[0m \u001b[0mspecial_item\u001b[0m \u001b[0;34m+\u001b[0m \u001b[0;34m\".\"\u001b[0m\u001b[0;34m\u001b[0m\u001b[0m\n\u001b[1;32m      3\u001b[0m \u001b[0;34m\u001b[0m\u001b[0m\n\u001b[0;32m----> 4\u001b[0;31m \u001b[0mprint\u001b[0m\u001b[0;34m(\u001b[0m\u001b[0;34m\"I don't like \"\u001b[0m \u001b[0;34m+\u001b[0m \u001b[0mspecial_item\u001b[0m\u001b[0;34m)\u001b[0m\u001b[0;34m\u001b[0m\u001b[0m\n\u001b[0m",
      "\u001b[0;31mNameError\u001b[0m: name 'special_item' is not defined"
     ]
    }
   ],
   "source": [
    "def create_special_string(special_item):\n",
    "    return \"Our special is \" + special_item + \".\"\n",
    "\n",
    "print(\"I don't like \" + special_item)"
   ]
  },
  {
   "cell_type": "markdown",
   "metadata": {},
   "source": [
    "If we try to run this code, we will get a `NameError`, telling us that `'special_item'` is not defined. The variable `special_item` has only been defined inside the space of a function, so it does not exist outside the function. We call the part of a program where `special_item` can be accessed its *scope*. The scope of `special_item` is only the `create_special_string` function.\n",
    "\n",
    "<br/>Variables defined outside the scope of a function may be accessible inside the body of the function:"
   ]
  },
  {
   "cell_type": "code",
   "execution_count": 1,
   "metadata": {},
   "outputs": [
    {
     "name": "stdout",
     "output_type": "stream",
     "text": [
      "Our special is grapes.\n"
     ]
    }
   ],
   "source": [
    "header_string = \"Our special is \" \n",
    "\n",
    "def create_special_string(special_item):\n",
    "    return header_string + special_item + \".\"\n",
    "print(create_special_string(\"grapes\"))"
   ]
  },
  {
   "cell_type": "markdown",
   "metadata": {},
   "source": [
    "There is no error here. `header_string` can be used inside the `create_special_string` function because the scope of `header_string` is the whole file."
   ]
  },
  {
   "cell_type": "markdown",
   "metadata": {},
   "source": [
    "Another example:"
   ]
  },
  {
   "cell_type": "code",
   "execution_count": 3,
   "metadata": {},
   "outputs": [],
   "source": [
    "def calculate_age(current_year, birth_year):\n",
    "    age = current_year - birth_year\n",
    "    return age"
   ]
  },
  {
   "cell_type": "markdown",
   "metadata": {},
   "source": [
    "The scope of variables `age`, `current_year` and `birth_year` is the function `calculate_age`, hence cannot be called outside the function. Now taking `current_year` out:"
   ]
  },
  {
   "cell_type": "code",
   "execution_count": 4,
   "metadata": {},
   "outputs": [
    {
     "name": "stdout",
     "output_type": "stream",
     "text": [
      "2048\n",
      "78\n"
     ]
    }
   ],
   "source": [
    "current_year = 2048\n",
    "\n",
    "def calculate_age(birth_year):\n",
    "    age = current_year - birth_year\n",
    "    return age\n",
    "\n",
    "print(current_year)\n",
    "print(calculate_age(1970))"
   ]
  },
  {
   "cell_type": "markdown",
   "metadata": {},
   "source": [
    "<img src=\"atom.png\" alt=\"Atom\" style=\"width:60px\" align=\"left\" vertical-align=\"middle\">\n",
    "\n",
    "## 11. Review\n",
    "*Python 3*\n",
    "\n",
    "----\n",
    "Great! So far you have learned:\n",
    "\n",
    "    1. How to write a function\n",
    "    2. How to give a function inputs\n",
    "    3. How to return values from a function\n",
    "    4. What scope means\n",
    "\n",
    "<br/>Let’s practice these concepts again so that you won’t forget them!\n",
    "\n",
    "<br/>Refer to [Learn.py](https://github.com/the-machine-preacher/Learn-Python) to help you remember the content covered in this lesson. Below is another example of the concepts learned:"
   ]
  },
  {
   "cell_type": "code",
   "execution_count": 5,
   "metadata": {},
   "outputs": [
    {
     "name": "stdout",
     "output_type": "stream",
     "text": [
      "Row Row Row Your Boat. Row Row Row Your Boat. Row Row Row Your Boat. Row Row Row Your Boat. Row Row Row Your Boat. Row Row Row Your Boat. Row Row Row Your Boat. Row Row Row Your Boat. Row Row Row Your Boat. Row Row Row Your Boat. \n"
     ]
    }
   ],
   "source": [
    "def repeat_stuff(stuff, num_repeats=10):\n",
    "    return stuff*num_repeats\n",
    "\n",
    "lyrics = repeat_stuff(\"Row \", 3) + \"Your Boat. \"\n",
    "\n",
    "song = repeat_stuff(lyrics)\n",
    "print(song)"
   ]
  },
  {
   "cell_type": "markdown",
   "metadata": {},
   "source": [
    "**Note:** Multiplying a string just makes a new string with the old one repeated! For example:\n",
    "\n",
    "`\"na\"*6`\n",
    "\n",
    "results in the string `\"nananananana\"`."
   ]
  }
 ],
 "metadata": {
  "kernelspec": {
   "display_name": "Python 3",
   "language": "python",
   "name": "python3"
  },
  "language_info": {
   "codemirror_mode": {
    "name": "ipython",
    "version": 3
   },
   "file_extension": ".py",
   "mimetype": "text/x-python",
   "name": "python",
   "nbconvert_exporter": "python",
   "pygments_lexer": "ipython3",
   "version": "3.8.4"
  }
 },
 "nbformat": 4,
 "nbformat_minor": 2
}
