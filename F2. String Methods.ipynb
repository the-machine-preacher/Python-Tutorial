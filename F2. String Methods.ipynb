{
 "cells": [
  {
   "cell_type": "markdown",
   "metadata": {},
   "source": [
    "<img src=\"atom.png\" alt=\"Atom\" style=\"width:60px\" align=\"left\" vertical-align=\"middle\">\n",
    "\n",
    "## 1. Introduction\n",
    "*in Python 3*\n",
    "\n",
    "----\n",
    "Do you have a gigantic string that you need to parse for information? Do you need to sanitize a users input to work in a function? Do you need to be able to generate outputs with variable values? All of these things can be accomplished with string methods!\n",
    "\n",
    "<br/>Python comes with built-in string methods that gives you the power to perform complicated tasks on strings very quickly and efficiently. These string methods allow you to change the case of a string, split a string into many smaller strings, join many small strings together into a larger string, and allow you to neatly combine changing variables with string outputs.\n",
    "\n",
    "<br/>In the previous lesson, you worked `len()`, which was a function that determined the number of characters in a string. This, while similar, was NOT a string method. String methods all have the same syntax: `py string_name.string_method(arguments)`\n",
    "\n",
    "<br/>Unlike `len()`, which is called with a string as it’s argument, a string method is called at the end of a string and each one has its own method specific arguments."
   ]
  },
  {
   "cell_type": "markdown",
   "metadata": {},
   "source": [
    "<img src=\"atom.png\" alt=\"Atom\" style=\"width:60px\" align=\"left\" vertical-align=\"middle\">\n",
    "\n",
    "## 2. Formatting Methods\n",
    "*in Python 3*\n",
    "\n",
    "----\n",
    "There are three string methods that can change the casing of a string. These are `.lower()`, `.upper()`, and `.title()`.\n",
    "\n",
    "    .lower() returns the string with all lowercase characters.\n",
    "    .upper() returns the string with all uppercase characters.\n",
    "    .title() returns the string in title case, which means the first letter of each word is capitalized.\n",
    "\n",
    "<br/>Here’s an example of `.lower()` in action:"
   ]
  },
  {
   "cell_type": "code",
   "execution_count": 1,
   "metadata": {},
   "outputs": [
    {
     "data": {
      "text/plain": [
       "'smooth'"
      ]
     },
     "execution_count": 1,
     "metadata": {},
     "output_type": "execute_result"
    }
   ],
   "source": [
    "favorite_song = 'SmOoTH'\n",
    "favorite_song_lowercase = favorite_song.lower()\n",
    "favorite_song_lowercase"
   ]
  },
  {
   "cell_type": "markdown",
   "metadata": {},
   "source": [
    "Every character was changed to lowercase! It’s important to remember that string methods can only **create** new strings, they do not change the original string."
   ]
  },
  {
   "cell_type": "code",
   "execution_count": 2,
   "metadata": {},
   "outputs": [
    {
     "name": "stdout",
     "output_type": "stream",
     "text": [
      "SmOoTH\n"
     ]
    }
   ],
   "source": [
    "print(favorite_song)"
   ]
  },
  {
   "cell_type": "markdown",
   "metadata": {},
   "source": [
    "See, it’s still the same! These string methods are great for sanitizing user input and standardizing the formatting of your strings.\n",
    "\n",
    "<br/>*Exercise:*\n",
    "<br/>A. You’re a programmer working for an organization that is trying to digitize and store poetry called *Preserve the Verse*. You’ve been given two strings, the title of a poem and it’s author, and have been asked to reformat them slightly to fit the conventions of the organization’s database. Make `poem_title` have title case and save it to `poem_title_fixed`, then print `poem_title` and `poem_title_fixed`."
   ]
  },
  {
   "cell_type": "code",
   "execution_count": 3,
   "metadata": {},
   "outputs": [
    {
     "name": "stdout",
     "output_type": "stream",
     "text": [
      "spring storm\n",
      "Spring Storm\n"
     ]
    }
   ],
   "source": [
    "poem_title = \"spring storm\"\n",
    "poem_author = \"William Carlos Williams\"\n",
    "\n",
    "poem_title_fixed = poem_title.title()\n",
    "print(poem_title)\n",
    "print(poem_title_fixed)"
   ]
  },
  {
   "cell_type": "markdown",
   "metadata": {},
   "source": [
    "<br/>B. The organization’s database also needs the author’s name to be uppercase only. Make `poem_author` uppercase, save it to `poem_author_fixed` and print both variables."
   ]
  },
  {
   "cell_type": "code",
   "execution_count": 4,
   "metadata": {},
   "outputs": [
    {
     "name": "stdout",
     "output_type": "stream",
     "text": [
      "William Carlos Williams\n",
      "WILLIAM CARLOS WILLIAMS\n"
     ]
    }
   ],
   "source": [
    "poem_author_fixed = poem_author.upper()\n",
    "print(poem_author)\n",
    "print(poem_author_fixed)"
   ]
  },
  {
   "cell_type": "markdown",
   "metadata": {},
   "source": [
    "<img src=\"atom.png\" alt=\"Atom\" style=\"width:60px\" align=\"left\" vertical-align=\"middle\">\n",
    "\n",
    "## 3. Splitting Strings\n",
    "*in Python 3*\n",
    "\n",
    "----\n",
    "`.upper()`, `.lower()`, and `.title()` all are performed on an existing string and produce a string in return. Let’s take a look at a string method that returns a different object entirely!\n",
    "\n",
    "<br/>`.split()` is performed on a string, takes one argument, and returns a list of substrings found between the given argument (which in the case of `.split()` is known as the *delimiter*). The following syntax should be used: `string_name.split(delimiter)`\n",
    "\n",
    "<br/>If you do not provide an argument for `.split()` it will default to splitting at spaces. For example, consider the following strings:"
   ]
  },
  {
   "cell_type": "code",
   "execution_count": 4,
   "metadata": {},
   "outputs": [
    {
     "data": {
      "text/plain": [
       "['Like', 'seven', 'inches', 'from', 'the', 'midday', 'sun']"
      ]
     },
     "execution_count": 4,
     "metadata": {},
     "output_type": "execute_result"
    }
   ],
   "source": [
    "man_its_a_hot_one = \"Like seven inches from the midday sun\"\n",
    "man_its_a_hot_one.split()"
   ]
  },
  {
   "cell_type": "markdown",
   "metadata": {},
   "source": [
    "`.split` returned a list with each word in the string. Important to note: if we run `.split()` on a string with no spaces, we will get the same string in return.\n",
    "\n",
    "<br/>*Exercise:*\n",
    "<br/>Below is a string of the first line of the poem *Spring Storm* by William Carlos Williams. Use `.split()` to create a list called `line_one_words` that contains each word in this line of poetry."
   ]
  },
  {
   "cell_type": "code",
   "execution_count": 5,
   "metadata": {},
   "outputs": [
    {
     "data": {
      "text/plain": [
       "['The', 'sky', 'has', 'given', 'over']"
      ]
     },
     "execution_count": 5,
     "metadata": {},
     "output_type": "execute_result"
    }
   ],
   "source": [
    "line_one = \"The sky has given over\"\n",
    "line_one_words = line_one.split()\n",
    "line_one_words"
   ]
  },
  {
   "cell_type": "markdown",
   "metadata": {},
   "source": [
    "<img src=\"atom.png\" alt=\"Atom\" style=\"width:60px\" align=\"left\" vertical-align=\"middle\">\n",
    "\n",
    "## 4. Splitting Strings II\n",
    "*in Python 3*\n",
    "\n",
    "----\n",
    "If we provide an argument for `.split()` we can dictate the character we want our string to be split on. This argument should be provided as a string itself.\n",
    "\n",
    "<br/>Consider the following example:"
   ]
  },
  {
   "cell_type": "code",
   "execution_count": 6,
   "metadata": {},
   "outputs": [
    {
     "data": {
      "text/plain": [
       "['sa', 'ta', 'a']"
      ]
     },
     "execution_count": 6,
     "metadata": {},
     "output_type": "execute_result"
    }
   ],
   "source": [
    "greatest_guitarist = \"santana\"\n",
    "greatest_guitarist.split('n')"
   ]
  },
  {
   "cell_type": "markdown",
   "metadata": {},
   "source": [
    "We provided `'n'` as the argument for `.split()` so our string `“santana”` got split at each `'n'` character into a list of three strings.\n",
    "\n",
    "<br/>What do you think happens if we split the same string at `'a'`?"
   ]
  },
  {
   "cell_type": "code",
   "execution_count": 7,
   "metadata": {},
   "outputs": [
    {
     "data": {
      "text/plain": [
       "['s', 'nt', 'n', '']"
      ]
     },
     "execution_count": 7,
     "metadata": {},
     "output_type": "execute_result"
    }
   ],
   "source": [
    "greatest_guitarist.split('a')"
   ]
  },
  {
   "cell_type": "markdown",
   "metadata": {},
   "source": [
    "Notice that there is an unexpected extra `''` string in this list. When you split a string on a character that it also ends with, you’ll end up with an empty string at the end of the list.\n",
    "\n",
    "<br/>You can use *any* string as the argument for `.split()`, making it a versatile and powerful tool.\n",
    "\n",
    "<br/>*Exercise:*\n",
    "<br/>A. Your boss at the Poetry organization sent over a bunch of author names that he wants you to prepare for importing into the database. Annoyingly, he sent them over as a long string with the names separated by commas. Using `.split()` and the provided string, create a list called `author_names` containing each individual author name as it’s own string."
   ]
  },
  {
   "cell_type": "code",
   "execution_count": 5,
   "metadata": {},
   "outputs": [
    {
     "name": "stdout",
     "output_type": "stream",
     "text": [
      "['Audre Lorde', ' William Carlos Williams', ' Gabriela Mistral', ' Jean Toomer', ' An Qi', ' Walt Whitman', ' Shel Silverstein', ' Carmen Boullosa', ' Kamala Suraiyya', ' Langston Hughes', ' Adrienne Rich', ' Nikki Giovanni']\n"
     ]
    }
   ],
   "source": [
    "authors = \"Audre Lorde, William Carlos Williams, Gabriela Mistral, Jean Toomer, An Qi, Walt Whitman, Shel Silverstein, Carmen Boullosa, Kamala Suraiyya, Langston Hughes, Adrienne Rich, Nikki Giovanni\"\n",
    "\n",
    "author_names = authors.split(\",\")\n",
    "print(author_names)"
   ]
  },
  {
   "cell_type": "markdown",
   "metadata": {},
   "source": [
    "<br/>B. Great work, but now it turns out they didn’t want poet’s first names (why didn’t they just say that the first time!?) Create another list called `author_last_names` that only contains the last names of the poets in the provided string."
   ]
  },
  {
   "cell_type": "code",
   "execution_count": 6,
   "metadata": {},
   "outputs": [
    {
     "name": "stdout",
     "output_type": "stream",
     "text": [
      "['Lorde', 'Carlos', 'Mistral', 'Toomer', 'Qi', 'Whitman', 'Silverstein', 'Boullosa', 'Suraiyya', 'Hughes', 'Rich', 'Giovanni']\n"
     ]
    }
   ],
   "source": [
    "author_last_names = [name.split()[1] for name in authors.split(\",\")]\n",
    "print(author_last_names)"
   ]
  },
  {
   "cell_type": "markdown",
   "metadata": {},
   "source": [
    "<img src=\"atom.png\" alt=\"Atom\" style=\"width:60px\" align=\"left\" vertical-align=\"middle\">\n",
    "\n",
    "## 5. Splitting Strings III\n",
    "*in Python 3*\n",
    "\n",
    "----\n",
    "We can also split strings using *escape sequences.* Escape sequences are used to indicate that we want to split by something in a string that is not necessarily a character. The two escape sequences we will cover here are\n",
    "\n",
    "    \\n Newline\n",
    "    \\t Horizontal Tab\n",
    "\n",
    "<br/>Newline or `\\n` will allow us to split a multi-line string by line breaks and `\\t` will allow us to split a string by tabs. `\\t` is particularly useful when dealing with certain datasets because it is not uncommon for data points to be separated by tabs.\n",
    "\n",
    "<br/>Let’s take a look at an example of splitting by an escape sequence:"
   ]
  },
  {
   "cell_type": "code",
   "execution_count": 9,
   "metadata": {},
   "outputs": [
    {
     "name": "stdout",
     "output_type": "stream",
     "text": [
      "['And if you said, \"This life ain\\'t good enough.\"', 'I would give my world to lift you up', 'I could change my life to better suit your mood', \"Because you're so smooth\"]\n"
     ]
    }
   ],
   "source": [
    "smooth_chorus = \\\n",
    "\"\"\"And if you said, \"This life ain't good enough.\"\n",
    "I would give my world to lift you up\n",
    "I could change my life to better suit your mood\n",
    "Because you're so smooth\"\"\"\n",
    "\n",
    "chorus_lines = smooth_chorus.split('\\n')\n",
    "\n",
    "print(chorus_lines)"
   ]
  },
  {
   "cell_type": "markdown",
   "metadata": {},
   "source": [
    "This code is splitting the multi-line string at the newlines (`\\n`) which exist at the end of each line and saving it to a new list called `chorus_lines`. Then it prints `chorus_lines` which will produce the above output. The new list contains each line of the original string as it’s own smaller string. Also, notice that Python automatically escaped the `'` character when it created the new list.\n",
    "\n",
    "<br/>*Exercise:*\n",
    "<br/>The organization has sent you over the full text for William Carlos Williams poem *Spring Storm*. They want you to break the poem up into its individual lines. Create a list called `spring_storm_lines` that contains a string for each line of *Spring Storm*."
   ]
  },
  {
   "cell_type": "markdown",
   "metadata": {},
   "source": [
    " Another example:"
   ]
  },
  {
   "cell_type": "code",
   "execution_count": 8,
   "metadata": {},
   "outputs": [
    {
     "name": "stdout",
     "output_type": "stream",
     "text": [
      "['The sky has given over ', 'its bitterness. ', '...', 'of the overhanging embankment.']\n"
     ]
    }
   ],
   "source": [
    "spring_storm_text = \\\n",
    "\"\"\"The sky has given over \n",
    "its bitterness. \n",
    "...\n",
    "of the overhanging embankment.\"\"\"\n",
    "\n",
    "spring_storm_lines = spring_storm_text.split('\\n')\n",
    "print(spring_storm_lines)"
   ]
  },
  {
   "cell_type": "markdown",
   "metadata": {},
   "source": [
    "**Note:**\n",
    "<br/>The backslash in `spring_storm_text = \\` is read by the Python interpreter as a *line split marker*. Without it, the single, isolated line, `spring_storm_text =` would throw a syntax error. In Python, there are two ways that you can split a line. One is by use of the backslash, as seen here, and the other is by means of parentheses, brackets or curly braces, within which any line can be split. \n",
    "\n",
    "<br/>Why do we want to split this particular line? So that the poem would look nice on-screen."
   ]
  },
  {
   "cell_type": "markdown",
   "metadata": {},
   "source": [
    "<img src=\"atom.png\" alt=\"Atom\" style=\"width:60px\" align=\"left\" vertical-align=\"middle\">\n",
    "\n",
    "## 6. Joining Strings\n",
    "*in Python 3*\n",
    "\n",
    "----\n",
    "Now that you’ve learned to break strings apart using `.split()`, let’s learn to put them back together using `.join()`. `.join()` is essentially the opposite of `.split()`, it joins a list of strings together with a given delimiter. The syntax of `.join()` is: `'delimiter'.join(list_you_want_to_join)`\n",
    "\n",
    "<br/>Now this may seem a little weird, because with `.split()` the argument was the delimiter, but now the argument is the list. This is because *join* is still a string method, which means it has to act on a string. The string `.join()` acts on is the delimiter you want to join with, therefore the list you want to join has to be the argument. This can be a bit confusing, so let’s take a look at an example."
   ]
  },
  {
   "cell_type": "code",
   "execution_count": 12,
   "metadata": {},
   "outputs": [
    {
     "name": "stdout",
     "output_type": "stream",
     "text": [
      "My Spanish Harlem Mona Lisa\n"
     ]
    }
   ],
   "source": [
    "my_munequita = ['My', 'Spanish', 'Harlem', 'Mona', 'Lisa']\n",
    "print(' '.join(my_munequita))"
   ]
  },
  {
   "cell_type": "markdown",
   "metadata": {},
   "source": [
    "We take the list of strings, `my_munequita`, and we joined it together with our delimiter, `' '`, which is a space. The space is important if you are trying to build a sentence from words, otherwise, we would have ended up with: "
   ]
  },
  {
   "cell_type": "code",
   "execution_count": 13,
   "metadata": {},
   "outputs": [
    {
     "name": "stdout",
     "output_type": "stream",
     "text": [
      "MySpanishHarlemMonaLisa\n"
     ]
    }
   ],
   "source": [
    "print(''.join(my_munequita))"
   ]
  },
  {
   "cell_type": "markdown",
   "metadata": {},
   "source": [
    "*Exercise:*\n",
    "<br/>You’ve been provided with a list of words from the first line of Jean Toomer’s poem *Reapers*. Use `.join()` to combine these words into a sentence and save that sentence as the string `reapers_line_one`.   "
   ]
  },
  {
   "cell_type": "code",
   "execution_count": 14,
   "metadata": {},
   "outputs": [
    {
     "data": {
      "text/plain": [
       "'Black reapers with the sound of steel on stones'"
      ]
     },
     "execution_count": 14,
     "metadata": {},
     "output_type": "execute_result"
    }
   ],
   "source": [
    "reapers_line_one_words = [\"Black\", \"reapers\", \"with\", \"the\", \"sound\", \"of\", \"steel\", \"on\", \"stones\"]\n",
    "reapers_line_one = ' '.join(reapers_line_one_words)\n",
    "reapers_line_one"
   ]
  },
  {
   "cell_type": "markdown",
   "metadata": {},
   "source": [
    "<img src=\"atom.png\" alt=\"Atom\" style=\"width:60px\" align=\"left\" vertical-align=\"middle\">\n",
    "\n",
    "## 7. Joining Strings II\n",
    "*in Python 3*\n",
    "\n",
    "----\n",
    "In the last exercise, we joined together a list of words using a space as the delimiter to create a sentence. In fact, you can use any string as a delimiter to join together a list of strings. For example, if we have the list:"
   ]
  },
  {
   "cell_type": "code",
   "execution_count": 15,
   "metadata": {},
   "outputs": [],
   "source": [
    "santana_songs = ['Oye Como Va', 'Smooth', 'Black Magic Woman', 'Samba Pa Ti', 'Maria Maria']"
   ]
  },
  {
   "cell_type": "markdown",
   "metadata": {},
   "source": [
    "We could join this list together with ANY string. One often used string is a comma `,` because then we can create a string of *comma separated variables,* or CSV."
   ]
  },
  {
   "cell_type": "code",
   "execution_count": 16,
   "metadata": {},
   "outputs": [
    {
     "data": {
      "text/plain": [
       "'Oye Como Va,Smooth,Black Magic Woman,Samba Pa Ti,Maria Maria'"
      ]
     },
     "execution_count": 16,
     "metadata": {},
     "output_type": "execute_result"
    }
   ],
   "source": [
    "santana_songs_csv = ','.join(santana_songs)\n",
    "santana_songs_csv"
   ]
  },
  {
   "cell_type": "markdown",
   "metadata": {},
   "source": [
    "You’ll often find data stored in CSVs because it is an efficient, simple file type used by popular programs like Excel or Google Spreadsheets.\n",
    "\n",
    "<br/>You can also join using *escape sequences* as the delimiter. Consider the following example:"
   ]
  },
  {
   "cell_type": "code",
   "execution_count": 17,
   "metadata": {},
   "outputs": [
    {
     "name": "stdout",
     "output_type": "stream",
     "text": [
      "Well I'm from the barrio\n",
      "You hear my rhythm on your radio\n",
      "You feel the turning of the world so soft and slow\n",
      "Turning you 'round and 'round\n"
     ]
    }
   ],
   "source": [
    "smooth_fifth_verse_lines = ['Well I\\'m from the barrio', 'You hear my rhythm on your radio', 'You feel the turning of the world so soft and slow', 'Turning you \\'round and \\'round']\n",
    "\n",
    "smooth_fifth_verse = '\\n'.join(smooth_fifth_verse_lines)\n",
    "\n",
    "print(smooth_fifth_verse)"
   ]
  },
  {
   "cell_type": "markdown",
   "metadata": {},
   "source": [
    "This code is taking the list of strings and joining them using a newline `\\n` as the delimiter. Then it prints the result and produces the above output.\n",
    "\n",
    "<br/>*Exercise:*\n",
    "<br/>You’ve been given a list, `winter_trees_lines`, that contains all the lines to William Carlos Williams poem, *Winter Trees*. You’ve been asked to join together the strings in the list together into a single string that can be used to display the full poem. Name this string `winter_trees_full`. Print your result to the terminal. Make sure that each line of the poem appears on a new line in your string."
   ]
  },
  {
   "cell_type": "code",
   "execution_count": 1,
   "metadata": {},
   "outputs": [
    {
     "name": "stdout",
     "output_type": "stream",
     "text": [
      "All the complicated details\n",
      "of the attiring and\n",
      "...\n",
      "stand sleeping in the cold.\n"
     ]
    }
   ],
   "source": [
    "winter_trees_lines = ['All the complicated details', 'of the attiring and', '...', 'stand sleeping in the cold.']\n",
    "\n",
    "winter_trees_full = '\\n'.join(winter_trees_lines)\n",
    "print(winter_trees_full)"
   ]
  },
  {
   "cell_type": "markdown",
   "metadata": {},
   "source": [
    "<img src=\"atom.png\" alt=\"Atom\" style=\"width:60px\" align=\"left\" vertical-align=\"middle\">\n",
    "\n",
    "## 8. .strip()\n",
    "*in Python 3*\n",
    "\n",
    "----\n",
    "When working with strings that come from real data, you will often find that the strings aren’t super clean. You’ll find lots of extra whitespace, unnecessary linebreaks, and rogue tabs.\n",
    "\n",
    "<br/>Python provides a great method for cleaning strings: `.strip()`. Stripping a string removes all whitespace characters from the beginning and end. Consider the following example:"
   ]
  },
  {
   "cell_type": "code",
   "execution_count": 22,
   "metadata": {},
   "outputs": [
    {
     "data": {
      "text/plain": [
       "'rob thomas'"
      ]
     },
     "execution_count": 22,
     "metadata": {},
     "output_type": "execute_result"
    }
   ],
   "source": [
    "featuring = \"           rob thomas                 \"\n",
    "featuring.strip()"
   ]
  },
  {
   "cell_type": "markdown",
   "metadata": {},
   "source": [
    "All the whitespace on either side of the string has been stripped, but the whitespace in the middle has been preserved.\n",
    "\n",
    "<br/>You can also use `.strip()` with a character argument, which will strip that character from either end of the string."
   ]
  },
  {
   "cell_type": "code",
   "execution_count": 23,
   "metadata": {},
   "outputs": [
    {
     "data": {
      "text/plain": [
       "'rob thomas       '"
      ]
     },
     "execution_count": 23,
     "metadata": {},
     "output_type": "execute_result"
    }
   ],
   "source": [
    "featuring = \"!!!rob thomas       !!!!!\"\n",
    "featuring.strip('!')"
   ]
  },
  {
   "cell_type": "markdown",
   "metadata": {},
   "source": [
    "By including the argument `'!'` we are able to strip all of the `!` characters from either side of the string. Notice that now that we’ve included an argument we are no longer stripping whitespace, we are ONLY stripping the argument.\n",
    "\n",
    "<br/>*Exercise:*\n",
    "<br/>A. They sent over another list containing all the lines to the Audre Lorde poem, *Love, Maybe*. They want you to join together all of the lines into a single string that can be used to display the poem again, but this time, you’ve noticed that the list contains a ton of unnecessary whitespace that doesn’t appear in the actual poem. First, use `.strip()` on each line in the list to remove the unnecessary whitespace and save it as a new list `love_maybe_lines_stripped`. "
   ]
  },
  {
   "cell_type": "code",
   "execution_count": 4,
   "metadata": {},
   "outputs": [],
   "source": [
    "love_maybe_lines = ['Always    ', '     in the middle of our bloodiest battles  ', 'you lay down your arms', '           like flowering mines    ','\\n' ,'   to conquer me home.    ']\n",
    "love_maybe_lines_stripped = [line.strip() for line in love_maybe_lines]"
   ]
  },
  {
   "cell_type": "markdown",
   "metadata": {},
   "source": [
    "<br/>B. `.join()` the lines in `love_maybe_lines_stripped` together into one large multi-line string, `love_maybe_full`, that can be printed to display the poem. Each line of the poem should show up on its own line. Print `love_maybe_full`. "
   ]
  },
  {
   "cell_type": "code",
   "execution_count": 7,
   "metadata": {},
   "outputs": [
    {
     "name": "stdout",
     "output_type": "stream",
     "text": [
      "Always\n",
      "in the middle of our bloodiest battles\n",
      "you lay down your arms\n",
      "like flowering mines\n",
      "\n",
      "to conquer me home.\n"
     ]
    }
   ],
   "source": [
    "love_maybe_full = '\\n'.join(love_maybe_lines_stripped)\n",
    "print(love_maybe_full)"
   ]
  },
  {
   "cell_type": "markdown",
   "metadata": {},
   "source": [
    "<img src=\"atom.png\" alt=\"Atom\" style=\"width:60px\" align=\"left\" vertical-align=\"middle\">\n",
    "\n",
    "## 9. Replace\n",
    "*in Python 3*\n",
    "\n",
    "----\n",
    "The next string method we will cover is `.replace()`. Replace takes two arguments and replaces all instances of the first argument in a string with the second argument. The syntax is as follows:\n",
    "\n",
    "<br/>`string_name.replace(character_being_replaced, new_character)`\n",
    "\n",
    "<br/>Great! Let’s put it in context and look at an example."
   ]
  },
  {
   "cell_type": "code",
   "execution_count": 25,
   "metadata": {},
   "outputs": [
    {
     "data": {
      "text/plain": [
       "'You_got_the_kind_of_loving_that_can_be_so_smooth'"
      ]
     },
     "execution_count": 25,
     "metadata": {},
     "output_type": "execute_result"
    }
   ],
   "source": [
    "with_spaces = \"You got the kind of loving that can be so smooth\"\n",
    "with_underscores = with_spaces.replace(' ', '_')\n",
    "with_underscores"
   ]
  },
  {
   "cell_type": "markdown",
   "metadata": {},
   "source": [
    "Here we used `.replace()` to change every instance of a space in the string above to be an underscore instead.\n",
    "\n",
    "<br/>*Exercise:*\n",
    "<br/>The poetry organization has sent over the bio for Jean Toomer as it currently exists on their site. Notice that there was a mistake with his last name and all instances of Toomer are lacking one `o`. Use `.replace()` to change all instances of `Tomer` in the bio to `Toomer`. Save the updated bio to the string `toomer_bio_fixed`."
   ]
  },
  {
   "cell_type": "code",
   "execution_count": 8,
   "metadata": {},
   "outputs": [
    {
     "name": "stdout",
     "output_type": "stream",
     "text": [
      "\n",
      "Nathan Pinchback Toomer, who adopted the name Jean Toomer early in his literary career, was born in Washington, D.C. in 1894...Jean Toomer is most well known for his first book Cane, which vividly portrays the life of African-Americans in southern farmlands.\n",
      "\n"
     ]
    }
   ],
   "source": [
    "toomer_bio = \\\n",
    "\"\"\"\n",
    "Nathan Pinchback Tomer, who adopted the name Jean Tomer early in his literary career, was born in Washington, D.C. in 1894...Jean Tomer is most well known for his first book Cane, which vividly portrays the life of African-Americans in southern farmlands.\n",
    "\"\"\"\n",
    "toomer_bio_fixed = toomer_bio.replace('Tomer', 'Toomer')\n",
    "print(toomer_bio_fixed)"
   ]
  },
  {
   "cell_type": "markdown",
   "metadata": {},
   "source": [
    "<img src=\"atom.png\" alt=\"Atom\" style=\"width:60px\" align=\"left\" vertical-align=\"middle\">\n",
    "\n",
    "## 10. .find()\n",
    "*in Python 3*\n",
    "\n",
    "----\n",
    "Another interesting string method is `.find()`. `.find()` takes a string as an argument and searching the string it was run on for that string. It then returns the first index value where that string is located.\n",
    "\n",
    "<br/>Here’s an example:"
   ]
  },
  {
   "cell_type": "code",
   "execution_count": 28,
   "metadata": {},
   "outputs": [
    {
     "data": {
      "text/plain": [
       "4"
      ]
     },
     "execution_count": 28,
     "metadata": {},
     "output_type": "execute_result"
    }
   ],
   "source": [
    "'smooth'.find('t')"
   ]
  },
  {
   "cell_type": "markdown",
   "metadata": {},
   "source": [
    "We searched the string `'smooth'` for the string `'t'` and found that it was at the fourth index spot, so `.find()` returned `4`.\n",
    "\n",
    "<br/>You can also search for larger strings, and `.find()` will return the index value of the first character of that string."
   ]
  },
  {
   "cell_type": "code",
   "execution_count": 29,
   "metadata": {},
   "outputs": [
    {
     "data": {
      "text/plain": [
       "2"
      ]
     },
     "execution_count": 29,
     "metadata": {},
     "output_type": "execute_result"
    }
   ],
   "source": [
    "\"smooth\".find('oo')"
   ]
  },
  {
   "cell_type": "markdown",
   "metadata": {},
   "source": [
    "Notice here that `2` is the index of the *first* `o`.\n",
    "\n",
    "<br/>*Exercise:*\n",
    "<br/>Below is the first line of Gabriela Mistral’s poem *God Wills It*. At what index place does the word “disown” appear? Save that index place to the variable `disown_placement`."
   ]
  },
  {
   "cell_type": "code",
   "execution_count": 30,
   "metadata": {},
   "outputs": [
    {
     "name": "stdout",
     "output_type": "stream",
     "text": [
      "20\n"
     ]
    }
   ],
   "source": [
    "god_wills_it_line_one = \"The very earth will disown you\"\n",
    "disown_placement = god_wills_it_line_one.find('disown')\n",
    "print(disown_placement)"
   ]
  },
  {
   "cell_type": "markdown",
   "metadata": {},
   "source": [
    "<img src=\"atom.png\" alt=\"Atom\" style=\"width:60px\" align=\"left\" vertical-align=\"middle\">\n",
    "\n",
    "## 11. .format()\n",
    "*in Python 3*\n",
    "\n",
    "----\n",
    "Python also provides a handy string method for including variables in strings. This method is `.format()`. `.format()` takes variables as an argument and includes them in the string that it is run on. You include `{}` marks as placeholders for where those variables will be imported.\n",
    "\n",
    "<br/>Consider the following function:"
   ]
  },
  {
   "cell_type": "code",
   "execution_count": 31,
   "metadata": {},
   "outputs": [],
   "source": [
    "def favorite_song_statement(song, artist):\n",
    "    return \"My favorite song is {} by {}.\".format(song, artist)"
   ]
  },
  {
   "cell_type": "markdown",
   "metadata": {},
   "source": [
    "The function `favorite_song_statement` takes two arguments, `song` and `artist`, then returns the a string that includes both of the arguments and prints a sentence. Note: `.format()` can take as many arguments are there are `{}` in the string it is run on, which in this case in two.\n",
    "\n",
    "<br/>Here’s an example of the function being run:"
   ]
  },
  {
   "cell_type": "code",
   "execution_count": 32,
   "metadata": {},
   "outputs": [
    {
     "data": {
      "text/plain": [
       "'My favorite song is Smooth by Santana.'"
      ]
     },
     "execution_count": 32,
     "metadata": {},
     "output_type": "execute_result"
    }
   ],
   "source": [
    "favorite_song_statement(\"Smooth\", \"Santana\")"
   ]
  },
  {
   "cell_type": "markdown",
   "metadata": {},
   "source": [
    "Now you may be asking yourself, I could have written this function using string concatenation instead of `.format()`, why is this method better? The answer is legibility and reusability. It is much easier to picture the end result `.format()` than it is to picture the end result of string concatenation and legibility is everything. You can also reuse the same base string with different variables, allowing you to cut down on unnecessary, hard to interpret code.\n",
    "\n",
    "<br/>*Exercise:*\n",
    "<br/>Write a function called `poem_title_card` that takes two inputs: the first input should be `title` and the second `poet`. The function should use `.format()` to return the following string: `The poem \"[TITLE]\" is written by [POET].`"
   ]
  },
  {
   "cell_type": "code",
   "execution_count": 33,
   "metadata": {},
   "outputs": [
    {
     "name": "stdout",
     "output_type": "stream",
     "text": [
      "The poem \"I Hear America Singing\" is written by Walt Whitman.\n"
     ]
    }
   ],
   "source": [
    "def poem_title_card(poet, title):\n",
    "    return 'The poem \"{}\" is written by {}.'.format(title, poet)\n",
    "print(poem_title_card(\"Walt Whitman\", \"I Hear America Singing\"))"
   ]
  },
  {
   "cell_type": "markdown",
   "metadata": {},
   "source": [
    "**Can we provide any input type to the format() method?**\n",
    "\n",
    "<br/>Yes, you can provide almost any type of input to the `.format()` method, including strings, numerical values, booleans, and objects. You can also provide expressions, like `1 + 4`, which will be evaluated and then formatted into the string."
   ]
  },
  {
   "cell_type": "code",
   "execution_count": 34,
   "metadata": {},
   "outputs": [
    {
     "name": "stdout",
     "output_type": "stream",
     "text": [
      "10 + 20 = 30\n",
      "True\n"
     ]
    }
   ],
   "source": [
    "a = 10\n",
    "b = 20\n",
    "\n",
    "print(\"{} + {} = {}\".format(a, b, a+b))\n",
    "print(\"{}\".format(a < b))"
   ]
  },
  {
   "cell_type": "markdown",
   "metadata": {},
   "source": [
    "<img src=\"atom.png\" alt=\"Atom\" style=\"width:60px\" align=\"left\" vertical-align=\"middle\">\n",
    "\n",
    "## 12. .format() II\n",
    "*in Python 3*\n",
    "\n",
    "----\n",
    "`.format()` can be made even more legible for other people reading your code by including *keywords*. Previously with `.format()`, you had to make sure that your variables appeared as arguments in the same order that you wanted them to appear in the string, which just added unnecessary complications when writing code.\n",
    "\n",
    "<br/>By including keywords in the string and in the arguments, you can remove that ambiguity. Let’s look at an example."
   ]
  },
  {
   "cell_type": "code",
   "execution_count": 35,
   "metadata": {},
   "outputs": [],
   "source": [
    "def favorite_song_statement(song, artist):\n",
    "    return \"My favorite song is {song} by {artist}.\".format(song=song, artist=artist)"
   ]
  },
  {
   "cell_type": "markdown",
   "metadata": {},
   "source": [
    "Now it is clear to anyone reading the string what it supposed to return, they don’t even need to look at the arguments of `.format()` in order to get a clear understanding of what is supposed to happen. You can even reverse the order of artist and song in the code above and it will work the same way. This makes writing AND reading the code much easier.\n",
    "\n",
    "<br/>*Exercise:*\n",
    "<br/>The function `poem_description` is supposed to use `.format()` to print out some quick information about a poem, but it seems to be causing some errors currently. Fix the function by using keywords in the `.format()` method and run the function with some data."
   ]
  },
  {
   "cell_type": "code",
   "execution_count": 5,
   "metadata": {},
   "outputs": [
    {
     "name": "stdout",
     "output_type": "stream",
     "text": [
      "The poem My Beard by Shel Silverstein was originally published in Where the Sidewalk Ends in 1974.\n"
     ]
    }
   ],
   "source": [
    "def poem_description(publishing_date, author, title, original_work):\n",
    "    poem_desc = \"The poem {title} by {author} was originally published in {original_work} in {publishing_date}.\".format(publishing_date=publishing_date, author=author, title=title, original_work=original_work)\n",
    "    return poem_desc\n",
    "\n",
    "my_beard_description = poem_description(author = \"Shel Silverstein\", title = \"My Beard\", original_work = \"Where the Sidewalk Ends\", publishing_date = \"1974\")\n",
    "print(my_beard_description)"
   ]
  },
  {
   "cell_type": "markdown",
   "metadata": {},
   "source": [
    "<img src=\"atom.png\" alt=\"Atom\" style=\"width:60px\" align=\"left\" vertical-align=\"middle\">\n",
    "\n",
    "## 13. f-strings\n",
    "*in Python 3*\n",
    "\n",
    "----\n",
    "A relatively new method in formatting strings is using *f-strings*. They joined the party in Python 3.6. You can read all about it in PEP 498, which was written by Eric V. Smith in August of 2015."
   ]
  },
  {
   "cell_type": "code",
   "execution_count": 6,
   "metadata": {},
   "outputs": [
    {
     "name": "stdout",
     "output_type": "stream",
     "text": [
      "Hello, Eric. You are 74.\n"
     ]
    }
   ],
   "source": [
    "name = \"Eric\"\n",
    "age = 74\n",
    "print(f\"Hello, {name}. You are {age}.\")"
   ]
  },
  {
   "cell_type": "markdown",
   "metadata": {},
   "source": [
    "It would also be valid to use a capital letter F:"
   ]
  },
  {
   "cell_type": "code",
   "execution_count": 7,
   "metadata": {},
   "outputs": [
    {
     "name": "stdout",
     "output_type": "stream",
     "text": [
      "Hello, Eric. You are 74.\n"
     ]
    }
   ],
   "source": [
    "print(F\"Hello, {name}. You are {age}.\")"
   ]
  },
  {
   "cell_type": "markdown",
   "metadata": {},
   "source": [
    "**Arbitrary Expressions** \n",
    "<br/>Because f-strings are evaluated at runtime, you can put any and all valid Python expressions in them. This allows you to do some nifty things. You could do something pretty straightforward, like this:"
   ]
  },
  {
   "cell_type": "code",
   "execution_count": 8,
   "metadata": {},
   "outputs": [
    {
     "name": "stdout",
     "output_type": "stream",
     "text": [
      "74\n"
     ]
    }
   ],
   "source": [
    "print(f\"{2 * 37}\")"
   ]
  },
  {
   "cell_type": "markdown",
   "metadata": {},
   "source": [
    "You can call methods and objects directly from a string:"
   ]
  },
  {
   "cell_type": "code",
   "execution_count": 11,
   "metadata": {},
   "outputs": [
    {
     "name": "stdout",
     "output_type": "stream",
     "text": [
      "Hello ERIC, your age is 74\n"
     ]
    }
   ],
   "source": [
    "print(f\"Hello {name.upper()}, your age is {age}\")"
   ]
  },
  {
   "cell_type": "markdown",
   "metadata": {},
   "source": [
    "<img src=\"atom.png\" alt=\"Atom\" style=\"width:60px\" align=\"left\" vertical-align=\"middle\">\n",
    "\n",
    "## 14. Other string methods\n",
    "*Python 3*\n",
    "\n",
    "----\n",
    "There are many other useful string methods available in Python, which you can further check out in the documentation. Here are a few other methods which you might find useful, with examples that will be using this string:"
   ]
  },
  {
   "cell_type": "code",
   "execution_count": 18,
   "metadata": {},
   "outputs": [],
   "source": [
    "string = \"abcabcabc\""
   ]
  },
  {
   "cell_type": "markdown",
   "metadata": {},
   "source": [
    "<br/>A. The `.count()` method is one other useful method that returns the number of non-overlapping occurrences of some substring in a given range of indices."
   ]
  },
  {
   "cell_type": "code",
   "execution_count": 19,
   "metadata": {},
   "outputs": [
    {
     "name": "stdout",
     "output_type": "stream",
     "text": [
      "3\n"
     ]
    }
   ],
   "source": [
    "print(string.count(\"abc\"))"
   ]
  },
  {
   "cell_type": "markdown",
   "metadata": {},
   "source": [
    "<br/>B. The `.encode()` method encodes a string into a bytes object, which can be useful for things such as calculating a hash value of a string for use in a hash map data structure."
   ]
  },
  {
   "cell_type": "code",
   "execution_count": 21,
   "metadata": {},
   "outputs": [
    {
     "name": "stdout",
     "output_type": "stream",
     "text": [
      "882\n"
     ]
    }
   ],
   "source": [
    "print(sum(string.encode()))"
   ]
  },
  {
   "cell_type": "markdown",
   "metadata": {},
   "source": [
    "<br/>C. The `.startswith()` and `.endswith()` methods are useful if you need to check whether a string is a prefix or a suffix of another string."
   ]
  },
  {
   "cell_type": "code",
   "execution_count": 22,
   "metadata": {},
   "outputs": [
    {
     "name": "stdout",
     "output_type": "stream",
     "text": [
      "False\n",
      "True\n"
     ]
    }
   ],
   "source": [
    "print(string.startswith(\"bab\"))\n",
    "print(string.endswith(\"abc\"))"
   ]
  },
  {
   "cell_type": "markdown",
   "metadata": {},
   "source": [
    "<img src=\"atom.png\" alt=\"Atom\" style=\"width:60px\" align=\"left\" vertical-align=\"middle\">\n",
    "\n",
    "## 15. Review\n",
    "*Python 3*\n",
    "\n",
    "----\n",
    "Excellent work! This lesson has shown you the vast variety of string methods and their power. Whatever the problem you are trying to solve, if you are working with strings then string methods are likely going to be part of the solution.\n",
    "\n",
    "<br/>Over this lesson you’ve learned:\n",
    "\n",
    "    .upper(), .title(), and .lower() adjust the casing of your string.\n",
    "    .split() takes a string and creates a list of substrings.\n",
    "    .join() takes a list of strings and creates a string.\n",
    "    .strip() cleans off whitespace, or other noise from the beginning and end of a string.\n",
    "    .replace() replaces all instances of a character/string in a string with another character/string.\n",
    "    .find() searches a string for a character/string and returns the index value that character/string is found at.\n",
    "    .format() and f-strings allow you to interpolate a string with variables.\n",
    "    .count() returns the number of non-overlapping occurrences of some substring in a given range of indices\n",
    "    .encode() encodes a string into a bytes object\n",
    "    .startswith() and .endswith() methods are useful if you need to check whether a string is a prefix or a suffix of another string\n",
    "\n",
    "<br/>Well I’ve been stringing you along for long enough, let’s get some more practice in!\n",
    "\n",
    "<br/>*Exercise:*\n",
    "<br/>A. *Preserve the Verse* has one final task for you. They have delivered you a string that contains a list of poems, titled `highlighted_poems`, they want to highlight on the site, but they need your help to parse the string into something that can display the name, title, and publication date of the highlighted poems on the site. The information for each poem is separated by commas, and within this information is the title of the poem, the author, and the date of publication. Start by splitting `highlighted_poems` at the commas and saving it to `highlighted_poems_list` and print it."
   ]
  },
  {
   "cell_type": "code",
   "execution_count": 13,
   "metadata": {},
   "outputs": [
    {
     "name": "stdout",
     "output_type": "stream",
     "text": [
      "['Afterimages:Audre Lorde:1997', '  The Shadow:William Carlos Williams:1915', ' Ecstasy:Gabriela Mistral:1925', '   Georgia Dusk:Jean Toomer:1923', '   Parting Before Daybreak:An Qi:2014', ' The Untold Want:Walt Whitman:1871', \" Mr. Grumpledump's Song:Shel Silverstein:2004\", ' Angel Sound Mexico City:Carmen Boullosa:2013', ' In Love:Kamala Suraiyya:1965', ' Dream Variations:Langston Hughes:1994', ' Dreamwood:Adrienne Rich:1987']\n"
     ]
    }
   ],
   "source": [
    "highlighted_poems = \"Afterimages:Audre Lorde:1997,  The Shadow:William Carlos Williams:1915, Ecstasy:Gabriela Mistral:1925,   Georgia Dusk:Jean Toomer:1923,   Parting Before Daybreak:An Qi:2014, The Untold Want:Walt Whitman:1871, Mr. Grumpledump's Song:Shel Silverstein:2004, Angel Sound Mexico City:Carmen Boullosa:2013, In Love:Kamala Suraiyya:1965, Dream Variations:Langston Hughes:1994, Dreamwood:Adrienne Rich:1987\"\n",
    "\n",
    "highlighted_poems_list = highlighted_poems.split(',')\n",
    "print(highlighted_poems_list)"
   ]
  },
  {
   "cell_type": "markdown",
   "metadata": {},
   "source": [
    "<br/>B. Notice that there is inconsistent whitespace in `highlighted_poems_list`. Let’s clean that up. Start by creating a new empty list, `highlighted_poems_stripped`. Then, iterate through `highlighted_poems_list` using a `for` loop and for each poem strip away the whitespace and append it to your new list, `highlighted_poems_stripped`. Print the list."
   ]
  },
  {
   "cell_type": "code",
   "execution_count": 15,
   "metadata": {},
   "outputs": [
    {
     "name": "stdout",
     "output_type": "stream",
     "text": [
      "['Afterimages:Audre Lorde:1997', 'The Shadow:William Carlos Williams:1915', 'Ecstasy:Gabriela Mistral:1925', 'Georgia Dusk:Jean Toomer:1923', 'Parting Before Daybreak:An Qi:2014', 'The Untold Want:Walt Whitman:1871', \"Mr. Grumpledump's Song:Shel Silverstein:2004\", 'Angel Sound Mexico City:Carmen Boullosa:2013', 'In Love:Kamala Suraiyya:1965', 'Dream Variations:Langston Hughes:1994', 'Dreamwood:Adrienne Rich:1987']\n"
     ]
    }
   ],
   "source": [
    "highlighted_poems_stripped = [line.strip() for line in highlighted_poems_list]\n",
    "print(highlighted_poems_stripped)"
   ]
  },
  {
   "cell_type": "markdown",
   "metadata": {},
   "source": [
    "<br/>C. Next we want to break up all the information for each poem into it’s own list, so we end up with a list of lists. Create a new empty list called `highlighted_poems_details`, iterate through `highlighted_poems_stripped` and split each string around the `:` characters and append the new lists into `highlighted_poems_details`."
   ]
  },
  {
   "cell_type": "code",
   "execution_count": 16,
   "metadata": {},
   "outputs": [
    {
     "name": "stdout",
     "output_type": "stream",
     "text": [
      "[['Afterimages', 'Audre Lorde', '1997'], ['The Shadow', 'William Carlos Williams', '1915'], ['Ecstasy', 'Gabriela Mistral', '1925'], ['Georgia Dusk', 'Jean Toomer', '1923'], ['Parting Before Daybreak', 'An Qi', '2014'], ['The Untold Want', 'Walt Whitman', '1871'], [\"Mr. Grumpledump's Song\", 'Shel Silverstein', '2004'], ['Angel Sound Mexico City', 'Carmen Boullosa', '2013'], ['In Love', 'Kamala Suraiyya', '1965'], ['Dream Variations', 'Langston Hughes', '1994'], ['Dreamwood', 'Adrienne Rich', '1987']]\n"
     ]
    }
   ],
   "source": [
    "highlighted_poems_details = [item.split(':') for item in highlighted_poems_stripped]\n",
    "print(highlighted_poems_details)"
   ]
  },
  {
   "cell_type": "markdown",
   "metadata": {},
   "source": [
    "<br/>D. Great! Now we want to separate out all of the titles, the poets, and the publication dates into their own lists. Create three new empty lists, `titles`, `poets`, and `dates`. Iterate through `highlighted_poems_details` and for each list in the list append the appropriate elements into the lists `titles`, `poets`, and `dates`."
   ]
  },
  {
   "cell_type": "code",
   "execution_count": null,
   "metadata": {},
   "outputs": [],
   "source": [
    "titles = [item[0] for item in highlighted_poems_details]\n",
    "poets = [item[1] for item in highlighted_poems_details]\n",
    "dates = [item[2] for item in highlighted_poems_details]"
   ]
  },
  {
   "cell_type": "markdown",
   "metadata": {},
   "source": [
    "<br/>E. Finally, write a for loop that uses `.format()` or `f-string` to print out the following string for each poem: `The poem TITLE was published by POET in DATE.`"
   ]
  },
  {
   "cell_type": "code",
   "execution_count": 17,
   "metadata": {},
   "outputs": [
    {
     "name": "stdout",
     "output_type": "stream",
     "text": [
      "The poem Afterimages was published by Audre Lorde in 1997.\n",
      "The poem The Shadow was published by William Carlos Williams in 1915.\n",
      "The poem Ecstasy was published by Gabriela Mistral in 1925.\n",
      "The poem Georgia Dusk was published by Jean Toomer in 1923.\n",
      "The poem Parting Before Daybreak was published by An Qi in 2014.\n",
      "The poem The Untold Want was published by Walt Whitman in 1871.\n",
      "The poem Mr. Grumpledump's Song was published by Shel Silverstein in 2004.\n",
      "The poem Angel Sound Mexico City was published by Carmen Boullosa in 2013.\n",
      "The poem In Love was published by Kamala Suraiyya in 1965.\n",
      "The poem Dream Variations was published by Langston Hughes in 1994.\n",
      "The poem Dreamwood was published by Adrienne Rich in 1987.\n"
     ]
    }
   ],
   "source": [
    "for title, poet, date in zip(titles, poets, dates):\n",
    "    print(f'The poem {title} was published by {poet} in {date}.')"
   ]
  }
 ],
 "metadata": {
  "kernelspec": {
   "display_name": "Python 3",
   "language": "python",
   "name": "python3"
  },
  "language_info": {
   "codemirror_mode": {
    "name": "ipython",
    "version": 3
   },
   "file_extension": ".py",
   "mimetype": "text/x-python",
   "name": "python",
   "nbconvert_exporter": "python",
   "pygments_lexer": "ipython3",
   "version": "3.8.4"
  }
 },
 "nbformat": 4,
 "nbformat_minor": 2
}
