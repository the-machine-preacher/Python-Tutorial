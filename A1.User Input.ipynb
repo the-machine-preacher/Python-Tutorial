{
 "cells": [
  {
   "cell_type": "markdown",
   "metadata": {},
   "source": [
    "<img src=\"atom.png\" alt=\"Atom\" style=\"width:60px\" align=\"left\" vertical-align=\"middle\">\n",
    "\n",
    "## User Input\n",
    "*in Python 3 (Updated: 14 May 2022)*\n",
    "\n",
    "----\n",
    "**How to assign variables with user input.**\n",
    "\n",
    "<br/>So far, we’ve covered how to assign variables values directly in a Python file. However, we often want a user of a program to enter new information into the program.\n",
    "\n",
    "<br/>How can we do this? As it turns out, another way to assign a value to a variable is through user input.\n",
    "\n",
    "<br/>While we output a variable’s value using `print()`, we assign information to a variable using `input()`. The `input()` function requires a prompt message, which it will print out for the user before they enter the new information. For example:"
   ]
  },
  {
   "cell_type": "code",
   "execution_count": null,
   "metadata": {},
   "outputs": [],
   "source": [
    "likes_snakes = input(\"Do you like snakes? \")"
   ]
  },
  {
   "cell_type": "markdown",
   "metadata": {},
   "source": [
    "In the example above, the following would occur:\n",
    "1. The program would print `\"Do you like snakes? \"` for the user.\n",
    "2. The user would enter an answer (e.g., `\"Yes! I have seven pythons as pets!\"`) and press `enter`.\n",
    "3. The variable `likes_snakes` would be assigned a value of the user’s answer."
   ]
  },
  {
   "cell_type": "markdown",
   "metadata": {},
   "source": [
    "Not only can `input()` be used for collecting all sorts of different information from a user, but once you have that information stored as a variable you can use it to simulate interaction:"
   ]
  },
  {
   "cell_type": "code",
   "execution_count": null,
   "metadata": {},
   "outputs": [],
   "source": [
    "favorite_fruit = input(\"What is your favorite fruit? \")\n",
    "# What is your favorite fruit? mango\n",
    "\n",
    "print(\"Oh cool! I like \" + favorite_fruit + \" too, but I think my favorite fruit is apple.\")\n",
    "# Oh cool! I like mango too, but I think my favorite fruit is apple."
   ]
  },
  {
   "cell_type": "markdown",
   "metadata": {},
   "source": [
    "These are pretty basic implementations of `input()`, but as you get more familiar with Python you’ll find more and more interesting scenarios where you will want to interact with your users."
   ]
  }
 ],
 "metadata": {
  "kernelspec": {
   "display_name": "Python 3",
   "language": "python",
   "name": "python3"
  },
  "language_info": {
   "codemirror_mode": {
    "name": "ipython",
    "version": 3
   },
   "file_extension": ".py",
   "mimetype": "text/x-python",
   "name": "python",
   "nbconvert_exporter": "python",
   "pygments_lexer": "ipython3",
   "version": "3.8.4"
  }
 },
 "nbformat": 4,
 "nbformat_minor": 4
}
